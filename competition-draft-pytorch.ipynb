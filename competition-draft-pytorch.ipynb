{
 "cells": [
  {
   "cell_type": "code",
   "execution_count": 1,
   "metadata": {},
   "outputs": [
    {
     "name": "stderr",
     "output_type": "stream",
     "text": [
      "/home/pupperemeritus/miniconda3/lib/python3.11/site-packages/torchvision/io/image.py:13: UserWarning: Failed to load image Python extension: '/home/pupperemeritus/miniconda3/lib/python3.11/site-packages/torchvision/image.so: undefined symbol: _ZN5torch3jit17parseSchemaOrNameERKNSt7__cxx1112basic_stringIcSt11char_traitsIcESaIcEEE'If you don't plan on using image functionality from `torchvision.io`, you can ignore this warning. Otherwise, there might be something wrong with your environment. Did you have `libjpeg` or `libpng` installed before building `torchvision` from source?\n",
      "  warn(\n",
      "Global seed set to 42\n"
     ]
    },
    {
     "data": {
      "text/plain": [
       "42"
      ]
     },
     "execution_count": 1,
     "metadata": {},
     "output_type": "execute_result"
    }
   ],
   "source": [
    "import io\n",
    "import time\n",
    "\n",
    "import h5py\n",
    "import numpy as np\n",
    "import pandas as pd\n",
    "import pytorch_lightning as pl\n",
    "import torch\n",
    "import torch.functional as F\n",
    "import torch.nn as nn\n",
    "import torch.optim as optim\n",
    "import torchvision\n",
    "from einops import rearrange\n",
    "from PIL import Image\n",
    "from pytorch_lightning.callbacks import (Callback, EarlyStopping,\n",
    "                                         LearningRateMonitor, ModelCheckpoint,\n",
    "                                         ProgressBar)\n",
    "from pytorch_lightning.loggers import TensorBoardLogger\n",
    "from sklearn.decomposition import KernelPCA\n",
    "from sklearn.feature_selection import VarianceThreshold\n",
    "from sklearn.metrics import accuracy_score, roc_auc_score\n",
    "from sklearn.preprocessing import PolynomialFeatures, StandardScaler\n",
    "from torch.cuda.amp import GradScaler, autocast\n",
    "from torch.utils.data import DataLoader, Dataset, Sampler, Subset\n",
    "from torchmetrics import Metric\n",
    "from torchvision.transforms import transforms\n",
    "\n",
    "torch.manual_seed(42)\n",
    "if torch.cuda.is_available():\n",
    "    torch.cuda.manual_seed(42)\n",
    "\n",
    "pl.seed_everything(42, workers=True)"
   ]
  },
  {
   "cell_type": "code",
   "execution_count": 2,
   "metadata": {},
   "outputs": [],
   "source": [
    "\"\"\"\n",
    "2024 ISIC Challenge primary prize scoring metric\n",
    "\n",
    "Given a list of binary labels, an associated list of prediction \n",
    "scores ranging from [0,1], this function produces, as a single value, \n",
    "the partial area under the receiver operating characteristic (pAUC) \n",
    "above a given true positive rate (TPR).\n",
    "https://en.wikipedia.org/wiki/Partial_Area_Under_the_ROC_Curve.\n",
    "\n",
    "(c) 2024 Nicholas R Kurtansky, MSKCC\n",
    "\"\"\"\n",
    "\n",
    "from collections import Counter\n",
    "\n",
    "import numpy as np\n",
    "import pandas as pd\n",
    "import pandas.api.types\n",
    "from sklearn.metrics import auc, roc_auc_score, roc_curve\n",
    "\n",
    "\n",
    "class PartialAUROC(Metric):\n",
    "    def __init__(\n",
    "        self,\n",
    "        min_tpr: float = 0.80,\n",
    "        dist_sync_on_step: bool = False,\n",
    "    ):\n",
    "        super().__init__(dist_sync_on_step=dist_sync_on_step)\n",
    "        self.min_tpr = min_tpr\n",
    "        self.add_state(\"preds\", default=[], dist_reduce_fx=\"cat\")\n",
    "        self.add_state(\"target\", default=[], dist_reduce_fx=\"cat\")\n",
    "\n",
    "    def update(self, preds: torch.Tensor, target: torch.Tensor):\n",
    "        self.preds.append(preds)\n",
    "        self.target.append(target)\n",
    "\n",
    "    def compute(self):\n",
    "        preds = torch.cat(self.preds)\n",
    "        target = torch.cat(self.target)\n",
    "        return self._partial_auroc(target, preds, self.min_tpr)\n",
    "\n",
    "    def _partial_auroc(\n",
    "        self, y_true: torch.Tensor, y_score: torch.Tensor, min_tpr: float\n",
    "    ) -> float:\n",
    "        y_true = torch.abs(y_true - 1)\n",
    "        y_score = -y_score\n",
    "\n",
    "        fpr, tpr, _ = self._roc_curve(y_true, y_score)\n",
    "        max_fpr = 1.0 - min_tpr\n",
    "\n",
    "        # print(f\"Computed FPR: {fpr}\")\n",
    "        # print(f\"Computed TPR: {tpr}\")\n",
    "\n",
    "        if max_fpr == 1:\n",
    "            return self._auc(fpr, tpr)\n",
    "        if max_fpr <= 0 or max_fpr > 1:\n",
    "            raise ValueError(f\"Expected min_tpr in range [0, 1), got: {min_tpr}\")\n",
    "\n",
    "        stop = torch.searchsorted(fpr, torch.tensor(max_fpr), right=True)\n",
    "        x_interp = fpr[stop - 1 : stop + 1]\n",
    "        y_interp = tpr[stop - 1 : stop + 1]\n",
    "\n",
    "        # print(f\"x_interp: {x_interp}\")\n",
    "        # print(f\"y_interp: {y_interp}\")\n",
    "\n",
    "        if len(x_interp) == 1:\n",
    "            interp_tpr = y_interp[0]\n",
    "        else:\n",
    "            interp_tpr = y_interp[0] + (max_fpr - x_interp[0]) * (\n",
    "                y_interp[1] - y_interp[0]\n",
    "            ) / (x_interp[1] - x_interp[0])\n",
    "\n",
    "        tpr = torch.cat([tpr[:stop], torch.tensor([interp_tpr])])\n",
    "        fpr = torch.cat([fpr[:stop], torch.tensor([max_fpr])])\n",
    "\n",
    "        partial_auc = self._auc(fpr, tpr)\n",
    "        return partial_auc\n",
    "\n",
    "    def _roc_curve(self, y_true: torch.Tensor, y_score: torch.Tensor):\n",
    "        desc_score_indices = torch.argsort(y_score, descending=True)\n",
    "        y_score = y_score[desc_score_indices]\n",
    "        y_true = y_true[desc_score_indices]\n",
    "\n",
    "        distinct_value_indices = torch.where(torch.diff(y_score))[0]\n",
    "        threshold_idxs = torch.cat(\n",
    "            [distinct_value_indices, torch.tensor([y_true.numel() - 1])]\n",
    "        )\n",
    "\n",
    "        tps = torch.cumsum(y_true, dim=0)[threshold_idxs]\n",
    "        fps = 1 + threshold_idxs - tps\n",
    "        \n",
    "        # Handle the case where there are no positive samples\n",
    "        if tps[-1] == 0:\n",
    "            tpr = torch.zeros_like(tps)\n",
    "        else:\n",
    "            tpr = tps / tps[-1]\n",
    "        \n",
    "        fpr = fps / fps[-1]\n",
    "        thresholds = y_score[threshold_idxs]\n",
    "\n",
    "        # print(f\"tps: {tps}\")\n",
    "        # print(f\"fps: {fps}\")\n",
    "        # print(f\"tpr: {tpr}\")\n",
    "        # print(f\"fpr: {fpr}\")\n",
    "        # print(f\"thresholds: {thresholds}\")\n",
    "\n",
    "        return fpr, tpr, thresholds\n",
    "\n",
    "    def _auc(self, x: torch.Tensor, y: torch.Tensor) -> float:\n",
    "        if torch.all(y == 0):\n",
    "            print(\"Warning: All TPR values are zero. AUC is undefined.\")\n",
    "            return 0.0\n",
    "\n",
    "        direction = 1\n",
    "        dx = torch.diff(x)\n",
    "        if torch.any(dx < 0):\n",
    "            if torch.all(dx <= 0):\n",
    "                direction = -1\n",
    "            else:\n",
    "                raise ValueError(\"x is neither increasing nor decreasing\")\n",
    "        auc_value = direction * torch.trapz(y, x).item()\n",
    "        # print(f\"Computed AUC: {auc_value}\")\n",
    "        return auc_value"
   ]
  },
  {
   "cell_type": "code",
   "execution_count": 3,
   "metadata": {},
   "outputs": [
    {
     "name": "stdout",
     "output_type": "stream",
     "text": [
      "2.1.0\n",
      "0.15.2a0\n",
      "2.0.3\n"
     ]
    }
   ],
   "source": [
    "print(torch.__version__)\n",
    "print(torchvision.__version__)\n",
    "print(pl.__version__)"
   ]
  },
  {
   "cell_type": "code",
   "execution_count": null,
   "metadata": {},
   "outputs": [],
   "source": []
  },
  {
   "cell_type": "code",
   "execution_count": 4,
   "metadata": {},
   "outputs": [],
   "source": [
    "class InvertedResidualBlock(nn.Module):\n",
    "    def __init__(self, in_channels, out_channels, expand_ratio, stride):\n",
    "        super(InvertedResidualBlock, self).__init__()\n",
    "        hidden_dim = in_channels * expand_ratio\n",
    "        self.use_res_connect = stride == 1 and in_channels == out_channels\n",
    "\n",
    "        layers = []\n",
    "        if expand_ratio != 1:\n",
    "            layers.append(ConvBNActivation(in_channels, hidden_dim, kernel_size=1))\n",
    "        layers.extend(\n",
    "            [\n",
    "                ConvBNActivation(\n",
    "                    hidden_dim, hidden_dim, stride=stride, groups=hidden_dim\n",
    "                ),\n",
    "                nn.Conv2d(hidden_dim, out_channels, 1, bias=True),\n",
    "                nn.BatchNorm2d(out_channels),\n",
    "            ]\n",
    "        )\n",
    "        self.conv = nn.Sequential(*layers)\n",
    "\n",
    "    def forward(self, x):\n",
    "        if self.use_res_connect:\n",
    "            return x + self.conv(x)\n",
    "        else:\n",
    "            return self.conv(x)\n",
    "\n",
    "\n",
    "class ConvBNActivation(nn.Sequential):\n",
    "    def __init__(self, in_channels, out_channels, kernel_size=3, stride=1, groups=1):\n",
    "        padding = (kernel_size - 1) // 2\n",
    "        super(ConvBNActivation, self).__init__(\n",
    "            nn.Conv2d(\n",
    "                in_channels,\n",
    "                out_channels,\n",
    "                kernel_size,\n",
    "                stride,\n",
    "                padding,\n",
    "                groups=groups,\n",
    "                bias=True,\n",
    "            ),\n",
    "            nn.BatchNorm2d(out_channels),\n",
    "            nn.Mish(),\n",
    "        )\n",
    "\n",
    "\n",
    "class DenseBlock(nn.Module):\n",
    "    def __init__(self, in_channels, num_layers, growth_rate, dropout_rate=0.2):\n",
    "        super(DenseBlock, self).__init__()\n",
    "        self.layers = nn.ModuleList(\n",
    "            [\n",
    "                DenseLayer(in_channels + i * growth_rate, growth_rate, dropout_rate)\n",
    "                for i in range(num_layers)\n",
    "            ]\n",
    "        )\n",
    "\n",
    "    def forward(self, x):\n",
    "        for layer in self.layers:\n",
    "            x = torch.cat([x, layer(x)], 1)\n",
    "        return x\n",
    "\n",
    "\n",
    "class DenseLayer(nn.Sequential):\n",
    "    def __init__(self, in_channels, growth_rate, dropout_rate):\n",
    "        super(DenseLayer, self).__init__(\n",
    "            nn.BatchNorm2d(in_channels),\n",
    "            nn.Mish(),\n",
    "            nn.Conv2d(in_channels, 4 * growth_rate, 1, bias=True),\n",
    "            nn.BatchNorm2d(4 * growth_rate),\n",
    "            nn.Mish(),\n",
    "            nn.Conv2d(4 * growth_rate, growth_rate, 3, padding=1, bias=True),\n",
    "            nn.Dropout2d(dropout_rate),\n",
    "        )\n",
    "\n",
    "\n",
    "class TransitionLayer(nn.Sequential):\n",
    "    def __init__(self, in_channels, compression_factor=0.5):\n",
    "        out_channels = int(in_channels * compression_factor)\n",
    "        super(TransitionLayer, self).__init__(\n",
    "            nn.BatchNorm2d(in_channels),\n",
    "            nn.Mish(),\n",
    "            nn.Conv2d(in_channels, out_channels, 1, bias=True),\n",
    "            nn.AvgPool2d(2, stride=2),\n",
    "        )\n",
    "\n",
    "\n",
    "class AttentionBlock(nn.Module):\n",
    "    def __init__(self, in_channels, out_channels):\n",
    "        super(AttentionBlock, self).__init__()\n",
    "        self.conv1 = nn.Conv2d(in_channels, out_channels, 1)\n",
    "        self.bn1 = nn.BatchNorm2d(out_channels)\n",
    "        self.conv2 = nn.Conv2d(in_channels, out_channels, 1)\n",
    "        self.bn2 = nn.BatchNorm2d(out_channels)\n",
    "        self.conv3 = nn.Conv2d(out_channels, 1, 1)\n",
    "        self.bn3 = nn.BatchNorm2d(1)\n",
    "\n",
    "    def forward(self, x):\n",
    "        g = self.bn1(self.conv1(x))\n",
    "        x = self.bn2(self.conv2(x))\n",
    "        att = nn.Hardswish()(g + x)\n",
    "        att = nn.Sigmoid()(self.bn3(self.conv3(att)))\n",
    "        return x * att\n",
    "\n",
    "\n",
    "class InceptionBlock(nn.Module):\n",
    "    def __init__(self, in_channels, filters):\n",
    "        super(InceptionBlock, self).__init__()\n",
    "        f1, f2, f3 = filters\n",
    "        self.branch1 = ConvBNActivation(in_channels, f1, kernel_size=1)\n",
    "        self.branch2 = nn.Sequential(\n",
    "            ConvBNActivation(in_channels, f2[0], kernel_size=1),\n",
    "            ConvBNActivation(f2[0], f2[1], kernel_size=3),\n",
    "        )\n",
    "        self.branch3 = nn.Sequential(\n",
    "            ConvBNActivation(in_channels, f3[0], kernel_size=1),\n",
    "            ConvBNActivation(f3[0], f3[1], kernel_size=5),\n",
    "        )\n",
    "        self.branch4 = nn.Sequential(\n",
    "            nn.MaxPool2d(kernel_size=3, stride=1, padding=1),\n",
    "            ConvBNActivation(in_channels, f1, kernel_size=1),\n",
    "        )\n",
    "\n",
    "    def forward(self, x):\n",
    "        branch1 = self.branch1(x)\n",
    "        branch2 = self.branch2(x)\n",
    "        branch3 = self.branch3(x)\n",
    "        branch4 = self.branch4(x)\n",
    "        return torch.cat([branch1, branch2, branch3, branch4], 1)\n",
    "\n",
    "\n",
    "class GatedResidualBlock(nn.Module):\n",
    "    def __init__(self, in_channels, out_channels, kernel_size, strides):\n",
    "        super(GatedResidualBlock, self).__init__()\n",
    "        self.conv1 = nn.Conv2d(\n",
    "            in_channels,\n",
    "            out_channels,\n",
    "            kernel_size,\n",
    "            stride=strides,\n",
    "            padding=kernel_size // 2,\n",
    "        )\n",
    "        self.bn1 = nn.BatchNorm2d(out_channels)\n",
    "        self.conv2 = nn.Conv2d(out_channels, out_channels, 1)\n",
    "        self.bn2 = nn.BatchNorm2d(out_channels)\n",
    "        self.conv3 = nn.Conv2d(out_channels, out_channels, 1)\n",
    "        self.bn3 = nn.BatchNorm2d(out_channels)\n",
    "        self.activation = nn.Mish()\n",
    "\n",
    "        # Add a shortcut connection if input and output dimensions don't match\n",
    "        self.shortcut = nn.Sequential()\n",
    "        if strides != 1 or in_channels != out_channels:\n",
    "            self.shortcut = nn.Sequential(\n",
    "                nn.Conv2d(\n",
    "                    in_channels, out_channels, kernel_size=1, stride=strides, bias=True\n",
    "                ),\n",
    "                nn.BatchNorm2d(out_channels),\n",
    "            )\n",
    "\n",
    "    def forward(self, x):\n",
    "        residual = self.shortcut(x)\n",
    "\n",
    "        x = self.activation(self.bn1(self.conv1(x)))\n",
    "        x = self.bn2(self.conv2(x))\n",
    "        gate = nn.Sigmoid()(self.bn3(self.conv3(x)))\n",
    "        x = x * gate\n",
    "        x += residual\n",
    "        return self.activation(x)\n",
    "\n",
    "\n",
    "class GuruNet(pl.LightningModule):\n",
    "    def __init__(\n",
    "        self,\n",
    "        input_shape=(139, 139, 3),\n",
    "        metadata_shape=None,\n",
    "        classes=2,\n",
    "    ):\n",
    "        super(GuruNet, self).__init__()\n",
    "        self.input_shape = input_shape\n",
    "        self.metadata_shape = metadata_shape\n",
    "\n",
    "        # Initial convolutional layer\n",
    "        self.conv1 = nn.Conv2d(3, 256, kernel_size=5, stride=2, padding=1)\n",
    "        self.bn1 = nn.BatchNorm2d(256)\n",
    "        self.activation = nn.Hardswish()\n",
    "\n",
    "        # Inverted Residual Blocks\n",
    "        self.inv_res_blocks = nn.ModuleList()\n",
    "        block_params = [\n",
    "            # expand_ratio, filters, strides, repeats\n",
    "            (6, 16, 1, 1),\n",
    "            (6, 24, 2, 2),\n",
    "            (6, 40, 2, 2),\n",
    "            (6, 80, 2, 3),\n",
    "            (6, 112, 1, 3),\n",
    "            (6, 128, 2, 4),\n",
    "            (6, 196, 1, 1),\n",
    "        ]\n",
    "\n",
    "        in_channels = 256\n",
    "        for i, (expand_ratio, filters, strides, repeats) in enumerate(block_params):\n",
    "            for j in range(repeats):\n",
    "                if j > 0:\n",
    "                    strides = 1\n",
    "                self.inv_res_blocks.append(\n",
    "                    InvertedResidualBlock(in_channels, filters, expand_ratio, strides)\n",
    "                )\n",
    "                in_channels = filters\n",
    "\n",
    "        # Dense Block\n",
    "        self.dense_block = DenseBlock(in_channels, num_layers=20, growth_rate=32)\n",
    "        in_channels += 20 * 32  # Update in_channels after dense block\n",
    "\n",
    "        # Transition Layer\n",
    "        self.transition = TransitionLayer(in_channels, compression_factor=0.5)\n",
    "        in_channels = int(in_channels * 0.5)\n",
    "\n",
    "        # Attention Block\n",
    "        self.attention = AttentionBlock(in_channels, 256)\n",
    "        in_channels = 256\n",
    "\n",
    "        # Average Pooling\n",
    "        self.avg_pool = nn.AvgPool2d(kernel_size=3, stride=1, padding=1)\n",
    "\n",
    "        # Inception Block\n",
    "        self.inception = InceptionBlock(in_channels, [128, (128, 192), (32, 96)])\n",
    "        in_channels = 128 + 192 + 96 + 128\n",
    "\n",
    "        self.inception2 = InceptionBlock(in_channels, [128, (128, 192), (32, 96)])\n",
    "        in_channels = 128 + 192 + 96 + 128\n",
    "\n",
    "        # Attention Block\n",
    "        self.attention2 = AttentionBlock(in_channels, 256)\n",
    "        in_channels = 256\n",
    "\n",
    "        # Gated Residual Block\n",
    "        self.gated_res = GatedResidualBlock(in_channels, 512, kernel_size=3, strides=2)\n",
    "        in_channels = 512\n",
    "\n",
    "        # Attention Block\n",
    "        self.attention3 = AttentionBlock(in_channels, 256)\n",
    "        in_channels = 256\n",
    "\n",
    "        # Global Average Pooling\n",
    "        self.global_avg_pool = nn.AdaptiveAvgPool2d(1)\n",
    "        self.flatten = nn.Flatten()\n",
    "\n",
    "        # Fully connected layers\n",
    "        self.fc1 = nn.Linear(in_channels, 4096)\n",
    "        self.bn_fc1 = nn.BatchNorm1d(4096)\n",
    "        self.fc2 = nn.Linear(4096, 2048)\n",
    "        self.bn_fc2 = nn.BatchNorm1d(2048)\n",
    "        self.fc3 = nn.Linear(2048, 512)\n",
    "        self.bn_fc3 = nn.BatchNorm1d(512)\n",
    "        self.fc4 = nn.Linear(512, 128)\n",
    "        self.bn_fc4 = nn.BatchNorm1d(128)\n",
    "        self.dropout = nn.Dropout(0.5)\n",
    "\n",
    "        self.metadata_fc1 = nn.Linear(41, 4096)\n",
    "        self.metadata_bn1 = nn.BatchNorm1d(4096)\n",
    "        self.metadata_fc2 = nn.Linear(4096, 1024)\n",
    "        self.metadata_bn2 = nn.BatchNorm1d(1024)\n",
    "        self.metadata_fc3 = nn.Linear(1024, 512)\n",
    "        self.metadata_bn3 = nn.BatchNorm1d(512)\n",
    "        self.metadata_fc4 = nn.Linear(512, 128)\n",
    "        self.metadata_bn4 = nn.BatchNorm1d(128)\n",
    "        self.final_fc = nn.Linear(128 + 128, classes)\n",
    "        self.final_activation = nn.Sigmoid()\n",
    "        self.scaler = GradScaler()\n",
    "        self.loss = self.loss = nn.CrossEntropyLoss()\n",
    "        self.auroc = PartialAUROC(min_tpr=0.8)\n",
    "\n",
    "    def forward(self, x, metadata):\n",
    "        x = self.activation(self.bn1(self.conv1(x)))\n",
    "\n",
    "        # Inverted Residual Blocks\n",
    "        for block in self.inv_res_blocks:\n",
    "            x = block(x)\n",
    "\n",
    "        # Dense Block\n",
    "        x = self.dense_block(x)\n",
    "\n",
    "        # Transition Layer\n",
    "        x = self.transition(x)\n",
    "\n",
    "        # Attention Block\n",
    "        x = self.attention(x)\n",
    "\n",
    "        # Average Pooling\n",
    "        x = self.avg_pool(x)\n",
    "\n",
    "        # Inception Block\n",
    "        x = self.inception(x)\n",
    "        x = self.inception2(x)\n",
    "\n",
    "        # Attention Block\n",
    "        x = self.attention2(x)\n",
    "\n",
    "        # Gated Residual Block\n",
    "        x = self.gated_res(x)\n",
    "\n",
    "        # Attention Block\n",
    "        x = self.attention3(x)\n",
    "\n",
    "        x = self.global_avg_pool(x)\n",
    "        x = self.flatten(x)\n",
    "        x = self.activation(self.bn_fc1(self.fc1(x)))\n",
    "        x = self.dropout(x)\n",
    "        x = self.activation(self.bn_fc2(self.fc2(x)))\n",
    "        x = self.dropout(x)\n",
    "        x = self.activation(self.bn_fc3(self.fc3(x)))\n",
    "        x = self.dropout(x)\n",
    "        x = self.activation(self.bn_fc4(self.fc4(x)))\n",
    "\n",
    "        metadata = self.activation(self.metadata_bn1(self.metadata_fc1(metadata)))\n",
    "        metadata = self.dropout(metadata)\n",
    "        metadata = self.activation(self.metadata_bn2(self.metadata_fc2(metadata)))\n",
    "        metadata = self.dropout(metadata)\n",
    "        metadata = self.activation(self.metadata_bn3(self.metadata_fc3(metadata)))\n",
    "        metadata = self.dropout(metadata)\n",
    "        metadata = self.activation(self.metadata_bn4(self.metadata_fc4(metadata)))\n",
    "\n",
    "        x = torch.cat([x, metadata], dim=1)\n",
    "\n",
    "        x = self.final_fc(x)\n",
    "        # Apply sigmoid to ensure output is between 0 and 1\n",
    "        x = self.final_activation(x)\n",
    "\n",
    "        return x\n",
    "\n",
    "    def training_step(self, batch, batch_idx):\n",
    "        (images, metadata), targets = batch\n",
    "        outputs = self(images, metadata)\n",
    "        loss = self.loss(outputs, targets)  # targets is already one-hot encoded\n",
    "        # Get the probability of the positive class\n",
    "        pos_probs = outputs[:, 1].float().cpu()\n",
    "\n",
    "        # Convert one-hot encoded targets to binary labels\n",
    "        targets_binary = targets[:, 1].int().cpu()\n",
    "        rocauc = self.auroc(pos_probs, targets_binary)  # Use class 1 probability\n",
    "\n",
    "        self.log(\n",
    "            \"train_loss\",\n",
    "            loss,\n",
    "            on_step=True,\n",
    "            on_epoch=True,\n",
    "            prog_bar=True,\n",
    "        )\n",
    "        self.log(\n",
    "            \"train_pAUC\",\n",
    "            rocauc,\n",
    "            on_step=True,\n",
    "            on_epoch=True,\n",
    "            prog_bar=True,\n",
    "        )\n",
    "        return loss\n",
    "\n",
    "    def validation_step(self, batch, batch_idx):\n",
    "        (images, metadata), targets = batch\n",
    "        outputs = self(images, metadata)\n",
    "        loss = self.loss(outputs, targets)  # targets is already one-hot encoded\n",
    "        # Get the probability of the positive class\n",
    "        pos_probs = outputs[:, 1].float().cpu()\n",
    "\n",
    "        # Convert one-hot encoded targets to binary labels\n",
    "        targets_binary = targets[:, 1].int().cpu()\n",
    "        rocauc = self.auroc(pos_probs, targets_binary)\n",
    "\n",
    "        # Use class 1 probability\n",
    "\n",
    "        self.log(\n",
    "            \"val_loss\",\n",
    "            loss,\n",
    "            on_step=False,\n",
    "            on_epoch=True,\n",
    "            prog_bar=True,\n",
    "        )\n",
    "        self.log(\n",
    "            \"val_pAUC\",\n",
    "            rocauc,\n",
    "            on_step=False,\n",
    "            on_epoch=True,\n",
    "            prog_bar=True,\n",
    "        )\n",
    "\n",
    "        return loss\n",
    "\n",
    "    def test_step(self, batch, batch_idx):\n",
    "        (images, metadata), targets = batch\n",
    "        outputs = self(images, metadata)\n",
    "        loss = self.loss(outputs, targets)  # targets is already one-hot encoded\n",
    "\n",
    "        # Get the probability of the positive class\n",
    "        pos_probs = outputs[:, 1].float().cpu()\n",
    "\n",
    "        # Convert one-hot encoded targets to binary labels\n",
    "        targets_binary = targets[:, 1].int().cpu()\n",
    "        rocauc = self.auroc(pos_probs, targets_binary)\n",
    "\n",
    "        self.log(\n",
    "            \"test_loss\",\n",
    "            loss,\n",
    "            on_step=True,\n",
    "            on_epoch=True,\n",
    "            prog_bar=True,\n",
    "        )\n",
    "        self.log(\n",
    "            \"test_pAUC\",\n",
    "            rocauc,\n",
    "            on_step=True,\n",
    "            on_epoch=True,\n",
    "            prog_bar=True,\n",
    "        )\n",
    "\n",
    "        return loss\n",
    "\n",
    "    def configure_optimizers(self):\n",
    "        optimizer = optim.NAdam(\n",
    "            self.parameters(), lr=0.001, momentum_decay=0.5, weight_decay=1e-5\n",
    "        )\n",
    "        scheduler = optim.lr_scheduler.ReduceLROnPlateau(\n",
    "            optimizer, mode=\"min\", factor=0.1, patience=2, verbose=True\n",
    "        )\n",
    "        return {\n",
    "            \"optimizer\": optimizer,\n",
    "            \"lr_scheduler\": {\n",
    "                \"scheduler\": scheduler,\n",
    "                \"monitor\": \"train_loss\",\n",
    "            },\n",
    "        }"
   ]
  },
  {
   "cell_type": "code",
   "execution_count": 5,
   "metadata": {},
   "outputs": [],
   "source": [
    "from sklearn.model_selection import train_test_split\n",
    "from joblib import Parallel, delayed\n",
    "import multiprocessing\n",
    "\n",
    "import os\n",
    "from sklearn.decomposition import PCA\n",
    "from sklearn.feature_selection import VarianceThreshold\n",
    "from sklearn.preprocessing import StandardScaler, PolynomialFeatures\n",
    "import numpy as np\n",
    "import pandas as pd\n",
    "import torch\n",
    "import joblib\n",
    "import hashlib\n",
    "\n",
    "\n",
    "def prepare_df(\n",
    "    df: pd.DataFrame,\n",
    "    is_training=True,\n",
    "):\n",
    "    print(\"Preparing DataFrame...\")\n",
    "    df_hash = hashlib.md5(pd.util.hash_pandas_object(df).values).hexdigest()\n",
    "    cache_dir = \"./cache\"\n",
    "    param_string = f\"{is_training}\"\n",
    "    cache_file = os.path.join(cache_dir, f\"prepared_df_{df_hash}_{param_string}.joblib\")\n",
    "\n",
    "    # Check if cached version exists\n",
    "    if os.path.exists(cache_file):\n",
    "        print(\"Loading cached prepared DataFrame...\")\n",
    "        return joblib.load(cache_file)\n",
    "    start_time = time.time()\n",
    "\n",
    "    drop_columns_train = [\n",
    "        \"lesion_id\",\n",
    "        \"iddx_full\",\n",
    "        \"iddx_1\",\n",
    "        \"iddx_2\",\n",
    "        \"iddx_3\",\n",
    "        \"iddx_4\",\n",
    "        \"iddx_5\",\n",
    "        \"mel_mitotic_index\",\n",
    "        \"mel_thick_mm\",\n",
    "        \"tbp_lv_dnn_lesion_confidence\",\n",
    "    ]\n",
    "    drop_columns_test = [\"attribution\", \"copyright_license\"]\n",
    "\n",
    "    if is_training:\n",
    "        df.drop(drop_columns_train, axis=1, inplace=True)\n",
    "    df.drop(drop_columns_test, axis=1, inplace=True)\n",
    "    target_columns = [\"target\"] if is_training else []\n",
    "    X = df.drop(target_columns + [\"isic_id\"], axis=1)\n",
    "    y = torch.tensor(df[\"target\"].values, dtype=torch.int8) if is_training else None\n",
    "\n",
    "    # Separate features by type\n",
    "    integer_features = X.select_dtypes(include=[\"int64\", \"int32\", \"int16\"]).columns\n",
    "    float_features = X.select_dtypes(include=[\"float64\", \"float32\", \"float16\"]).columns\n",
    "    categorical_features = X.select_dtypes(include=[\"object\"]).columns\n",
    "\n",
    "    # Handle NaN values and type conversions\n",
    "    for feature in float_features:\n",
    "        X[feature] = X[feature].fillna(X[feature].mean()).astype(\"float32\")\n",
    "\n",
    "    for feature in integer_features:\n",
    "        X[feature] = X[feature].fillna(X[feature].median()).astype(\"int32\")\n",
    "\n",
    "    for feature in categorical_features:\n",
    "        X[feature] = X[feature].astype(str).fillna(\"Unknown\")\n",
    "        X[feature] = pd.Categorical(X[feature]).codes\n",
    "\n",
    "    # Standardize all numeric features\n",
    "    scaler = StandardScaler()\n",
    "    X_scaled = scaler.fit_transform(X)\n",
    "    X_scaled = pd.DataFrame(X_scaled, columns=X.columns, index=X.index)\n",
    "\n",
    "    X_final = X_scaled\n",
    "\n",
    "    # Final check for any remaining NaN values\n",
    "    assert (\n",
    "        not X_final.isnull().any().any()\n",
    "    ), \"There are still NaN values in the processed data\"\n",
    "\n",
    "    print(\"Data shape after preprocessing:\", X_final.shape)\n",
    "    print(\"Number of NaN values after preprocessing:\", X_final.isnull().sum().sum())\n",
    "\n",
    "    if is_training:\n",
    "        print(\"Class distribution:\")\n",
    "        print(df[\"target\"].value_counts(normalize=True))\n",
    "\n",
    "    print(f\"DataFrame prepared in {time.time() - start_time:.2f} seconds\")\n",
    "    print(f\"Metadata Shape: {X_final.shape}\")\n",
    "\n",
    "    # Cache the results\n",
    "    os.makedirs(cache_dir, exist_ok=True)\n",
    "    joblib.dump((X_final, y, df[\"isic_id\"]), cache_file)\n",
    "    return X_final, y, df[\"isic_id\"]\n",
    "\n",
    "\n",
    "class ISICDataset(Dataset):\n",
    "    def __init__(self, hdf5_path, metadata_df, is_training=True, transform=None):\n",
    "        self.hdf5_path = hdf5_path\n",
    "        self.metadata_df = metadata_df\n",
    "        self.is_training = is_training\n",
    "        self.transform = transform\n",
    "        self.X, self.y, self.image_names = prepare_df(metadata_df, is_training)\n",
    "        self.metadata_shape = self.X.shape\n",
    "        self.train_transform = get_transforms(is_training=True)\n",
    "        self.test_transform = get_transforms(is_training=False)\n",
    "\n",
    "    def __len__(self):\n",
    "        return len(self.X)\n",
    "\n",
    "    def __getitem__(self, idx):\n",
    "        if isinstance(idx, tuple):\n",
    "            idx, augment = idx\n",
    "        else:\n",
    "            augment = False\n",
    "\n",
    "        isic_id = self.image_names[idx]\n",
    "        metadata = torch.tensor(self.X.iloc[idx].values, dtype=torch.float32)\n",
    "\n",
    "        with h5py.File(self.hdf5_path, \"r\") as hdf:\n",
    "            image_data = hdf[str(isic_id)][()]\n",
    "            image = Image.open(io.BytesIO(image_data))\n",
    "\n",
    "        if self.is_training and augment:\n",
    "            image = self.train_transform(image)\n",
    "        elif self.transform:\n",
    "            image = self.transform(image)\n",
    "\n",
    "        if self.is_training:\n",
    "            target = self.y[idx]\n",
    "            target_long = target.long()\n",
    "            del target\n",
    "            target_one_hot = nn.functional.one_hot(target_long, num_classes=2).float()\n",
    "            return (image, metadata), target_one_hot\n",
    "        else:\n",
    "            return (image, metadata), isic_id\n",
    "\n",
    "\n",
    "# Create separate transforms for training and validation\n",
    "def get_transforms(is_training=True):\n",
    "    # Define augmentation parameters\n",
    "    ROTATION_RANGE = 90\n",
    "    BRIGHTNESS_RANGE = (0.9, 1.1)\n",
    "    CONTRAST_RANGE = (0.9, 1.1)\n",
    "    SATURATION_RANGE = (0.9, 1.1)\n",
    "    HUE_RANGE = (-0.001, 0.001)\n",
    "    base_transforms = [\n",
    "        transforms.ToTensor(),\n",
    "        transforms.Resize((139, 139), antialias=True),\n",
    "    ]\n",
    "\n",
    "    if is_training:\n",
    "        train_transforms = [\n",
    "            transforms.RandomResizedCrop(\n",
    "                size=(139, 139), scale=(0.9, 1.1), antialias=True\n",
    "            ),\n",
    "            transforms.RandomRotation(\n",
    "                degrees=ROTATION_RANGE,\n",
    "                interpolation=transforms.InterpolationMode.BICUBIC,\n",
    "            ),\n",
    "            transforms.ColorJitter(\n",
    "                brightness=BRIGHTNESS_RANGE,\n",
    "                contrast=CONTRAST_RANGE,\n",
    "                saturation=SATURATION_RANGE,\n",
    "                hue=HUE_RANGE,\n",
    "            ),\n",
    "        ]\n",
    "        return transforms.Compose(train_transforms + base_transforms)\n",
    "    else:\n",
    "        return transforms.Compose(base_transforms)\n",
    "\n",
    "\n",
    "class ISICDataModule(pl.LightningDataModule):\n",
    "\n",
    "    def __init__(\n",
    "        self,\n",
    "        train_hdf5_path: str,\n",
    "        test_hdf5_path: str,\n",
    "        train_metadata_df: pd.DataFrame,\n",
    "        test_metadata_df: pd.DataFrame,\n",
    "        batch_size: int = 32,\n",
    "    ):\n",
    "        super().__init__()\n",
    "        self.train_hdf5_path = train_hdf5_path\n",
    "        self.test_hdf5_path = test_hdf5_path\n",
    "        self.batch_size = batch_size\n",
    "\n",
    "        self.train_metadata_df = train_metadata_df\n",
    "        self.test_metadata_df = test_metadata_df\n",
    "\n",
    "    def setup(self, stage=None):\n",
    "        full_dataset = ISICDataset(\n",
    "            self.train_hdf5_path,\n",
    "            self.train_metadata_df,\n",
    "            True,\n",
    "            transform=get_transforms(is_training=True),\n",
    "        )\n",
    "        self.metadata_shape = full_dataset.metadata_shape\n",
    "        \n",
    "        # Get targets for stratification\n",
    "        targets = self.train_metadata_df[\"target\"].values\n",
    "        balanced_indices = self.balance_dataset(np.arange(len(full_dataset)), targets)\n",
    "        \n",
    "        # Extract actual indices and augmentation flags\n",
    "        balanced_indices, augmentation_flags = zip(*balanced_indices)\n",
    "        balanced_indices = np.array(balanced_indices)\n",
    "        \n",
    "        augmentation_flags = np.array(augmentation_flags)\n",
    "        balanced_targets = targets[balanced_indices]\n",
    "\n",
    "        print(f\"Unique indices: {np.unique(balanced_indices)}\")\n",
    "        print(f\"Unique targets: {np.unique(balanced_targets)}\")\n",
    "        \n",
    "        print(len(balanced_indices))\n",
    "        print(len(balanced_targets))\n",
    "        \n",
    "        unique, counts = np.unique(balanced_targets, return_counts=True)\n",
    "        print(f\"Setup Count: {dict(zip(unique, counts))}\")\n",
    "        # Perform stratified split\n",
    "        train_indices, temp_indices, train_targets, temp_targets = train_test_split(\n",
    "            balanced_indices,\n",
    "            balanced_targets,\n",
    "            test_size=0.2,\n",
    "            # stratify=balanced_targets,\n",
    "            random_state=42,\n",
    "        )\n",
    "\n",
    "        val_indices, test_indices, val_targets, test_targets = train_test_split(\n",
    "            temp_indices,\n",
    "            temp_targets,\n",
    "            test_size=0.5,\n",
    "            # stratify=temp_targets,\n",
    "            random_state=42,\n",
    "        )\n",
    "\n",
    "        # Create subset datasets\n",
    "        if stage in [\"fit\", \"validate\", \"test\"]:\n",
    "            self.train_dataset = Subset(full_dataset, train_indices)\n",
    "            self.val_dataset = Subset(full_dataset, val_indices)\n",
    "            self.test_dataset = Subset(full_dataset, test_indices)\n",
    "\n",
    "        # Check for class balance\n",
    "        self._check_class_balance(train_targets.flatten(), \"Train\")\n",
    "        self._check_class_balance(val_targets.flatten(), \"Validation\")\n",
    "        self._check_class_balance(test_targets.flatten(), \"Test\")\n",
    "\n",
    "        print(f\"Length of full_dataset: {len(full_dataset)}\")\n",
    "        print(\n",
    "            f\"Length of train_indices: {len(train_indices)}, max index: {max(train_indices)}\"\n",
    "        )\n",
    "        print(\n",
    "            f\"Length of val_indices: {len(val_indices)}, max index: {max(val_indices)}\"\n",
    "        )\n",
    "        print(\n",
    "            f\"Length of test_indices: {len(test_indices)}, max index: {max(test_indices)}\"\n",
    "        )\n",
    "\n",
    "    def balance_dataset(self, indices, targets):\n",
    "        np.random.seed(42)\n",
    "        positive_indices = indices[targets == 1]\n",
    "        negative_indices = indices[targets == 0]\n",
    "\n",
    "        num_positive_samples = len(positive_indices)\n",
    "        num_negative_samples = len(negative_indices)\n",
    "\n",
    "        print(f\"Number of Positive Samples: {num_positive_samples}\")\n",
    "        print(f\"Number of Negative Samples: {num_negative_samples}\")\n",
    "\n",
    "        # Determine the number of samples for each class\n",
    "        num_samples = int(np.mean([num_positive_samples, num_negative_samples]))//10\n",
    "\n",
    "        # Upsample positive indices\n",
    "        upsampled_positive_indices = np.random.choice(\n",
    "            positive_indices, size=num_samples // 2, replace=True\n",
    "        )\n",
    "\n",
    "        # Downsample negative indices\n",
    "        downsampled_negative_indices = np.random.choice(\n",
    "            negative_indices, size=num_samples // 2, replace=False\n",
    "        )\n",
    "\n",
    "        # Add augmentation flag\n",
    "        balanced_indices = [(idx, True) for idx in upsampled_positive_indices] + [\n",
    "            (idx, False) for idx in downsampled_negative_indices\n",
    "        ]\n",
    "\n",
    "        np.random.shuffle(balanced_indices)\n",
    "\n",
    "        print(f\"Length of Balanced Positive Indices: {len(upsampled_positive_indices)}\")\n",
    "        print(\n",
    "            f\"Length of Balanced Negative Indices: {len(downsampled_negative_indices)}\"\n",
    "        )\n",
    "\n",
    "        return balanced_indices\n",
    "\n",
    "    def _check_class_balance(self, targets, split_name):\n",
    "        class_counts = np.bincount(targets)\n",
    "        print(\n",
    "            f\"{split_name} class distribution: {class_counts / len(targets)}, {len(targets)}\"\n",
    "        )\n",
    "        if len(class_counts) < 2 or min(class_counts) == 0:\n",
    "            raise ValueError(f\"Imbalanced classes in {split_name} split\")\n",
    "\n",
    "    def train_dataloader(self):\n",
    "        data_loader = DataLoader(\n",
    "            self.train_dataset,\n",
    "            batch_size=self.batch_size,\n",
    "            shuffle=True,\n",
    "            num_workers=16,\n",
    "            pin_memory=True,\n",
    "        )\n",
    "        print(f\"Number of batches in train_loader: {len(data_loader)}\")\n",
    "        return data_loader\n",
    "\n",
    "    def val_dataloader(self):\n",
    "        data_loader = DataLoader(\n",
    "            self.val_dataset,\n",
    "            batch_size=self.batch_size,\n",
    "            shuffle=False,\n",
    "            num_workers=4,\n",
    "            pin_memory=True,\n",
    "        )\n",
    "        print(f\"Number of batches in val_loader: {len(data_loader)}\")\n",
    "        return data_loader\n",
    "\n",
    "    def test_dataloader(self):\n",
    "\n",
    "        data_loader = DataLoader(\n",
    "            self.test_dataset,\n",
    "            batch_size=self.batch_size,\n",
    "            shuffle=False,\n",
    "            num_workers=4,\n",
    "            pin_memory=True,\n",
    "        )\n",
    "        print(f\"Number of batches in test_loader: {len(data_loader)}\")\n",
    "        return data_loader"
   ]
  },
  {
   "cell_type": "code",
   "execution_count": 6,
   "metadata": {},
   "outputs": [
    {
     "name": "stderr",
     "output_type": "stream",
     "text": [
      "/tmp/ipykernel_468192/2539756025.py:5: DtypeWarning: Columns (51,52) have mixed types. Specify dtype option on import or set low_memory=False.\n",
      "  train_metadata_df = pd.read_csv(\"train-metadata.csv\")\n"
     ]
    }
   ],
   "source": [
    "# Define parameters\n",
    "img_height, img_width = 139, 139\n",
    "\n",
    "# Load metadata\n",
    "train_metadata_df = pd.read_csv(\"train-metadata.csv\")\n",
    "test_metadata_df = pd.read_csv(\"test-metadata.csv\")"
   ]
  },
  {
   "cell_type": "code",
   "execution_count": 7,
   "metadata": {},
   "outputs": [
    {
     "name": "stderr",
     "output_type": "stream",
     "text": [
      "Using 16bit Automatic Mixed Precision (AMP)\n",
      "GPU available: True (cuda), used: True\n",
      "TPU available: False, using: 0 TPU cores\n",
      "IPU available: False, using: 0 IPUs\n",
      "HPU available: False, using: 0 HPUs\n",
      "You are using a CUDA device ('NVIDIA GeForce RTX 4070') that has Tensor Cores. To properly utilize them, you should set `torch.set_float32_matmul_precision('medium' | 'high')` which will trade-off precision for performance. For more details, read https://pytorch.org/docs/stable/generated/torch.set_float32_matmul_precision.html#torch.set_float32_matmul_precision\n"
     ]
    },
    {
     "name": "stdout",
     "output_type": "stream",
     "text": [
      "Preparing DataFrame...\n",
      "Loading cached prepared DataFrame...\n",
      "Number of Positive Samples: 393\n",
      "Number of Negative Samples: 400666\n",
      "Length of Balanced Positive Indices: 10026\n",
      "Length of Balanced Negative Indices: 10026\n",
      "Unique indices: [    81    237    261 ... 400922 400982 400984]\n",
      "Unique targets: [0 1]\n",
      "20052\n",
      "20052\n",
      "Setup Count: {0: 10026, 1: 10026}\n",
      "Train class distribution: [0.50090393 0.49909607], 16041\n",
      "Validation class distribution: [0.50573566 0.49426434], 2005\n",
      "Test class distribution: [0.48703888 0.51296112], 2006\n",
      "Length of full_dataset: 401059\n",
      "Length of train_indices: 16041, max index: 400982\n",
      "Length of val_indices: 2005, max index: 400922\n",
      "Length of test_indices: 2006, max index: 400984\n"
     ]
    },
    {
     "name": "stderr",
     "output_type": "stream",
     "text": [
      "LOCAL_RANK: 0 - CUDA_VISIBLE_DEVICES: [0]\n",
      "\n",
      "   | Name             | Type               | Params\n",
      "---------------------------------------------------------\n",
      "0  | conv1            | Conv2d             | 19.5 K\n",
      "1  | bn1              | BatchNorm2d        | 512   \n",
      "2  | activation       | Hardswish          | 0     \n",
      "3  | inv_res_blocks   | ModuleList         | 2.2 M \n",
      "4  | dense_block      | DenseBlock         | 2.0 M \n",
      "5  | transition       | TransitionLayer    | 351 K \n",
      "6  | attention        | AttentionBlock     | 215 K \n",
      "7  | avg_pool         | AvgPool2d          | 0     \n",
      "8  | inception        | InceptionBlock     | 406 K \n",
      "9  | inception2       | InceptionBlock     | 526 K \n",
      "10 | attention2       | AttentionBlock     | 280 K \n",
      "11 | gated_res        | GatedResidualBlock | 1.8 M \n",
      "12 | attention3       | AttentionBlock     | 263 K \n",
      "13 | global_avg_pool  | AdaptiveAvgPool2d  | 0     \n",
      "14 | flatten          | Flatten            | 0     \n",
      "15 | fc1              | Linear             | 1.1 M \n",
      "16 | bn_fc1           | BatchNorm1d        | 8.2 K \n",
      "17 | fc2              | Linear             | 8.4 M \n",
      "18 | bn_fc2           | BatchNorm1d        | 4.1 K \n",
      "19 | fc3              | Linear             | 1.0 M \n",
      "20 | bn_fc3           | BatchNorm1d        | 1.0 K \n",
      "21 | fc4              | Linear             | 65.7 K\n",
      "22 | bn_fc4           | BatchNorm1d        | 256   \n",
      "23 | dropout          | Dropout            | 0     \n",
      "24 | metadata_fc1     | Linear             | 172 K \n",
      "25 | metadata_bn1     | BatchNorm1d        | 8.2 K \n",
      "26 | metadata_fc2     | Linear             | 4.2 M \n",
      "27 | metadata_bn2     | BatchNorm1d        | 2.0 K \n",
      "28 | metadata_fc3     | Linear             | 524 K \n",
      "29 | metadata_bn3     | BatchNorm1d        | 1.0 K \n",
      "30 | metadata_fc4     | Linear             | 65.7 K\n",
      "31 | metadata_bn4     | BatchNorm1d        | 256   \n",
      "32 | final_fc         | Linear             | 514   \n",
      "33 | final_activation | Sigmoid            | 0     \n",
      "34 | loss             | CrossEntropyLoss   | 0     \n",
      "35 | auroc            | PartialAUROC       | 0     \n",
      "---------------------------------------------------------\n",
      "23.7 M    Trainable params\n",
      "0         Non-trainable params\n",
      "23.7 M    Total params\n",
      "94.654    Total estimated model params size (MB)\n",
      "2024-07-22 19:43:03.386437: I tensorflow/core/platform/cpu_feature_guard.cc:210] This TensorFlow binary is optimized to use available CPU instructions in performance-critical operations.\n",
      "To enable the following instructions: AVX2 FMA, in other operations, rebuild TensorFlow with the appropriate compiler flags.\n",
      "2024-07-22 19:43:04.062316: W tensorflow/compiler/tf2tensorrt/utils/py_utils.cc:38] TF-TRT Warning: Could not find TensorRT\n"
     ]
    },
    {
     "data": {
      "application/vnd.jupyter.widget-view+json": {
       "model_id": "07b623ac0c98448ea50086ee41c8d9c1",
       "version_major": 2,
       "version_minor": 0
      },
      "text/plain": [
       "Sanity Checking: 0it [00:00, ?it/s]"
      ]
     },
     "metadata": {},
     "output_type": "display_data"
    },
    {
     "name": "stdout",
     "output_type": "stream",
     "text": [
      "Number of batches in val_loader: 32\n",
      "Number of batches in train_loader: 251\n"
     ]
    },
    {
     "data": {
      "application/vnd.jupyter.widget-view+json": {
       "model_id": "95397146965044d1a9f56e3951f9660f",
       "version_major": 2,
       "version_minor": 0
      },
      "text/plain": [
       "Training: 0it [00:00, ?it/s]"
      ]
     },
     "metadata": {},
     "output_type": "display_data"
    },
    {
     "data": {
      "application/vnd.jupyter.widget-view+json": {
       "model_id": "255781d5961944f5a9578871a492bae6",
       "version_major": 2,
       "version_minor": 0
      },
      "text/plain": [
       "Validation: 0it [00:00, ?it/s]"
      ]
     },
     "metadata": {},
     "output_type": "display_data"
    },
    {
     "name": "stderr",
     "output_type": "stream",
     "text": [
      "Epoch 0, global step 63: 'val_loss' reached 0.41744 (best 0.41744), saving model to 'checkpoints/version_135/gurunet-epoch=00-val_loss=0.41744.ckpt' as top 3\n",
      "Epoch 0, global step 63: 'val_pAUC' reached 0.16731 (best 0.16731), saving model to 'checkpoints/version_135/gurunet-epoch=00-val_pAUC=0.16731.ckpt' as top 3\n"
     ]
    },
    {
     "data": {
      "application/vnd.jupyter.widget-view+json": {
       "model_id": "06fc8a62b9444f3da71ab0256e4a476f",
       "version_major": 2,
       "version_minor": 0
      },
      "text/plain": [
       "Validation: 0it [00:00, ?it/s]"
      ]
     },
     "metadata": {},
     "output_type": "display_data"
    },
    {
     "name": "stderr",
     "output_type": "stream",
     "text": [
      "Epoch 1, global step 126: 'val_loss' reached 0.39867 (best 0.39867), saving model to 'checkpoints/version_135/gurunet-epoch=01-val_loss=0.39867.ckpt' as top 3\n",
      "Epoch 1, global step 126: 'val_pAUC' reached 0.17170 (best 0.17170), saving model to 'checkpoints/version_135/gurunet-epoch=01-val_pAUC=0.17170.ckpt' as top 3\n"
     ]
    },
    {
     "data": {
      "application/vnd.jupyter.widget-view+json": {
       "model_id": "384375e337b94e1badadcc873ac1b6e4",
       "version_major": 2,
       "version_minor": 0
      },
      "text/plain": [
       "Validation: 0it [00:00, ?it/s]"
      ]
     },
     "metadata": {},
     "output_type": "display_data"
    },
    {
     "name": "stderr",
     "output_type": "stream",
     "text": [
      "Epoch 2, global step 189: 'val_loss' reached 0.38717 (best 0.38717), saving model to 'checkpoints/version_135/gurunet-epoch=02-val_loss=0.38717.ckpt' as top 3\n",
      "Epoch 2, global step 189: 'val_pAUC' reached 0.17623 (best 0.17623), saving model to 'checkpoints/version_135/gurunet-epoch=02-val_pAUC=0.17623.ckpt' as top 3\n"
     ]
    },
    {
     "data": {
      "application/vnd.jupyter.widget-view+json": {
       "model_id": "90e90a4530be412f8cba1d829ac6f089",
       "version_major": 2,
       "version_minor": 0
      },
      "text/plain": [
       "Validation: 0it [00:00, ?it/s]"
      ]
     },
     "metadata": {},
     "output_type": "display_data"
    },
    {
     "name": "stderr",
     "output_type": "stream",
     "text": [
      "Epoch 3, global step 252: 'val_loss' reached 0.37860 (best 0.37860), saving model to 'checkpoints/version_135/gurunet-epoch=03-val_loss=0.37860.ckpt' as top 3\n",
      "Epoch 3, global step 252: 'val_pAUC' reached 0.18000 (best 0.18000), saving model to 'checkpoints/version_135/gurunet-epoch=03-val_pAUC=0.18000.ckpt' as top 3\n"
     ]
    },
    {
     "data": {
      "application/vnd.jupyter.widget-view+json": {
       "model_id": "7fd24dd13d98424a931936968eae5b58",
       "version_major": 2,
       "version_minor": 0
      },
      "text/plain": [
       "Validation: 0it [00:00, ?it/s]"
      ]
     },
     "metadata": {},
     "output_type": "display_data"
    },
    {
     "name": "stderr",
     "output_type": "stream",
     "text": [
      "Epoch 4, global step 315: 'val_loss' reached 0.37364 (best 0.37364), saving model to 'checkpoints/version_135/gurunet-epoch=04-val_loss=0.37364.ckpt' as top 3\n",
      "Epoch 4, global step 315: 'val_pAUC' reached 0.18059 (best 0.18059), saving model to 'checkpoints/version_135/gurunet-epoch=04-val_pAUC=0.18059.ckpt' as top 3\n"
     ]
    },
    {
     "data": {
      "application/vnd.jupyter.widget-view+json": {
       "model_id": "f291930abd6945f8aa77bca03cb4cb85",
       "version_major": 2,
       "version_minor": 0
      },
      "text/plain": [
       "Validation: 0it [00:00, ?it/s]"
      ]
     },
     "metadata": {},
     "output_type": "display_data"
    },
    {
     "name": "stderr",
     "output_type": "stream",
     "text": [
      "Epoch 5, global step 378: 'val_loss' reached 0.37049 (best 0.37049), saving model to 'checkpoints/version_135/gurunet-epoch=05-val_loss=0.37049.ckpt' as top 3\n",
      "Epoch 5, global step 378: 'val_pAUC' reached 0.18108 (best 0.18108), saving model to 'checkpoints/version_135/gurunet-epoch=05-val_pAUC=0.18108.ckpt' as top 3\n"
     ]
    },
    {
     "data": {
      "application/vnd.jupyter.widget-view+json": {
       "model_id": "7172876f388d4db48382d3ad589af6e6",
       "version_major": 2,
       "version_minor": 0
      },
      "text/plain": [
       "Validation: 0it [00:00, ?it/s]"
      ]
     },
     "metadata": {},
     "output_type": "display_data"
    },
    {
     "name": "stderr",
     "output_type": "stream",
     "text": [
      "Epoch 6, global step 441: 'val_loss' reached 0.37158 (best 0.37049), saving model to 'checkpoints/version_135/gurunet-epoch=06-val_loss=0.37158.ckpt' as top 3\n",
      "Epoch 6, global step 441: 'val_pAUC' reached 0.18126 (best 0.18126), saving model to 'checkpoints/version_135/gurunet-epoch=06-val_pAUC=0.18126.ckpt' as top 3\n"
     ]
    },
    {
     "data": {
      "application/vnd.jupyter.widget-view+json": {
       "model_id": "f7f9423e9233484ca18d909034a29850",
       "version_major": 2,
       "version_minor": 0
      },
      "text/plain": [
       "Validation: 0it [00:00, ?it/s]"
      ]
     },
     "metadata": {},
     "output_type": "display_data"
    },
    {
     "name": "stderr",
     "output_type": "stream",
     "text": [
      "Epoch 7, global step 504: 'val_loss' reached 0.36742 (best 0.36742), saving model to 'checkpoints/version_135/gurunet-epoch=07-val_loss=0.36742.ckpt' as top 3\n",
      "Epoch 7, global step 504: 'val_pAUC' reached 0.18138 (best 0.18138), saving model to 'checkpoints/version_135/gurunet-epoch=07-val_pAUC=0.18138.ckpt' as top 3\n"
     ]
    },
    {
     "data": {
      "application/vnd.jupyter.widget-view+json": {
       "model_id": "215f8a4c6002446d80c072577c54607d",
       "version_major": 2,
       "version_minor": 0
      },
      "text/plain": [
       "Validation: 0it [00:00, ?it/s]"
      ]
     },
     "metadata": {},
     "output_type": "display_data"
    },
    {
     "name": "stderr",
     "output_type": "stream",
     "text": [
      "Epoch 8, global step 567: 'val_loss' reached 0.36358 (best 0.36358), saving model to 'checkpoints/version_135/gurunet-epoch=08-val_loss=0.36358.ckpt' as top 3\n",
      "Epoch 8, global step 567: 'val_pAUC' reached 0.18277 (best 0.18277), saving model to 'checkpoints/version_135/gurunet-epoch=08-val_pAUC=0.18277.ckpt' as top 3\n"
     ]
    },
    {
     "data": {
      "application/vnd.jupyter.widget-view+json": {
       "model_id": "e58612d0d43e472e9d36818e6ce85227",
       "version_major": 2,
       "version_minor": 0
      },
      "text/plain": [
       "Validation: 0it [00:00, ?it/s]"
      ]
     },
     "metadata": {},
     "output_type": "display_data"
    },
    {
     "name": "stderr",
     "output_type": "stream",
     "text": [
      "Epoch 9, global step 630: 'val_loss' reached 0.36255 (best 0.36255), saving model to 'checkpoints/version_135/gurunet-epoch=09-val_loss=0.36255.ckpt' as top 3\n",
      "Epoch 9, global step 630: 'val_pAUC' reached 0.18217 (best 0.18277), saving model to 'checkpoints/version_135/gurunet-epoch=09-val_pAUC=0.18217.ckpt' as top 3\n"
     ]
    },
    {
     "data": {
      "application/vnd.jupyter.widget-view+json": {
       "model_id": "960b7ba664cb4cbc8924bb7bec76d7ac",
       "version_major": 2,
       "version_minor": 0
      },
      "text/plain": [
       "Validation: 0it [00:00, ?it/s]"
      ]
     },
     "metadata": {},
     "output_type": "display_data"
    },
    {
     "name": "stderr",
     "output_type": "stream",
     "text": [
      "Epoch 10, global step 693: 'val_loss' reached 0.36711 (best 0.36255), saving model to 'checkpoints/version_135/gurunet-epoch=10-val_loss=0.36711.ckpt' as top 3\n",
      "Epoch 10, global step 693: 'val_pAUC' reached 0.18157 (best 0.18277), saving model to 'checkpoints/version_135/gurunet-epoch=10-val_pAUC=0.18157.ckpt' as top 3\n"
     ]
    },
    {
     "data": {
      "application/vnd.jupyter.widget-view+json": {
       "model_id": "9fdd71394d4b42b3acc6b7dadb6482e2",
       "version_major": 2,
       "version_minor": 0
      },
      "text/plain": [
       "Validation: 0it [00:00, ?it/s]"
      ]
     },
     "metadata": {},
     "output_type": "display_data"
    },
    {
     "name": "stderr",
     "output_type": "stream",
     "text": [
      "Epoch 11, global step 756: 'val_loss' reached 0.36017 (best 0.36017), saving model to 'checkpoints/version_135/gurunet-epoch=11-val_loss=0.36017.ckpt' as top 3\n",
      "Epoch 11, global step 756: 'val_pAUC' reached 0.18348 (best 0.18348), saving model to 'checkpoints/version_135/gurunet-epoch=11-val_pAUC=0.18348.ckpt' as top 3\n"
     ]
    },
    {
     "data": {
      "application/vnd.jupyter.widget-view+json": {
       "model_id": "f8bd38498e0a463894eff3e7d49702ae",
       "version_major": 2,
       "version_minor": 0
      },
      "text/plain": [
       "Validation: 0it [00:00, ?it/s]"
      ]
     },
     "metadata": {},
     "output_type": "display_data"
    },
    {
     "name": "stderr",
     "output_type": "stream",
     "text": [
      "Epoch 12, global step 819: 'val_loss' reached 0.36075 (best 0.36017), saving model to 'checkpoints/version_135/gurunet-epoch=12-val_loss=0.36075.ckpt' as top 3\n",
      "Epoch 12, global step 819: 'val_pAUC' reached 0.18373 (best 0.18373), saving model to 'checkpoints/version_135/gurunet-epoch=12-val_pAUC=0.18373.ckpt' as top 3\n"
     ]
    },
    {
     "data": {
      "application/vnd.jupyter.widget-view+json": {
       "model_id": "b409dd372da344768a53070becfe673c",
       "version_major": 2,
       "version_minor": 0
      },
      "text/plain": [
       "Validation: 0it [00:00, ?it/s]"
      ]
     },
     "metadata": {},
     "output_type": "display_data"
    },
    {
     "name": "stderr",
     "output_type": "stream",
     "text": [
      "Epoch 13, global step 882: 'val_loss' reached 0.36235 (best 0.36017), saving model to 'checkpoints/version_135/gurunet-epoch=13-val_loss=0.36235.ckpt' as top 3\n",
      "Epoch 13, global step 882: 'val_pAUC' was not in top 3\n"
     ]
    },
    {
     "data": {
      "application/vnd.jupyter.widget-view+json": {
       "model_id": "59889e4473924534881d307af2ce984a",
       "version_major": 2,
       "version_minor": 0
      },
      "text/plain": [
       "Validation: 0it [00:00, ?it/s]"
      ]
     },
     "metadata": {},
     "output_type": "display_data"
    },
    {
     "name": "stderr",
     "output_type": "stream",
     "text": [
      "Epoch 14, global step 945: 'val_loss' reached 0.36037 (best 0.36017), saving model to 'checkpoints/version_135/gurunet-epoch=14-val_loss=0.36037.ckpt' as top 3\n",
      "Epoch 14, global step 945: 'val_pAUC' reached 0.18319 (best 0.18373), saving model to 'checkpoints/version_135/gurunet-epoch=14-val_pAUC=0.18319.ckpt' as top 3\n"
     ]
    },
    {
     "data": {
      "application/vnd.jupyter.widget-view+json": {
       "model_id": "4949afc3ceb44d49ba0cb03e87452185",
       "version_major": 2,
       "version_minor": 0
      },
      "text/plain": [
       "Validation: 0it [00:00, ?it/s]"
      ]
     },
     "metadata": {},
     "output_type": "display_data"
    },
    {
     "name": "stderr",
     "output_type": "stream",
     "text": [
      "Epoch 15, global step 1008: 'val_loss' reached 0.35965 (best 0.35965), saving model to 'checkpoints/version_135/gurunet-epoch=15-val_loss=0.35965.ckpt' as top 3\n",
      "Epoch 15, global step 1008: 'val_pAUC' was not in top 3\n",
      "Trainer was signaled to stop but the required `min_epochs=50` or `min_steps=None` has not been met. Training will continue...\n"
     ]
    },
    {
     "data": {
      "application/vnd.jupyter.widget-view+json": {
       "model_id": "8abbe41871b04e358339573110ffa5f4",
       "version_major": 2,
       "version_minor": 0
      },
      "text/plain": [
       "Validation: 0it [00:00, ?it/s]"
      ]
     },
     "metadata": {},
     "output_type": "display_data"
    },
    {
     "name": "stderr",
     "output_type": "stream",
     "text": [
      "Epoch 16, global step 1071: 'val_loss' reached 0.35591 (best 0.35591), saving model to 'checkpoints/version_135/gurunet-epoch=16-val_loss=0.35591.ckpt' as top 3\n",
      "Epoch 16, global step 1071: 'val_pAUC' reached 0.18350 (best 0.18373), saving model to 'checkpoints/version_135/gurunet-epoch=16-val_pAUC=0.18350.ckpt' as top 3\n"
     ]
    },
    {
     "data": {
      "application/vnd.jupyter.widget-view+json": {
       "model_id": "a583b23d87e2424e8b79a5ebe384ee6e",
       "version_major": 2,
       "version_minor": 0
      },
      "text/plain": [
       "Validation: 0it [00:00, ?it/s]"
      ]
     },
     "metadata": {},
     "output_type": "display_data"
    },
    {
     "name": "stderr",
     "output_type": "stream",
     "text": [
      "Epoch 17, global step 1134: 'val_loss' was not in top 3\n",
      "Epoch 17, global step 1134: 'val_pAUC' reached 0.18452 (best 0.18452), saving model to 'checkpoints/version_135/gurunet-epoch=17-val_pAUC=0.18452.ckpt' as top 3\n"
     ]
    },
    {
     "data": {
      "application/vnd.jupyter.widget-view+json": {
       "model_id": "9320c60ed3ef4f55991a3d7f49072ad7",
       "version_major": 2,
       "version_minor": 0
      },
      "text/plain": [
       "Validation: 0it [00:00, ?it/s]"
      ]
     },
     "metadata": {},
     "output_type": "display_data"
    },
    {
     "name": "stderr",
     "output_type": "stream",
     "text": [
      "Epoch 18, global step 1197: 'val_loss' reached 0.35125 (best 0.35125), saving model to 'checkpoints/version_135/gurunet-epoch=18-val_loss=0.35125.ckpt' as top 3\n",
      "Epoch 18, global step 1197: 'val_pAUC' reached 0.18521 (best 0.18521), saving model to 'checkpoints/version_135/gurunet-epoch=18-val_pAUC=0.18521.ckpt' as top 3\n"
     ]
    },
    {
     "data": {
      "application/vnd.jupyter.widget-view+json": {
       "model_id": "f97e264dbd2d441aa0ef4435c945494c",
       "version_major": 2,
       "version_minor": 0
      },
      "text/plain": [
       "Validation: 0it [00:00, ?it/s]"
      ]
     },
     "metadata": {},
     "output_type": "display_data"
    },
    {
     "name": "stderr",
     "output_type": "stream",
     "text": [
      "Epoch 19, global step 1260: 'val_loss' reached 0.35905 (best 0.35125), saving model to 'checkpoints/version_135/gurunet-epoch=19-val_loss=0.35905.ckpt' as top 3\n",
      "Epoch 19, global step 1260: 'val_pAUC' reached 0.18384 (best 0.18521), saving model to 'checkpoints/version_135/gurunet-epoch=19-val_pAUC=0.18384.ckpt' as top 3\n"
     ]
    },
    {
     "data": {
      "application/vnd.jupyter.widget-view+json": {
       "model_id": "584516248230452f9d57791576d03593",
       "version_major": 2,
       "version_minor": 0
      },
      "text/plain": [
       "Validation: 0it [00:00, ?it/s]"
      ]
     },
     "metadata": {},
     "output_type": "display_data"
    },
    {
     "name": "stderr",
     "output_type": "stream",
     "text": [
      "Epoch 20, global step 1323: 'val_loss' reached 0.35535 (best 0.35125), saving model to 'checkpoints/version_135/gurunet-epoch=20-val_loss=0.35535.ckpt' as top 3\n",
      "Epoch 20, global step 1323: 'val_pAUC' reached 0.18619 (best 0.18619), saving model to 'checkpoints/version_135/gurunet-epoch=20-val_pAUC=0.18619.ckpt' as top 3\n"
     ]
    },
    {
     "data": {
      "application/vnd.jupyter.widget-view+json": {
       "model_id": "91ffbe1427bd48ed83d991da492f1490",
       "version_major": 2,
       "version_minor": 0
      },
      "text/plain": [
       "Validation: 0it [00:00, ?it/s]"
      ]
     },
     "metadata": {},
     "output_type": "display_data"
    },
    {
     "name": "stderr",
     "output_type": "stream",
     "text": [
      "Epoch 21, global step 1386: 'val_loss' reached 0.35136 (best 0.35125), saving model to 'checkpoints/version_135/gurunet-epoch=21-val_loss=0.35136.ckpt' as top 3\n",
      "Epoch 21, global step 1386: 'val_pAUC' reached 0.18587 (best 0.18619), saving model to 'checkpoints/version_135/gurunet-epoch=21-val_pAUC=0.18587.ckpt' as top 3\n"
     ]
    },
    {
     "data": {
      "application/vnd.jupyter.widget-view+json": {
       "model_id": "4e4563b5bb1e412883a8135e5ad0dec2",
       "version_major": 2,
       "version_minor": 0
      },
      "text/plain": [
       "Validation: 0it [00:00, ?it/s]"
      ]
     },
     "metadata": {},
     "output_type": "display_data"
    },
    {
     "name": "stderr",
     "output_type": "stream",
     "text": [
      "Epoch 22, global step 1449: 'val_loss' reached 0.35291 (best 0.35125), saving model to 'checkpoints/version_135/gurunet-epoch=22-val_loss=0.35291.ckpt' as top 3\n",
      "Epoch 22, global step 1449: 'val_pAUC' reached 0.18573 (best 0.18619), saving model to 'checkpoints/version_135/gurunet-epoch=22-val_pAUC=0.18573.ckpt' as top 3\n"
     ]
    },
    {
     "data": {
      "application/vnd.jupyter.widget-view+json": {
       "model_id": "2e674d2a453a497fa23034835de5b866",
       "version_major": 2,
       "version_minor": 0
      },
      "text/plain": [
       "Validation: 0it [00:00, ?it/s]"
      ]
     },
     "metadata": {},
     "output_type": "display_data"
    },
    {
     "name": "stderr",
     "output_type": "stream",
     "text": [
      "Epoch 23, global step 1512: 'val_loss' reached 0.35208 (best 0.35125), saving model to 'checkpoints/version_135/gurunet-epoch=23-val_loss=0.35208.ckpt' as top 3\n",
      "Epoch 23, global step 1512: 'val_pAUC' was not in top 3\n"
     ]
    },
    {
     "data": {
      "application/vnd.jupyter.widget-view+json": {
       "model_id": "f04ae3217b534e70ad4d603c821795be",
       "version_major": 2,
       "version_minor": 0
      },
      "text/plain": [
       "Validation: 0it [00:00, ?it/s]"
      ]
     },
     "metadata": {},
     "output_type": "display_data"
    },
    {
     "name": "stderr",
     "output_type": "stream",
     "text": [
      "Epoch 24, global step 1575: 'val_loss' was not in top 3\n",
      "Epoch 24, global step 1575: 'val_pAUC' was not in top 3\n"
     ]
    },
    {
     "data": {
      "application/vnd.jupyter.widget-view+json": {
       "model_id": "6eedcad1c25949eab7c46465788a8621",
       "version_major": 2,
       "version_minor": 0
      },
      "text/plain": [
       "Validation: 0it [00:00, ?it/s]"
      ]
     },
     "metadata": {},
     "output_type": "display_data"
    },
    {
     "name": "stderr",
     "output_type": "stream",
     "text": [
      "Epoch 25, global step 1638: 'val_loss' was not in top 3\n",
      "Epoch 25, global step 1638: 'val_pAUC' was not in top 3\n"
     ]
    },
    {
     "data": {
      "application/vnd.jupyter.widget-view+json": {
       "model_id": "d3d724fd2fc6416da208127e1a695fe7",
       "version_major": 2,
       "version_minor": 0
      },
      "text/plain": [
       "Validation: 0it [00:00, ?it/s]"
      ]
     },
     "metadata": {},
     "output_type": "display_data"
    },
    {
     "name": "stderr",
     "output_type": "stream",
     "text": [
      "Epoch 26, global step 1701: 'val_loss' reached 0.34894 (best 0.34894), saving model to 'checkpoints/version_135/gurunet-epoch=26-val_loss=0.34894.ckpt' as top 3\n",
      "Epoch 26, global step 1701: 'val_pAUC' was not in top 3\n"
     ]
    },
    {
     "name": "stdout",
     "output_type": "stream",
     "text": [
      "Epoch 00027: reducing learning rate of group 0 to 1.0000e-04.\n"
     ]
    },
    {
     "data": {
      "application/vnd.jupyter.widget-view+json": {
       "model_id": "0999f2ab6ed14961a098c86fcfe123d7",
       "version_major": 2,
       "version_minor": 0
      },
      "text/plain": [
       "Validation: 0it [00:00, ?it/s]"
      ]
     },
     "metadata": {},
     "output_type": "display_data"
    },
    {
     "name": "stderr",
     "output_type": "stream",
     "text": [
      "Epoch 27, global step 1764: 'val_loss' reached 0.34549 (best 0.34549), saving model to 'checkpoints/version_135/gurunet-epoch=27-val_loss=0.34549.ckpt' as top 3\n",
      "Epoch 27, global step 1764: 'val_pAUC' reached 0.18684 (best 0.18684), saving model to 'checkpoints/version_135/gurunet-epoch=27-val_pAUC=0.18684.ckpt' as top 3\n"
     ]
    },
    {
     "data": {
      "application/vnd.jupyter.widget-view+json": {
       "model_id": "75bfc0b6c5334be0848b26a3f537a772",
       "version_major": 2,
       "version_minor": 0
      },
      "text/plain": [
       "Validation: 0it [00:00, ?it/s]"
      ]
     },
     "metadata": {},
     "output_type": "display_data"
    },
    {
     "name": "stderr",
     "output_type": "stream",
     "text": [
      "Epoch 28, global step 1827: 'val_loss' reached 0.34920 (best 0.34549), saving model to 'checkpoints/version_135/gurunet-epoch=28-val_loss=0.34920.ckpt' as top 3\n",
      "Epoch 28, global step 1827: 'val_pAUC' reached 0.18627 (best 0.18684), saving model to 'checkpoints/version_135/gurunet-epoch=28-val_pAUC=0.18627.ckpt' as top 3\n"
     ]
    },
    {
     "data": {
      "application/vnd.jupyter.widget-view+json": {
       "model_id": "a3a0b49843d14cecb18a1dd8d9d9e005",
       "version_major": 2,
       "version_minor": 0
      },
      "text/plain": [
       "Validation: 0it [00:00, ?it/s]"
      ]
     },
     "metadata": {},
     "output_type": "display_data"
    },
    {
     "name": "stderr",
     "output_type": "stream",
     "text": [
      "Epoch 29, global step 1890: 'val_loss' was not in top 3\n",
      "Epoch 29, global step 1890: 'val_pAUC' reached 0.18681 (best 0.18684), saving model to 'checkpoints/version_135/gurunet-epoch=29-val_pAUC=0.18681.ckpt' as top 3\n"
     ]
    },
    {
     "data": {
      "application/vnd.jupyter.widget-view+json": {
       "model_id": "bb4b64c1561a4eb7aee54ec9932aa8f5",
       "version_major": 2,
       "version_minor": 0
      },
      "text/plain": [
       "Validation: 0it [00:00, ?it/s]"
      ]
     },
     "metadata": {},
     "output_type": "display_data"
    },
    {
     "name": "stderr",
     "output_type": "stream",
     "text": [
      "Epoch 30, global step 1953: 'val_loss' reached 0.34612 (best 0.34549), saving model to 'checkpoints/version_135/gurunet-epoch=30-val_loss=0.34612.ckpt' as top 3\n",
      "Epoch 30, global step 1953: 'val_pAUC' reached 0.18662 (best 0.18684), saving model to 'checkpoints/version_135/gurunet-epoch=30-val_pAUC=0.18662.ckpt' as top 3\n"
     ]
    },
    {
     "data": {
      "application/vnd.jupyter.widget-view+json": {
       "model_id": "fa3bd98b8bea466fbd8b1bae160c7aa8",
       "version_major": 2,
       "version_minor": 0
      },
      "text/plain": [
       "Validation: 0it [00:00, ?it/s]"
      ]
     },
     "metadata": {},
     "output_type": "display_data"
    },
    {
     "name": "stderr",
     "output_type": "stream",
     "text": [
      "Epoch 31, global step 2016: 'val_loss' reached 0.34382 (best 0.34382), saving model to 'checkpoints/version_135/gurunet-epoch=31-val_loss=0.34382.ckpt' as top 3\n",
      "Epoch 31, global step 2016: 'val_pAUC' was not in top 3\n"
     ]
    },
    {
     "data": {
      "application/vnd.jupyter.widget-view+json": {
       "model_id": "d5bb15b66b394a25aa0a294c4a29ace1",
       "version_major": 2,
       "version_minor": 0
      },
      "text/plain": [
       "Validation: 0it [00:00, ?it/s]"
      ]
     },
     "metadata": {},
     "output_type": "display_data"
    },
    {
     "name": "stderr",
     "output_type": "stream",
     "text": [
      "Epoch 32, global step 2079: 'val_loss' reached 0.34280 (best 0.34280), saving model to 'checkpoints/version_135/gurunet-epoch=32-val_loss=0.34280.ckpt' as top 3\n",
      "Epoch 32, global step 2079: 'val_pAUC' reached 0.18709 (best 0.18709), saving model to 'checkpoints/version_135/gurunet-epoch=32-val_pAUC=0.18709.ckpt' as top 3\n"
     ]
    },
    {
     "data": {
      "application/vnd.jupyter.widget-view+json": {
       "model_id": "5e8dae5a40824600850d66728cf93aff",
       "version_major": 2,
       "version_minor": 0
      },
      "text/plain": [
       "Validation: 0it [00:00, ?it/s]"
      ]
     },
     "metadata": {},
     "output_type": "display_data"
    },
    {
     "name": "stderr",
     "output_type": "stream",
     "text": [
      "Epoch 33, global step 2142: 'val_loss' was not in top 3\n",
      "Epoch 33, global step 2142: 'val_pAUC' reached 0.18687 (best 0.18709), saving model to 'checkpoints/version_135/gurunet-epoch=33-val_pAUC=0.18687.ckpt' as top 3\n"
     ]
    },
    {
     "data": {
      "application/vnd.jupyter.widget-view+json": {
       "model_id": "44b44af62d444e3c8307f6801174258b",
       "version_major": 2,
       "version_minor": 0
      },
      "text/plain": [
       "Validation: 0it [00:00, ?it/s]"
      ]
     },
     "metadata": {},
     "output_type": "display_data"
    },
    {
     "name": "stderr",
     "output_type": "stream",
     "text": [
      "Epoch 34, global step 2205: 'val_loss' reached 0.34286 (best 0.34280), saving model to 'checkpoints/version_135/gurunet-epoch=34-val_loss=0.34286.ckpt' as top 3\n",
      "Epoch 34, global step 2205: 'val_pAUC' reached 0.18722 (best 0.18722), saving model to 'checkpoints/version_135/gurunet-epoch=34-val_pAUC=0.18722.ckpt' as top 3\n"
     ]
    },
    {
     "data": {
      "application/vnd.jupyter.widget-view+json": {
       "model_id": "93df64ec637345d1ad21ad6dac99c08b",
       "version_major": 2,
       "version_minor": 0
      },
      "text/plain": [
       "Validation: 0it [00:00, ?it/s]"
      ]
     },
     "metadata": {},
     "output_type": "display_data"
    },
    {
     "name": "stderr",
     "output_type": "stream",
     "text": [
      "Epoch 35, global step 2268: 'val_loss' was not in top 3\n",
      "Epoch 35, global step 2268: 'val_pAUC' reached 0.18699 (best 0.18722), saving model to 'checkpoints/version_135/gurunet-epoch=35-val_pAUC=0.18699.ckpt' as top 3\n"
     ]
    },
    {
     "data": {
      "application/vnd.jupyter.widget-view+json": {
       "model_id": "a3f5a549f20b4a7096d8070992b8413a",
       "version_major": 2,
       "version_minor": 0
      },
      "text/plain": [
       "Validation: 0it [00:00, ?it/s]"
      ]
     },
     "metadata": {},
     "output_type": "display_data"
    },
    {
     "name": "stderr",
     "output_type": "stream",
     "text": [
      "Epoch 36, global step 2331: 'val_loss' was not in top 3\n",
      "Epoch 36, global step 2331: 'val_pAUC' reached 0.18704 (best 0.18722), saving model to 'checkpoints/version_135/gurunet-epoch=36-val_pAUC=0.18704.ckpt' as top 3\n"
     ]
    },
    {
     "data": {
      "application/vnd.jupyter.widget-view+json": {
       "model_id": "5e282d4e517146f2ba41556ca6deacab",
       "version_major": 2,
       "version_minor": 0
      },
      "text/plain": [
       "Validation: 0it [00:00, ?it/s]"
      ]
     },
     "metadata": {},
     "output_type": "display_data"
    },
    {
     "name": "stderr",
     "output_type": "stream",
     "text": [
      "Epoch 37, global step 2394: 'val_loss' reached 0.34289 (best 0.34280), saving model to 'checkpoints/version_135/gurunet-epoch=37-val_loss=0.34289.ckpt' as top 3\n",
      "Epoch 37, global step 2394: 'val_pAUC' reached 0.18745 (best 0.18745), saving model to 'checkpoints/version_135/gurunet-epoch=37-val_pAUC=0.18745.ckpt' as top 3\n"
     ]
    },
    {
     "data": {
      "application/vnd.jupyter.widget-view+json": {
       "model_id": "aad8eddbd7174fabbee00e840e8b227d",
       "version_major": 2,
       "version_minor": 0
      },
      "text/plain": [
       "Validation: 0it [00:00, ?it/s]"
      ]
     },
     "metadata": {},
     "output_type": "display_data"
    },
    {
     "name": "stderr",
     "output_type": "stream",
     "text": [
      "Epoch 38, global step 2457: 'val_loss' was not in top 3\n",
      "Epoch 38, global step 2457: 'val_pAUC' was not in top 3\n"
     ]
    },
    {
     "data": {
      "application/vnd.jupyter.widget-view+json": {
       "model_id": "43f1ca255ab54aed93049a75937e0998",
       "version_major": 2,
       "version_minor": 0
      },
      "text/plain": [
       "Validation: 0it [00:00, ?it/s]"
      ]
     },
     "metadata": {},
     "output_type": "display_data"
    },
    {
     "name": "stderr",
     "output_type": "stream",
     "text": [
      "Epoch 39, global step 2520: 'val_loss' was not in top 3\n",
      "Epoch 39, global step 2520: 'val_pAUC' was not in top 3\n"
     ]
    },
    {
     "name": "stdout",
     "output_type": "stream",
     "text": [
      "Epoch 00040: reducing learning rate of group 0 to 1.0000e-05.\n"
     ]
    },
    {
     "data": {
      "application/vnd.jupyter.widget-view+json": {
       "model_id": "35cf5caa963e423ca6210f25268b345b",
       "version_major": 2,
       "version_minor": 0
      },
      "text/plain": [
       "Validation: 0it [00:00, ?it/s]"
      ]
     },
     "metadata": {},
     "output_type": "display_data"
    },
    {
     "name": "stderr",
     "output_type": "stream",
     "text": [
      "Epoch 40, global step 2583: 'val_loss' was not in top 3\n",
      "Epoch 40, global step 2583: 'val_pAUC' was not in top 3\n"
     ]
    },
    {
     "data": {
      "application/vnd.jupyter.widget-view+json": {
       "model_id": "4f48337338924817b87a0ac533833ef8",
       "version_major": 2,
       "version_minor": 0
      },
      "text/plain": [
       "Validation: 0it [00:00, ?it/s]"
      ]
     },
     "metadata": {},
     "output_type": "display_data"
    },
    {
     "name": "stderr",
     "output_type": "stream",
     "text": [
      "Epoch 41, global step 2646: 'val_loss' was not in top 3\n",
      "Epoch 41, global step 2646: 'val_pAUC' reached 0.18714 (best 0.18745), saving model to 'checkpoints/version_135/gurunet-epoch=41-val_pAUC=0.18714.ckpt' as top 3\n"
     ]
    },
    {
     "data": {
      "application/vnd.jupyter.widget-view+json": {
       "model_id": "92f84d0e349c414f9e8432773dd2a9fd",
       "version_major": 2,
       "version_minor": 0
      },
      "text/plain": [
       "Validation: 0it [00:00, ?it/s]"
      ]
     },
     "metadata": {},
     "output_type": "display_data"
    },
    {
     "name": "stderr",
     "output_type": "stream",
     "text": [
      "Epoch 42, global step 2709: 'val_loss' was not in top 3\n",
      "Epoch 42, global step 2709: 'val_pAUC' was not in top 3\n"
     ]
    },
    {
     "name": "stdout",
     "output_type": "stream",
     "text": [
      "Epoch 00043: reducing learning rate of group 0 to 1.0000e-06.\n"
     ]
    },
    {
     "data": {
      "application/vnd.jupyter.widget-view+json": {
       "model_id": "812474b284654af1b0e9aa1caecb0696",
       "version_major": 2,
       "version_minor": 0
      },
      "text/plain": [
       "Validation: 0it [00:00, ?it/s]"
      ]
     },
     "metadata": {},
     "output_type": "display_data"
    },
    {
     "name": "stderr",
     "output_type": "stream",
     "text": [
      "Epoch 43, global step 2772: 'val_loss' was not in top 3\n",
      "Epoch 43, global step 2772: 'val_pAUC' was not in top 3\n"
     ]
    },
    {
     "data": {
      "application/vnd.jupyter.widget-view+json": {
       "model_id": "ce469a078ed84731827bce46837203fc",
       "version_major": 2,
       "version_minor": 0
      },
      "text/plain": [
       "Validation: 0it [00:00, ?it/s]"
      ]
     },
     "metadata": {},
     "output_type": "display_data"
    },
    {
     "name": "stderr",
     "output_type": "stream",
     "text": [
      "Epoch 44, global step 2835: 'val_loss' was not in top 3\n",
      "Epoch 44, global step 2835: 'val_pAUC' reached 0.18722 (best 0.18745), saving model to 'checkpoints/version_135/gurunet-epoch=44-val_pAUC=0.18722.ckpt' as top 3\n"
     ]
    },
    {
     "data": {
      "application/vnd.jupyter.widget-view+json": {
       "model_id": "c3314159f6574663a00a96c138534979",
       "version_major": 2,
       "version_minor": 0
      },
      "text/plain": [
       "Validation: 0it [00:00, ?it/s]"
      ]
     },
     "metadata": {},
     "output_type": "display_data"
    },
    {
     "name": "stderr",
     "output_type": "stream",
     "text": [
      "Epoch 45, global step 2898: 'val_loss' was not in top 3\n",
      "Epoch 45, global step 2898: 'val_pAUC' reached 0.18742 (best 0.18745), saving model to 'checkpoints/version_135/gurunet-epoch=45-val_pAUC=0.18742.ckpt' as top 3\n"
     ]
    },
    {
     "name": "stdout",
     "output_type": "stream",
     "text": [
      "Epoch 00046: reducing learning rate of group 0 to 1.0000e-07.\n"
     ]
    },
    {
     "data": {
      "application/vnd.jupyter.widget-view+json": {
       "model_id": "1b7eb039742a400785c07fbf2ebfb1a7",
       "version_major": 2,
       "version_minor": 0
      },
      "text/plain": [
       "Validation: 0it [00:00, ?it/s]"
      ]
     },
     "metadata": {},
     "output_type": "display_data"
    },
    {
     "name": "stderr",
     "output_type": "stream",
     "text": [
      "Epoch 46, global step 2961: 'val_loss' reached 0.34149 (best 0.34149), saving model to 'checkpoints/version_135/gurunet-epoch=46-val_loss=0.34149.ckpt' as top 3\n",
      "Epoch 46, global step 2961: 'val_pAUC' was not in top 3\n"
     ]
    },
    {
     "data": {
      "application/vnd.jupyter.widget-view+json": {
       "model_id": "94d2fc5d87a6448bb83c65471a215ba6",
       "version_major": 2,
       "version_minor": 0
      },
      "text/plain": [
       "Validation: 0it [00:00, ?it/s]"
      ]
     },
     "metadata": {},
     "output_type": "display_data"
    },
    {
     "name": "stderr",
     "output_type": "stream",
     "text": [
      "Epoch 47, global step 3024: 'val_loss' was not in top 3\n",
      "Epoch 47, global step 3024: 'val_pAUC' was not in top 3\n"
     ]
    },
    {
     "data": {
      "application/vnd.jupyter.widget-view+json": {
       "model_id": "c55b028701d34c28a2955733afad1eff",
       "version_major": 2,
       "version_minor": 0
      },
      "text/plain": [
       "Validation: 0it [00:00, ?it/s]"
      ]
     },
     "metadata": {},
     "output_type": "display_data"
    },
    {
     "name": "stderr",
     "output_type": "stream",
     "text": [
      "Epoch 48, global step 3087: 'val_loss' was not in top 3\n",
      "Epoch 48, global step 3087: 'val_pAUC' reached 0.18755 (best 0.18755), saving model to 'checkpoints/version_135/gurunet-epoch=48-val_pAUC=0.18755.ckpt' as top 3\n"
     ]
    },
    {
     "data": {
      "application/vnd.jupyter.widget-view+json": {
       "model_id": "a2587436db674e9a96c3eb4059973783",
       "version_major": 2,
       "version_minor": 0
      },
      "text/plain": [
       "Validation: 0it [00:00, ?it/s]"
      ]
     },
     "metadata": {},
     "output_type": "display_data"
    },
    {
     "name": "stderr",
     "output_type": "stream",
     "text": [
      "Epoch 49, global step 3150: 'val_loss' was not in top 3\n",
      "Epoch 49, global step 3150: 'val_pAUC' was not in top 3\n",
      "FIT Profiler Report\n",
      "\n",
      "----------------------------------------------------------------------------------------------------------------------------------------------------------------------------------------------------------------------------------------------------------------------------------\n",
      "|  Action                                                                                                                                                               \t|  Mean duration (s)\t|  Num calls      \t|  Total time (s) \t|  Percentage %   \t|\n",
      "----------------------------------------------------------------------------------------------------------------------------------------------------------------------------------------------------------------------------------------------------------------------------------\n",
      "|  Total                                                                                                                                                                \t|  -              \t|  552974         \t|  3475.3         \t|  100 %          \t|\n",
      "----------------------------------------------------------------------------------------------------------------------------------------------------------------------------------------------------------------------------------------------------------------------------------\n",
      "|  run_training_epoch                                                                                                                                                   \t|  68.883         \t|  50             \t|  3444.2         \t|  99.104         \t|\n",
      "|  run_training_batch                                                                                                                                                   \t|  0.23981        \t|  12550          \t|  3009.6         \t|  86.6           \t|\n",
      "|  [Strategy]SingleDeviceStrategy.backward                                                                                                                              \t|  0.13463        \t|  12550          \t|  1689.6         \t|  48.617         \t|\n",
      "|  [Strategy]SingleDeviceStrategy.training_step                                                                                                                         \t|  0.10075        \t|  12550          \t|  1264.5         \t|  36.384         \t|\n",
      "|  [LightningModule]GuruNet.optimizer_step                                                                                                                              \t|  0.25048        \t|  3150           \t|  789.01         \t|  22.704         \t|\n",
      "|  [Strategy]SingleDeviceStrategy.validation_step                                                                                                                       \t|  0.090704       \t|  1602           \t|  145.31         \t|  4.1812         \t|\n",
      "|  [_TrainingEpochLoop].train_dataloader_next                                                                                                                           \t|  0.006552       \t|  12550          \t|  82.228         \t|  2.3661         \t|\n",
      "|  [_EvaluationLoop].val_next                                                                                                                                           \t|  0.037451       \t|  1603           \t|  60.034         \t|  1.7275         \t|\n",
      "|  [Callback]TQDMProgressBar.on_train_batch_end                                                                                                                         \t|  0.0010314      \t|  12550          \t|  12.944         \t|  0.37245        \t|\n",
      "|  [Callback]ModelCheckpoint{'monitor': 'val_pAUC', 'mode': 'max', 'every_n_train_steps': 0, 'every_n_epochs': 1, 'train_time_interval': None}.on_train_epoch_end       \t|  0.23968        \t|  50             \t|  11.984         \t|  0.34484        \t|\n",
      "|  [Callback]ModelCheckpoint{'monitor': 'val_loss', 'mode': 'min', 'every_n_train_steps': 0, 'every_n_epochs': 1, 'train_time_interval': None}.on_train_epoch_end       \t|  0.2383         \t|  50             \t|  11.915         \t|  0.34284        \t|\n",
      "|  [Strategy]SingleDeviceStrategy.batch_to_device                                                                                                                       \t|  0.00019408     \t|  14152          \t|  2.7466         \t|  0.079032       \t|\n",
      "|  [LightningModule]GuruNet.optimizer_zero_grad                                                                                                                         \t|  0.00082725     \t|  3150           \t|  2.6058         \t|  0.074982       \t|\n",
      "|  [LightningModule]GuruNet.transfer_batch_to_device                                                                                                                    \t|  0.0001523      \t|  14152          \t|  2.1553         \t|  0.062019       \t|\n",
      "|  [Callback]TQDMProgressBar.on_validation_batch_end                                                                                                                    \t|  0.00060814     \t|  1602           \t|  0.97425        \t|  0.028034       \t|\n",
      "|  [LightningDataModule]ISICDataModule.setup                                                                                                                            \t|  0.45022        \t|  1              \t|  0.45022        \t|  0.012955       \t|\n",
      "|  [Callback]TQDMProgressBar.on_validation_start                                                                                                                        \t|  0.0079689      \t|  51             \t|  0.40641        \t|  0.011694       \t|\n",
      "|  [LightningModule]GuruNet.on_validation_model_eval                                                                                                                    \t|  0.0075428      \t|  51             \t|  0.38468        \t|  0.011069       \t|\n",
      "|  [Callback]ModelCheckpoint{'monitor': 'val_loss', 'mode': 'min', 'every_n_train_steps': 0, 'every_n_epochs': 1, 'train_time_interval': None}.on_train_batch_end       \t|  1.6908e-05     \t|  12550          \t|  0.21219        \t|  0.0061057      \t|\n",
      "|  [LightningModule]GuruNet.on_validation_model_train                                                                                                                   \t|  0.0024705      \t|  51             \t|  0.12599        \t|  0.0036254      \t|\n",
      "|  [LightningModule]GuruNet.configure_gradient_clipping                                                                                                                 \t|  2.1383e-05     \t|  3150           \t|  0.067357       \t|  0.0019382      \t|\n",
      "|  [Callback]TQDMProgressBar.on_validation_batch_start                                                                                                                  \t|  3.8799e-05     \t|  1602           \t|  0.062155       \t|  0.0017885      \t|\n",
      "|  [Callback]ModelCheckpoint{'monitor': 'val_pAUC', 'mode': 'max', 'every_n_train_steps': 0, 'every_n_epochs': 1, 'train_time_interval': None}.on_train_batch_end       \t|  4.2402e-06     \t|  12550          \t|  0.053214       \t|  0.0015312      \t|\n",
      "|  [Callback]LearningRateMonitor.on_train_batch_start                                                                                                                   \t|  3.2964e-06     \t|  12550          \t|  0.04137        \t|  0.0011904      \t|\n",
      "|  [Callback]EarlyStopping{'monitor': 'val_pAUC', 'mode': 'min'}.on_after_backward                                                                                      \t|  3.0059e-06     \t|  12550          \t|  0.037724       \t|  0.0010855      \t|\n",
      "|  [Callback]EarlyStopping{'monitor': 'val_pAUC', 'mode': 'min'}.on_train_epoch_end                                                                                     \t|  0.00073596     \t|  50             \t|  0.036798       \t|  0.0010588      \t|\n",
      "|  [Callback]TQDMProgressBar.on_train_epoch_start                                                                                                                       \t|  0.00057628     \t|  50             \t|  0.028814       \t|  0.00082912     \t|\n",
      "|  [Callback]ModelSummary.on_train_batch_end                                                                                                                            \t|  2.1279e-06     \t|  12550          \t|  0.026705       \t|  0.00076843     \t|\n",
      "|  [Callback]TQDMProgressBar.on_validation_end                                                                                                                          \t|  0.00048874     \t|  51             \t|  0.024926       \t|  0.00071723     \t|\n",
      "|  [Callback]EarlyStopping{'monitor': 'val_pAUC', 'mode': 'min'}.on_train_batch_end                                                                                     \t|  1.6874e-06     \t|  12550          \t|  0.021177       \t|  0.00060937     \t|\n",
      "|  [Callback]EarlyStopping{'monitor': 'val_pAUC', 'mode': 'min'}.on_before_backward                                                                                     \t|  1.5972e-06     \t|  12550          \t|  0.020045       \t|  0.00057679     \t|\n",
      "|  [Callback]EarlyStopping{'monitor': 'val_pAUC', 'mode': 'min'}.on_train_batch_start                                                                                   \t|  1.484e-06      \t|  12550          \t|  0.018624       \t|  0.00053591     \t|\n",
      "|  [Callback]TQDMProgressBar.on_train_epoch_end                                                                                                                         \t|  0.00036174     \t|  50             \t|  0.018087       \t|  0.00052045     \t|\n",
      "|  [Callback]LearningRateMonitor.on_after_backward                                                                                                                      \t|  1.0027e-06     \t|  12550          \t|  0.012584       \t|  0.0003621      \t|\n",
      "|  [LightningModule]GuruNet.on_before_batch_transfer                                                                                                                    \t|  8.754e-07      \t|  14152          \t|  0.012389       \t|  0.00035648     \t|\n",
      "|  [Callback]ModelCheckpoint{'monitor': 'val_loss', 'mode': 'min', 'every_n_train_steps': 0, 'every_n_epochs': 1, 'train_time_interval': None}.on_after_backward        \t|  9.7673e-07     \t|  12550          \t|  0.012258       \t|  0.00035272     \t|\n",
      "|  [Callback]TQDMProgressBar.on_after_backward                                                                                                                          \t|  8.6856e-07     \t|  12550          \t|  0.0109         \t|  0.00031366     \t|\n",
      "|  [Callback]LearningRateMonitor.on_train_batch_end                                                                                                                     \t|  8.2406e-07     \t|  12550          \t|  0.010342       \t|  0.00029759     \t|\n",
      "|  [LightningModule]GuruNet.on_after_batch_transfer                                                                                                                     \t|  7.247e-07      \t|  14152          \t|  0.010256       \t|  0.00029511     \t|\n",
      "|  [LightningModule]GuruNet.on_after_backward                                                                                                                           \t|  8.167e-07      \t|  12550          \t|  0.01025        \t|  0.00029493     \t|\n",
      "|  [Callback]ModelCheckpoint{'monitor': 'val_pAUC', 'mode': 'max', 'every_n_train_steps': 0, 'every_n_epochs': 1, 'train_time_interval': None}.on_train_batch_start     \t|  8.1089e-07     \t|  12550          \t|  0.010177       \t|  0.00029283     \t|\n",
      "|  [LightningModule]GuruNet.on_train_batch_start                                                                                                                        \t|  7.9306e-07     \t|  12550          \t|  0.0099529      \t|  0.00028639     \t|\n",
      "|  [Callback]ModelSummary.on_after_backward                                                                                                                             \t|  7.8884e-07     \t|  12550          \t|  0.0099         \t|  0.00028487     \t|\n",
      "|  [Callback]TQDMProgressBar.on_train_batch_start                                                                                                                       \t|  7.8214e-07     \t|  12550          \t|  0.0098159      \t|  0.00028245     \t|\n",
      "|  [Callback]ModelCheckpoint{'monitor': 'val_pAUC', 'mode': 'max', 'every_n_train_steps': 0, 'every_n_epochs': 1, 'train_time_interval': None}.on_after_backward        \t|  7.8146e-07     \t|  12550          \t|  0.0098074      \t|  0.0002822      \t|\n",
      "|  [Strategy]SingleDeviceStrategy.on_train_batch_start                                                                                                                  \t|  7.4808e-07     \t|  12550          \t|  0.0093884      \t|  0.00027015     \t|\n",
      "|  [Callback]LearningRateMonitor.on_before_backward                                                                                                                     \t|  7.2954e-07     \t|  12550          \t|  0.0091558      \t|  0.00026345     \t|\n",
      "|  [LightningModule]GuruNet.on_train_batch_end                                                                                                                          \t|  7.2106e-07     \t|  12550          \t|  0.0090493      \t|  0.00026039     \t|\n",
      "|  [Callback]ModelCheckpoint{'monitor': 'val_pAUC', 'mode': 'max', 'every_n_train_steps': 0, 'every_n_epochs': 1, 'train_time_interval': None}.on_before_backward       \t|  6.9732e-07     \t|  12550          \t|  0.0087514      \t|  0.00025182     \t|\n",
      "|  [Callback]ModelCheckpoint{'monitor': 'val_loss', 'mode': 'min', 'every_n_train_steps': 0, 'every_n_epochs': 1, 'train_time_interval': None}.on_before_backward       \t|  6.5285e-07     \t|  12550          \t|  0.0081932      \t|  0.00023576     \t|\n",
      "|  [LightningModule]GuruNet.on_before_backward                                                                                                                          \t|  6.4635e-07     \t|  12550          \t|  0.0081117      \t|  0.00023341     \t|\n",
      "|  [Callback]ModelCheckpoint{'monitor': 'val_loss', 'mode': 'min', 'every_n_train_steps': 0, 'every_n_epochs': 1, 'train_time_interval': None}.on_train_batch_start     \t|  6.3728e-07     \t|  12550          \t|  0.0079978      \t|  0.00023013     \t|\n",
      "|  [Callback]ModelSummary.on_train_batch_start                                                                                                                          \t|  6.127e-07      \t|  12550          \t|  0.0076894      \t|  0.00022126     \t|\n",
      "|  [Callback]TQDMProgressBar.on_before_backward                                                                                                                         \t|  5.8243e-07     \t|  12550          \t|  0.0073095      \t|  0.00021033     \t|\n",
      "|  [Callback]ModelSummary.on_fit_start                                                                                                                                  \t|  0.0067668      \t|  1              \t|  0.0067668      \t|  0.00019471     \t|\n",
      "|  [Callback]ModelSummary.on_before_backward                                                                                                                            \t|  5.2212e-07     \t|  12550          \t|  0.0065526      \t|  0.00018855     \t|\n",
      "|  [Callback]EarlyStopping{'monitor': 'val_pAUC', 'mode': 'min'}.on_before_zero_grad                                                                                    \t|  2.0178e-06     \t|  3150           \t|  0.0063561      \t|  0.0001829      \t|\n",
      "|  [Callback]EarlyStopping{'monitor': 'val_pAUC', 'mode': 'min'}.on_before_optimizer_step                                                                               \t|  1.7197e-06     \t|  3150           \t|  0.0054171      \t|  0.00015587     \t|\n",
      "|  [Callback]LearningRateMonitor.on_train_epoch_start                                                                                                                   \t|  9.9783e-05     \t|  50             \t|  0.0049891      \t|  0.00014356     \t|\n",
      "|  [Callback]TQDMProgressBar.on_train_start                                                                                                                             \t|  0.0039682      \t|  1              \t|  0.0039682      \t|  0.00011418     \t|\n",
      "|  [Callback]TQDMProgressBar.on_sanity_check_start                                                                                                                      \t|  0.0038805      \t|  1              \t|  0.0038805      \t|  0.00011166     \t|\n",
      "|  [Callback]ModelSummary.on_validation_batch_end                                                                                                                       \t|  2.0216e-06     \t|  1602           \t|  0.0032386      \t|  9.319e-05      \t|\n",
      "|  [Callback]EarlyStopping{'monitor': 'val_pAUC', 'mode': 'min'}.on_validation_batch_end                                                                                \t|  1.9877e-06     \t|  1602           \t|  0.0031843      \t|  9.1627e-05     \t|\n",
      "|  [LightningModule]GuruNet.on_before_zero_grad                                                                                                                         \t|  9.9838e-07     \t|  3150           \t|  0.0031449      \t|  9.0494e-05     \t|\n",
      "|  [Callback]ModelSummary.on_before_optimizer_step                                                                                                                      \t|  8.9307e-07     \t|  3150           \t|  0.0028132      \t|  8.0948e-05     \t|\n",
      "|  [Callback]EarlyStopping{'monitor': 'val_pAUC', 'mode': 'min'}.on_validation_batch_start                                                                              \t|  1.5347e-06     \t|  1602           \t|  0.0024587      \t|  7.0747e-05     \t|\n",
      "|  [LightningModule]GuruNet.lr_scheduler_step                                                                                                                           \t|  4.8473e-05     \t|  50             \t|  0.0024236      \t|  6.9739e-05     \t|\n",
      "|  [Callback]LearningRateMonitor.on_before_optimizer_step                                                                                                               \t|  7.6683e-07     \t|  3150           \t|  0.0024155      \t|  6.9505e-05     \t|\n",
      "|  [Callback]LearningRateMonitor.on_before_zero_grad                                                                                                                    \t|  7.5501e-07     \t|  3150           \t|  0.0023783      \t|  6.8434e-05     \t|\n",
      "|  [Callback]ModelCheckpoint{'monitor': 'val_loss', 'mode': 'min', 'every_n_train_steps': 0, 'every_n_epochs': 1, 'train_time_interval': None}.on_validation_end        \t|  4.1239e-05     \t|  51             \t|  0.0021032      \t|  6.0518e-05     \t|\n",
      "|  [Callback]TQDMProgressBar.on_before_zero_grad                                                                                                                        \t|  6.2298e-07     \t|  3150           \t|  0.0019624      \t|  5.6467e-05     \t|\n",
      "|  [Callback]ModelCheckpoint{'monitor': 'val_loss', 'mode': 'min', 'every_n_train_steps': 0, 'every_n_epochs': 1, 'train_time_interval': None}.on_before_zero_grad      \t|  6.0657e-07     \t|  3150           \t|  0.0019107      \t|  5.4979e-05     \t|\n",
      "|  [Callback]ModelCheckpoint{'monitor': 'val_pAUC', 'mode': 'max', 'every_n_train_steps': 0, 'every_n_epochs': 1, 'train_time_interval': None}.on_before_zero_grad      \t|  5.9892e-07     \t|  3150           \t|  0.0018866      \t|  5.4286e-05     \t|\n",
      "|  [Callback]TQDMProgressBar.on_before_optimizer_step                                                                                                                   \t|  5.9592e-07     \t|  3150           \t|  0.0018772      \t|  5.4015e-05     \t|\n",
      "|  [Callback]ModelSummary.on_before_zero_grad                                                                                                                           \t|  5.9023e-07     \t|  3150           \t|  0.0018592      \t|  5.3498e-05     \t|\n",
      "|  [LightningModule]GuruNet.on_before_optimizer_step                                                                                                                    \t|  5.6773e-07     \t|  3150           \t|  0.0017883      \t|  5.1459e-05     \t|\n",
      "|  [Callback]ModelCheckpoint{'monitor': 'val_pAUC', 'mode': 'max', 'every_n_train_steps': 0, 'every_n_epochs': 1, 'train_time_interval': None}.on_before_optimizer_step \t|  5.5737e-07     \t|  3150           \t|  0.0017557      \t|  5.052e-05      \t|\n",
      "|  [LightningModule]GuruNet.on_validation_batch_end                                                                                                                     \t|  1.0725e-06     \t|  1602           \t|  0.0017182      \t|  4.944e-05      \t|\n",
      "|  [Callback]ModelCheckpoint{'monitor': 'val_loss', 'mode': 'min', 'every_n_train_steps': 0, 'every_n_epochs': 1, 'train_time_interval': None}.on_before_optimizer_step \t|  5.3404e-07     \t|  3150           \t|  0.0016822      \t|  4.8406e-05     \t|\n",
      "|  [LightningModule]GuruNet.on_validation_batch_start                                                                                                                   \t|  8.8674e-07     \t|  1602           \t|  0.0014206      \t|  4.0876e-05     \t|\n",
      "|  [Callback]ModelCheckpoint{'monitor': 'val_loss', 'mode': 'min', 'every_n_train_steps': 0, 'every_n_epochs': 1, 'train_time_interval': None}.on_validation_batch_end  \t|  7.8855e-07     \t|  1602           \t|  0.0012633      \t|  3.635e-05      \t|\n",
      "|  [Callback]ModelSummary.on_validation_batch_start                                                                                                                     \t|  7.72e-07       \t|  1602           \t|  0.0012367      \t|  3.5587e-05     \t|\n",
      "|  [Callback]LearningRateMonitor.on_validation_batch_start                                                                                                              \t|  7.6142e-07     \t|  1602           \t|  0.0012198      \t|  3.5099e-05     \t|\n",
      "|  [Callback]LearningRateMonitor.on_validation_batch_end                                                                                                                \t|  7.5776e-07     \t|  1602           \t|  0.0012139      \t|  3.493e-05      \t|\n",
      "|  [LightningModule]GuruNet.configure_optimizers                                                                                                                        \t|  0.0011666      \t|  1              \t|  0.0011666      \t|  3.3569e-05     \t|\n",
      "|  [Callback]ModelCheckpoint{'monitor': 'val_pAUC', 'mode': 'max', 'every_n_train_steps': 0, 'every_n_epochs': 1, 'train_time_interval': None}.on_validation_batch_start\t|  6.4563e-07     \t|  1602           \t|  0.0010343      \t|  2.9762e-05     \t|\n",
      "|  [Callback]ModelCheckpoint{'monitor': 'val_pAUC', 'mode': 'max', 'every_n_train_steps': 0, 'every_n_epochs': 1, 'train_time_interval': None}.on_validation_batch_end  \t|  6.1227e-07     \t|  1602           \t|  0.00098086     \t|  2.8224e-05     \t|\n",
      "|  [Callback]ModelCheckpoint{'monitor': 'val_loss', 'mode': 'min', 'every_n_train_steps': 0, 'every_n_epochs': 1, 'train_time_interval': None}.on_validation_batch_start\t|  5.922e-07      \t|  1602           \t|  0.0009487      \t|  2.7298e-05     \t|\n",
      "|  [Callback]ModelSummary.on_validation_start                                                                                                                           \t|  8.0206e-06     \t|  51             \t|  0.00040905     \t|  1.177e-05      \t|\n",
      "|  [Callback]EarlyStopping{'monitor': 'val_pAUC', 'mode': 'min'}.on_validation_start                                                                                    \t|  7.3278e-06     \t|  51             \t|  0.00037372     \t|  1.0754e-05     \t|\n",
      "|  [Callback]ModelCheckpoint{'monitor': 'val_pAUC', 'mode': 'max', 'every_n_train_steps': 0, 'every_n_epochs': 1, 'train_time_interval': None}.on_validation_end        \t|  6.3037e-06     \t|  51             \t|  0.00032149     \t|  9.2507e-06     \t|\n",
      "|  [LightningDataModule]ISICDataModule.train_dataloader                                                                                                                 \t|  0.00028383     \t|  1              \t|  0.00028383     \t|  8.167e-06      \t|\n",
      "|  [LightningModule]GuruNet.on_validation_epoch_start                                                                                                                   \t|  5.1013e-06     \t|  51             \t|  0.00026016     \t|  7.4861e-06     \t|\n",
      "|  [Strategy]SingleDeviceStrategy.on_validation_start                                                                                                                   \t|  4.9815e-06     \t|  51             \t|  0.00025406     \t|  7.3103e-06     \t|\n",
      "|  [Callback]EarlyStopping{'monitor': 'val_pAUC', 'mode': 'min'}.on_validation_end                                                                                      \t|  4.8034e-06     \t|  51             \t|  0.00024497     \t|  7.0491e-06     \t|\n",
      "|  [Callback]EarlyStopping{'monitor': 'val_pAUC', 'mode': 'min'}.on_train_epoch_start                                                                                   \t|  4.8103e-06     \t|  50             \t|  0.00024052     \t|  6.9208e-06     \t|\n",
      "|  [LightningDataModule]ISICDataModule.val_dataloader                                                                                                                   \t|  0.00022826     \t|  1              \t|  0.00022826     \t|  6.5682e-06     \t|\n",
      "|  [Callback]LearningRateMonitor.on_validation_start                                                                                                                    \t|  3.9883e-06     \t|  51             \t|  0.00020341     \t|  5.8529e-06     \t|\n",
      "|  [Callback]TQDMProgressBar.on_train_end                                                                                                                               \t|  0.00018996     \t|  1              \t|  0.00018996     \t|  5.4661e-06     \t|\n",
      "|  [LightningDataModule]ISICDataModule.state_dict                                                                                                                       \t|  1.117e-06      \t|  67             \t|  7.484e-05      \t|  2.1535e-06     \t|\n",
      "|  [Callback]EarlyStopping{'monitor': 'val_pAUC', 'mode': 'min'}.on_save_checkpoint                                                                                     \t|  1.1021e-06     \t|  67             \t|  7.384e-05      \t|  2.1247e-06     \t|\n",
      "|  [Callback]LearningRateMonitor.on_train_epoch_end                                                                                                                     \t|  1.4337e-06     \t|  50             \t|  7.1686e-05     \t|  2.0627e-06     \t|\n",
      "|  [Callback]EarlyStopping{'monitor': 'val_pAUC', 'mode': 'min'}.on_validation_epoch_end                                                                                \t|  1.3932e-06     \t|  51             \t|  7.1052e-05     \t|  2.0445e-06     \t|\n",
      "|  [Callback]ModelCheckpoint{'monitor': 'val_loss', 'mode': 'min', 'every_n_train_steps': 0, 'every_n_epochs': 1, 'train_time_interval': None}.on_validation_start      \t|  1.3498e-06     \t|  51             \t|  6.8841e-05     \t|  1.9809e-06     \t|\n",
      "|  [Callback]ModelSummary.on_train_epoch_start                                                                                                                          \t|  1.3472e-06     \t|  50             \t|  6.7362e-05     \t|  1.9383e-06     \t|\n",
      "|  [Callback]ModelSummary.on_validation_end                                                                                                                             \t|  1.3133e-06     \t|  51             \t|  6.698e-05      \t|  1.9273e-06     \t|\n",
      "|  [Callback]EarlyStopping{'monitor': 'val_pAUC', 'mode': 'min'}.on_validation_epoch_start                                                                              \t|  1.2696e-06     \t|  51             \t|  6.4752e-05     \t|  1.8632e-06     \t|\n",
      "|  [Callback]ModelSummary.on_train_epoch_end                                                                                                                            \t|  1.2714e-06     \t|  50             \t|  6.3571e-05     \t|  1.8292e-06     \t|\n",
      "|  [Callback]LearningRateMonitor.on_train_start                                                                                                                         \t|  6.2301e-05     \t|  1              \t|  6.2301e-05     \t|  1.7927e-06     \t|\n",
      "|  [LightningModule]GuruNet.on_validation_start                                                                                                                         \t|  1.0614e-06     \t|  51             \t|  5.413e-05      \t|  1.5576e-06     \t|\n",
      "|  [Callback]TQDMProgressBar.on_validation_epoch_start                                                                                                                  \t|  1.0375e-06     \t|  51             \t|  5.2911e-05     \t|  1.5225e-06     \t|\n",
      "|  [Callback]LearningRateMonitor.on_validation_end                                                                                                                      \t|  9.9176e-07     \t|  51             \t|  5.058e-05      \t|  1.4554e-06     \t|\n",
      "|  [Callback]LearningRateMonitor.on_save_checkpoint                                                                                                                     \t|  6.4388e-07     \t|  67             \t|  4.314e-05      \t|  1.2413e-06     \t|\n",
      "|  [LightningModule]GuruNet.on_validation_end                                                                                                                           \t|  8.3333e-07     \t|  51             \t|  4.25e-05       \t|  1.2229e-06     \t|\n",
      "|  [Callback]ModelSummary.on_save_checkpoint                                                                                                                            \t|  6.1448e-07     \t|  67             \t|  4.117e-05      \t|  1.1847e-06     \t|\n",
      "|  [Callback]ModelCheckpoint{'monitor': 'val_loss', 'mode': 'min', 'every_n_train_steps': 0, 'every_n_epochs': 1, 'train_time_interval': None}.on_save_checkpoint       \t|  6.0449e-07     \t|  67             \t|  4.0501e-05     \t|  1.1654e-06     \t|\n",
      "|  [Callback]ModelCheckpoint{'monitor': 'val_loss', 'mode': 'min', 'every_n_train_steps': 0, 'every_n_epochs': 1, 'train_time_interval': None}.on_validation_epoch_end  \t|  7.7806e-07     \t|  51             \t|  3.9681e-05     \t|  1.1418e-06     \t|\n",
      "|  [Callback]LearningRateMonitor.on_validation_epoch_end                                                                                                                \t|  7.3784e-07     \t|  51             \t|  3.763e-05      \t|  1.0828e-06     \t|\n",
      "|  [Callback]ModelCheckpoint{'monitor': 'val_loss', 'mode': 'min', 'every_n_train_steps': 0, 'every_n_epochs': 1, 'train_time_interval': None}.setup                    \t|  3.6041e-05     \t|  1              \t|  3.6041e-05     \t|  1.0371e-06     \t|\n",
      "|  [Callback]ModelCheckpoint{'monitor': 'val_pAUC', 'mode': 'max', 'every_n_train_steps': 0, 'every_n_epochs': 1, 'train_time_interval': None}.on_validation_start      \t|  6.9651e-07     \t|  51             \t|  3.5522e-05     \t|  1.0221e-06     \t|\n",
      "|  [Callback]ModelCheckpoint{'monitor': 'val_loss', 'mode': 'min', 'every_n_train_steps': 0, 'every_n_epochs': 1, 'train_time_interval': None}.on_train_epoch_start     \t|  6.7182e-07     \t|  50             \t|  3.3591e-05     \t|  9.6657e-07     \t|\n",
      "|  [LightningModule]GuruNet.on_train_epoch_start                                                                                                                        \t|  6.7102e-07     \t|  50             \t|  3.3551e-05     \t|  9.6542e-07     \t|\n",
      "|  [Callback]TQDMProgressBar.on_save_checkpoint                                                                                                                         \t|  4.9091e-07     \t|  67             \t|  3.2891e-05     \t|  9.4643e-07     \t|\n",
      "|  [Callback]LearningRateMonitor.on_validation_epoch_start                                                                                                              \t|  6.0198e-07     \t|  51             \t|  3.0701e-05     \t|  8.8341e-07     \t|\n",
      "|  [LightningModule]GuruNet.on_validation_epoch_end                                                                                                                     \t|  5.9924e-07     \t|  51             \t|  3.0561e-05     \t|  8.7938e-07     \t|\n",
      "|  [LightningModule]GuruNet.on_train_epoch_end                                                                                                                          \t|  6.0982e-07     \t|  50             \t|  3.0491e-05     \t|  8.7737e-07     \t|\n",
      "|  [Callback]ModelCheckpoint{'monitor': 'val_pAUC', 'mode': 'max', 'every_n_train_steps': 0, 'every_n_epochs': 1, 'train_time_interval': None}.on_save_checkpoint       \t|  4.5343e-07     \t|  67             \t|  3.038e-05      \t|  8.7417e-07     \t|\n",
      "|  [Callback]TQDMProgressBar.on_validation_epoch_end                                                                                                                    \t|  5.9157e-07     \t|  51             \t|  3.017e-05      \t|  8.6813e-07     \t|\n",
      "|  [Strategy]SingleDeviceStrategy.on_validation_end                                                                                                                     \t|  5.8022e-07     \t|  51             \t|  2.9591e-05     \t|  8.5147e-07     \t|\n",
      "|  [LightningModule]GuruNet.on_save_checkpoint                                                                                                                          \t|  4.3406e-07     \t|  67             \t|  2.9082e-05     \t|  8.3682e-07     \t|\n",
      "|  [Callback]ModelCheckpoint{'monitor': 'val_pAUC', 'mode': 'max', 'every_n_train_steps': 0, 'every_n_epochs': 1, 'train_time_interval': None}.on_train_epoch_start     \t|  5.7502e-07     \t|  50             \t|  2.8751e-05     \t|  8.273e-07      \t|\n",
      "|  [Callback]ModelCheckpoint{'monitor': 'val_pAUC', 'mode': 'max', 'every_n_train_steps': 0, 'every_n_epochs': 1, 'train_time_interval': None}.on_validation_epoch_end  \t|  5.61e-07       \t|  51             \t|  2.8611e-05     \t|  8.2327e-07     \t|\n",
      "|  [Callback]ModelCheckpoint{'monitor': 'val_loss', 'mode': 'min', 'every_n_train_steps': 0, 'every_n_epochs': 1, 'train_time_interval': None}.on_validation_epoch_start\t|  5.3824e-07     \t|  51             \t|  2.745e-05      \t|  7.8986e-07     \t|\n",
      "|  [Callback]ModelSummary.on_validation_epoch_end                                                                                                                       \t|  5.2196e-07     \t|  51             \t|  2.662e-05      \t|  7.6598e-07     \t|\n",
      "|  [Callback]ModelCheckpoint{'monitor': 'val_pAUC', 'mode': 'max', 'every_n_train_steps': 0, 'every_n_epochs': 1, 'train_time_interval': None}.on_validation_epoch_start\t|  5.0571e-07     \t|  51             \t|  2.5791e-05     \t|  7.4213e-07     \t|\n",
      "|  [Callback]ModelSummary.on_validation_epoch_start                                                                                                                     \t|  4.9627e-07     \t|  51             \t|  2.531e-05      \t|  7.2829e-07     \t|\n",
      "|  [Callback]ModelCheckpoint{'monitor': 'val_pAUC', 'mode': 'max', 'every_n_train_steps': 0, 'every_n_epochs': 1, 'train_time_interval': None}.setup                    \t|  7.43e-06       \t|  1              \t|  7.43e-06       \t|  2.138e-07      \t|\n",
      "|  [Callback]TQDMProgressBar.on_sanity_check_end                                                                                                                        \t|  5.66e-06       \t|  1              \t|  5.66e-06       \t|  1.6286e-07     \t|\n",
      "|  [Callback]EarlyStopping{'monitor': 'val_pAUC', 'mode': 'min'}.on_sanity_check_end                                                                                    \t|  4e-06          \t|  1              \t|  4e-06          \t|  1.151e-07      \t|\n",
      "|  [Callback]ModelCheckpoint{'monitor': 'val_loss', 'mode': 'min', 'every_n_train_steps': 0, 'every_n_epochs': 1, 'train_time_interval': None}.on_train_start           \t|  3.81e-06       \t|  1              \t|  3.81e-06       \t|  1.0963e-07     \t|\n",
      "|  [Callback]EarlyStopping{'monitor': 'val_pAUC', 'mode': 'min'}.on_train_start                                                                                         \t|  3.69e-06       \t|  1              \t|  3.69e-06       \t|  1.0618e-07     \t|\n",
      "|  [Callback]EarlyStopping{'monitor': 'val_pAUC', 'mode': 'min'}.on_fit_end                                                                                             \t|  3.12e-06       \t|  1              \t|  3.12e-06       \t|  8.9777e-08     \t|\n",
      "|  [Callback]TQDMProgressBar.setup                                                                                                                                      \t|  3.1e-06        \t|  1              \t|  3.1e-06        \t|  8.9201e-08     \t|\n",
      "|  [Callback]EarlyStopping{'monitor': 'val_pAUC', 'mode': 'min'}.setup                                                                                                  \t|  2.74e-06       \t|  1              \t|  2.74e-06       \t|  7.8842e-08     \t|\n",
      "|  [Callback]EarlyStopping{'monitor': 'val_pAUC', 'mode': 'min'}.on_sanity_check_start                                                                                  \t|  2.471e-06      \t|  1              \t|  2.471e-06      \t|  7.1102e-08     \t|\n",
      "|  [Callback]EarlyStopping{'monitor': 'val_pAUC', 'mode': 'min'}.on_train_end                                                                                           \t|  2.161e-06      \t|  1              \t|  2.161e-06      \t|  6.2182e-08     \t|\n",
      "|  [Callback]ModelSummary.on_sanity_check_start                                                                                                                         \t|  1.99e-06       \t|  1              \t|  1.99e-06       \t|  5.7262e-08     \t|\n",
      "|  [Callback]ModelSummary.on_train_start                                                                                                                                \t|  1.57e-06       \t|  1              \t|  1.57e-06       \t|  4.5176e-08     \t|\n",
      "|  [Callback]ModelCheckpoint{'monitor': 'val_pAUC', 'mode': 'max', 'every_n_train_steps': 0, 'every_n_epochs': 1, 'train_time_interval': None}.on_train_start           \t|  1.57e-06       \t|  1              \t|  1.57e-06       \t|  4.5176e-08     \t|\n",
      "|  [LightningModule]GuruNet.on_train_start                                                                                                                              \t|  1.54e-06       \t|  1              \t|  1.54e-06       \t|  4.4313e-08     \t|\n",
      "|  [Callback]EarlyStopping{'monitor': 'val_pAUC', 'mode': 'min'}.on_fit_start                                                                                           \t|  1.4e-06        \t|  1              \t|  1.4e-06        \t|  4.0285e-08     \t|\n",
      "|  [Callback]ModelSummary.on_train_end                                                                                                                                  \t|  1.37e-06       \t|  1              \t|  1.37e-06       \t|  3.9421e-08     \t|\n",
      "|  [Callback]LearningRateMonitor.setup                                                                                                                                  \t|  1.31e-06       \t|  1              \t|  1.31e-06       \t|  3.7695e-08     \t|\n",
      "|  [Callback]ModelCheckpoint{'monitor': 'val_loss', 'mode': 'min', 'every_n_train_steps': 0, 'every_n_epochs': 1, 'train_time_interval': None}.on_fit_start             \t|  1.28e-06       \t|  1              \t|  1.28e-06       \t|  3.6831e-08     \t|\n",
      "|  [LightningModule]GuruNet.configure_callbacks                                                                                                                         \t|  1.22e-06       \t|  1              \t|  1.22e-06       \t|  3.5105e-08     \t|\n",
      "|  [Callback]LearningRateMonitor.on_train_end                                                                                                                           \t|  1.2e-06        \t|  1              \t|  1.2e-06        \t|  3.453e-08      \t|\n",
      "|  [Callback]ModelSummary.setup                                                                                                                                         \t|  1.07e-06       \t|  1              \t|  1.07e-06       \t|  3.0789e-08     \t|\n",
      "|  [Callback]EarlyStopping{'monitor': 'val_pAUC', 'mode': 'min'}.teardown                                                                                               \t|  9.9e-07        \t|  1              \t|  9.9e-07        \t|  2.8487e-08     \t|\n",
      "|  [LightningModule]GuruNet.configure_sharded_model                                                                                                                     \t|  9.6e-07        \t|  1              \t|  9.6e-07        \t|  2.7624e-08     \t|\n",
      "|  [LightningModule]GuruNet.setup                                                                                                                                       \t|  8.8e-07        \t|  1              \t|  8.8e-07        \t|  2.5322e-08     \t|\n",
      "|  [Callback]LearningRateMonitor.on_sanity_check_end                                                                                                                    \t|  8.4e-07        \t|  1              \t|  8.4e-07        \t|  2.4171e-08     \t|\n",
      "|  [LightningDataModule]ISICDataModule.teardown                                                                                                                         \t|  7.8e-07        \t|  1              \t|  7.8e-07        \t|  2.2444e-08     \t|\n",
      "|  [LightningDataModule]ISICDataModule.prepare_data                                                                                                                     \t|  7.7e-07        \t|  1              \t|  7.7e-07        \t|  2.2156e-08     \t|\n",
      "|  [Callback]LearningRateMonitor.on_fit_start                                                                                                                           \t|  7.6e-07        \t|  1              \t|  7.6e-07        \t|  2.1869e-08     \t|\n",
      "|  [Callback]ModelSummary.on_sanity_check_end                                                                                                                           \t|  7.6e-07        \t|  1              \t|  7.6e-07        \t|  2.1869e-08     \t|\n",
      "|  [Callback]ModelCheckpoint{'monitor': 'val_pAUC', 'mode': 'max', 'every_n_train_steps': 0, 'every_n_epochs': 1, 'train_time_interval': None}.on_sanity_check_end      \t|  7.6e-07        \t|  1              \t|  7.6e-07        \t|  2.1869e-08     \t|\n",
      "|  [Callback]ModelCheckpoint{'monitor': 'val_pAUC', 'mode': 'max', 'every_n_train_steps': 0, 'every_n_epochs': 1, 'train_time_interval': None}.on_sanity_check_start    \t|  7.4e-07        \t|  1              \t|  7.4e-07        \t|  2.1293e-08     \t|\n",
      "|  [Callback]TQDMProgressBar.on_fit_start                                                                                                                               \t|  7.3e-07        \t|  1              \t|  7.3e-07        \t|  2.1006e-08     \t|\n",
      "|  [Callback]ModelCheckpoint{'monitor': 'val_loss', 'mode': 'min', 'every_n_train_steps': 0, 'every_n_epochs': 1, 'train_time_interval': None}.on_sanity_check_end      \t|  7.3e-07        \t|  1              \t|  7.3e-07        \t|  2.1006e-08     \t|\n",
      "|  [Callback]LearningRateMonitor.on_sanity_check_start                                                                                                                  \t|  7.2e-07        \t|  1              \t|  7.2e-07        \t|  2.0718e-08     \t|\n",
      "|  [Callback]LearningRateMonitor.on_fit_end                                                                                                                             \t|  7e-07          \t|  1              \t|  7e-07          \t|  2.0142e-08     \t|\n",
      "|  [Callback]ModelCheckpoint{'monitor': 'val_pAUC', 'mode': 'max', 'every_n_train_steps': 0, 'every_n_epochs': 1, 'train_time_interval': None}.on_fit_start             \t|  6.9e-07        \t|  1              \t|  6.9e-07        \t|  1.9855e-08     \t|\n",
      "|  [Callback]ModelCheckpoint{'monitor': 'val_loss', 'mode': 'min', 'every_n_train_steps': 0, 'every_n_epochs': 1, 'train_time_interval': None}.on_train_end             \t|  6.7e-07        \t|  1              \t|  6.7e-07        \t|  1.9279e-08     \t|\n",
      "|  [Callback]LearningRateMonitor.teardown                                                                                                                               \t|  6.7e-07        \t|  1              \t|  6.7e-07        \t|  1.9279e-08     \t|\n",
      "|  [Callback]TQDMProgressBar.teardown                                                                                                                                   \t|  6.5e-07        \t|  1              \t|  6.5e-07        \t|  1.8703e-08     \t|\n",
      "|  [Callback]ModelCheckpoint{'monitor': 'val_loss', 'mode': 'min', 'every_n_train_steps': 0, 'every_n_epochs': 1, 'train_time_interval': None}.on_sanity_check_start    \t|  6.3e-07        \t|  1              \t|  6.3e-07        \t|  1.8128e-08     \t|\n",
      "|  [Strategy]SingleDeviceStrategy.on_train_start                                                                                                                        \t|  6.3e-07        \t|  1              \t|  6.3e-07        \t|  1.8128e-08     \t|\n",
      "|  [LightningModule]GuruNet.on_fit_end                                                                                                                                  \t|  6e-07          \t|  1              \t|  6e-07          \t|  1.7265e-08     \t|\n",
      "|  [LightningModule]GuruNet.on_fit_start                                                                                                                                \t|  5.7e-07        \t|  1              \t|  5.7e-07        \t|  1.6402e-08     \t|\n",
      "|  [Callback]ModelCheckpoint{'monitor': 'val_pAUC', 'mode': 'max', 'every_n_train_steps': 0, 'every_n_epochs': 1, 'train_time_interval': None}.on_train_end             \t|  5.7e-07        \t|  1              \t|  5.7e-07        \t|  1.6402e-08     \t|\n",
      "|  [Callback]ModelSummary.on_fit_end                                                                                                                                    \t|  5.3e-07        \t|  1              \t|  5.3e-07        \t|  1.5251e-08     \t|\n",
      "|  [LightningModule]GuruNet.on_train_end                                                                                                                                \t|  5.3e-07        \t|  1              \t|  5.3e-07        \t|  1.5251e-08     \t|\n",
      "|  [Strategy]SingleDeviceStrategy.on_train_end                                                                                                                          \t|  5.2e-07        \t|  1              \t|  5.2e-07        \t|  1.4963e-08     \t|\n",
      "|  [Callback]ModelCheckpoint{'monitor': 'val_pAUC', 'mode': 'max', 'every_n_train_steps': 0, 'every_n_epochs': 1, 'train_time_interval': None}.on_fit_end               \t|  5.2e-07        \t|  1              \t|  5.2e-07        \t|  1.4963e-08     \t|\n",
      "|  [Callback]ModelCheckpoint{'monitor': 'val_pAUC', 'mode': 'max', 'every_n_train_steps': 0, 'every_n_epochs': 1, 'train_time_interval': None}.teardown                 \t|  5.1e-07        \t|  1              \t|  5.1e-07        \t|  1.4675e-08     \t|\n",
      "|  [Callback]ModelSummary.teardown                                                                                                                                      \t|  4.8e-07        \t|  1              \t|  4.8e-07        \t|  1.3812e-08     \t|\n",
      "|  [Callback]ModelCheckpoint{'monitor': 'val_loss', 'mode': 'min', 'every_n_train_steps': 0, 'every_n_epochs': 1, 'train_time_interval': None}.on_fit_end               \t|  4.8e-07        \t|  1              \t|  4.8e-07        \t|  1.3812e-08     \t|\n",
      "|  [Callback]ModelCheckpoint{'monitor': 'val_loss', 'mode': 'min', 'every_n_train_steps': 0, 'every_n_epochs': 1, 'train_time_interval': None}.teardown                 \t|  4.8e-07        \t|  1              \t|  4.8e-07        \t|  1.3812e-08     \t|\n",
      "|  [Callback]TQDMProgressBar.on_fit_end                                                                                                                                 \t|  4.7e-07        \t|  1              \t|  4.7e-07        \t|  1.3524e-08     \t|\n",
      "|  [LightningModule]GuruNet.teardown                                                                                                                                    \t|  4.6e-07        \t|  1              \t|  4.6e-07        \t|  1.3236e-08     \t|\n",
      "|  [LightningModule]GuruNet.prepare_data                                                                                                                                \t|  3.9e-07        \t|  1              \t|  3.9e-07        \t|  1.1222e-08     \t|\n",
      "----------------------------------------------------------------------------------------------------------------------------------------------------------------------------------------------------------------------------------------------------------------------------------\n",
      "\n"
     ]
    }
   ],
   "source": [
    "import os\n",
    "\n",
    "os.environ.setdefault(\"CUDA_LAUNCH_BLOCKING\", \"1\")\n",
    "torch.cuda.memory.empty_cache()\n",
    "torch.set_float32_matmul_precision(\"high\")\n",
    "batch_size = 64\n",
    "epochs = 100\n",
    "\n",
    "logger = TensorBoardLogger(\"tb_logs\", name=\"gurunet_model\")\n",
    "\n",
    "checkpoint_callback = ModelCheckpoint(\n",
    "    dirpath=f\"checkpoints/version_{logger.version}\",\n",
    "    filename=\"gurunet-{epoch:02d}-{val_loss:.5f}\",\n",
    "    save_top_k=3,\n",
    "    monitor=\"val_loss\",\n",
    "    mode=\"min\",\n",
    "    verbose=True,\n",
    ")\n",
    "checkpoint_callback_2 = ModelCheckpoint(\n",
    "    dirpath=f\"checkpoints/version_{logger.version}\",\n",
    "    filename=\"gurunet-{epoch:02d}-{val_pAUC:.5f}\",\n",
    "    save_top_k=3,\n",
    "    monitor=\"val_pAUC\",\n",
    "    mode=\"max\",\n",
    "    verbose=True\n",
    ")\n",
    "\n",
    "early_stop_callback = EarlyStopping(monitor=\"val_pAUC\", patience=15, mode=\"min\")\n",
    "\n",
    "lr_monitor = LearningRateMonitor(logging_interval=\"epoch\", log_momentum=True)\n",
    "\n",
    "# Initialize your data module\n",
    "data_module = ISICDataModule(\n",
    "    \"train-image.hdf5\",\n",
    "    \"test-image.hdf5\",\n",
    "    train_metadata_df,\n",
    "    test_metadata_df,\n",
    "    batch_size=batch_size,\n",
    ")\n",
    "\n",
    "\n",
    "# Initialize your model\n",
    "model = GuruNet(\n",
    "    input_shape=(139, 139, 3),\n",
    "    metadata_shape=(None, 37),\n",
    "    classes=2,\n",
    ")\n",
    "# Initialize a trainer\n",
    "trainer = pl.Trainer(\n",
    "    max_epochs=epochs,\n",
    "    accelerator=\"gpu\",\n",
    "    devices=1,\n",
    "    callbacks=[\n",
    "        checkpoint_callback,\n",
    "        checkpoint_callback_2,\n",
    "        early_stop_callback,\n",
    "        lr_monitor,\n",
    "    ],\n",
    "    logger=logger,\n",
    "    precision=\"16-mixed\",\n",
    "    enable_progress_bar=True,\n",
    "    enable_checkpointing=True,\n",
    "    accumulate_grad_batches=4,\n",
    "    profiler=\"simple\",\n",
    "    min_epochs=50\n",
    ")\n",
    "skip_training = False\n",
    "if not skip_training:\n",
    "    # Train the model\n",
    "    trainer.fit(model, data_module)\n"
   ]
  },
  {
   "cell_type": "code",
   "execution_count": 9,
   "metadata": {},
   "outputs": [
    {
     "name": "stderr",
     "output_type": "stream",
     "text": [
      "You are using a CUDA device ('NVIDIA GeForce RTX 4070') that has Tensor Cores. To properly utilize them, you should set `torch.set_float32_matmul_precision('medium' | 'high')` which will trade-off precision for performance. For more details, read https://pytorch.org/docs/stable/generated/torch.set_float32_matmul_precision.html#torch.set_float32_matmul_precision\n"
     ]
    },
    {
     "name": "stdout",
     "output_type": "stream",
     "text": [
      "Preparing DataFrame...\n"
     ]
    },
    {
     "name": "stderr",
     "output_type": "stream",
     "text": [
      "Restoring states from the checkpoint path at checkpoints/version_135/gurunet-epoch=48-val_pAUC=0.18755.ckpt\n"
     ]
    },
    {
     "name": "stdout",
     "output_type": "stream",
     "text": [
      "Loading cached prepared DataFrame...\n",
      "Number of Positive Samples: 393\n",
      "Number of Negative Samples: 400666\n",
      "Length of Balanced Positive Indices: 10026\n",
      "Length of Balanced Negative Indices: 10026\n",
      "Unique indices: [    81    237    261 ... 400922 400982 400984]\n",
      "Unique targets: [0 1]\n",
      "20052\n",
      "20052\n",
      "Setup Count: {0: 10026, 1: 10026}\n",
      "Train class distribution: [0.50090393 0.49909607], 16041\n",
      "Validation class distribution: [0.50573566 0.49426434], 2005\n",
      "Test class distribution: [0.48703888 0.51296112], 2006\n",
      "Length of full_dataset: 401059\n",
      "Length of train_indices: 16041, max index: 400982\n",
      "Length of val_indices: 2005, max index: 400922\n",
      "Length of test_indices: 2006, max index: 400984\n"
     ]
    },
    {
     "name": "stderr",
     "output_type": "stream",
     "text": [
      "LOCAL_RANK: 0 - CUDA_VISIBLE_DEVICES: [0]\n",
      "Loaded model weights from the checkpoint at checkpoints/version_135/gurunet-epoch=48-val_pAUC=0.18755.ckpt\n"
     ]
    },
    {
     "name": "stdout",
     "output_type": "stream",
     "text": [
      "Number of batches in test_loader: 32\n"
     ]
    },
    {
     "data": {
      "application/vnd.jupyter.widget-view+json": {
       "model_id": "8171bf965dec4dfda65c18c3c09f3762",
       "version_major": 2,
       "version_minor": 0
      },
      "text/plain": [
       "Testing: 0it [00:00, ?it/s]"
      ]
     },
     "metadata": {},
     "output_type": "display_data"
    },
    {
     "data": {
      "text/html": [
       "<pre style=\"white-space:pre;overflow-x:auto;line-height:normal;font-family:Menlo,'DejaVu Sans Mono',consolas,'Courier New',monospace\">┏━━━━━━━━━━━━━━━━━━━━━━━━━━━┳━━━━━━━━━━━━━━━━━━━━━━━━━━━┓\n",
       "┃<span style=\"font-weight: bold\">   Runningstage.testing    </span>┃<span style=\"font-weight: bold\">                           </span>┃\n",
       "┃<span style=\"font-weight: bold\">          metric           </span>┃<span style=\"font-weight: bold\">       DataLoader 0        </span>┃\n",
       "┡━━━━━━━━━━━━━━━━━━━━━━━━━━━╇━━━━━━━━━━━━━━━━━━━━━━━━━━━┩\n",
       "│<span style=\"color: #008080; text-decoration-color: #008080\">      test_loss_epoch      </span>│<span style=\"color: #800080; text-decoration-color: #800080\">    0.34257519245147705    </span>│\n",
       "│<span style=\"color: #008080; text-decoration-color: #008080\">      test_pAUC_epoch      </span>│<span style=\"color: #800080; text-decoration-color: #800080\">    0.18955282866954803    </span>│\n",
       "└───────────────────────────┴───────────────────────────┘\n",
       "</pre>\n"
      ],
      "text/plain": [
       "┏━━━━━━━━━━━━━━━━━━━━━━━━━━━┳━━━━━━━━━━━━━━━━━━━━━━━━━━━┓\n",
       "┃\u001b[1m \u001b[0m\u001b[1m  Runningstage.testing   \u001b[0m\u001b[1m \u001b[0m┃\u001b[1m                           \u001b[0m┃\n",
       "┃\u001b[1m \u001b[0m\u001b[1m         metric          \u001b[0m\u001b[1m \u001b[0m┃\u001b[1m \u001b[0m\u001b[1m      DataLoader 0       \u001b[0m\u001b[1m \u001b[0m┃\n",
       "┡━━━━━━━━━━━━━━━━━━━━━━━━━━━╇━━━━━━━━━━━━━━━━━━━━━━━━━━━┩\n",
       "│\u001b[36m \u001b[0m\u001b[36m     test_loss_epoch     \u001b[0m\u001b[36m \u001b[0m│\u001b[35m \u001b[0m\u001b[35m   0.34257519245147705   \u001b[0m\u001b[35m \u001b[0m│\n",
       "│\u001b[36m \u001b[0m\u001b[36m     test_pAUC_epoch     \u001b[0m\u001b[36m \u001b[0m│\u001b[35m \u001b[0m\u001b[35m   0.18955282866954803   \u001b[0m\u001b[35m \u001b[0m│\n",
       "└───────────────────────────┴───────────────────────────┘\n"
      ]
     },
     "metadata": {},
     "output_type": "display_data"
    },
    {
     "name": "stderr",
     "output_type": "stream",
     "text": [
      "TEST Profiler Report\n",
      "\n",
      "----------------------------------------------------------------------------------------------------------------------------------------------------------------------------------------------------------------------------------------------------------------------------------\n",
      "|  Action                                                                                                                                                               \t|  Mean duration (s)\t|  Num calls      \t|  Total time (s) \t|  Percentage %   \t|\n",
      "----------------------------------------------------------------------------------------------------------------------------------------------------------------------------------------------------------------------------------------------------------------------------------\n",
      "|  Total                                                                                                                                                                \t|  -              \t|  554362         \t|  5624.9         \t|  100 %          \t|\n",
      "----------------------------------------------------------------------------------------------------------------------------------------------------------------------------------------------------------------------------------------------------------------------------------\n",
      "|  run_training_epoch                                                                                                                                                   \t|  68.883         \t|  50             \t|  3444.2         \t|  61.23          \t|\n",
      "|  run_training_batch                                                                                                                                                   \t|  0.23981        \t|  12550          \t|  3009.6         \t|  53.504         \t|\n",
      "|  [Strategy]SingleDeviceStrategy.backward                                                                                                                              \t|  0.13463        \t|  12550          \t|  1689.6         \t|  30.037         \t|\n",
      "|  [Strategy]SingleDeviceStrategy.training_step                                                                                                                         \t|  0.10075        \t|  12550          \t|  1264.5         \t|  22.479         \t|\n",
      "|  [LightningModule]GuruNet.optimizer_step                                                                                                                              \t|  0.25048        \t|  3150           \t|  789.01         \t|  14.027         \t|\n",
      "|  [Strategy]SingleDeviceStrategy.validation_step                                                                                                                       \t|  0.090704       \t|  1602           \t|  145.31         \t|  2.5833         \t|\n",
      "|  [_TrainingEpochLoop].train_dataloader_next                                                                                                                           \t|  0.006552       \t|  12550          \t|  82.228         \t|  1.4618         \t|\n",
      "|  [_EvaluationLoop].val_next                                                                                                                                           \t|  0.037451       \t|  1603           \t|  60.034         \t|  1.0673         \t|\n",
      "|  [Callback]TQDMProgressBar.on_train_batch_end                                                                                                                         \t|  0.0010314      \t|  12550          \t|  12.944         \t|  0.23011        \t|\n",
      "|  [Callback]ModelCheckpoint{'monitor': 'val_pAUC', 'mode': 'max', 'every_n_train_steps': 0, 'every_n_epochs': 1, 'train_time_interval': None}.on_train_epoch_end       \t|  0.23968        \t|  50             \t|  11.984         \t|  0.21306        \t|\n",
      "|  [Callback]ModelCheckpoint{'monitor': 'val_loss', 'mode': 'min', 'every_n_train_steps': 0, 'every_n_epochs': 1, 'train_time_interval': None}.on_train_epoch_end       \t|  0.2383         \t|  50             \t|  11.915         \t|  0.21182        \t|\n",
      "|  [Strategy]SingleDeviceStrategy.test_step                                                                                                                             \t|  0.095838       \t|  64             \t|  6.1336         \t|  0.10904        \t|\n",
      "|  [_EvaluationLoop].test_next                                                                                                                                          \t|  0.046869       \t|  64             \t|  2.9996         \t|  0.053326       \t|\n",
      "|  [Strategy]SingleDeviceStrategy.batch_to_device                                                                                                                       \t|  0.00019407     \t|  14216          \t|  2.7588         \t|  0.049047       \t|\n",
      "|  [LightningModule]GuruNet.optimizer_zero_grad                                                                                                                         \t|  0.00082725     \t|  3150           \t|  2.6058         \t|  0.046327       \t|\n",
      "|  [LightningModule]GuruNet.transfer_batch_to_device                                                                                                                    \t|  0.00015226     \t|  14216          \t|  2.1645         \t|  0.03848        \t|\n",
      "|  [LightningDataModule]ISICDataModule.setup                                                                                                                            \t|  0.69783        \t|  3              \t|  2.0935         \t|  0.037218       \t|\n",
      "|  [Callback]TQDMProgressBar.on_validation_batch_end                                                                                                                    \t|  0.00060814     \t|  1602           \t|  0.97425        \t|  0.01732        \t|\n",
      "|  [Callback]TQDMProgressBar.on_validation_start                                                                                                                        \t|  0.0079689      \t|  51             \t|  0.40641        \t|  0.0072252      \t|\n",
      "|  [LightningModule]GuruNet.on_validation_model_eval                                                                                                                    \t|  0.0075428      \t|  51             \t|  0.38468        \t|  0.0068389      \t|\n",
      "|  [Callback]ModelCheckpoint{'monitor': 'val_loss', 'mode': 'min', 'every_n_train_steps': 0, 'every_n_epochs': 1, 'train_time_interval': None}.on_train_batch_end       \t|  1.6908e-05     \t|  12550          \t|  0.21219        \t|  0.0037723      \t|\n",
      "|  [LightningModule]GuruNet.on_validation_model_train                                                                                                                   \t|  0.0024705      \t|  51             \t|  0.12599        \t|  0.0022399      \t|\n",
      "|  [LightningModule]GuruNet.configure_gradient_clipping                                                                                                                 \t|  2.1383e-05     \t|  3150           \t|  0.067357       \t|  0.0011975      \t|\n",
      "|  [Callback]TQDMProgressBar.on_validation_batch_start                                                                                                                  \t|  3.8799e-05     \t|  1602           \t|  0.062155       \t|  0.001105       \t|\n",
      "|  [Callback]ModelCheckpoint{'monitor': 'val_pAUC', 'mode': 'max', 'every_n_train_steps': 0, 'every_n_epochs': 1, 'train_time_interval': None}.on_train_batch_end       \t|  4.2402e-06     \t|  12550          \t|  0.053214       \t|  0.00094604     \t|\n",
      "|  [Callback]TQDMProgressBar.on_test_batch_end                                                                                                                          \t|  0.00072461     \t|  64             \t|  0.046375       \t|  0.00082446     \t|\n",
      "|  [Callback]LearningRateMonitor.on_train_batch_start                                                                                                                   \t|  3.2964e-06     \t|  12550          \t|  0.04137        \t|  0.00073548     \t|\n",
      "|  [Callback]EarlyStopping{'monitor': 'val_pAUC', 'mode': 'min'}.on_after_backward                                                                                      \t|  3.0059e-06     \t|  12550          \t|  0.037724       \t|  0.00067066     \t|\n",
      "|  [Callback]EarlyStopping{'monitor': 'val_pAUC', 'mode': 'min'}.on_train_epoch_end                                                                                     \t|  0.00073596     \t|  50             \t|  0.036798       \t|  0.00065419     \t|\n",
      "|  [Callback]TQDMProgressBar.on_train_epoch_start                                                                                                                       \t|  0.00057628     \t|  50             \t|  0.028814       \t|  0.00051226     \t|\n",
      "|  [Callback]ModelSummary.on_train_batch_end                                                                                                                            \t|  2.1279e-06     \t|  12550          \t|  0.026705       \t|  0.00047476     \t|\n",
      "|  [Callback]TQDMProgressBar.on_validation_end                                                                                                                          \t|  0.00048874     \t|  51             \t|  0.024926       \t|  0.00044313     \t|\n",
      "|  [Callback]EarlyStopping{'monitor': 'val_pAUC', 'mode': 'min'}.on_train_batch_end                                                                                     \t|  1.6874e-06     \t|  12550          \t|  0.021177       \t|  0.00037649     \t|\n",
      "|  [Callback]EarlyStopping{'monitor': 'val_pAUC', 'mode': 'min'}.on_before_backward                                                                                     \t|  1.5972e-06     \t|  12550          \t|  0.020045       \t|  0.00035636     \t|\n",
      "|  [Callback]EarlyStopping{'monitor': 'val_pAUC', 'mode': 'min'}.on_train_batch_start                                                                                   \t|  1.484e-06      \t|  12550          \t|  0.018624       \t|  0.0003311      \t|\n",
      "|  [Callback]TQDMProgressBar.on_train_epoch_end                                                                                                                         \t|  0.00036174     \t|  50             \t|  0.018087       \t|  0.00032155     \t|\n",
      "|  [LightningModule]GuruNet.on_test_model_eval                                                                                                                          \t|  0.0085921      \t|  2              \t|  0.017184       \t|  0.0003055      \t|\n",
      "|  [Callback]TQDMProgressBar.on_test_start                                                                                                                              \t|  0.0063566      \t|  2              \t|  0.012713       \t|  0.00022602     \t|\n",
      "|  [Callback]LearningRateMonitor.on_after_backward                                                                                                                      \t|  1.0027e-06     \t|  12550          \t|  0.012584       \t|  0.00022372     \t|\n",
      "|  [LightningModule]GuruNet.on_before_batch_transfer                                                                                                                    \t|  8.77e-07       \t|  14216          \t|  0.012467       \t|  0.00022164     \t|\n",
      "|  [Callback]ModelCheckpoint{'monitor': 'val_loss', 'mode': 'min', 'every_n_train_steps': 0, 'every_n_epochs': 1, 'train_time_interval': None}.on_after_backward        \t|  9.7673e-07     \t|  12550          \t|  0.012258       \t|  0.00021792     \t|\n",
      "|  [Callback]TQDMProgressBar.on_after_backward                                                                                                                          \t|  8.6856e-07     \t|  12550          \t|  0.0109         \t|  0.00019379     \t|\n",
      "|  [Callback]LearningRateMonitor.on_train_batch_end                                                                                                                     \t|  8.2406e-07     \t|  12550          \t|  0.010342       \t|  0.00018386     \t|\n",
      "|  [LightningModule]GuruNet.on_after_batch_transfer                                                                                                                     \t|  7.2416e-07     \t|  14216          \t|  0.010295       \t|  0.00018302     \t|\n",
      "|  [LightningModule]GuruNet.on_after_backward                                                                                                                           \t|  8.167e-07      \t|  12550          \t|  0.01025        \t|  0.00018222     \t|\n",
      "|  [Callback]ModelCheckpoint{'monitor': 'val_pAUC', 'mode': 'max', 'every_n_train_steps': 0, 'every_n_epochs': 1, 'train_time_interval': None}.on_train_batch_start     \t|  8.1089e-07     \t|  12550          \t|  0.010177       \t|  0.00018092     \t|\n",
      "|  [LightningModule]GuruNet.on_train_batch_start                                                                                                                        \t|  7.9306e-07     \t|  12550          \t|  0.0099529      \t|  0.00017694     \t|\n",
      "|  [Callback]ModelSummary.on_after_backward                                                                                                                             \t|  7.8884e-07     \t|  12550          \t|  0.0099         \t|  0.000176       \t|\n",
      "|  [Callback]TQDMProgressBar.on_train_batch_start                                                                                                                       \t|  7.8214e-07     \t|  12550          \t|  0.0098159      \t|  0.00017451     \t|\n",
      "|  [Callback]ModelCheckpoint{'monitor': 'val_pAUC', 'mode': 'max', 'every_n_train_steps': 0, 'every_n_epochs': 1, 'train_time_interval': None}.on_after_backward        \t|  7.8146e-07     \t|  12550          \t|  0.0098074      \t|  0.00017435     \t|\n",
      "|  [Strategy]SingleDeviceStrategy.on_train_batch_start                                                                                                                  \t|  7.4808e-07     \t|  12550          \t|  0.0093884      \t|  0.00016691     \t|\n",
      "|  [Callback]LearningRateMonitor.on_before_backward                                                                                                                     \t|  7.2954e-07     \t|  12550          \t|  0.0091558      \t|  0.00016277     \t|\n",
      "|  [LightningModule]GuruNet.on_train_batch_end                                                                                                                          \t|  7.2106e-07     \t|  12550          \t|  0.0090493      \t|  0.00016088     \t|\n",
      "|  [Callback]ModelCheckpoint{'monitor': 'val_pAUC', 'mode': 'max', 'every_n_train_steps': 0, 'every_n_epochs': 1, 'train_time_interval': None}.on_before_backward       \t|  6.9732e-07     \t|  12550          \t|  0.0087514      \t|  0.00015558     \t|\n",
      "|  [Callback]ModelCheckpoint{'monitor': 'val_loss', 'mode': 'min', 'every_n_train_steps': 0, 'every_n_epochs': 1, 'train_time_interval': None}.on_before_backward       \t|  6.5285e-07     \t|  12550          \t|  0.0081932      \t|  0.00014566     \t|\n",
      "|  [LightningModule]GuruNet.on_before_backward                                                                                                                          \t|  6.4635e-07     \t|  12550          \t|  0.0081117      \t|  0.00014421     \t|\n",
      "|  [Callback]ModelCheckpoint{'monitor': 'val_loss', 'mode': 'min', 'every_n_train_steps': 0, 'every_n_epochs': 1, 'train_time_interval': None}.on_train_batch_start     \t|  6.3728e-07     \t|  12550          \t|  0.0079978      \t|  0.00014218     \t|\n",
      "|  [LightningModule]GuruNet.on_test_model_train                                                                                                                         \t|  0.0038508      \t|  2              \t|  0.0077015      \t|  0.00013692     \t|\n",
      "|  [Callback]ModelSummary.on_train_batch_start                                                                                                                          \t|  6.127e-07      \t|  12550          \t|  0.0076894      \t|  0.0001367      \t|\n",
      "|  [Callback]TQDMProgressBar.on_before_backward                                                                                                                         \t|  5.8243e-07     \t|  12550          \t|  0.0073095      \t|  0.00012995     \t|\n",
      "|  [Callback]ModelSummary.on_fit_start                                                                                                                                  \t|  0.0067668      \t|  1              \t|  0.0067668      \t|  0.0001203      \t|\n",
      "|  [Callback]ModelSummary.on_before_backward                                                                                                                            \t|  5.2212e-07     \t|  12550          \t|  0.0065526      \t|  0.00011649     \t|\n",
      "|  [Callback]EarlyStopping{'monitor': 'val_pAUC', 'mode': 'min'}.on_before_zero_grad                                                                                    \t|  2.0178e-06     \t|  3150           \t|  0.0063561      \t|  0.000113       \t|\n",
      "|  [Callback]EarlyStopping{'monitor': 'val_pAUC', 'mode': 'min'}.on_before_optimizer_step                                                                               \t|  1.7197e-06     \t|  3150           \t|  0.0054171      \t|  9.6305e-05     \t|\n",
      "|  [Callback]LearningRateMonitor.on_train_epoch_start                                                                                                                   \t|  9.9783e-05     \t|  50             \t|  0.0049891      \t|  8.8696e-05     \t|\n",
      "|  [Callback]TQDMProgressBar.on_train_start                                                                                                                             \t|  0.0039682      \t|  1              \t|  0.0039682      \t|  7.0547e-05     \t|\n",
      "|  [Callback]TQDMProgressBar.on_sanity_check_start                                                                                                                      \t|  0.0038805      \t|  1              \t|  0.0038805      \t|  6.8987e-05     \t|\n",
      "|  [Callback]ModelSummary.on_validation_batch_end                                                                                                                       \t|  2.0216e-06     \t|  1602           \t|  0.0032386      \t|  5.7576e-05     \t|\n",
      "|  [Callback]EarlyStopping{'monitor': 'val_pAUC', 'mode': 'min'}.on_validation_batch_end                                                                                \t|  1.9877e-06     \t|  1602           \t|  0.0031843      \t|  5.661e-05      \t|\n",
      "|  [LightningModule]GuruNet.on_before_zero_grad                                                                                                                         \t|  9.9838e-07     \t|  3150           \t|  0.0031449      \t|  5.591e-05      \t|\n",
      "|  [Callback]ModelSummary.on_before_optimizer_step                                                                                                                      \t|  8.9307e-07     \t|  3150           \t|  0.0028132      \t|  5.0013e-05     \t|\n",
      "|  [Callback]EarlyStopping{'monitor': 'val_pAUC', 'mode': 'min'}.on_validation_batch_start                                                                              \t|  1.5347e-06     \t|  1602           \t|  0.0024587      \t|  4.371e-05      \t|\n",
      "|  [Callback]TQDMProgressBar.on_test_batch_start                                                                                                                        \t|  3.8389e-05     \t|  64             \t|  0.0024569      \t|  4.3679e-05     \t|\n",
      "|  [LightningModule]GuruNet.lr_scheduler_step                                                                                                                           \t|  4.8473e-05     \t|  50             \t|  0.0024236      \t|  4.3087e-05     \t|\n",
      "|  [Callback]LearningRateMonitor.on_before_optimizer_step                                                                                                               \t|  7.6683e-07     \t|  3150           \t|  0.0024155      \t|  4.2943e-05     \t|\n",
      "|  [Callback]LearningRateMonitor.on_before_zero_grad                                                                                                                    \t|  7.5501e-07     \t|  3150           \t|  0.0023783      \t|  4.2281e-05     \t|\n",
      "|  [Callback]ModelCheckpoint{'monitor': 'val_loss', 'mode': 'min', 'every_n_train_steps': 0, 'every_n_epochs': 1, 'train_time_interval': None}.on_validation_end        \t|  4.1239e-05     \t|  51             \t|  0.0021032      \t|  3.739e-05      \t|\n",
      "|  [Callback]TQDMProgressBar.on_before_zero_grad                                                                                                                        \t|  6.2298e-07     \t|  3150           \t|  0.0019624      \t|  3.4887e-05     \t|\n",
      "|  [Callback]ModelCheckpoint{'monitor': 'val_loss', 'mode': 'min', 'every_n_train_steps': 0, 'every_n_epochs': 1, 'train_time_interval': None}.on_before_zero_grad      \t|  6.0657e-07     \t|  3150           \t|  0.0019107      \t|  3.3968e-05     \t|\n",
      "|  [Callback]ModelCheckpoint{'monitor': 'val_pAUC', 'mode': 'max', 'every_n_train_steps': 0, 'every_n_epochs': 1, 'train_time_interval': None}.on_before_zero_grad      \t|  5.9892e-07     \t|  3150           \t|  0.0018866      \t|  3.354e-05      \t|\n",
      "|  [Callback]TQDMProgressBar.on_before_optimizer_step                                                                                                                   \t|  5.9592e-07     \t|  3150           \t|  0.0018772      \t|  3.3372e-05     \t|\n",
      "|  [Callback]ModelSummary.on_before_zero_grad                                                                                                                           \t|  5.9023e-07     \t|  3150           \t|  0.0018592      \t|  3.3053e-05     \t|\n",
      "|  [LightningModule]GuruNet.on_before_optimizer_step                                                                                                                    \t|  5.6773e-07     \t|  3150           \t|  0.0017883      \t|  3.1793e-05     \t|\n",
      "|  [Callback]ModelCheckpoint{'monitor': 'val_pAUC', 'mode': 'max', 'every_n_train_steps': 0, 'every_n_epochs': 1, 'train_time_interval': None}.on_before_optimizer_step \t|  5.5737e-07     \t|  3150           \t|  0.0017557      \t|  3.1213e-05     \t|\n",
      "|  [LightningModule]GuruNet.on_validation_batch_end                                                                                                                     \t|  1.0725e-06     \t|  1602           \t|  0.0017182      \t|  3.0546e-05     \t|\n",
      "|  [Callback]ModelCheckpoint{'monitor': 'val_loss', 'mode': 'min', 'every_n_train_steps': 0, 'every_n_epochs': 1, 'train_time_interval': None}.on_before_optimizer_step \t|  5.3404e-07     \t|  3150           \t|  0.0016822      \t|  2.9907e-05     \t|\n",
      "|  [LightningModule]GuruNet.on_validation_batch_start                                                                                                                   \t|  8.8674e-07     \t|  1602           \t|  0.0014206      \t|  2.5255e-05     \t|\n",
      "|  [Callback]ModelCheckpoint{'monitor': 'val_loss', 'mode': 'min', 'every_n_train_steps': 0, 'every_n_epochs': 1, 'train_time_interval': None}.on_validation_batch_end  \t|  7.8855e-07     \t|  1602           \t|  0.0012633      \t|  2.2458e-05     \t|\n",
      "|  [Callback]ModelSummary.on_validation_batch_start                                                                                                                     \t|  7.72e-07       \t|  1602           \t|  0.0012367      \t|  2.1987e-05     \t|\n",
      "|  [Callback]LearningRateMonitor.on_validation_batch_start                                                                                                              \t|  7.6142e-07     \t|  1602           \t|  0.0012198      \t|  2.1686e-05     \t|\n",
      "|  [Callback]LearningRateMonitor.on_validation_batch_end                                                                                                                \t|  7.5776e-07     \t|  1602           \t|  0.0012139      \t|  2.1581e-05     \t|\n",
      "|  [LightningModule]GuruNet.configure_optimizers                                                                                                                        \t|  0.0011666      \t|  1              \t|  0.0011666      \t|  2.074e-05      \t|\n",
      "|  [Callback]ModelCheckpoint{'monitor': 'val_pAUC', 'mode': 'max', 'every_n_train_steps': 0, 'every_n_epochs': 1, 'train_time_interval': None}.on_validation_batch_start\t|  6.4563e-07     \t|  1602           \t|  0.0010343      \t|  1.8388e-05     \t|\n",
      "|  [Callback]ModelCheckpoint{'monitor': 'val_pAUC', 'mode': 'max', 'every_n_train_steps': 0, 'every_n_epochs': 1, 'train_time_interval': None}.on_validation_batch_end  \t|  6.1227e-07     \t|  1602           \t|  0.00098086     \t|  1.7438e-05     \t|\n",
      "|  [Callback]ModelCheckpoint{'monitor': 'val_loss', 'mode': 'min', 'every_n_train_steps': 0, 'every_n_epochs': 1, 'train_time_interval': None}.on_validation_batch_start\t|  5.922e-07      \t|  1602           \t|  0.0009487      \t|  1.6866e-05     \t|\n",
      "|  [Callback]ModelSummary.on_validation_start                                                                                                                           \t|  8.0206e-06     \t|  51             \t|  0.00040905     \t|  7.2721e-06     \t|\n",
      "|  [Callback]TQDMProgressBar.on_test_end                                                                                                                                \t|  0.00019581     \t|  2              \t|  0.00039163     \t|  6.9623e-06     \t|\n",
      "|  [Callback]EarlyStopping{'monitor': 'val_pAUC', 'mode': 'min'}.on_validation_start                                                                                    \t|  7.3278e-06     \t|  51             \t|  0.00037372     \t|  6.644e-06      \t|\n",
      "|  [LightningDataModule]ISICDataModule.test_dataloader                                                                                                                  \t|  0.00018314     \t|  2              \t|  0.00036628     \t|  6.5117e-06     \t|\n",
      "|  [Callback]ModelCheckpoint{'monitor': 'val_pAUC', 'mode': 'max', 'every_n_train_steps': 0, 'every_n_epochs': 1, 'train_time_interval': None}.on_validation_end        \t|  6.3037e-06     \t|  51             \t|  0.00032149     \t|  5.7154e-06     \t|\n",
      "|  [LightningDataModule]ISICDataModule.train_dataloader                                                                                                                 \t|  0.00028383     \t|  1              \t|  0.00028383     \t|  5.0458e-06     \t|\n",
      "|  [LightningModule]GuruNet.on_validation_epoch_start                                                                                                                   \t|  5.1013e-06     \t|  51             \t|  0.00026016     \t|  4.6252e-06     \t|\n",
      "|  [Strategy]SingleDeviceStrategy.on_validation_start                                                                                                                   \t|  4.9815e-06     \t|  51             \t|  0.00025406     \t|  4.5166e-06     \t|\n",
      "|  [Callback]EarlyStopping{'monitor': 'val_pAUC', 'mode': 'min'}.on_validation_end                                                                                      \t|  4.8034e-06     \t|  51             \t|  0.00024497     \t|  4.3552e-06     \t|\n",
      "|  [Callback]EarlyStopping{'monitor': 'val_pAUC', 'mode': 'min'}.on_train_epoch_start                                                                                   \t|  4.8103e-06     \t|  50             \t|  0.00024052     \t|  4.2759e-06     \t|\n",
      "|  [LightningDataModule]ISICDataModule.val_dataloader                                                                                                                   \t|  0.00022826     \t|  1              \t|  0.00022826     \t|  4.0581e-06     \t|\n",
      "|  [Callback]LearningRateMonitor.on_validation_start                                                                                                                    \t|  3.9883e-06     \t|  51             \t|  0.00020341     \t|  3.6161e-06     \t|\n",
      "|  [Callback]TQDMProgressBar.on_train_end                                                                                                                               \t|  0.00018996     \t|  1              \t|  0.00018996     \t|  3.3772e-06     \t|\n",
      "|  [Callback]ModelSummary.on_test_batch_end                                                                                                                             \t|  2.9641e-06     \t|  64             \t|  0.0001897      \t|  3.3725e-06     \t|\n",
      "|  [Callback]EarlyStopping{'monitor': 'val_pAUC', 'mode': 'min'}.on_test_batch_end                                                                                      \t|  2.0161e-06     \t|  64             \t|  0.00012903     \t|  2.2939e-06     \t|\n",
      "|  [Callback]EarlyStopping{'monitor': 'val_pAUC', 'mode': 'min'}.on_test_batch_start                                                                                    \t|  1.653e-06      \t|  64             \t|  0.00010579     \t|  1.8808e-06     \t|\n",
      "|  [LightningDataModule]ISICDataModule.state_dict                                                                                                                       \t|  1.117e-06      \t|  67             \t|  7.484e-05      \t|  1.3305e-06     \t|\n",
      "|  [Callback]EarlyStopping{'monitor': 'val_pAUC', 'mode': 'min'}.on_save_checkpoint                                                                                     \t|  1.1021e-06     \t|  67             \t|  7.384e-05      \t|  1.3127e-06     \t|\n",
      "|  [Callback]LearningRateMonitor.on_train_epoch_end                                                                                                                     \t|  1.4337e-06     \t|  50             \t|  7.1686e-05     \t|  1.2744e-06     \t|\n",
      "|  [Callback]EarlyStopping{'monitor': 'val_pAUC', 'mode': 'min'}.on_validation_epoch_end                                                                                \t|  1.3932e-06     \t|  51             \t|  7.1052e-05     \t|  1.2632e-06     \t|\n",
      "|  [Callback]ModelCheckpoint{'monitor': 'val_loss', 'mode': 'min', 'every_n_train_steps': 0, 'every_n_epochs': 1, 'train_time_interval': None}.on_validation_start      \t|  1.3498e-06     \t|  51             \t|  6.8841e-05     \t|  1.2239e-06     \t|\n",
      "|  [Callback]ModelSummary.on_train_epoch_start                                                                                                                          \t|  1.3472e-06     \t|  50             \t|  6.7362e-05     \t|  1.1976e-06     \t|\n",
      "|  [Callback]ModelSummary.on_validation_end                                                                                                                             \t|  1.3133e-06     \t|  51             \t|  6.698e-05      \t|  1.1908e-06     \t|\n",
      "|  [Callback]EarlyStopping{'monitor': 'val_pAUC', 'mode': 'min'}.on_validation_epoch_start                                                                              \t|  1.2696e-06     \t|  51             \t|  6.4752e-05     \t|  1.1512e-06     \t|\n",
      "|  [LightningModule]GuruNet.on_test_batch_start                                                                                                                         \t|  1.0044e-06     \t|  64             \t|  6.4283e-05     \t|  1.1428e-06     \t|\n",
      "|  [Callback]ModelSummary.on_train_epoch_end                                                                                                                            \t|  1.2714e-06     \t|  50             \t|  6.3571e-05     \t|  1.1302e-06     \t|\n",
      "|  [Callback]LearningRateMonitor.on_train_start                                                                                                                         \t|  6.2301e-05     \t|  1              \t|  6.2301e-05     \t|  1.1076e-06     \t|\n",
      "|  [Callback]ModelCheckpoint{'monitor': 'val_loss', 'mode': 'min', 'every_n_train_steps': 0, 'every_n_epochs': 1, 'train_time_interval': None}.setup                    \t|  1.8687e-05     \t|  3              \t|  5.6061e-05     \t|  9.9665e-07     \t|\n",
      "|  [LightningModule]GuruNet.on_validation_start                                                                                                                         \t|  1.0614e-06     \t|  51             \t|  5.413e-05      \t|  9.6232e-07     \t|\n",
      "|  [LightningModule]GuruNet.on_test_batch_end                                                                                                                           \t|  8.2984e-07     \t|  64             \t|  5.311e-05      \t|  9.4419e-07     \t|\n",
      "|  [Callback]TQDMProgressBar.on_validation_epoch_start                                                                                                                  \t|  1.0375e-06     \t|  51             \t|  5.2911e-05     \t|  9.4065e-07     \t|\n",
      "|  [Callback]LearningRateMonitor.on_validation_end                                                                                                                      \t|  9.9176e-07     \t|  51             \t|  5.058e-05      \t|  8.9921e-07     \t|\n",
      "|  [Callback]LearningRateMonitor.on_test_batch_start                                                                                                                    \t|  7.2562e-07     \t|  64             \t|  4.644e-05      \t|  8.2561e-07     \t|\n",
      "|  [Callback]LearningRateMonitor.on_test_batch_end                                                                                                                      \t|  6.9719e-07     \t|  64             \t|  4.462e-05      \t|  7.9325e-07     \t|\n",
      "|  [Callback]ModelCheckpoint{'monitor': 'val_loss', 'mode': 'min', 'every_n_train_steps': 0, 'every_n_epochs': 1, 'train_time_interval': None}.on_test_batch_end        \t|  6.8317e-07     \t|  64             \t|  4.3723e-05     \t|  7.773e-07      \t|\n",
      "|  [Callback]LearningRateMonitor.on_save_checkpoint                                                                                                                     \t|  6.4388e-07     \t|  67             \t|  4.314e-05      \t|  7.6694e-07     \t|\n",
      "|  [Callback]ModelSummary.on_test_batch_start                                                                                                                           \t|  6.6859e-07     \t|  64             \t|  4.279e-05      \t|  7.6072e-07     \t|\n",
      "|  [LightningModule]GuruNet.on_validation_end                                                                                                                           \t|  8.3333e-07     \t|  51             \t|  4.25e-05       \t|  7.5556e-07     \t|\n",
      "|  [Callback]ModelSummary.on_save_checkpoint                                                                                                                            \t|  6.1448e-07     \t|  67             \t|  4.117e-05      \t|  7.3192e-07     \t|\n",
      "|  [Callback]ModelCheckpoint{'monitor': 'val_loss', 'mode': 'min', 'every_n_train_steps': 0, 'every_n_epochs': 1, 'train_time_interval': None}.on_save_checkpoint       \t|  6.0449e-07     \t|  67             \t|  4.0501e-05     \t|  7.2002e-07     \t|\n",
      "|  [Callback]ModelCheckpoint{'monitor': 'val_loss', 'mode': 'min', 'every_n_train_steps': 0, 'every_n_epochs': 1, 'train_time_interval': None}.on_validation_epoch_end  \t|  7.7806e-07     \t|  51             \t|  3.9681e-05     \t|  7.0545e-07     \t|\n",
      "|  [Callback]LearningRateMonitor.on_validation_epoch_end                                                                                                                \t|  7.3784e-07     \t|  51             \t|  3.763e-05      \t|  6.6898e-07     \t|\n",
      "|  [Callback]ModelCheckpoint{'monitor': 'val_loss', 'mode': 'min', 'every_n_train_steps': 0, 'every_n_epochs': 1, 'train_time_interval': None}.on_test_batch_start      \t|  5.75e-07       \t|  64             \t|  3.68e-05       \t|  6.5423e-07     \t|\n",
      "|  [Callback]ModelCheckpoint{'monitor': 'val_pAUC', 'mode': 'max', 'every_n_train_steps': 0, 'every_n_epochs': 1, 'train_time_interval': None}.on_validation_start      \t|  6.9651e-07     \t|  51             \t|  3.5522e-05     \t|  6.3151e-07     \t|\n",
      "|  [Callback]ModelCheckpoint{'monitor': 'val_pAUC', 'mode': 'max', 'every_n_train_steps': 0, 'every_n_epochs': 1, 'train_time_interval': None}.on_test_batch_start      \t|  5.5344e-07     \t|  64             \t|  3.542e-05      \t|  6.2969e-07     \t|\n",
      "|  [Callback]ModelCheckpoint{'monitor': 'val_pAUC', 'mode': 'max', 'every_n_train_steps': 0, 'every_n_epochs': 1, 'train_time_interval': None}.on_test_batch_end        \t|  5.4736e-07     \t|  64             \t|  3.5031e-05     \t|  6.2278e-07     \t|\n",
      "|  [Callback]ModelCheckpoint{'monitor': 'val_loss', 'mode': 'min', 'every_n_train_steps': 0, 'every_n_epochs': 1, 'train_time_interval': None}.on_train_epoch_start     \t|  6.7182e-07     \t|  50             \t|  3.3591e-05     \t|  5.9718e-07     \t|\n",
      "|  [LightningModule]GuruNet.on_train_epoch_start                                                                                                                        \t|  6.7102e-07     \t|  50             \t|  3.3551e-05     \t|  5.9647e-07     \t|\n",
      "|  [Callback]TQDMProgressBar.on_save_checkpoint                                                                                                                         \t|  4.9091e-07     \t|  67             \t|  3.2891e-05     \t|  5.8473e-07     \t|\n",
      "|  [Callback]LearningRateMonitor.on_validation_epoch_start                                                                                                              \t|  6.0198e-07     \t|  51             \t|  3.0701e-05     \t|  5.458e-07      \t|\n",
      "|  [LightningModule]GuruNet.on_validation_epoch_end                                                                                                                     \t|  5.9924e-07     \t|  51             \t|  3.0561e-05     \t|  5.4331e-07     \t|\n",
      "|  [LightningModule]GuruNet.on_train_epoch_end                                                                                                                          \t|  6.0982e-07     \t|  50             \t|  3.0491e-05     \t|  5.4207e-07     \t|\n",
      "|  [Callback]ModelCheckpoint{'monitor': 'val_pAUC', 'mode': 'max', 'every_n_train_steps': 0, 'every_n_epochs': 1, 'train_time_interval': None}.on_save_checkpoint       \t|  4.5343e-07     \t|  67             \t|  3.038e-05      \t|  5.4009e-07     \t|\n",
      "|  [Callback]TQDMProgressBar.on_validation_epoch_end                                                                                                                    \t|  5.9157e-07     \t|  51             \t|  3.017e-05      \t|  5.3636e-07     \t|\n",
      "|  [Strategy]SingleDeviceStrategy.on_validation_end                                                                                                                     \t|  5.8022e-07     \t|  51             \t|  2.9591e-05     \t|  5.2607e-07     \t|\n",
      "|  [LightningModule]GuruNet.on_save_checkpoint                                                                                                                          \t|  4.3406e-07     \t|  67             \t|  2.9082e-05     \t|  5.1702e-07     \t|\n",
      "|  [Callback]ModelCheckpoint{'monitor': 'val_pAUC', 'mode': 'max', 'every_n_train_steps': 0, 'every_n_epochs': 1, 'train_time_interval': None}.on_train_epoch_start     \t|  5.7502e-07     \t|  50             \t|  2.8751e-05     \t|  5.1113e-07     \t|\n",
      "|  [Callback]ModelCheckpoint{'monitor': 'val_pAUC', 'mode': 'max', 'every_n_train_steps': 0, 'every_n_epochs': 1, 'train_time_interval': None}.on_validation_epoch_end  \t|  5.61e-07       \t|  51             \t|  2.8611e-05     \t|  5.0864e-07     \t|\n",
      "|  [Callback]ModelCheckpoint{'monitor': 'val_loss', 'mode': 'min', 'every_n_train_steps': 0, 'every_n_epochs': 1, 'train_time_interval': None}.on_validation_epoch_start\t|  5.3824e-07     \t|  51             \t|  2.745e-05      \t|  4.88e-07       \t|\n",
      "|  [Callback]ModelSummary.on_validation_epoch_end                                                                                                                       \t|  5.2196e-07     \t|  51             \t|  2.662e-05      \t|  4.7325e-07     \t|\n",
      "|  [Callback]ModelCheckpoint{'monitor': 'val_pAUC', 'mode': 'max', 'every_n_train_steps': 0, 'every_n_epochs': 1, 'train_time_interval': None}.on_validation_epoch_start\t|  5.0571e-07     \t|  51             \t|  2.5791e-05     \t|  4.5851e-07     \t|\n",
      "|  [Callback]ModelSummary.on_validation_epoch_start                                                                                                                     \t|  4.9627e-07     \t|  51             \t|  2.531e-05      \t|  4.4996e-07     \t|\n",
      "|  [Callback]TQDMProgressBar.setup                                                                                                                                      \t|  4.2833e-06     \t|  3              \t|  1.285e-05      \t|  2.2845e-07     \t|\n",
      "|  [Callback]ModelCheckpoint{'monitor': 'val_pAUC', 'mode': 'max', 'every_n_train_steps': 0, 'every_n_epochs': 1, 'train_time_interval': None}.setup                    \t|  3.96e-06       \t|  3              \t|  1.188e-05      \t|  2.112e-07      \t|\n",
      "|  [Callback]EarlyStopping{'monitor': 'val_pAUC', 'mode': 'min'}.setup                                                                                                  \t|  3.39e-06       \t|  3              \t|  1.017e-05      \t|  1.808e-07      \t|\n",
      "|  [Callback]EarlyStopping{'monitor': 'val_pAUC', 'mode': 'min'}.on_test_start                                                                                          \t|  4.295e-06      \t|  2              \t|  8.59e-06       \t|  1.5271e-07     \t|\n",
      "|  [Callback]EarlyStopping{'monitor': 'val_pAUC', 'mode': 'min'}.teardown                                                                                               \t|  2.4833e-06     \t|  3              \t|  7.45e-06       \t|  1.3245e-07     \t|\n",
      "|  [Callback]ModelSummary.on_test_start                                                                                                                                 \t|  2.995e-06      \t|  2              \t|  5.99e-06       \t|  1.0649e-07     \t|\n",
      "|  [Strategy]SingleDeviceStrategy.on_test_start                                                                                                                         \t|  2.945e-06      \t|  2              \t|  5.89e-06       \t|  1.0471e-07     \t|\n",
      "|  [Callback]TQDMProgressBar.on_sanity_check_end                                                                                                                        \t|  5.66e-06       \t|  1              \t|  5.66e-06       \t|  1.0062e-07     \t|\n",
      "|  [LightningModule]GuruNet.configure_callbacks                                                                                                                         \t|  1.8333e-06     \t|  3              \t|  5.5e-06        \t|  9.7779e-08     \t|\n",
      "|  [LightningModule]GuruNet.configure_sharded_model                                                                                                                     \t|  1.39e-06       \t|  3              \t|  4.17e-06       \t|  7.4134e-08     \t|\n",
      "|  [Callback]EarlyStopping{'monitor': 'val_pAUC', 'mode': 'min'}.on_sanity_check_end                                                                                    \t|  4e-06          \t|  1              \t|  4e-06          \t|  7.1112e-08     \t|\n",
      "|  [LightningDataModule]ISICDataModule.teardown                                                                                                                         \t|  1.3267e-06     \t|  3              \t|  3.98e-06       \t|  7.0756e-08     \t|\n",
      "|  [Callback]LearningRateMonitor.setup                                                                                                                                  \t|  1.3167e-06     \t|  3              \t|  3.95e-06       \t|  7.0223e-08     \t|\n",
      "|  [Callback]ModelCheckpoint{'monitor': 'val_loss', 'mode': 'min', 'every_n_train_steps': 0, 'every_n_epochs': 1, 'train_time_interval': None}.on_train_start           \t|  3.81e-06       \t|  1              \t|  3.81e-06       \t|  6.7734e-08     \t|\n",
      "|  [Callback]EarlyStopping{'monitor': 'val_pAUC', 'mode': 'min'}.on_train_start                                                                                         \t|  3.69e-06       \t|  1              \t|  3.69e-06       \t|  6.5601e-08     \t|\n",
      "|  [LightningModule]GuruNet.on_load_checkpoint                                                                                                                          \t|  1.6e-06        \t|  2              \t|  3.2e-06        \t|  5.6889e-08     \t|\n",
      "|  [Callback]EarlyStopping{'monitor': 'val_pAUC', 'mode': 'min'}.on_fit_end                                                                                             \t|  3.12e-06       \t|  1              \t|  3.12e-06       \t|  5.5467e-08     \t|\n",
      "|  [Callback]ModelSummary.setup                                                                                                                                         \t|  9.2033e-07     \t|  3              \t|  2.761e-06      \t|  4.9085e-08     \t|\n",
      "|  [Callback]EarlyStopping{'monitor': 'val_pAUC', 'mode': 'min'}.on_test_epoch_end                                                                                      \t|  1.38e-06       \t|  2              \t|  2.76e-06       \t|  4.9067e-08     \t|\n",
      "|  [LightningModule]GuruNet.setup                                                                                                                                       \t|  9.0667e-07     \t|  3              \t|  2.72e-06       \t|  4.8356e-08     \t|\n",
      "|  [Callback]LearningRateMonitor.teardown                                                                                                                               \t|  8.8e-07        \t|  3              \t|  2.64e-06       \t|  4.6934e-08     \t|\n",
      "|  [Callback]EarlyStopping{'monitor': 'val_pAUC', 'mode': 'min'}.on_sanity_check_start                                                                                  \t|  2.471e-06      \t|  1              \t|  2.471e-06      \t|  4.3929e-08     \t|\n",
      "|  [Callback]ModelSummary.on_test_end                                                                                                                                   \t|  1.225e-06      \t|  2              \t|  2.45e-06       \t|  4.3556e-08     \t|\n",
      "|  [LightningDataModule]ISICDataModule.prepare_data                                                                                                                     \t|  7.9e-07        \t|  3              \t|  2.37e-06       \t|  4.2134e-08     \t|\n",
      "|  [Callback]EarlyStopping{'monitor': 'val_pAUC', 'mode': 'min'}.on_train_end                                                                                           \t|  2.161e-06      \t|  1              \t|  2.161e-06      \t|  3.8418e-08     \t|\n",
      "|  [Callback]EarlyStopping{'monitor': 'val_pAUC', 'mode': 'min'}.on_test_end                                                                                            \t|  1.005e-06      \t|  2              \t|  2.01e-06       \t|  3.5734e-08     \t|\n",
      "|  [Callback]ModelSummary.on_sanity_check_start                                                                                                                         \t|  1.99e-06       \t|  1              \t|  1.99e-06       \t|  3.5378e-08     \t|\n",
      "|  [Callback]TQDMProgressBar.teardown                                                                                                                                   \t|  6.3333e-07     \t|  3              \t|  1.9e-06        \t|  3.3778e-08     \t|\n",
      "|  [Callback]ModelCheckpoint{'monitor': 'val_loss', 'mode': 'min', 'every_n_train_steps': 0, 'every_n_epochs': 1, 'train_time_interval': None}.on_test_start            \t|  8.75e-07       \t|  2              \t|  1.75e-06       \t|  3.1111e-08     \t|\n",
      "|  [Callback]EarlyStopping{'monitor': 'val_pAUC', 'mode': 'min'}.on_test_epoch_start                                                                                    \t|  8.4e-07        \t|  2              \t|  1.68e-06       \t|  2.9867e-08     \t|\n",
      "|  [Callback]LearningRateMonitor.on_test_start                                                                                                                          \t|  8.25e-07       \t|  2              \t|  1.65e-06       \t|  2.9334e-08     \t|\n",
      "|  [Callback]LearningRateMonitor.on_test_epoch_end                                                                                                                      \t|  8.25e-07       \t|  2              \t|  1.65e-06       \t|  2.9334e-08     \t|\n",
      "|  [Callback]ModelSummary.teardown                                                                                                                                      \t|  5.3333e-07     \t|  3              \t|  1.6e-06        \t|  2.8445e-08     \t|\n",
      "|  [Callback]ModelSummary.on_train_start                                                                                                                                \t|  1.57e-06       \t|  1              \t|  1.57e-06       \t|  2.7911e-08     \t|\n",
      "|  [Callback]ModelCheckpoint{'monitor': 'val_pAUC', 'mode': 'max', 'every_n_train_steps': 0, 'every_n_epochs': 1, 'train_time_interval': None}.on_train_start           \t|  1.57e-06       \t|  1              \t|  1.57e-06       \t|  2.7911e-08     \t|\n",
      "|  [Callback]ModelCheckpoint{'monitor': 'val_loss', 'mode': 'min', 'every_n_train_steps': 0, 'every_n_epochs': 1, 'train_time_interval': None}.teardown                 \t|  5.2e-07        \t|  3              \t|  1.56e-06       \t|  2.7733e-08     \t|\n",
      "|  [LightningModule]GuruNet.on_train_start                                                                                                                              \t|  1.54e-06       \t|  1              \t|  1.54e-06       \t|  2.7378e-08     \t|\n",
      "|  [LightningModule]GuruNet.on_test_start                                                                                                                               \t|  7.55e-07       \t|  2              \t|  1.51e-06       \t|  2.6845e-08     \t|\n",
      "|  [Callback]ModelCheckpoint{'monitor': 'val_pAUC', 'mode': 'max', 'every_n_train_steps': 0, 'every_n_epochs': 1, 'train_time_interval': None}.teardown                 \t|  4.9667e-07     \t|  3              \t|  1.49e-06       \t|  2.6489e-08     \t|\n",
      "|  [LightningModule]GuruNet.teardown                                                                                                                                    \t|  4.9e-07        \t|  3              \t|  1.47e-06       \t|  2.6134e-08     \t|\n",
      "|  [LightningModule]GuruNet.prepare_data                                                                                                                                \t|  4.6667e-07     \t|  3              \t|  1.4e-06        \t|  2.4889e-08     \t|\n",
      "|  [Callback]EarlyStopping{'monitor': 'val_pAUC', 'mode': 'min'}.on_fit_start                                                                                           \t|  1.4e-06        \t|  1              \t|  1.4e-06        \t|  2.4889e-08     \t|\n",
      "|  [Callback]ModelSummary.on_train_end                                                                                                                                  \t|  1.37e-06       \t|  1              \t|  1.37e-06       \t|  2.4356e-08     \t|\n",
      "|  [Callback]ModelCheckpoint{'monitor': 'val_loss', 'mode': 'min', 'every_n_train_steps': 0, 'every_n_epochs': 1, 'train_time_interval': None}.on_test_end              \t|  6.65e-07       \t|  2              \t|  1.33e-06       \t|  2.3645e-08     \t|\n",
      "|  [Callback]ModelCheckpoint{'monitor': 'val_loss', 'mode': 'min', 'every_n_train_steps': 0, 'every_n_epochs': 1, 'train_time_interval': None}.on_fit_start             \t|  1.28e-06       \t|  1              \t|  1.28e-06       \t|  2.2756e-08     \t|\n",
      "|  [Callback]ModelCheckpoint{'monitor': 'val_pAUC', 'mode': 'max', 'every_n_train_steps': 0, 'every_n_epochs': 1, 'train_time_interval': None}.on_test_start            \t|  6.1e-07        \t|  2              \t|  1.22e-06       \t|  2.1689e-08     \t|\n",
      "|  [Callback]LearningRateMonitor.on_train_end                                                                                                                           \t|  1.2e-06        \t|  1              \t|  1.2e-06        \t|  2.1334e-08     \t|\n",
      "|  [Callback]LearningRateMonitor.on_test_end                                                                                                                            \t|  5.85e-07       \t|  2              \t|  1.17e-06       \t|  2.08e-08       \t|\n",
      "|  [LightningModule]GuruNet.on_test_epoch_end                                                                                                                           \t|  5.85e-07       \t|  2              \t|  1.17e-06       \t|  2.08e-08       \t|\n",
      "|  [LightningModule]GuruNet.on_test_end                                                                                                                                 \t|  5.8e-07        \t|  2              \t|  1.16e-06       \t|  2.0622e-08     \t|\n",
      "|  [Callback]TQDMProgressBar.on_test_epoch_start                                                                                                                        \t|  5.45e-07       \t|  2              \t|  1.09e-06       \t|  1.9378e-08     \t|\n",
      "|  [Callback]ModelCheckpoint{'monitor': 'val_pAUC', 'mode': 'max', 'every_n_train_steps': 0, 'every_n_epochs': 1, 'train_time_interval': None}.on_test_epoch_end        \t|  5.4e-07        \t|  2              \t|  1.08e-06       \t|  1.92e-08       \t|\n",
      "|  [Strategy]SingleDeviceStrategy.on_test_end                                                                                                                           \t|  5.4e-07        \t|  2              \t|  1.08e-06       \t|  1.92e-08       \t|\n",
      "|  [LightningModule]GuruNet.on_test_epoch_start                                                                                                                         \t|  5.3e-07        \t|  2              \t|  1.06e-06       \t|  1.8845e-08     \t|\n",
      "|  [Callback]TQDMProgressBar.on_test_epoch_end                                                                                                                          \t|  5.3e-07        \t|  2              \t|  1.06e-06       \t|  1.8845e-08     \t|\n",
      "|  [Callback]LearningRateMonitor.on_test_epoch_start                                                                                                                    \t|  5.1e-07        \t|  2              \t|  1.02e-06       \t|  1.8134e-08     \t|\n",
      "|  [Callback]ModelCheckpoint{'monitor': 'val_loss', 'mode': 'min', 'every_n_train_steps': 0, 'every_n_epochs': 1, 'train_time_interval': None}.on_test_epoch_end        \t|  5.1e-07        \t|  2              \t|  1.02e-06       \t|  1.8134e-08     \t|\n",
      "|  [Callback]ModelSummary.on_test_epoch_start                                                                                                                           \t|  4.95e-07       \t|  2              \t|  9.9e-07        \t|  1.76e-08       \t|\n",
      "|  [Callback]ModelCheckpoint{'monitor': 'val_pAUC', 'mode': 'max', 'every_n_train_steps': 0, 'every_n_epochs': 1, 'train_time_interval': None}.on_test_end              \t|  4.7e-07        \t|  2              \t|  9.4e-07        \t|  1.6711e-08     \t|\n",
      "|  [Callback]ModelCheckpoint{'monitor': 'val_loss', 'mode': 'min', 'every_n_train_steps': 0, 'every_n_epochs': 1, 'train_time_interval': None}.on_test_epoch_start      \t|  4.5e-07        \t|  2              \t|  9e-07          \t|  1.6e-08        \t|\n",
      "|  [Callback]ModelSummary.on_test_epoch_end                                                                                                                             \t|  4.4e-07        \t|  2              \t|  8.8e-07        \t|  1.5645e-08     \t|\n",
      "|  [Callback]ModelCheckpoint{'monitor': 'val_pAUC', 'mode': 'max', 'every_n_train_steps': 0, 'every_n_epochs': 1, 'train_time_interval': None}.on_test_epoch_start      \t|  4.3e-07        \t|  2              \t|  8.6e-07        \t|  1.5289e-08     \t|\n",
      "|  [Callback]LearningRateMonitor.on_sanity_check_end                                                                                                                    \t|  8.4e-07        \t|  1              \t|  8.4e-07        \t|  1.4933e-08     \t|\n",
      "|  [Callback]LearningRateMonitor.on_fit_start                                                                                                                           \t|  7.6e-07        \t|  1              \t|  7.6e-07        \t|  1.3511e-08     \t|\n",
      "|  [Callback]ModelSummary.on_sanity_check_end                                                                                                                           \t|  7.6e-07        \t|  1              \t|  7.6e-07        \t|  1.3511e-08     \t|\n",
      "|  [Callback]ModelCheckpoint{'monitor': 'val_pAUC', 'mode': 'max', 'every_n_train_steps': 0, 'every_n_epochs': 1, 'train_time_interval': None}.on_sanity_check_end      \t|  7.6e-07        \t|  1              \t|  7.6e-07        \t|  1.3511e-08     \t|\n",
      "|  [Callback]ModelCheckpoint{'monitor': 'val_pAUC', 'mode': 'max', 'every_n_train_steps': 0, 'every_n_epochs': 1, 'train_time_interval': None}.on_sanity_check_start    \t|  7.4e-07        \t|  1              \t|  7.4e-07        \t|  1.3156e-08     \t|\n",
      "|  [Callback]TQDMProgressBar.on_fit_start                                                                                                                               \t|  7.3e-07        \t|  1              \t|  7.3e-07        \t|  1.2978e-08     \t|\n",
      "|  [Callback]ModelCheckpoint{'monitor': 'val_loss', 'mode': 'min', 'every_n_train_steps': 0, 'every_n_epochs': 1, 'train_time_interval': None}.on_sanity_check_end      \t|  7.3e-07        \t|  1              \t|  7.3e-07        \t|  1.2978e-08     \t|\n",
      "|  [Callback]LearningRateMonitor.on_sanity_check_start                                                                                                                  \t|  7.2e-07        \t|  1              \t|  7.2e-07        \t|  1.28e-08       \t|\n",
      "|  [Callback]LearningRateMonitor.on_fit_end                                                                                                                             \t|  7e-07          \t|  1              \t|  7e-07          \t|  1.2445e-08     \t|\n",
      "|  [Callback]ModelCheckpoint{'monitor': 'val_pAUC', 'mode': 'max', 'every_n_train_steps': 0, 'every_n_epochs': 1, 'train_time_interval': None}.on_fit_start             \t|  6.9e-07        \t|  1              \t|  6.9e-07        \t|  1.2267e-08     \t|\n",
      "|  [Callback]ModelCheckpoint{'monitor': 'val_loss', 'mode': 'min', 'every_n_train_steps': 0, 'every_n_epochs': 1, 'train_time_interval': None}.on_train_end             \t|  6.7e-07        \t|  1              \t|  6.7e-07        \t|  1.1911e-08     \t|\n",
      "|  [Callback]ModelCheckpoint{'monitor': 'val_loss', 'mode': 'min', 'every_n_train_steps': 0, 'every_n_epochs': 1, 'train_time_interval': None}.on_sanity_check_start    \t|  6.3e-07        \t|  1              \t|  6.3e-07        \t|  1.12e-08       \t|\n",
      "|  [Strategy]SingleDeviceStrategy.on_train_start                                                                                                                        \t|  6.3e-07        \t|  1              \t|  6.3e-07        \t|  1.12e-08       \t|\n",
      "|  [LightningModule]GuruNet.on_fit_end                                                                                                                                  \t|  6e-07          \t|  1              \t|  6e-07          \t|  1.0667e-08     \t|\n",
      "|  [LightningModule]GuruNet.on_fit_start                                                                                                                                \t|  5.7e-07        \t|  1              \t|  5.7e-07        \t|  1.0133e-08     \t|\n",
      "|  [Callback]ModelCheckpoint{'monitor': 'val_pAUC', 'mode': 'max', 'every_n_train_steps': 0, 'every_n_epochs': 1, 'train_time_interval': None}.on_train_end             \t|  5.7e-07        \t|  1              \t|  5.7e-07        \t|  1.0133e-08     \t|\n",
      "|  [Callback]ModelSummary.on_fit_end                                                                                                                                    \t|  5.3e-07        \t|  1              \t|  5.3e-07        \t|  9.4224e-09     \t|\n",
      "|  [LightningModule]GuruNet.on_train_end                                                                                                                                \t|  5.3e-07        \t|  1              \t|  5.3e-07        \t|  9.4223e-09     \t|\n",
      "|  [Strategy]SingleDeviceStrategy.on_train_end                                                                                                                          \t|  5.2e-07        \t|  1              \t|  5.2e-07        \t|  9.2446e-09     \t|\n",
      "|  [Callback]ModelCheckpoint{'monitor': 'val_pAUC', 'mode': 'max', 'every_n_train_steps': 0, 'every_n_epochs': 1, 'train_time_interval': None}.on_fit_end               \t|  5.2e-07        \t|  1              \t|  5.2e-07        \t|  9.2445e-09     \t|\n",
      "|  [Callback]ModelCheckpoint{'monitor': 'val_loss', 'mode': 'min', 'every_n_train_steps': 0, 'every_n_epochs': 1, 'train_time_interval': None}.on_fit_end               \t|  4.8e-07        \t|  1              \t|  4.8e-07        \t|  8.5334e-09     \t|\n",
      "|  [Callback]TQDMProgressBar.on_fit_end                                                                                                                                 \t|  4.7e-07        \t|  1              \t|  4.7e-07        \t|  8.3557e-09     \t|\n",
      "----------------------------------------------------------------------------------------------------------------------------------------------------------------------------------------------------------------------------------------------------------------------------------\n",
      "\n"
     ]
    },
    {
     "data": {
      "text/plain": [
       "[{'test_loss_epoch': 0.34257519245147705,\n",
       "  'test_pAUC_epoch': 0.18955282866954803}]"
      ]
     },
     "execution_count": 9,
     "metadata": {},
     "output_type": "execute_result"
    }
   ],
   "source": [
    "trainer.test(\n",
    "    model=model,\n",
    "    ckpt_path=\"checkpoints/version_135/gurunet-epoch=48-val_pAUC=0.18755.ckpt\",\n",
    "    datamodule=data_module,\n",
    ")"
   ]
  },
  {
   "cell_type": "code",
   "execution_count": null,
   "metadata": {},
   "outputs": [],
   "source": []
  },
  {
   "cell_type": "code",
   "execution_count": null,
   "metadata": {},
   "outputs": [],
   "source": []
  }
 ],
 "metadata": {
  "kernelspec": {
   "display_name": "eeoned",
   "language": "python",
   "name": "python3"
  },
  "language_info": {
   "codemirror_mode": {
    "name": "ipython",
    "version": 3
   },
   "file_extension": ".py",
   "mimetype": "text/x-python",
   "name": "python",
   "nbconvert_exporter": "python",
   "pygments_lexer": "ipython3",
   "version": "3.11.5"
  }
 },
 "nbformat": 4,
 "nbformat_minor": 2
}
