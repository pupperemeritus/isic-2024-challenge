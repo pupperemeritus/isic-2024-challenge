{
 "cells": [
  {
   "cell_type": "code",
   "execution_count": 12,
   "metadata": {},
   "outputs": [
    {
     "name": "stderr",
     "output_type": "stream",
     "text": [
      "Seed set to 42\n"
     ]
    },
    {
     "data": {
      "text/plain": [
       "42"
      ]
     },
     "execution_count": 12,
     "metadata": {},
     "output_type": "execute_result"
    }
   ],
   "source": [
    "import io\n",
    "import time\n",
    "\n",
    "import h5py\n",
    "import numpy as np\n",
    "import pandas as pd\n",
    "import pytorch_lightning as pl\n",
    "import torch\n",
    "import torch.functional as F\n",
    "import torch.nn as nn\n",
    "import torch.optim as optim\n",
    "import torchvision\n",
    "from einops import rearrange\n",
    "from PIL import Image\n",
    "from pytorch_lightning.callbacks import (Callback, EarlyStopping,\n",
    "                                         LearningRateMonitor, ModelCheckpoint,\n",
    "                                         ProgressBar)\n",
    "from torchmetrics import Precision, Recall, Specificity\n",
    "from pytorch_lightning.loggers import TensorBoardLogger\n",
    "from sklearn.decomposition import KernelPCA\n",
    "from sklearn.feature_selection import VarianceThreshold\n",
    "from sklearn.metrics import accuracy_score, roc_auc_score\n",
    "from sklearn.preprocessing import PolynomialFeatures, StandardScaler\n",
    "from torch.cuda.amp import GradScaler, autocast\n",
    "from torch.utils.data import DataLoader, Dataset, Sampler, Subset\n",
    "from torchmetrics import Metric\n",
    "from torchvision.transforms import transforms\n",
    "\n",
    "torch.manual_seed(42)\n",
    "if torch.cuda.is_available():\n",
    "    torch.cuda.manual_seed(42)\n",
    "\n",
    "pl.seed_everything(42, workers=True)"
   ]
  },
  {
   "cell_type": "code",
   "execution_count": 13,
   "metadata": {},
   "outputs": [],
   "source": [
    "\"\"\"\n",
    "2024 ISIC Challenge primary prize scoring metric\n",
    "\n",
    "Given a list of binary labels, an associated list of prediction \n",
    "scores ranging from [0,1], this function produces, as a single value, \n",
    "the partial area under the receiver operating characteristic (pAUC) \n",
    "above a given true positive rate (TPR).\n",
    "https://en.wikipedia.org/wiki/Partial_Area_Under_the_ROC_Curve.\n",
    "\n",
    "(c) 2024 Nicholas R Kurtansky, MSKCC\n",
    "\"\"\"\n",
    "\n",
    "from collections import Counter\n",
    "\n",
    "import numpy as np\n",
    "import pandas as pd\n",
    "import pandas.api.types\n",
    "from sklearn.metrics import auc, roc_auc_score, roc_curve\n",
    "\n",
    "\n",
    "class PartialAUROC(Metric):\n",
    "    def __init__(\n",
    "        self,\n",
    "        min_tpr: float = 0.80,\n",
    "        dist_sync_on_step: bool = False,\n",
    "    ):\n",
    "        super().__init__(dist_sync_on_step=dist_sync_on_step)\n",
    "        self.min_tpr = min_tpr\n",
    "        self.add_state(\"preds\", default=[], dist_reduce_fx=\"cat\")\n",
    "        self.add_state(\"target\", default=[], dist_reduce_fx=\"cat\")\n",
    "\n",
    "    def update(self, preds: torch.Tensor, target: torch.Tensor):\n",
    "        self.preds.append(preds)\n",
    "        self.target.append(target)\n",
    "\n",
    "    def compute(self):\n",
    "        preds = torch.cat(self.preds)\n",
    "        target = torch.cat(self.target)\n",
    "        return self._partial_auroc(target, preds, self.min_tpr)\n",
    "\n",
    "    def _partial_auroc(\n",
    "        self, y_true: torch.Tensor, y_score: torch.Tensor, min_tpr: float\n",
    "    ) -> float:\n",
    "        y_true = torch.abs(y_true - 1)\n",
    "        y_score = -y_score\n",
    "\n",
    "        fpr, tpr, _ = self._roc_curve(y_true, y_score)\n",
    "        max_fpr = 1.0 - min_tpr\n",
    "\n",
    "        # print(f\"Computed FPR: {fpr}\")\n",
    "        # print(f\"Computed TPR: {tpr}\")\n",
    "\n",
    "        if max_fpr == 1:\n",
    "            return self._auc(fpr, tpr)\n",
    "        if max_fpr <= 0 or max_fpr > 1:\n",
    "            raise ValueError(f\"Expected min_tpr in range [0, 1), got: {min_tpr}\")\n",
    "\n",
    "        stop = torch.searchsorted(fpr, torch.tensor(max_fpr), right=True)\n",
    "        x_interp = fpr[stop - 1 : stop + 1]\n",
    "        y_interp = tpr[stop - 1 : stop + 1]\n",
    "\n",
    "        # print(f\"x_interp: {x_interp}\")\n",
    "        # print(f\"y_interp: {y_interp}\")\n",
    "\n",
    "        if len(x_interp) == 1:\n",
    "            interp_tpr = y_interp[0]\n",
    "        else:\n",
    "            interp_tpr = y_interp[0] + (max_fpr - x_interp[0]) * (\n",
    "                y_interp[1] - y_interp[0]\n",
    "            ) / (x_interp[1] - x_interp[0])\n",
    "\n",
    "        tpr = torch.cat([tpr[:stop], torch.tensor([interp_tpr])])\n",
    "        fpr = torch.cat([fpr[:stop], torch.tensor([max_fpr])])\n",
    "\n",
    "        partial_auc = self._auc(fpr, tpr)\n",
    "        return partial_auc\n",
    "\n",
    "    def _roc_curve(self, y_true: torch.Tensor, y_score: torch.Tensor):\n",
    "        desc_score_indices = torch.argsort(y_score, descending=True)\n",
    "        y_score = y_score[desc_score_indices]\n",
    "        y_true = y_true[desc_score_indices]\n",
    "\n",
    "        distinct_value_indices = torch.where(torch.diff(y_score))[0]\n",
    "        threshold_idxs = torch.cat(\n",
    "            [distinct_value_indices, torch.tensor([y_true.numel() - 1])]\n",
    "        )\n",
    "\n",
    "        tps = torch.cumsum(y_true, dim=0)[threshold_idxs]\n",
    "        fps = 1 + threshold_idxs - tps\n",
    "        \n",
    "        # Handle the case where there are no positive samples\n",
    "        if tps[-1] == 0:\n",
    "            tpr = torch.zeros_like(tps)\n",
    "        else:\n",
    "            tpr = tps / tps[-1]\n",
    "        \n",
    "        fpr = fps / fps[-1]\n",
    "        thresholds = y_score[threshold_idxs]\n",
    "\n",
    "        # print(f\"tps: {tps}\")\n",
    "        # print(f\"fps: {fps}\")\n",
    "        # print(f\"tpr: {tpr}\")\n",
    "        # print(f\"fpr: {fpr}\")\n",
    "        # print(f\"thresholds: {thresholds}\")\n",
    "\n",
    "        return fpr, tpr, thresholds\n",
    "\n",
    "    def _auc(self, x: torch.Tensor, y: torch.Tensor) -> float:\n",
    "        if torch.all(y == 0):\n",
    "            print(\"Warning: All TPR values are zero. AUC is undefined.\")\n",
    "            return 0.0\n",
    "\n",
    "        direction = 1\n",
    "        dx = torch.diff(x)\n",
    "        if torch.any(dx < 0):\n",
    "            if torch.all(dx <= 0):\n",
    "                direction = -1\n",
    "            else:\n",
    "                raise ValueError(\"x is neither increasing nor decreasing\")\n",
    "        auc_value = direction * torch.trapz(y, x).item()\n",
    "        # print(f\"Computed AUC: {auc_value}\")\n",
    "        return auc_value"
   ]
  },
  {
   "cell_type": "code",
   "execution_count": 14,
   "metadata": {},
   "outputs": [
    {
     "name": "stdout",
     "output_type": "stream",
     "text": [
      "2.4.0+cu121\n",
      "0.19.0+cu121\n",
      "2.4.0\n"
     ]
    }
   ],
   "source": [
    "print(torch.__version__)\n",
    "print(torchvision.__version__)\n",
    "print(pl.__version__)"
   ]
  },
  {
   "cell_type": "code",
   "execution_count": 15,
   "metadata": {},
   "outputs": [],
   "source": [
    "class InvertedResidualBlock(nn.Module):\n",
    "    def __init__(self, in_channels, out_channels, expand_ratio, stride):\n",
    "        super(InvertedResidualBlock, self).__init__()\n",
    "        hidden_dim = in_channels * expand_ratio\n",
    "        self.use_res_connect = stride == 1 and in_channels == out_channels\n",
    "\n",
    "        layers = []\n",
    "        if expand_ratio != 1:\n",
    "            layers.append(ConvBNActivation(in_channels, hidden_dim, kernel_size=1))\n",
    "        layers.extend(\n",
    "            [\n",
    "                ConvBNActivation(\n",
    "                    hidden_dim, hidden_dim, stride=stride, groups=hidden_dim\n",
    "                ),\n",
    "                nn.Conv2d(hidden_dim, out_channels, 1, bias=True),\n",
    "                nn.BatchNorm2d(out_channels),\n",
    "            ]\n",
    "        )\n",
    "        self.conv = nn.Sequential(*layers)\n",
    "\n",
    "    def forward(self, x):\n",
    "        if self.use_res_connect:\n",
    "            return x + self.conv(x)\n",
    "        else:\n",
    "            return self.conv(x)\n",
    "\n",
    "\n",
    "class ConvBNActivation(nn.Sequential):\n",
    "    def __init__(self, in_channels, out_channels, kernel_size=3, stride=1, groups=1):\n",
    "        padding = (kernel_size - 1) // 2\n",
    "        super(ConvBNActivation, self).__init__(\n",
    "            nn.Conv2d(\n",
    "                in_channels,\n",
    "                out_channels,\n",
    "                kernel_size,\n",
    "                stride,\n",
    "                padding,\n",
    "                groups=groups,\n",
    "                bias=True,\n",
    "            ),\n",
    "            nn.BatchNorm2d(out_channels),\n",
    "            nn.Mish(),\n",
    "        )\n",
    "\n",
    "\n",
    "class DenseBlock(nn.Module):\n",
    "    def __init__(self, in_channels, num_layers, growth_rate, dropout_rate=0.2):\n",
    "        super(DenseBlock, self).__init__()\n",
    "        self.layers = nn.ModuleList(\n",
    "            [\n",
    "                DenseLayer(in_channels + i * growth_rate, growth_rate, dropout_rate)\n",
    "                for i in range(num_layers)\n",
    "            ]\n",
    "        )\n",
    "\n",
    "    def forward(self, x):\n",
    "        for layer in self.layers:\n",
    "            x = torch.cat([x, layer(x)], 1)\n",
    "        return x\n",
    "\n",
    "\n",
    "class DenseLayer(nn.Sequential):\n",
    "    def __init__(self, in_channels, growth_rate, dropout_rate):\n",
    "        super(DenseLayer, self).__init__(\n",
    "            nn.BatchNorm2d(in_channels),\n",
    "            nn.Mish(),\n",
    "            nn.Conv2d(in_channels, 4 * growth_rate, 1, bias=True),\n",
    "            nn.BatchNorm2d(4 * growth_rate),\n",
    "            nn.Mish(),\n",
    "            nn.Conv2d(4 * growth_rate, growth_rate, 3, padding=1, bias=True),\n",
    "            nn.Dropout2d(dropout_rate),\n",
    "        )\n",
    "\n",
    "\n",
    "class TransitionLayer(nn.Sequential):\n",
    "    def __init__(self, in_channels, compression_factor=0.5):\n",
    "        out_channels = int(in_channels * compression_factor)\n",
    "        super(TransitionLayer, self).__init__(\n",
    "            nn.BatchNorm2d(in_channels),\n",
    "            nn.Mish(),\n",
    "            nn.Conv2d(in_channels, out_channels, 1, bias=True),\n",
    "            nn.AvgPool2d(2, stride=2),\n",
    "        )\n",
    "\n",
    "\n",
    "class AttentionBlock(nn.Module):\n",
    "    def __init__(self, in_channels, out_channels):\n",
    "        super(AttentionBlock, self).__init__()\n",
    "        self.conv1 = nn.Conv2d(in_channels, out_channels, 1)\n",
    "        self.bn1 = nn.BatchNorm2d(out_channels)\n",
    "        self.conv2 = nn.Conv2d(in_channels, out_channels, 1)\n",
    "        self.bn2 = nn.BatchNorm2d(out_channels)\n",
    "        self.conv3 = nn.Conv2d(out_channels, 1, 1)\n",
    "        self.bn3 = nn.BatchNorm2d(1)\n",
    "\n",
    "    def forward(self, x):\n",
    "        g = self.bn1(self.conv1(x))\n",
    "        x = self.bn2(self.conv2(x))\n",
    "        att = nn.Hardswish()(g + x)\n",
    "        att = nn.Sigmoid()(self.bn3(self.conv3(att)))\n",
    "        return x * att\n",
    "\n",
    "\n",
    "class InceptionBlock(nn.Module):\n",
    "    def __init__(self, in_channels, filters):\n",
    "        super(InceptionBlock, self).__init__()\n",
    "        f1, f2, f3 = filters\n",
    "        self.branch1 = ConvBNActivation(in_channels, f1, kernel_size=1)\n",
    "        self.branch2 = nn.Sequential(\n",
    "            ConvBNActivation(in_channels, f2[0], kernel_size=1),\n",
    "            ConvBNActivation(f2[0], f2[1], kernel_size=3),\n",
    "        )\n",
    "        self.branch3 = nn.Sequential(\n",
    "            ConvBNActivation(in_channels, f3[0], kernel_size=1),\n",
    "            ConvBNActivation(f3[0], f3[1], kernel_size=5),\n",
    "        )\n",
    "        self.branch4 = nn.Sequential(\n",
    "            nn.MaxPool2d(kernel_size=3, stride=1, padding=1),\n",
    "            ConvBNActivation(in_channels, f1, kernel_size=1),\n",
    "        )\n",
    "\n",
    "    def forward(self, x):\n",
    "        branch1 = self.branch1(x)\n",
    "        branch2 = self.branch2(x)\n",
    "        branch3 = self.branch3(x)\n",
    "        branch4 = self.branch4(x)\n",
    "        return torch.cat([branch1, branch2, branch3, branch4], 1)\n",
    "\n",
    "\n",
    "class GatedResidualBlock(nn.Module):\n",
    "    def __init__(self, in_channels, out_channels, kernel_size, strides):\n",
    "        super(GatedResidualBlock, self).__init__()\n",
    "        self.conv1 = nn.Conv2d(\n",
    "            in_channels,\n",
    "            out_channels,\n",
    "            kernel_size,\n",
    "            stride=strides,\n",
    "            padding=kernel_size // 2,\n",
    "        )\n",
    "        self.bn1 = nn.BatchNorm2d(out_channels)\n",
    "        self.conv2 = nn.Conv2d(out_channels, out_channels, 1)\n",
    "        self.bn2 = nn.BatchNorm2d(out_channels)\n",
    "        self.conv3 = nn.Conv2d(out_channels, out_channels, 1)\n",
    "        self.bn3 = nn.BatchNorm2d(out_channels)\n",
    "        self.activation = nn.Mish()\n",
    "\n",
    "        # Add a shortcut connection if input and output dimensions don't match\n",
    "        self.shortcut = nn.Sequential()\n",
    "        if strides != 1 or in_channels != out_channels:\n",
    "            self.shortcut = nn.Sequential(\n",
    "                nn.Conv2d(\n",
    "                    in_channels, out_channels, kernel_size=1, stride=strides, bias=True\n",
    "                ),\n",
    "                nn.BatchNorm2d(out_channels),\n",
    "            )\n",
    "\n",
    "    def forward(self, x):\n",
    "        residual = self.shortcut(x)\n",
    "\n",
    "        x = self.activation(self.bn1(self.conv1(x)))\n",
    "        x = self.bn2(self.conv2(x))\n",
    "        gate = nn.Sigmoid()(self.bn3(self.conv3(x)))\n",
    "        x = x * gate\n",
    "        x += residual\n",
    "        return self.activation(x)\n",
    "\n",
    "\n",
    "class GuruNet(pl.LightningModule):\n",
    "    def __init__(\n",
    "        self,\n",
    "        input_shape=(139, 139, 3),\n",
    "        metadata_shape=None,\n",
    "        classes=2,\n",
    "    ):\n",
    "        super(GuruNet, self).__init__()\n",
    "        self.input_shape = input_shape\n",
    "        self.metadata_shape = metadata_shape\n",
    "\n",
    "        # Initial convolutional layer\n",
    "        self.conv1 = nn.Conv2d(3, 256, kernel_size=5, stride=2, padding=1)\n",
    "        self.bn1 = nn.BatchNorm2d(256)\n",
    "        self.activation = nn.Hardswish()\n",
    "\n",
    "        # Inverted Residual Blocks\n",
    "        self.inv_res_blocks = nn.ModuleList()\n",
    "        block_params = [\n",
    "            # expand_ratio, filters, strides, repeats\n",
    "            (6, 16, 1, 1),\n",
    "            (6, 24, 2, 2),\n",
    "            (6, 40, 2, 2),\n",
    "            (6, 80, 2, 3),\n",
    "            (6, 112, 1, 3),\n",
    "            (6, 128, 2, 4),\n",
    "            (6, 196, 1, 1),\n",
    "        ]\n",
    "\n",
    "        in_channels = 256\n",
    "        for i, (expand_ratio, filters, strides, repeats) in enumerate(block_params):\n",
    "            for j in range(repeats):\n",
    "                if j > 0:\n",
    "                    strides = 1\n",
    "                self.inv_res_blocks.append(\n",
    "                    InvertedResidualBlock(in_channels, filters, expand_ratio, strides)\n",
    "                )\n",
    "                in_channels = filters\n",
    "\n",
    "        # Dense Block\n",
    "        self.dense_block = DenseBlock(in_channels, num_layers=20, growth_rate=32)\n",
    "        in_channels += 20 * 32  # Update in_channels after dense block\n",
    "\n",
    "        # Transition Layer\n",
    "        self.transition = TransitionLayer(in_channels, compression_factor=0.5)\n",
    "        in_channels = int(in_channels * 0.5)\n",
    "\n",
    "        # Attention Block\n",
    "        self.attention = AttentionBlock(in_channels, 256)\n",
    "        in_channels = 256\n",
    "\n",
    "        # Average Pooling\n",
    "        self.avg_pool = nn.AvgPool2d(kernel_size=3, stride=1, padding=1)\n",
    "\n",
    "        # Inception Block\n",
    "        self.inception = InceptionBlock(in_channels, [128, (128, 192), (32, 96)])\n",
    "        in_channels = 128 + 192 + 96 + 128\n",
    "\n",
    "        self.inception2 = InceptionBlock(in_channels, [128, (128, 192), (32, 96)])\n",
    "        in_channels = 128 + 192 + 96 + 128\n",
    "\n",
    "        # Attention Block\n",
    "        self.attention2 = AttentionBlock(in_channels, 256)\n",
    "        in_channels = 256\n",
    "\n",
    "        # Gated Residual Block\n",
    "        self.gated_res = GatedResidualBlock(in_channels, 512, kernel_size=3, strides=2)\n",
    "        in_channels = 512\n",
    "\n",
    "        # Attention Block\n",
    "        self.attention3 = AttentionBlock(in_channels, 256)\n",
    "        in_channels = 256\n",
    "\n",
    "        # Global Average Pooling\n",
    "        self.global_avg_pool = nn.AdaptiveAvgPool2d(1)\n",
    "        self.flatten = nn.Flatten()\n",
    "\n",
    "        # Fully connected layers\n",
    "        self.fc1 = nn.Linear(in_channels, 4096)\n",
    "        self.bn_fc1 = nn.BatchNorm1d(4096)\n",
    "        self.fc2 = nn.Linear(4096, 2048)\n",
    "        self.bn_fc2 = nn.BatchNorm1d(2048)\n",
    "        self.fc3 = nn.Linear(2048, 512)\n",
    "        self.bn_fc3 = nn.BatchNorm1d(512)\n",
    "        self.fc4 = nn.Linear(512, 128)\n",
    "        self.bn_fc4 = nn.BatchNorm1d(128)\n",
    "        self.dropout = nn.Dropout(0.5)\n",
    "\n",
    "        self.metadata_fc1 = nn.Linear(41, 4096)\n",
    "        self.metadata_bn1 = nn.BatchNorm1d(4096)\n",
    "        self.metadata_fc2 = nn.Linear(4096, 1024)\n",
    "        self.metadata_bn2 = nn.BatchNorm1d(1024)\n",
    "        self.metadata_fc3 = nn.Linear(1024, 512)\n",
    "        self.metadata_bn3 = nn.BatchNorm1d(512)\n",
    "        self.metadata_fc4 = nn.Linear(512, 128)\n",
    "        self.metadata_bn4 = nn.BatchNorm1d(128)\n",
    "        self.final_fc = nn.Linear(128 + 128, classes)\n",
    "        self.final_activation = nn.Sigmoid()\n",
    "        self.scaler = GradScaler()\n",
    "        self.loss = self.loss = nn.CrossEntropyLoss()\n",
    "        self.auroc = PartialAUROC(min_tpr=0.8)\n",
    "\n",
    "    def forward(self, x, metadata):\n",
    "        x = self.activation(self.bn1(self.conv1(x)))\n",
    "\n",
    "        # Inverted Residual Blocks\n",
    "        for block in self.inv_res_blocks:\n",
    "            x = block(x)\n",
    "\n",
    "        # Dense Block\n",
    "        x = self.dense_block(x)\n",
    "\n",
    "        # Transition Layer\n",
    "        x = self.transition(x)\n",
    "\n",
    "        # Attention Block\n",
    "        x = self.attention(x)\n",
    "\n",
    "        # Average Pooling\n",
    "        x = self.avg_pool(x)\n",
    "\n",
    "        # Inception Block\n",
    "        x = self.inception(x)\n",
    "        x = self.inception2(x)\n",
    "\n",
    "        # Attention Block\n",
    "        x = self.attention2(x)\n",
    "\n",
    "        # Gated Residual Block\n",
    "        x = self.gated_res(x)\n",
    "\n",
    "        # Attention Block\n",
    "        x = self.attention3(x)\n",
    "\n",
    "        x = self.global_avg_pool(x)\n",
    "        x = self.flatten(x)\n",
    "        x = self.activation(self.bn_fc1(self.fc1(x)))\n",
    "        x = self.dropout(x)\n",
    "        x = self.activation(self.bn_fc2(self.fc2(x)))\n",
    "        x = self.dropout(x)\n",
    "        x = self.activation(self.bn_fc3(self.fc3(x)))\n",
    "        x = self.dropout(x)\n",
    "        x = self.activation(self.bn_fc4(self.fc4(x)))\n",
    "\n",
    "        metadata = self.activation(self.metadata_bn1(self.metadata_fc1(metadata)))\n",
    "        metadata = self.dropout(metadata)\n",
    "        metadata = self.activation(self.metadata_bn2(self.metadata_fc2(metadata)))\n",
    "        metadata = self.dropout(metadata)\n",
    "        metadata = self.activation(self.metadata_bn3(self.metadata_fc3(metadata)))\n",
    "        metadata = self.dropout(metadata)\n",
    "        metadata = self.activation(self.metadata_bn4(self.metadata_fc4(metadata)))\n",
    "\n",
    "        x = torch.cat([x, metadata], dim=1)\n",
    "\n",
    "        x = self.final_fc(x)\n",
    "        # Apply sigmoid to ensure output is between 0 and 1\n",
    "        # x = self.final_activation(x)\n",
    "\n",
    "        return x\n",
    "\n",
    "    def training_step(self, batch, batch_idx):\n",
    "        (images, metadata), targets = batch\n",
    "        outputs = self(images, metadata)\n",
    "        loss = self.loss(outputs, targets)  # targets is already one-hot encoded\n",
    "        # Get the probability of the positive class\n",
    "        pos_probs = outputs[:, 1].float().cpu()\n",
    "\n",
    "        # Convert one-hot encoded targets to binary labels\n",
    "        targets_binary = targets[:, 1].int().cpu()\n",
    "        rocauc = self.auroc(pos_probs, targets_binary)  # Use class 1 probability\n",
    "\n",
    "        self.log(\n",
    "            \"train_loss\",\n",
    "            loss,\n",
    "            on_step=True,\n",
    "            on_epoch=True,\n",
    "            prog_bar=True,\n",
    "        )\n",
    "        self.log(\n",
    "            \"train_pAUC\",\n",
    "            rocauc,\n",
    "            on_step=True,\n",
    "            on_epoch=True,\n",
    "            prog_bar=True,\n",
    "        )\n",
    "        return loss\n",
    "\n",
    "    def validation_step(self, batch, batch_idx):\n",
    "        (images, metadata), targets = batch\n",
    "        outputs = self(images, metadata)\n",
    "        loss = self.loss(outputs, targets)  # targets is already one-hot encoded\n",
    "        # Get the probability of the positive class\n",
    "        pos_probs = outputs[:, 1].float().cpu()\n",
    "\n",
    "        # Convert one-hot encoded targets to binary labels\n",
    "        targets_binary = targets[:, 1].int().cpu()\n",
    "        rocauc = self.auroc(pos_probs, targets_binary)\n",
    "\n",
    "        # Use class 1 probability\n",
    "\n",
    "        self.log(\n",
    "            \"val_loss\",\n",
    "            loss,\n",
    "            on_step=False,\n",
    "            on_epoch=True,\n",
    "            prog_bar=True,\n",
    "        )\n",
    "        self.log(\n",
    "            \"val_pAUC\",\n",
    "            rocauc,\n",
    "            on_step=False,\n",
    "            on_epoch=True,\n",
    "            prog_bar=True,\n",
    "        )\n",
    "\n",
    "        return loss\n",
    "\n",
    "    def test_step(self, batch, batch_idx):\n",
    "        (images, metadata), targets = batch\n",
    "        outputs = self(images, metadata)\n",
    "        loss = self.loss(outputs, targets)  # targets is already one-hot encoded\n",
    "\n",
    "        # Get the probability of the positive class\n",
    "        pos_probs = outputs[:, 1].float().cpu()\n",
    "\n",
    "        # Convert one-hot encoded targets to binary labels\n",
    "        targets_binary = targets[:, 1].int().cpu()\n",
    "        rocauc = self.auroc(pos_probs, targets_binary)\n",
    "\n",
    "        self.log(\n",
    "            \"test_loss\",\n",
    "            loss,\n",
    "            on_step=True,\n",
    "            on_epoch=True,\n",
    "            prog_bar=True,\n",
    "        )\n",
    "        self.log(\n",
    "            \"test_pAUC\",\n",
    "            rocauc,\n",
    "            on_step=True,\n",
    "            on_epoch=True,\n",
    "            prog_bar=True,\n",
    "        )\n",
    "\n",
    "        return loss\n",
    "\n",
    "    def configure_optimizers(self):\n",
    "        optimizer = optim.NAdam(\n",
    "            self.parameters(), lr=0.001, momentum_decay=0.5, weight_decay=1e-5\n",
    "        )\n",
    "        scheduler = optim.lr_scheduler.ReduceLROnPlateau(\n",
    "            optimizer, mode=\"min\", factor=0.1, patience=2, verbose=True\n",
    "        )\n",
    "        return {\n",
    "            \"optimizer\": optimizer,\n",
    "            \"lr_scheduler\": {\n",
    "                \"scheduler\": scheduler,\n",
    "                \"monitor\": \"train_loss\",\n",
    "            },\n",
    "        }"
   ]
  },
  {
   "cell_type": "code",
   "execution_count": 16,
   "metadata": {},
   "outputs": [],
   "source": [
    "from sklearn.model_selection import train_test_split\n",
    "from joblib import Parallel, delayed\n",
    "import multiprocessing\n",
    "\n",
    "import os\n",
    "from sklearn.decomposition import PCA\n",
    "from sklearn.feature_selection import VarianceThreshold\n",
    "from sklearn.preprocessing import StandardScaler, PolynomialFeatures\n",
    "import numpy as np\n",
    "import pandas as pd\n",
    "import torch\n",
    "import joblib\n",
    "import hashlib\n",
    "\n",
    "\n",
    "def prepare_df(\n",
    "    df: pd.DataFrame,\n",
    "    is_training=True,\n",
    "):\n",
    "    print(\"Preparing DataFrame...\")\n",
    "    df_hash = hashlib.md5(pd.util.hash_pandas_object(df).values).hexdigest()\n",
    "    cache_dir = \"./cache\"\n",
    "    param_string = f\"{is_training}\"\n",
    "    cache_file = os.path.join(cache_dir, f\"prepared_df_{df_hash}_{param_string}.joblib\")\n",
    "\n",
    "    # Check if cached version exists\n",
    "    if os.path.exists(cache_file):\n",
    "        print(\"Loading cached prepared DataFrame...\")\n",
    "        return joblib.load(cache_file)\n",
    "    start_time = time.time()\n",
    "\n",
    "    drop_columns_train = [\n",
    "        \"lesion_id\",\n",
    "        \"iddx_full\",\n",
    "        \"iddx_1\",\n",
    "        \"iddx_2\",\n",
    "        \"iddx_3\",\n",
    "        \"iddx_4\",\n",
    "        \"iddx_5\",\n",
    "        \"mel_mitotic_index\",\n",
    "        \"mel_thick_mm\",\n",
    "        \"tbp_lv_dnn_lesion_confidence\",\n",
    "    ]\n",
    "    drop_columns_test = [\"attribution\", \"copyright_license\"]\n",
    "\n",
    "    if is_training:\n",
    "        df.drop(drop_columns_train, axis=1, inplace=True)\n",
    "    df.drop(drop_columns_test, axis=1, inplace=True)\n",
    "    target_columns = [\"target\"] if is_training else []\n",
    "    X = df.drop(target_columns + [\"isic_id\"], axis=1)\n",
    "    y = torch.tensor(df[\"target\"].values, dtype=torch.int8) if is_training else None\n",
    "\n",
    "    # Separate features by type\n",
    "    integer_features = X.select_dtypes(include=[\"int64\", \"int32\", \"int16\"]).columns\n",
    "    float_features = X.select_dtypes(include=[\"float64\", \"float32\", \"float16\"]).columns\n",
    "    categorical_features = X.select_dtypes(include=[\"object\"]).columns\n",
    "\n",
    "    # Handle NaN values and type conversions\n",
    "    for feature in float_features:\n",
    "        X[feature] = X[feature].fillna(X[feature].mean()).astype(\"float32\")\n",
    "\n",
    "    for feature in integer_features:\n",
    "        X[feature] = X[feature].fillna(X[feature].median()).astype(\"int32\")\n",
    "\n",
    "    for feature in categorical_features:\n",
    "        X[feature] = X[feature].astype(str).fillna(\"Unknown\")\n",
    "        X[feature] = pd.Categorical(X[feature]).codes\n",
    "\n",
    "    # Standardize all numeric features\n",
    "    scaler = StandardScaler()\n",
    "    X_scaled = scaler.fit_transform(X)\n",
    "    X_scaled = pd.DataFrame(X_scaled, columns=X.columns, index=X.index)\n",
    "\n",
    "    X_final = X_scaled\n",
    "\n",
    "    # Final check for any remaining NaN values\n",
    "    assert (\n",
    "        not X_final.isnull().any().any()\n",
    "    ), \"There are still NaN values in the processed data\"\n",
    "\n",
    "    print(\"Data shape after preprocessing:\", X_final.shape)\n",
    "    print(\"Number of NaN values after preprocessing:\", X_final.isnull().sum().sum())\n",
    "\n",
    "    if is_training:\n",
    "        print(\"Class distribution:\")\n",
    "        print(df[\"target\"].value_counts(normalize=True))\n",
    "\n",
    "    print(f\"DataFrame prepared in {time.time() - start_time:.2f} seconds\")\n",
    "    print(f\"Metadata Shape: {X_final.shape}\")\n",
    "\n",
    "    # Cache the results\n",
    "    os.makedirs(cache_dir, exist_ok=True)\n",
    "    joblib.dump((X_final, y, df[\"isic_id\"]), cache_file)\n",
    "    return X_final, y, df[\"isic_id\"]\n",
    "\n",
    "\n",
    "class ISICDataset(Dataset):\n",
    "    def __init__(self, hdf5_path, metadata_df, is_training=True, transform=None):\n",
    "        self.hdf5_path = hdf5_path\n",
    "        self.metadata_df = metadata_df\n",
    "        self.is_training = is_training\n",
    "        self.transform = transform\n",
    "        self.X, self.y, self.image_names = prepare_df(metadata_df, is_training)\n",
    "        self.metadata_shape = self.X.shape\n",
    "        self.train_transform = get_transforms(is_training=True)\n",
    "        self.test_transform = get_transforms(is_training=False)\n",
    "\n",
    "    def __len__(self):\n",
    "        return len(self.X)\n",
    "\n",
    "    def __getitem__(self, idx):\n",
    "        if isinstance(idx, tuple):\n",
    "            idx, augment = idx\n",
    "        else:\n",
    "            augment = False\n",
    "\n",
    "        isic_id = self.image_names[idx]\n",
    "        metadata = torch.tensor(self.X.iloc[idx].values, dtype=torch.float32)\n",
    "\n",
    "        with h5py.File(self.hdf5_path, \"r\") as hdf:\n",
    "            image_data = hdf[str(isic_id)][()]\n",
    "            image = Image.open(io.BytesIO(image_data))\n",
    "\n",
    "        if self.is_training and augment:\n",
    "            image = self.train_transform(image)\n",
    "        elif self.transform:\n",
    "            image = self.transform(image)\n",
    "\n",
    "        if self.is_training:\n",
    "            target = self.y[idx]\n",
    "            target_long = target.long()\n",
    "            del target\n",
    "            target_one_hot = nn.functional.one_hot(target_long, num_classes=2).float()\n",
    "            return (image, metadata), target_one_hot\n",
    "        else:\n",
    "            return (image, metadata), isic_id\n",
    "\n",
    "\n",
    "# Create separate transforms for training and validation\n",
    "def get_transforms(is_training=True):\n",
    "    # Define augmentation parameters\n",
    "    ROTATION_RANGE = 90\n",
    "    BRIGHTNESS_RANGE = (0.9, 1.1)\n",
    "    CONTRAST_RANGE = (0.9, 1.1)\n",
    "    SATURATION_RANGE = (0.9, 1.1)\n",
    "    HUE_RANGE = (-0.001, 0.001)\n",
    "    base_transforms = [\n",
    "        transforms.ToTensor(),\n",
    "        transforms.Resize((139, 139), antialias=True),\n",
    "    ]\n",
    "\n",
    "    if is_training:\n",
    "        train_transforms = [\n",
    "            transforms.RandomResizedCrop(\n",
    "                size=(139, 139), scale=(0.99, 1.01), antialias=True\n",
    "            ),\n",
    "            transforms.RandomRotation(\n",
    "                degrees=ROTATION_RANGE,\n",
    "                interpolation=transforms.InterpolationMode.BICUBIC,\n",
    "            ),\n",
    "            transforms.ColorJitter(\n",
    "                brightness=BRIGHTNESS_RANGE,\n",
    "                contrast=CONTRAST_RANGE,\n",
    "                saturation=SATURATION_RANGE,\n",
    "                hue=HUE_RANGE,\n",
    "            ),\n",
    "        ]\n",
    "        return transforms.Compose(train_transforms + base_transforms)\n",
    "    else:\n",
    "        return transforms.Compose(base_transforms)\n",
    "\n",
    "\n",
    "class ISICDataModule(pl.LightningDataModule):\n",
    "\n",
    "    def __init__(\n",
    "        self,\n",
    "        train_hdf5_path: str,\n",
    "        test_hdf5_path: str,\n",
    "        train_metadata_df: pd.DataFrame,\n",
    "        test_metadata_df: pd.DataFrame,\n",
    "        batch_size: int = 32,\n",
    "    ):\n",
    "        super().__init__()\n",
    "        self.train_hdf5_path = train_hdf5_path\n",
    "        self.test_hdf5_path = test_hdf5_path\n",
    "        self.batch_size = batch_size\n",
    "\n",
    "        self.train_metadata_df = train_metadata_df\n",
    "        self.test_metadata_df = test_metadata_df\n",
    "\n",
    "    def setup(self, stage=None):\n",
    "        full_dataset = ISICDataset(\n",
    "            self.train_hdf5_path,\n",
    "            self.train_metadata_df,\n",
    "            True,\n",
    "            transform=get_transforms(is_training=True),\n",
    "        )\n",
    "        self.metadata_shape = full_dataset.metadata_shape\n",
    "        \n",
    "        # Get targets for stratification\n",
    "        targets = self.train_metadata_df[\"target\"].values\n",
    "        balanced_indices = self.balance_dataset(np.arange(len(full_dataset)), targets)\n",
    "        \n",
    "        # Extract actual indices and augmentation flags\n",
    "        balanced_indices, augmentation_flags = zip(*balanced_indices)\n",
    "        balanced_indices = np.array(balanced_indices)\n",
    "        \n",
    "        augmentation_flags = np.array(augmentation_flags)\n",
    "        balanced_targets = targets[balanced_indices]\n",
    "\n",
    "        print(f\"Unique indices: {np.unique(balanced_indices)}\")\n",
    "        print(f\"Unique targets: {np.unique(balanced_targets)}\")\n",
    "        \n",
    "        print(len(balanced_indices))\n",
    "        print(len(balanced_targets))\n",
    "        \n",
    "        unique, counts = np.unique(balanced_targets, return_counts=True)\n",
    "        print(f\"Setup Count: {dict(zip(unique, counts))}\")\n",
    "        # Perform stratified split\n",
    "        train_indices, temp_indices, train_targets, temp_targets = train_test_split(\n",
    "            balanced_indices,\n",
    "            balanced_targets,\n",
    "            test_size=0.2,\n",
    "            # stratify=balanced_targets,\n",
    "            random_state=42,\n",
    "        )\n",
    "\n",
    "        val_indices, test_indices, val_targets, test_targets = train_test_split(\n",
    "            temp_indices,\n",
    "            temp_targets,\n",
    "            test_size=0.5,\n",
    "            # stratify=temp_targets,\n",
    "            random_state=42,\n",
    "        )\n",
    "\n",
    "        # Create subset datasets\n",
    "        if stage in [\"fit\", \"validate\", \"test\"]:\n",
    "            self.train_dataset = Subset(full_dataset, train_indices)\n",
    "            self.val_dataset = Subset(full_dataset, val_indices)\n",
    "            self.test_dataset = Subset(full_dataset, test_indices)\n",
    "\n",
    "        # Check for class balance\n",
    "        self._check_class_balance(train_targets.flatten(), \"Train\")\n",
    "        self._check_class_balance(val_targets.flatten(), \"Validation\")\n",
    "        self._check_class_balance(test_targets.flatten(), \"Test\")\n",
    "\n",
    "        print(f\"Length of full_dataset: {len(full_dataset)}\")\n",
    "        print(\n",
    "            f\"Length of train_indices: {len(train_indices)}, max index: {max(train_indices)}\"\n",
    "        )\n",
    "        print(\n",
    "            f\"Length of val_indices: {len(val_indices)}, max index: {max(val_indices)}\"\n",
    "        )\n",
    "        print(\n",
    "            f\"Length of test_indices: {len(test_indices)}, max index: {max(test_indices)}\"\n",
    "        )\n",
    "\n",
    "    def balance_dataset(self, indices, targets):\n",
    "        np.random.seed(42)\n",
    "        positive_indices = indices[targets == 1]\n",
    "        negative_indices = indices[targets == 0]\n",
    "\n",
    "        num_positive_samples = len(positive_indices)\n",
    "        num_negative_samples = len(negative_indices)\n",
    "\n",
    "        print(f\"Number of Positive Samples: {num_positive_samples}\")\n",
    "        print(f\"Number of Negative Samples: {num_negative_samples}\")\n",
    "\n",
    "        # Determine the number of samples for each class\n",
    "        num_samples = int(np.mean([num_positive_samples, num_negative_samples]))//10\n",
    "\n",
    "        # Upsample positive indices\n",
    "        upsampled_positive_indices = np.random.choice(\n",
    "            positive_indices, size=num_samples // 2, replace=True\n",
    "        )\n",
    "\n",
    "        # Downsample negative indices\n",
    "        downsampled_negative_indices = np.random.choice(\n",
    "            negative_indices, size=num_samples // 2, replace=False\n",
    "        )\n",
    "\n",
    "        # Add augmentation flag\n",
    "        balanced_indices = [(idx, True) for idx in upsampled_positive_indices] + [\n",
    "            (idx, False) for idx in downsampled_negative_indices\n",
    "        ]\n",
    "\n",
    "        np.random.shuffle(balanced_indices)\n",
    "\n",
    "        print(f\"Length of Balanced Positive Indices: {len(upsampled_positive_indices)}\")\n",
    "        print(\n",
    "            f\"Length of Balanced Negative Indices: {len(downsampled_negative_indices)}\"\n",
    "        )\n",
    "\n",
    "        return balanced_indices\n",
    "\n",
    "    def _check_class_balance(self, targets, split_name):\n",
    "        class_counts = np.bincount(targets)\n",
    "        print(\n",
    "            f\"{split_name} class distribution: {class_counts / len(targets)}, {len(targets)}\"\n",
    "        )\n",
    "        if len(class_counts) < 2 or min(class_counts) == 0:\n",
    "            raise ValueError(f\"Imbalanced classes in {split_name} split\")\n",
    "\n",
    "    def train_dataloader(self):\n",
    "        data_loader = DataLoader(\n",
    "            self.train_dataset,\n",
    "            batch_size=self.batch_size,\n",
    "            shuffle=True,\n",
    "            num_workers=16,\n",
    "            pin_memory=True,\n",
    "        )\n",
    "        print(f\"Number of batches in train_loader: {len(data_loader)}\")\n",
    "        return data_loader\n",
    "\n",
    "    def val_dataloader(self):\n",
    "        data_loader = DataLoader(\n",
    "            self.val_dataset,\n",
    "            batch_size=self.batch_size,\n",
    "            shuffle=False,\n",
    "            num_workers=4,\n",
    "            pin_memory=True,\n",
    "        )\n",
    "        print(f\"Number of batches in val_loader: {len(data_loader)}\")\n",
    "        return data_loader\n",
    "\n",
    "    def test_dataloader(self):\n",
    "\n",
    "        data_loader = DataLoader(\n",
    "            self.test_dataset,\n",
    "            batch_size=self.batch_size,\n",
    "            shuffle=False,\n",
    "            num_workers=4,\n",
    "            pin_memory=True,\n",
    "        )\n",
    "        print(f\"Number of batches in test_loader: {len(data_loader)}\")\n",
    "        return data_loader"
   ]
  },
  {
   "cell_type": "code",
   "execution_count": 17,
   "metadata": {},
   "outputs": [
    {
     "name": "stderr",
     "output_type": "stream",
     "text": [
      "/tmp/ipykernel_43727/2539756025.py:5: DtypeWarning: Columns (51,52) have mixed types. Specify dtype option on import or set low_memory=False.\n",
      "  train_metadata_df = pd.read_csv(\"train-metadata.csv\")\n"
     ]
    }
   ],
   "source": [
    "# Define parameters\n",
    "img_height, img_width = 139, 139\n",
    "\n",
    "# Load metadata\n",
    "train_metadata_df = pd.read_csv(\"train-metadata.csv\")\n",
    "test_metadata_df = pd.read_csv(\"test-metadata.csv\")"
   ]
  },
  {
   "cell_type": "code",
   "execution_count": 18,
   "metadata": {},
   "outputs": [
    {
     "name": "stderr",
     "output_type": "stream",
     "text": [
      "/tmp/ipykernel_43727/3641890997.py:266: FutureWarning: `torch.cuda.amp.GradScaler(args...)` is deprecated. Please use `torch.amp.GradScaler('cuda', args...)` instead.\n",
      "  self.scaler = GradScaler()\n",
      "/home/pupperemeritus/miniconda3/envs/isic/lib/python3.12/site-packages/lightning_fabric/connector.py:571: `precision=16` is supported for historical reasons but its usage is discouraged. Please set your precision to 16-mixed instead!\n",
      "Using 16bit Automatic Mixed Precision (AMP)\n",
      "GPU available: True (cuda), used: True\n",
      "TPU available: False, using: 0 TPU cores\n",
      "HPU available: False, using: 0 HPUs\n"
     ]
    },
    {
     "name": "stdout",
     "output_type": "stream",
     "text": [
      "Preparing DataFrame...\n",
      "Loading cached prepared DataFrame...\n"
     ]
    },
    {
     "name": "stderr",
     "output_type": "stream",
     "text": [
      "/home/pupperemeritus/miniconda3/envs/isic/lib/python3.12/site-packages/torch/storage.py:414: FutureWarning: You are using `torch.load` with `weights_only=False` (the current default value), which uses the default pickle module implicitly. It is possible to construct malicious pickle data which will execute arbitrary code during unpickling (See https://github.com/pytorch/pytorch/blob/main/SECURITY.md#untrusted-models for more details). In a future release, the default value for `weights_only` will be flipped to `True`. This limits the functions that could be executed during unpickling. Arbitrary objects will no longer be allowed to be loaded via this mode unless they are explicitly allowlisted by the user via `torch.serialization.add_safe_globals`. We recommend you start setting `weights_only=True` for any use case where you don't have full control of the loaded file. Please open an issue on GitHub for any issues related to this experimental feature.\n",
      "  return torch.load(io.BytesIO(b))\n",
      "LOCAL_RANK: 0 - CUDA_VISIBLE_DEVICES: [0]\n",
      "/home/pupperemeritus/miniconda3/envs/isic/lib/python3.12/site-packages/torch/optim/lr_scheduler.py:60: UserWarning: The verbose parameter is deprecated. Please use get_last_lr() to access the learning rate.\n",
      "  warnings.warn(\n",
      "\n",
      "   | Name             | Type               | Params | Mode \n",
      "-----------------------------------------------------------------\n",
      "0  | conv1            | Conv2d             | 19.5 K | train\n",
      "1  | bn1              | BatchNorm2d        | 512    | train\n",
      "2  | activation       | Hardswish          | 0      | train\n",
      "3  | inv_res_blocks   | ModuleList         | 2.2 M  | train\n",
      "4  | dense_block      | DenseBlock         | 2.0 M  | train\n",
      "5  | transition       | TransitionLayer    | 351 K  | train\n",
      "6  | attention        | AttentionBlock     | 215 K  | train\n",
      "7  | avg_pool         | AvgPool2d          | 0      | train\n",
      "8  | inception        | InceptionBlock     | 406 K  | train\n",
      "9  | inception2       | InceptionBlock     | 526 K  | train\n",
      "10 | attention2       | AttentionBlock     | 280 K  | train\n",
      "11 | gated_res        | GatedResidualBlock | 1.8 M  | train\n",
      "12 | attention3       | AttentionBlock     | 263 K  | train\n",
      "13 | global_avg_pool  | AdaptiveAvgPool2d  | 0      | train\n",
      "14 | flatten          | Flatten            | 0      | train\n",
      "15 | fc1              | Linear             | 1.1 M  | train\n",
      "16 | bn_fc1           | BatchNorm1d        | 8.2 K  | train\n",
      "17 | fc2              | Linear             | 8.4 M  | train\n",
      "18 | bn_fc2           | BatchNorm1d        | 4.1 K  | train\n",
      "19 | fc3              | Linear             | 1.0 M  | train\n",
      "20 | bn_fc3           | BatchNorm1d        | 1.0 K  | train\n",
      "21 | fc4              | Linear             | 65.7 K | train\n",
      "22 | bn_fc4           | BatchNorm1d        | 256    | train\n",
      "23 | dropout          | Dropout            | 0      | train\n",
      "24 | metadata_fc1     | Linear             | 172 K  | train\n",
      "25 | metadata_bn1     | BatchNorm1d        | 8.2 K  | train\n",
      "26 | metadata_fc2     | Linear             | 4.2 M  | train\n",
      "27 | metadata_bn2     | BatchNorm1d        | 2.0 K  | train\n",
      "28 | metadata_fc3     | Linear             | 524 K  | train\n",
      "29 | metadata_bn3     | BatchNorm1d        | 1.0 K  | train\n",
      "30 | metadata_fc4     | Linear             | 65.7 K | train\n",
      "31 | metadata_bn4     | BatchNorm1d        | 256    | train\n",
      "32 | final_fc         | Linear             | 514    | train\n",
      "33 | final_activation | Sigmoid            | 0      | train\n",
      "34 | loss             | CrossEntropyLoss   | 0      | train\n",
      "35 | auroc            | PartialAUROC       | 0      | train\n",
      "-----------------------------------------------------------------\n",
      "23.7 M    Trainable params\n",
      "0         Non-trainable params\n",
      "23.7 M    Total params\n",
      "94.654    Total estimated model params size (MB)\n",
      "477       Modules in train mode\n",
      "0         Modules in eval mode\n"
     ]
    },
    {
     "name": "stdout",
     "output_type": "stream",
     "text": [
      "Number of Positive Samples: 393\n",
      "Number of Negative Samples: 400666\n",
      "Length of Balanced Positive Indices: 10026\n",
      "Length of Balanced Negative Indices: 10026\n",
      "Unique indices: [    81    237    261 ... 400922 400982 400984]\n",
      "Unique targets: [0 1]\n",
      "20052\n",
      "20052\n",
      "Setup Count: {np.int64(0): np.int64(10026), np.int64(1): np.int64(10026)}\n",
      "Train class distribution: [0.50090393 0.49909607], 16041\n",
      "Validation class distribution: [0.50573566 0.49426434], 2005\n",
      "Test class distribution: [0.48703888 0.51296112], 2006\n",
      "Length of full_dataset: 401059\n",
      "Length of train_indices: 16041, max index: 400982\n",
      "Length of val_indices: 2005, max index: 400922\n",
      "Length of test_indices: 2006, max index: 400984\n",
      "Sanity Checking: |          | 0/? [00:00<?, ?it/s]Number of batches in val_loader: 32\n",
      "Sanity Checking DataLoader 0:   0%|          | 0/2 [00:00<?, ?it/s]Warning: All TPR values are zero. AUC is undefined.\n",
      "Number of batches in train_loader: 251                                     \n",
      "Epoch 0: 100%|██████████| 251/251 [01:35<00:00,  2.64it/s, v_num=142, train_loss_step=0.288, train_pAUC_step=0.158, val_loss=0.236, val_pAUC=0.174, train_loss_epoch=0.340, train_pAUC_epoch=0.150]"
     ]
    },
    {
     "name": "stderr",
     "output_type": "stream",
     "text": [
      "Epoch 0, global step 63: 'val_loss' reached 0.23570 (best 0.23570), saving model to '/home/pupperemeritus/DL/isic-2024-challenge/checkpoints/version_142/gurunet-epoch=00-val_loss=0.23570.ckpt' as top 3\n",
      "Epoch 0, global step 63: 'val_pAUC' reached 0.17395 (best 0.17395), saving model to '/home/pupperemeritus/DL/isic-2024-challenge/checkpoints/version_142/gurunet-epoch=00-val_pAUC=0.17395.ckpt' as top 3\n"
     ]
    },
    {
     "name": "stdout",
     "output_type": "stream",
     "text": [
      "Epoch 1: 100%|██████████| 251/251 [01:34<00:00,  2.65it/s, v_num=142, train_loss_step=0.399, train_pAUC_step=0.138, val_loss=0.205, val_pAUC=0.181, train_loss_epoch=0.255, train_pAUC_epoch=0.172]"
     ]
    },
    {
     "name": "stderr",
     "output_type": "stream",
     "text": [
      "Epoch 1, global step 126: 'val_loss' reached 0.20501 (best 0.20501), saving model to '/home/pupperemeritus/DL/isic-2024-challenge/checkpoints/version_142/gurunet-epoch=01-val_loss=0.20501.ckpt' as top 3\n",
      "Epoch 1, global step 126: 'val_pAUC' reached 0.18115 (best 0.18115), saving model to '/home/pupperemeritus/DL/isic-2024-challenge/checkpoints/version_142/gurunet-epoch=01-val_pAUC=0.18115.ckpt' as top 3\n"
     ]
    },
    {
     "name": "stdout",
     "output_type": "stream",
     "text": [
      "Epoch 2: 100%|██████████| 251/251 [01:44<00:00,  2.39it/s, v_num=142, train_loss_step=0.115, train_pAUC_step=0.198, val_loss=0.184, val_pAUC=0.184, train_loss_epoch=0.229, train_pAUC_epoch=0.178] "
     ]
    },
    {
     "name": "stderr",
     "output_type": "stream",
     "text": [
      "Epoch 2, global step 189: 'val_loss' reached 0.18444 (best 0.18444), saving model to '/home/pupperemeritus/DL/isic-2024-challenge/checkpoints/version_142/gurunet-epoch=02-val_loss=0.18444.ckpt' as top 3\n",
      "Epoch 2, global step 189: 'val_pAUC' reached 0.18378 (best 0.18378), saving model to '/home/pupperemeritus/DL/isic-2024-challenge/checkpoints/version_142/gurunet-epoch=02-val_pAUC=0.18378.ckpt' as top 3\n"
     ]
    },
    {
     "name": "stdout",
     "output_type": "stream",
     "text": [
      "Epoch 3: 100%|██████████| 251/251 [01:24<00:00,  2.97it/s, v_num=142, train_loss_step=0.127, train_pAUC_step=0.195, val_loss=0.176, val_pAUC=0.184, train_loss_epoch=0.211, train_pAUC_epoch=0.181] "
     ]
    },
    {
     "name": "stderr",
     "output_type": "stream",
     "text": [
      "Epoch 3, global step 252: 'val_loss' reached 0.17551 (best 0.17551), saving model to '/home/pupperemeritus/DL/isic-2024-challenge/checkpoints/version_142/gurunet-epoch=03-val_loss=0.17551.ckpt' as top 3\n",
      "Epoch 3, global step 252: 'val_pAUC' reached 0.18407 (best 0.18407), saving model to '/home/pupperemeritus/DL/isic-2024-challenge/checkpoints/version_142/gurunet-epoch=03-val_pAUC=0.18407.ckpt' as top 3\n"
     ]
    },
    {
     "name": "stdout",
     "output_type": "stream",
     "text": [
      "Epoch 4: 100%|██████████| 251/251 [01:43<00:00,  2.44it/s, v_num=142, train_loss_step=0.154, train_pAUC_step=0.186, val_loss=0.166, val_pAUC=0.186, train_loss_epoch=0.195, train_pAUC_epoch=0.183] "
     ]
    },
    {
     "name": "stderr",
     "output_type": "stream",
     "text": [
      "Epoch 4, global step 315: 'val_loss' reached 0.16578 (best 0.16578), saving model to '/home/pupperemeritus/DL/isic-2024-challenge/checkpoints/version_142/gurunet-epoch=04-val_loss=0.16578.ckpt' as top 3\n",
      "Epoch 4, global step 315: 'val_pAUC' reached 0.18583 (best 0.18583), saving model to '/home/pupperemeritus/DL/isic-2024-challenge/checkpoints/version_142/gurunet-epoch=04-val_pAUC=0.18583.ckpt' as top 3\n"
     ]
    },
    {
     "name": "stdout",
     "output_type": "stream",
     "text": [
      "Epoch 5: 100%|██████████| 251/251 [02:00<00:00,  2.08it/s, v_num=142, train_loss_step=0.067, train_pAUC_step=0.200, val_loss=0.153, val_pAUC=0.189, train_loss_epoch=0.187, train_pAUC_epoch=0.184] "
     ]
    },
    {
     "name": "stderr",
     "output_type": "stream",
     "text": [
      "Epoch 5, global step 378: 'val_loss' reached 0.15253 (best 0.15253), saving model to '/home/pupperemeritus/DL/isic-2024-challenge/checkpoints/version_142/gurunet-epoch=05-val_loss=0.15253.ckpt' as top 3\n",
      "Epoch 5, global step 378: 'val_pAUC' reached 0.18874 (best 0.18874), saving model to '/home/pupperemeritus/DL/isic-2024-challenge/checkpoints/version_142/gurunet-epoch=05-val_pAUC=0.18874.ckpt' as top 3\n"
     ]
    },
    {
     "name": "stdout",
     "output_type": "stream",
     "text": [
      "Epoch 6: 100%|██████████| 251/251 [01:55<00:00,  2.18it/s, v_num=142, train_loss_step=0.343, train_pAUC_step=0.167, val_loss=0.143, val_pAUC=0.191, train_loss_epoch=0.181, train_pAUC_epoch=0.186] "
     ]
    },
    {
     "name": "stderr",
     "output_type": "stream",
     "text": [
      "Epoch 6, global step 441: 'val_loss' reached 0.14251 (best 0.14251), saving model to '/home/pupperemeritus/DL/isic-2024-challenge/checkpoints/version_142/gurunet-epoch=06-val_loss=0.14251.ckpt' as top 3\n",
      "Epoch 6, global step 441: 'val_pAUC' reached 0.19088 (best 0.19088), saving model to '/home/pupperemeritus/DL/isic-2024-challenge/checkpoints/version_142/gurunet-epoch=06-val_pAUC=0.19088.ckpt' as top 3\n"
     ]
    },
    {
     "name": "stdout",
     "output_type": "stream",
     "text": [
      "Epoch 7: 100%|██████████| 251/251 [02:01<00:00,  2.07it/s, v_num=142, train_loss_step=0.163, train_pAUC_step=0.186, val_loss=0.138, val_pAUC=0.190, train_loss_epoch=0.174, train_pAUC_epoch=0.187] "
     ]
    },
    {
     "name": "stderr",
     "output_type": "stream",
     "text": [
      "Epoch 7, global step 504: 'val_loss' reached 0.13823 (best 0.13823), saving model to '/home/pupperemeritus/DL/isic-2024-challenge/checkpoints/version_142/gurunet-epoch=07-val_loss=0.13823.ckpt' as top 3\n",
      "Epoch 7, global step 504: 'val_pAUC' reached 0.19037 (best 0.19088), saving model to '/home/pupperemeritus/DL/isic-2024-challenge/checkpoints/version_142/gurunet-epoch=07-val_pAUC=0.19037.ckpt' as top 3\n"
     ]
    },
    {
     "name": "stdout",
     "output_type": "stream",
     "text": [
      "Epoch 8: 100%|██████████| 251/251 [01:37<00:00,  2.58it/s, v_num=142, train_loss_step=0.245, train_pAUC_step=0.175, val_loss=0.126, val_pAUC=0.192, train_loss_epoch=0.160, train_pAUC_epoch=0.189] "
     ]
    },
    {
     "name": "stderr",
     "output_type": "stream",
     "text": [
      "Epoch 8, global step 567: 'val_loss' reached 0.12598 (best 0.12598), saving model to '/home/pupperemeritus/DL/isic-2024-challenge/checkpoints/version_142/gurunet-epoch=08-val_loss=0.12598.ckpt' as top 3\n",
      "Epoch 8, global step 567: 'val_pAUC' reached 0.19225 (best 0.19225), saving model to '/home/pupperemeritus/DL/isic-2024-challenge/checkpoints/version_142/gurunet-epoch=08-val_pAUC=0.19225.ckpt' as top 3\n"
     ]
    },
    {
     "name": "stdout",
     "output_type": "stream",
     "text": [
      "Epoch 9: 100%|██████████| 251/251 [01:29<00:00,  2.80it/s, v_num=142, train_loss_step=0.101, train_pAUC_step=0.195, val_loss=0.120, val_pAUC=0.194, train_loss_epoch=0.156, train_pAUC_epoch=0.190] "
     ]
    },
    {
     "name": "stderr",
     "output_type": "stream",
     "text": [
      "Epoch 9, global step 630: 'val_loss' reached 0.11991 (best 0.11991), saving model to '/home/pupperemeritus/DL/isic-2024-challenge/checkpoints/version_142/gurunet-epoch=09-val_loss=0.11991.ckpt' as top 3\n",
      "Epoch 9, global step 630: 'val_pAUC' reached 0.19365 (best 0.19365), saving model to '/home/pupperemeritus/DL/isic-2024-challenge/checkpoints/version_142/gurunet-epoch=09-val_pAUC=0.19365.ckpt' as top 3\n"
     ]
    },
    {
     "name": "stdout",
     "output_type": "stream",
     "text": [
      "Epoch 10: 100%|██████████| 251/251 [01:30<00:00,  2.78it/s, v_num=142, train_loss_step=0.162, train_pAUC_step=0.195, val_loss=0.125, val_pAUC=0.192, train_loss_epoch=0.148, train_pAUC_epoch=0.190] "
     ]
    },
    {
     "name": "stderr",
     "output_type": "stream",
     "text": [
      "Epoch 10, global step 693: 'val_loss' reached 0.12486 (best 0.11991), saving model to '/home/pupperemeritus/DL/isic-2024-challenge/checkpoints/version_142/gurunet-epoch=10-val_loss=0.12486.ckpt' as top 3\n",
      "Epoch 10, global step 693: 'val_pAUC' reached 0.19182 (best 0.19365), saving model to '/home/pupperemeritus/DL/isic-2024-challenge/checkpoints/version_142/gurunet-epoch=10-val_pAUC=0.19182.ckpt' as top 3\n"
     ]
    },
    {
     "name": "stdout",
     "output_type": "stream",
     "text": [
      "Epoch 11: 100%|██████████| 251/251 [01:30<00:00,  2.77it/s, v_num=142, train_loss_step=0.139, train_pAUC_step=0.190, val_loss=0.107, val_pAUC=0.195, train_loss_epoch=0.148, train_pAUC_epoch=0.191] "
     ]
    },
    {
     "name": "stderr",
     "output_type": "stream",
     "text": [
      "Epoch 11, global step 756: 'val_loss' reached 0.10651 (best 0.10651), saving model to '/home/pupperemeritus/DL/isic-2024-challenge/checkpoints/version_142/gurunet-epoch=11-val_loss=0.10651.ckpt' as top 3\n",
      "Epoch 11, global step 756: 'val_pAUC' reached 0.19472 (best 0.19472), saving model to '/home/pupperemeritus/DL/isic-2024-challenge/checkpoints/version_142/gurunet-epoch=11-val_pAUC=0.19472.ckpt' as top 3\n"
     ]
    },
    {
     "name": "stdout",
     "output_type": "stream",
     "text": [
      "Epoch 12: 100%|██████████| 251/251 [01:32<00:00,  2.72it/s, v_num=142, train_loss_step=0.0849, train_pAUC_step=0.200, val_loss=0.101, val_pAUC=0.195, train_loss_epoch=0.135, train_pAUC_epoch=0.192]"
     ]
    },
    {
     "name": "stderr",
     "output_type": "stream",
     "text": [
      "Epoch 12, global step 819: 'val_loss' reached 0.10062 (best 0.10062), saving model to '/home/pupperemeritus/DL/isic-2024-challenge/checkpoints/version_142/gurunet-epoch=12-val_loss=0.10062.ckpt' as top 3\n",
      "Epoch 12, global step 819: 'val_pAUC' reached 0.19518 (best 0.19518), saving model to '/home/pupperemeritus/DL/isic-2024-challenge/checkpoints/version_142/gurunet-epoch=12-val_pAUC=0.19518.ckpt' as top 3\n"
     ]
    },
    {
     "name": "stdout",
     "output_type": "stream",
     "text": [
      "Epoch 13: 100%|██████████| 251/251 [01:33<00:00,  2.68it/s, v_num=142, train_loss_step=0.162, train_pAUC_step=0.190, val_loss=0.109, val_pAUC=0.194, train_loss_epoch=0.140, train_pAUC_epoch=0.192] "
     ]
    },
    {
     "name": "stderr",
     "output_type": "stream",
     "text": [
      "Epoch 13, global step 882: 'val_loss' reached 0.10859 (best 0.10062), saving model to '/home/pupperemeritus/DL/isic-2024-challenge/checkpoints/version_142/gurunet-epoch=13-val_loss=0.10859.ckpt' as top 3\n",
      "Epoch 13, global step 882: 'val_pAUC' reached 0.19448 (best 0.19518), saving model to '/home/pupperemeritus/DL/isic-2024-challenge/checkpoints/version_142/gurunet-epoch=13-val_pAUC=0.19448.ckpt' as top 3\n"
     ]
    },
    {
     "name": "stdout",
     "output_type": "stream",
     "text": [
      "Epoch 14: 100%|██████████| 251/251 [01:39<00:00,  2.52it/s, v_num=142, train_loss_step=0.233, train_pAUC_step=0.186, val_loss=0.0955, val_pAUC=0.195, train_loss_epoch=0.130, train_pAUC_epoch=0.192]"
     ]
    },
    {
     "name": "stderr",
     "output_type": "stream",
     "text": [
      "Epoch 14, global step 945: 'val_loss' reached 0.09554 (best 0.09554), saving model to '/home/pupperemeritus/DL/isic-2024-challenge/checkpoints/version_142/gurunet-epoch=14-val_loss=0.09554.ckpt' as top 3\n",
      "Epoch 14, global step 945: 'val_pAUC' reached 0.19496 (best 0.19518), saving model to '/home/pupperemeritus/DL/isic-2024-challenge/checkpoints/version_142/gurunet-epoch=14-val_pAUC=0.19496.ckpt' as top 3\n"
     ]
    },
    {
     "name": "stdout",
     "output_type": "stream",
     "text": [
      "Epoch 15: 100%|██████████| 251/251 [01:51<00:00,  2.25it/s, v_num=142, train_loss_step=0.0819, train_pAUC_step=0.200, val_loss=0.0904, val_pAUC=0.195, train_loss_epoch=0.122, train_pAUC_epoch=0.193]"
     ]
    },
    {
     "name": "stderr",
     "output_type": "stream",
     "text": [
      "Epoch 15, global step 1008: 'val_loss' reached 0.09035 (best 0.09035), saving model to '/home/pupperemeritus/DL/isic-2024-challenge/checkpoints/version_142/gurunet-epoch=15-val_loss=0.09035.ckpt' as top 3\n",
      "Epoch 15, global step 1008: 'val_pAUC' reached 0.19524 (best 0.19524), saving model to '/home/pupperemeritus/DL/isic-2024-challenge/checkpoints/version_142/gurunet-epoch=15-val_pAUC=0.19524.ckpt' as top 3\n"
     ]
    },
    {
     "name": "stdout",
     "output_type": "stream",
     "text": [
      "Epoch 16:   0%|          | 0/251 [00:00<?, ?it/s, v_num=142, train_loss_step=0.0819, train_pAUC_step=0.200, val_loss=0.0904, val_pAUC=0.195, train_loss_epoch=0.122, train_pAUC_epoch=0.193]          "
     ]
    },
    {
     "name": "stderr",
     "output_type": "stream",
     "text": [
      "Trainer was signaled to stop but the required `min_epochs=50` or `min_steps=None` has not been met. Training will continue...\n"
     ]
    },
    {
     "name": "stdout",
     "output_type": "stream",
     "text": [
      "Epoch 16: 100%|██████████| 251/251 [01:52<00:00,  2.23it/s, v_num=142, train_loss_step=0.0324, train_pAUC_step=0.200, val_loss=0.0873, val_pAUC=0.195, train_loss_epoch=0.118, train_pAUC_epoch=0.193]"
     ]
    },
    {
     "name": "stderr",
     "output_type": "stream",
     "text": [
      "Epoch 16, global step 1071: 'val_loss' reached 0.08734 (best 0.08734), saving model to '/home/pupperemeritus/DL/isic-2024-challenge/checkpoints/version_142/gurunet-epoch=16-val_loss=0.08734.ckpt' as top 3\n",
      "Epoch 16, global step 1071: 'val_pAUC' reached 0.19549 (best 0.19549), saving model to '/home/pupperemeritus/DL/isic-2024-challenge/checkpoints/version_142/gurunet-epoch=16-val_pAUC=0.19549.ckpt' as top 3\n"
     ]
    },
    {
     "name": "stdout",
     "output_type": "stream",
     "text": [
      "Epoch 17: 100%|██████████| 251/251 [01:51<00:00,  2.25it/s, v_num=142, train_loss_step=0.117, train_pAUC_step=0.190, val_loss=0.0816, val_pAUC=0.196, train_loss_epoch=0.115, train_pAUC_epoch=0.194] "
     ]
    },
    {
     "name": "stderr",
     "output_type": "stream",
     "text": [
      "Epoch 17, global step 1134: 'val_loss' reached 0.08163 (best 0.08163), saving model to '/home/pupperemeritus/DL/isic-2024-challenge/checkpoints/version_142/gurunet-epoch=17-val_loss=0.08163.ckpt' as top 3\n",
      "Epoch 17, global step 1134: 'val_pAUC' reached 0.19628 (best 0.19628), saving model to '/home/pupperemeritus/DL/isic-2024-challenge/checkpoints/version_142/gurunet-epoch=17-val_pAUC=0.19628.ckpt' as top 3\n"
     ]
    },
    {
     "name": "stdout",
     "output_type": "stream",
     "text": [
      "Epoch 18: 100%|██████████| 251/251 [01:51<00:00,  2.24it/s, v_num=142, train_loss_step=0.0648, train_pAUC_step=0.200, val_loss=0.0747, val_pAUC=0.197, train_loss_epoch=0.113, train_pAUC_epoch=0.194]"
     ]
    },
    {
     "name": "stderr",
     "output_type": "stream",
     "text": [
      "Epoch 18, global step 1197: 'val_loss' reached 0.07466 (best 0.07466), saving model to '/home/pupperemeritus/DL/isic-2024-challenge/checkpoints/version_142/gurunet-epoch=18-val_loss=0.07466.ckpt' as top 3\n",
      "Epoch 18, global step 1197: 'val_pAUC' reached 0.19701 (best 0.19701), saving model to '/home/pupperemeritus/DL/isic-2024-challenge/checkpoints/version_142/gurunet-epoch=18-val_pAUC=0.19701.ckpt' as top 3\n"
     ]
    },
    {
     "name": "stdout",
     "output_type": "stream",
     "text": [
      "Epoch 19: 100%|██████████| 251/251 [01:45<00:00,  2.38it/s, v_num=142, train_loss_step=0.0739, train_pAUC_step=0.200, val_loss=0.0823, val_pAUC=0.196, train_loss_epoch=0.109, train_pAUC_epoch=0.194]"
     ]
    },
    {
     "name": "stderr",
     "output_type": "stream",
     "text": [
      "Epoch 19, global step 1260: 'val_loss' reached 0.08231 (best 0.07466), saving model to '/home/pupperemeritus/DL/isic-2024-challenge/checkpoints/version_142/gurunet-epoch=19-val_loss=0.08231.ckpt' as top 3\n",
      "Epoch 19, global step 1260: 'val_pAUC' reached 0.19627 (best 0.19701), saving model to '/home/pupperemeritus/DL/isic-2024-challenge/checkpoints/version_142/gurunet-epoch=19-val_pAUC=0.19627.ckpt' as top 3\n"
     ]
    },
    {
     "name": "stdout",
     "output_type": "stream",
     "text": [
      "Epoch 20: 100%|██████████| 251/251 [01:49<00:00,  2.29it/s, v_num=142, train_loss_step=0.0277, train_pAUC_step=0.200, val_loss=0.0741, val_pAUC=0.197, train_loss_epoch=0.109, train_pAUC_epoch=0.194]"
     ]
    },
    {
     "name": "stderr",
     "output_type": "stream",
     "text": [
      "Epoch 20, global step 1323: 'val_loss' reached 0.07413 (best 0.07413), saving model to '/home/pupperemeritus/DL/isic-2024-challenge/checkpoints/version_142/gurunet-epoch=20-val_loss=0.07413.ckpt' as top 3\n",
      "Epoch 20, global step 1323: 'val_pAUC' reached 0.19676 (best 0.19701), saving model to '/home/pupperemeritus/DL/isic-2024-challenge/checkpoints/version_142/gurunet-epoch=20-val_pAUC=0.19676.ckpt' as top 3\n"
     ]
    },
    {
     "name": "stdout",
     "output_type": "stream",
     "text": [
      "Epoch 21: 100%|██████████| 251/251 [01:53<00:00,  2.21it/s, v_num=142, train_loss_step=0.236, train_pAUC_step=0.189, val_loss=0.0755, val_pAUC=0.197, train_loss_epoch=0.107, train_pAUC_epoch=0.195] "
     ]
    },
    {
     "name": "stderr",
     "output_type": "stream",
     "text": [
      "Epoch 21, global step 1386: 'val_loss' reached 0.07546 (best 0.07413), saving model to '/home/pupperemeritus/DL/isic-2024-challenge/checkpoints/version_142/gurunet-epoch=21-val_loss=0.07546.ckpt' as top 3\n",
      "Epoch 21, global step 1386: 'val_pAUC' reached 0.19678 (best 0.19701), saving model to '/home/pupperemeritus/DL/isic-2024-challenge/checkpoints/version_142/gurunet-epoch=21-val_pAUC=0.19678.ckpt' as top 3\n"
     ]
    },
    {
     "name": "stdout",
     "output_type": "stream",
     "text": [
      "Epoch 22: 100%|██████████| 251/251 [01:53<00:00,  2.22it/s, v_num=142, train_loss_step=0.173, train_pAUC_step=0.184, val_loss=0.0641, val_pAUC=0.197, train_loss_epoch=0.100, train_pAUC_epoch=0.195] "
     ]
    },
    {
     "name": "stderr",
     "output_type": "stream",
     "text": [
      "Epoch 22, global step 1449: 'val_loss' reached 0.06407 (best 0.06407), saving model to '/home/pupperemeritus/DL/isic-2024-challenge/checkpoints/version_142/gurunet-epoch=22-val_loss=0.06407.ckpt' as top 3\n",
      "Epoch 22, global step 1449: 'val_pAUC' reached 0.19741 (best 0.19741), saving model to '/home/pupperemeritus/DL/isic-2024-challenge/checkpoints/version_142/gurunet-epoch=22-val_pAUC=0.19741.ckpt' as top 3\n"
     ]
    },
    {
     "name": "stdout",
     "output_type": "stream",
     "text": [
      "Epoch 23: 100%|██████████| 251/251 [01:52<00:00,  2.22it/s, v_num=142, train_loss_step=0.132, train_pAUC_step=0.193, val_loss=0.0713, val_pAUC=0.197, train_loss_epoch=0.0972, train_pAUC_epoch=0.196] "
     ]
    },
    {
     "name": "stderr",
     "output_type": "stream",
     "text": [
      "Epoch 23, global step 1512: 'val_loss' reached 0.07130 (best 0.06407), saving model to '/home/pupperemeritus/DL/isic-2024-challenge/checkpoints/version_142/gurunet-epoch=23-val_loss=0.07130.ckpt' as top 3\n",
      "Epoch 23, global step 1512: 'val_pAUC' reached 0.19727 (best 0.19741), saving model to '/home/pupperemeritus/DL/isic-2024-challenge/checkpoints/version_142/gurunet-epoch=23-val_pAUC=0.19727.ckpt' as top 3\n"
     ]
    },
    {
     "name": "stdout",
     "output_type": "stream",
     "text": [
      "Epoch 24: 100%|██████████| 251/251 [01:54<00:00,  2.20it/s, v_num=142, train_loss_step=0.0169, train_pAUC_step=0.200, val_loss=0.0725, val_pAUC=0.197, train_loss_epoch=0.0915, train_pAUC_epoch=0.196]"
     ]
    },
    {
     "name": "stderr",
     "output_type": "stream",
     "text": [
      "Epoch 24, global step 1575: 'val_loss' reached 0.07254 (best 0.06407), saving model to '/home/pupperemeritus/DL/isic-2024-challenge/checkpoints/version_142/gurunet-epoch=24-val_loss=0.07254.ckpt' as top 3\n",
      "Epoch 24, global step 1575: 'val_pAUC' reached 0.19729 (best 0.19741), saving model to '/home/pupperemeritus/DL/isic-2024-challenge/checkpoints/version_142/gurunet-epoch=24-val_pAUC=0.19729.ckpt' as top 3\n"
     ]
    },
    {
     "name": "stdout",
     "output_type": "stream",
     "text": [
      "Epoch 25: 100%|██████████| 251/251 [02:01<00:00,  2.06it/s, v_num=142, train_loss_step=0.127, train_pAUC_step=0.200, val_loss=0.0683, val_pAUC=0.198, train_loss_epoch=0.0981, train_pAUC_epoch=0.195] "
     ]
    },
    {
     "name": "stderr",
     "output_type": "stream",
     "text": [
      "Epoch 25, global step 1638: 'val_loss' reached 0.06832 (best 0.06407), saving model to '/home/pupperemeritus/DL/isic-2024-challenge/checkpoints/version_142/gurunet-epoch=25-val_loss=0.06832.ckpt' as top 3\n",
      "Epoch 25, global step 1638: 'val_pAUC' reached 0.19763 (best 0.19763), saving model to '/home/pupperemeritus/DL/isic-2024-challenge/checkpoints/version_142/gurunet-epoch=25-val_pAUC=0.19763.ckpt' as top 3\n"
     ]
    },
    {
     "name": "stdout",
     "output_type": "stream",
     "text": [
      "Epoch 26: 100%|██████████| 251/251 [02:01<00:00,  2.06it/s, v_num=142, train_loss_step=0.346, train_pAUC_step=0.171, val_loss=0.0559, val_pAUC=0.198, train_loss_epoch=0.0861, train_pAUC_epoch=0.196] "
     ]
    },
    {
     "name": "stderr",
     "output_type": "stream",
     "text": [
      "Epoch 26, global step 1701: 'val_loss' reached 0.05588 (best 0.05588), saving model to '/home/pupperemeritus/DL/isic-2024-challenge/checkpoints/version_142/gurunet-epoch=26-val_loss=0.05588.ckpt' as top 3\n",
      "Epoch 26, global step 1701: 'val_pAUC' reached 0.19822 (best 0.19822), saving model to '/home/pupperemeritus/DL/isic-2024-challenge/checkpoints/version_142/gurunet-epoch=26-val_pAUC=0.19822.ckpt' as top 3\n"
     ]
    },
    {
     "name": "stdout",
     "output_type": "stream",
     "text": [
      "Epoch 27: 100%|██████████| 251/251 [01:52<00:00,  2.23it/s, v_num=142, train_loss_step=0.0364, train_pAUC_step=0.200, val_loss=0.0569, val_pAUC=0.198, train_loss_epoch=0.0918, train_pAUC_epoch=0.196]"
     ]
    },
    {
     "name": "stderr",
     "output_type": "stream",
     "text": [
      "Epoch 27, global step 1764: 'val_loss' reached 0.05694 (best 0.05588), saving model to '/home/pupperemeritus/DL/isic-2024-challenge/checkpoints/version_142/gurunet-epoch=27-val_loss=0.05694.ckpt' as top 3\n",
      "Epoch 27, global step 1764: 'val_pAUC' reached 0.19785 (best 0.19822), saving model to '/home/pupperemeritus/DL/isic-2024-challenge/checkpoints/version_142/gurunet-epoch=27-val_pAUC=0.19785.ckpt' as top 3\n"
     ]
    },
    {
     "name": "stdout",
     "output_type": "stream",
     "text": [
      "Epoch 28: 100%|██████████| 251/251 [02:00<00:00,  2.08it/s, v_num=142, train_loss_step=0.147, train_pAUC_step=0.190, val_loss=0.0615, val_pAUC=0.198, train_loss_epoch=0.0854, train_pAUC_epoch=0.196] "
     ]
    },
    {
     "name": "stderr",
     "output_type": "stream",
     "text": [
      "Epoch 28, global step 1827: 'val_loss' reached 0.06148 (best 0.05588), saving model to '/home/pupperemeritus/DL/isic-2024-challenge/checkpoints/version_142/gurunet-epoch=28-val_loss=0.06148.ckpt' as top 3\n",
      "Epoch 28, global step 1827: 'val_pAUC' reached 0.19781 (best 0.19822), saving model to '/home/pupperemeritus/DL/isic-2024-challenge/checkpoints/version_142/gurunet-epoch=28-val_pAUC=0.19781.ckpt' as top 3\n"
     ]
    },
    {
     "name": "stdout",
     "output_type": "stream",
     "text": [
      "Epoch 29: 100%|██████████| 251/251 [01:52<00:00,  2.22it/s, v_num=142, train_loss_step=0.219, train_pAUC_step=0.197, val_loss=0.0548, val_pAUC=0.198, train_loss_epoch=0.083, train_pAUC_epoch=0.196]   "
     ]
    },
    {
     "name": "stderr",
     "output_type": "stream",
     "text": [
      "Epoch 29, global step 1890: 'val_loss' reached 0.05480 (best 0.05480), saving model to '/home/pupperemeritus/DL/isic-2024-challenge/checkpoints/version_142/gurunet-epoch=29-val_loss=0.05480.ckpt' as top 3\n",
      "Epoch 29, global step 1890: 'val_pAUC' reached 0.19797 (best 0.19822), saving model to '/home/pupperemeritus/DL/isic-2024-challenge/checkpoints/version_142/gurunet-epoch=29-val_pAUC=0.19797.ckpt' as top 3\n"
     ]
    },
    {
     "name": "stdout",
     "output_type": "stream",
     "text": [
      "Epoch 30: 100%|██████████| 251/251 [01:58<00:00,  2.12it/s, v_num=142, train_loss_step=0.105, train_pAUC_step=0.190, val_loss=0.0598, val_pAUC=0.197, train_loss_epoch=0.0801, train_pAUC_epoch=0.197]"
     ]
    },
    {
     "name": "stderr",
     "output_type": "stream",
     "text": [
      "Epoch 30, global step 1953: 'val_loss' was not in top 3\n",
      "Epoch 30, global step 1953: 'val_pAUC' was not in top 3\n"
     ]
    },
    {
     "name": "stdout",
     "output_type": "stream",
     "text": [
      "Epoch 31: 100%|██████████| 251/251 [01:53<00:00,  2.20it/s, v_num=142, train_loss_step=0.0851, train_pAUC_step=0.200, val_loss=0.062, val_pAUC=0.198, train_loss_epoch=0.0774, train_pAUC_epoch=0.197] "
     ]
    },
    {
     "name": "stderr",
     "output_type": "stream",
     "text": [
      "Epoch 31, global step 2016: 'val_loss' was not in top 3\n",
      "Epoch 31, global step 2016: 'val_pAUC' was not in top 3\n"
     ]
    },
    {
     "name": "stdout",
     "output_type": "stream",
     "text": [
      "Epoch 32: 100%|██████████| 251/251 [01:53<00:00,  2.22it/s, v_num=142, train_loss_step=0.215, train_pAUC_step=0.187, val_loss=0.0579, val_pAUC=0.197, train_loss_epoch=0.081, train_pAUC_epoch=0.197]  "
     ]
    },
    {
     "name": "stderr",
     "output_type": "stream",
     "text": [
      "Epoch 32, global step 2079: 'val_loss' was not in top 3\n",
      "Epoch 32, global step 2079: 'val_pAUC' was not in top 3\n"
     ]
    },
    {
     "name": "stdout",
     "output_type": "stream",
     "text": [
      "Epoch 33: 100%|██████████| 251/251 [01:53<00:00,  2.22it/s, v_num=142, train_loss_step=0.0515, train_pAUC_step=0.200, val_loss=0.0542, val_pAUC=0.198, train_loss_epoch=0.0792, train_pAUC_epoch=0.197]"
     ]
    },
    {
     "name": "stderr",
     "output_type": "stream",
     "text": [
      "Epoch 33, global step 2142: 'val_loss' reached 0.05415 (best 0.05415), saving model to '/home/pupperemeritus/DL/isic-2024-challenge/checkpoints/version_142/gurunet-epoch=33-val_loss=0.05415.ckpt' as top 3\n",
      "Epoch 33, global step 2142: 'val_pAUC' reached 0.19809 (best 0.19822), saving model to '/home/pupperemeritus/DL/isic-2024-challenge/checkpoints/version_142/gurunet-epoch=33-val_pAUC=0.19809.ckpt' as top 3\n"
     ]
    },
    {
     "name": "stdout",
     "output_type": "stream",
     "text": [
      "Epoch 34: 100%|██████████| 251/251 [01:56<00:00,  2.15it/s, v_num=142, train_loss_step=0.043, train_pAUC_step=0.200, val_loss=0.0534, val_pAUC=0.198, train_loss_epoch=0.0766, train_pAUC_epoch=0.197] "
     ]
    },
    {
     "name": "stderr",
     "output_type": "stream",
     "text": [
      "Epoch 34, global step 2205: 'val_loss' reached 0.05344 (best 0.05344), saving model to '/home/pupperemeritus/DL/isic-2024-challenge/checkpoints/version_142/gurunet-epoch=34-val_loss=0.05344.ckpt' as top 3\n",
      "Epoch 34, global step 2205: 'val_pAUC' reached 0.19844 (best 0.19844), saving model to '/home/pupperemeritus/DL/isic-2024-challenge/checkpoints/version_142/gurunet-epoch=34-val_pAUC=0.19844.ckpt' as top 3\n"
     ]
    },
    {
     "name": "stdout",
     "output_type": "stream",
     "text": [
      "Epoch 35: 100%|██████████| 251/251 [01:55<00:00,  2.18it/s, v_num=142, train_loss_step=0.0432, train_pAUC_step=0.200, val_loss=0.0607, val_pAUC=0.198, train_loss_epoch=0.0737, train_pAUC_epoch=0.197]"
     ]
    },
    {
     "name": "stderr",
     "output_type": "stream",
     "text": [
      "Epoch 35, global step 2268: 'val_loss' was not in top 3\n",
      "Epoch 35, global step 2268: 'val_pAUC' was not in top 3\n"
     ]
    },
    {
     "name": "stdout",
     "output_type": "stream",
     "text": [
      "Epoch 36: 100%|██████████| 251/251 [01:57<00:00,  2.13it/s, v_num=142, train_loss_step=0.0201, train_pAUC_step=0.200, val_loss=0.0509, val_pAUC=0.198, train_loss_epoch=0.0716, train_pAUC_epoch=0.197] "
     ]
    },
    {
     "name": "stderr",
     "output_type": "stream",
     "text": [
      "Epoch 36, global step 2331: 'val_loss' reached 0.05091 (best 0.05091), saving model to '/home/pupperemeritus/DL/isic-2024-challenge/checkpoints/version_142/gurunet-epoch=36-val_loss=0.05091.ckpt' as top 3\n",
      "Epoch 36, global step 2331: 'val_pAUC' reached 0.19820 (best 0.19844), saving model to '/home/pupperemeritus/DL/isic-2024-challenge/checkpoints/version_142/gurunet-epoch=36-val_pAUC=0.19820.ckpt' as top 3\n"
     ]
    },
    {
     "name": "stdout",
     "output_type": "stream",
     "text": [
      "Epoch 37: 100%|██████████| 251/251 [02:14<00:00,  1.87it/s, v_num=142, train_loss_step=0.115, train_pAUC_step=0.195, val_loss=0.0441, val_pAUC=0.199, train_loss_epoch=0.0735, train_pAUC_epoch=0.197] "
     ]
    },
    {
     "name": "stderr",
     "output_type": "stream",
     "text": [
      "Epoch 37, global step 2394: 'val_loss' reached 0.04413 (best 0.04413), saving model to '/home/pupperemeritus/DL/isic-2024-challenge/checkpoints/version_142/gurunet-epoch=37-val_loss=0.04413.ckpt' as top 3\n",
      "Epoch 37, global step 2394: 'val_pAUC' reached 0.19875 (best 0.19875), saving model to '/home/pupperemeritus/DL/isic-2024-challenge/checkpoints/version_142/gurunet-epoch=37-val_pAUC=0.19875.ckpt' as top 3\n"
     ]
    },
    {
     "name": "stdout",
     "output_type": "stream",
     "text": [
      "Epoch 38: 100%|██████████| 251/251 [02:13<00:00,  1.88it/s, v_num=142, train_loss_step=0.0952, train_pAUC_step=0.193, val_loss=0.053, val_pAUC=0.198, train_loss_epoch=0.0735, train_pAUC_epoch=0.197]  "
     ]
    },
    {
     "name": "stderr",
     "output_type": "stream",
     "text": [
      "Epoch 38, global step 2457: 'val_loss' reached 0.05297 (best 0.04413), saving model to '/home/pupperemeritus/DL/isic-2024-challenge/checkpoints/version_142/gurunet-epoch=38-val_loss=0.05297.ckpt' as top 3\n",
      "Epoch 38, global step 2457: 'val_pAUC' reached 0.19838 (best 0.19875), saving model to '/home/pupperemeritus/DL/isic-2024-challenge/checkpoints/version_142/gurunet-epoch=38-val_pAUC=0.19838.ckpt' as top 3\n"
     ]
    },
    {
     "name": "stdout",
     "output_type": "stream",
     "text": [
      "Epoch 39: 100%|██████████| 251/251 [02:13<00:00,  1.88it/s, v_num=142, train_loss_step=0.0251, train_pAUC_step=0.200, val_loss=0.0492, val_pAUC=0.199, train_loss_epoch=0.0669, train_pAUC_epoch=0.198]"
     ]
    },
    {
     "name": "stderr",
     "output_type": "stream",
     "text": [
      "Epoch 39, global step 2520: 'val_loss' reached 0.04924 (best 0.04413), saving model to '/home/pupperemeritus/DL/isic-2024-challenge/checkpoints/version_142/gurunet-epoch=39-val_loss=0.04924.ckpt' as top 3\n",
      "Epoch 39, global step 2520: 'val_pAUC' reached 0.19860 (best 0.19875), saving model to '/home/pupperemeritus/DL/isic-2024-challenge/checkpoints/version_142/gurunet-epoch=39-val_pAUC=0.19860.ckpt' as top 3\n"
     ]
    },
    {
     "name": "stdout",
     "output_type": "stream",
     "text": [
      "Epoch 40: 100%|██████████| 251/251 [02:16<00:00,  1.84it/s, v_num=142, train_loss_step=0.137, train_pAUC_step=0.191, val_loss=0.0426, val_pAUC=0.199, train_loss_epoch=0.0671, train_pAUC_epoch=0.198]  "
     ]
    },
    {
     "name": "stderr",
     "output_type": "stream",
     "text": [
      "Epoch 40, global step 2583: 'val_loss' reached 0.04256 (best 0.04256), saving model to '/home/pupperemeritus/DL/isic-2024-challenge/checkpoints/version_142/gurunet-epoch=40-val_loss=0.04256.ckpt' as top 3\n",
      "Epoch 40, global step 2583: 'val_pAUC' reached 0.19854 (best 0.19875), saving model to '/home/pupperemeritus/DL/isic-2024-challenge/checkpoints/version_142/gurunet-epoch=40-val_pAUC=0.19854.ckpt' as top 3\n"
     ]
    },
    {
     "name": "stdout",
     "output_type": "stream",
     "text": [
      "Epoch 41: 100%|██████████| 251/251 [02:15<00:00,  1.85it/s, v_num=142, train_loss_step=0.103, train_pAUC_step=0.193, val_loss=0.0377, val_pAUC=0.199, train_loss_epoch=0.0623, train_pAUC_epoch=0.198]  "
     ]
    },
    {
     "name": "stderr",
     "output_type": "stream",
     "text": [
      "Epoch 41, global step 2646: 'val_loss' reached 0.03770 (best 0.03770), saving model to '/home/pupperemeritus/DL/isic-2024-challenge/checkpoints/version_142/gurunet-epoch=41-val_loss=0.03770.ckpt' as top 3\n",
      "Epoch 41, global step 2646: 'val_pAUC' reached 0.19879 (best 0.19879), saving model to '/home/pupperemeritus/DL/isic-2024-challenge/checkpoints/version_142/gurunet-epoch=41-val_pAUC=0.19879.ckpt' as top 3\n"
     ]
    },
    {
     "name": "stdout",
     "output_type": "stream",
     "text": [
      "Epoch 42: 100%|██████████| 251/251 [02:17<00:00,  1.83it/s, v_num=142, train_loss_step=0.0343, train_pAUC_step=0.200, val_loss=0.0481, val_pAUC=0.199, train_loss_epoch=0.062, train_pAUC_epoch=0.198]  "
     ]
    },
    {
     "name": "stderr",
     "output_type": "stream",
     "text": [
      "Epoch 42, global step 2709: 'val_loss' was not in top 3\n",
      "Epoch 42, global step 2709: 'val_pAUC' reached 0.19870 (best 0.19879), saving model to '/home/pupperemeritus/DL/isic-2024-challenge/checkpoints/version_142/gurunet-epoch=42-val_pAUC=0.19870.ckpt' as top 3\n"
     ]
    },
    {
     "name": "stdout",
     "output_type": "stream",
     "text": [
      "Epoch 43: 100%|██████████| 251/251 [02:19<00:00,  1.80it/s, v_num=142, train_loss_step=0.00794, train_pAUC_step=0.200, val_loss=0.0505, val_pAUC=0.198, train_loss_epoch=0.0686, train_pAUC_epoch=0.198]"
     ]
    },
    {
     "name": "stderr",
     "output_type": "stream",
     "text": [
      "Epoch 43, global step 2772: 'val_loss' was not in top 3\n",
      "Epoch 43, global step 2772: 'val_pAUC' was not in top 3\n"
     ]
    },
    {
     "name": "stdout",
     "output_type": "stream",
     "text": [
      "Epoch 44: 100%|██████████| 251/251 [02:19<00:00,  1.80it/s, v_num=142, train_loss_step=0.0206, train_pAUC_step=0.200, val_loss=0.0493, val_pAUC=0.198, train_loss_epoch=0.0618, train_pAUC_epoch=0.198] "
     ]
    },
    {
     "name": "stderr",
     "output_type": "stream",
     "text": [
      "Epoch 44, global step 2835: 'val_loss' was not in top 3\n",
      "Epoch 44, global step 2835: 'val_pAUC' was not in top 3\n"
     ]
    },
    {
     "name": "stdout",
     "output_type": "stream",
     "text": [
      "Epoch 45: 100%|██████████| 251/251 [02:21<00:00,  1.77it/s, v_num=142, train_loss_step=0.0302, train_pAUC_step=0.200, val_loss=0.0607, val_pAUC=0.198, train_loss_epoch=0.0558, train_pAUC_epoch=0.198] "
     ]
    },
    {
     "name": "stderr",
     "output_type": "stream",
     "text": [
      "Epoch 45, global step 2898: 'val_loss' was not in top 3\n",
      "Epoch 45, global step 2898: 'val_pAUC' was not in top 3\n"
     ]
    },
    {
     "name": "stdout",
     "output_type": "stream",
     "text": [
      "Epoch 46: 100%|██████████| 251/251 [02:22<00:00,  1.76it/s, v_num=142, train_loss_step=0.0488, train_pAUC_step=0.200, val_loss=0.0516, val_pAUC=0.198, train_loss_epoch=0.0602, train_pAUC_epoch=0.198] "
     ]
    },
    {
     "name": "stderr",
     "output_type": "stream",
     "text": [
      "Epoch 46, global step 2961: 'val_loss' was not in top 3\n",
      "Epoch 46, global step 2961: 'val_pAUC' was not in top 3\n"
     ]
    },
    {
     "name": "stdout",
     "output_type": "stream",
     "text": [
      "Epoch 47: 100%|██████████| 251/251 [02:22<00:00,  1.76it/s, v_num=142, train_loss_step=0.0981, train_pAUC_step=0.190, val_loss=0.0437, val_pAUC=0.199, train_loss_epoch=0.0579, train_pAUC_epoch=0.198] "
     ]
    },
    {
     "name": "stderr",
     "output_type": "stream",
     "text": [
      "Epoch 47, global step 3024: 'val_loss' reached 0.04373 (best 0.03770), saving model to '/home/pupperemeritus/DL/isic-2024-challenge/checkpoints/version_142/gurunet-epoch=47-val_loss=0.04373.ckpt' as top 3\n",
      "Epoch 47, global step 3024: 'val_pAUC' reached 0.19874 (best 0.19879), saving model to '/home/pupperemeritus/DL/isic-2024-challenge/checkpoints/version_142/gurunet-epoch=47-val_pAUC=0.19874.ckpt' as top 3\n"
     ]
    },
    {
     "name": "stdout",
     "output_type": "stream",
     "text": [
      "Epoch 48: 100%|██████████| 251/251 [02:21<00:00,  1.77it/s, v_num=142, train_loss_step=0.0349, train_pAUC_step=0.200, val_loss=0.045, val_pAUC=0.199, train_loss_epoch=0.0602, train_pAUC_epoch=0.198]  "
     ]
    },
    {
     "name": "stderr",
     "output_type": "stream",
     "text": [
      "Epoch 48, global step 3087: 'val_loss' was not in top 3\n",
      "Epoch 48, global step 3087: 'val_pAUC' reached 0.19894 (best 0.19894), saving model to '/home/pupperemeritus/DL/isic-2024-challenge/checkpoints/version_142/gurunet-epoch=48-val_pAUC=0.19894.ckpt' as top 3\n"
     ]
    },
    {
     "name": "stdout",
     "output_type": "stream",
     "text": [
      "Epoch 49: 100%|██████████| 251/251 [02:24<00:00,  1.74it/s, v_num=142, train_loss_step=0.054, train_pAUC_step=0.200, val_loss=0.0456, val_pAUC=0.199, train_loss_epoch=0.0472, train_pAUC_epoch=0.199] "
     ]
    },
    {
     "name": "stderr",
     "output_type": "stream",
     "text": [
      "Epoch 49, global step 3150: 'val_loss' was not in top 3\n",
      "Epoch 49, global step 3150: 'val_pAUC' reached 0.19880 (best 0.19894), saving model to '/home/pupperemeritus/DL/isic-2024-challenge/checkpoints/version_142/gurunet-epoch=49-val_pAUC=0.19880.ckpt' as top 3\n"
     ]
    },
    {
     "name": "stdout",
     "output_type": "stream",
     "text": [
      "Epoch 49: 100%|██████████| 251/251 [02:25<00:00,  1.73it/s, v_num=142, train_loss_step=0.054, train_pAUC_step=0.200, val_loss=0.0456, val_pAUC=0.199, train_loss_epoch=0.0472, train_pAUC_epoch=0.199]\n"
     ]
    },
    {
     "name": "stderr",
     "output_type": "stream",
     "text": [
      "FIT Profiler Report\n",
      "\n",
      "----------------------------------------------------------------------------------------------------------------------------------------------------------------------------------------------------------------------------------------------------------------------------------\n",
      "|  Action                                                                                                                                                               \t|  Mean duration (s)\t|  Num calls      \t|  Total time (s) \t|  Percentage %   \t|\n",
      "----------------------------------------------------------------------------------------------------------------------------------------------------------------------------------------------------------------------------------------------------------------------------------\n",
      "|  Total                                                                                                                                                                \t|  -              \t|  553081         \t|  5879.0         \t|  100 %          \t|\n",
      "----------------------------------------------------------------------------------------------------------------------------------------------------------------------------------------------------------------------------------------------------------------------------------\n",
      "|  run_training_epoch                                                                                                                                                   \t|  116.21         \t|  50             \t|  5810.3         \t|  98.83          \t|\n",
      "|  run_training_batch                                                                                                                                                   \t|  0.40744        \t|  12550          \t|  5113.4         \t|  86.977         \t|\n",
      "|  [Strategy]SingleDeviceStrategy.training_step                                                                                                                         \t|  0.21883        \t|  12550          \t|  2746.3         \t|  46.714         \t|\n",
      "|  [Strategy]SingleDeviceStrategy.backward                                                                                                                              \t|  0.18125        \t|  12550          \t|  2274.6         \t|  38.69          \t|\n",
      "|  [LightningModule]GuruNet.optimizer_step                                                                                                                              \t|  0.4223         \t|  3150           \t|  1330.3         \t|  22.627         \t|\n",
      "|  [Strategy]SingleDeviceStrategy.validation_step                                                                                                                       \t|  0.22406        \t|  1602           \t|  358.94         \t|  6.1054         \t|\n",
      "|  [_TrainingEpochLoop].train_dataloader_next                                                                                                                           \t|  0.013068       \t|  12550          \t|  164.01         \t|  2.7897         \t|\n",
      "|  [_EvaluationLoop].val_next                                                                                                                                           \t|  0.047478       \t|  1602           \t|  76.06          \t|  1.2937         \t|\n",
      "|  [Callback]ModelCheckpoint{'monitor': 'val_loss', 'mode': 'min', 'every_n_train_steps': 0, 'every_n_epochs': 1, 'train_time_interval': None}.on_train_epoch_end       \t|  0.69158        \t|  50             \t|  34.579         \t|  0.58817        \t|\n",
      "|  [Callback]ModelCheckpoint{'monitor': 'val_pAUC', 'mode': 'max', 'every_n_train_steps': 0, 'every_n_epochs': 1, 'train_time_interval': None}.on_train_epoch_end       \t|  0.59273        \t|  50             \t|  29.636         \t|  0.5041         \t|\n",
      "|  [Callback]TQDMProgressBar.on_train_batch_end                                                                                                                         \t|  0.0013127      \t|  12550          \t|  16.474         \t|  0.28022        \t|\n",
      "|  [LightningModule]GuruNet.optimizer_zero_grad                                                                                                                         \t|  0.0012484      \t|  3150           \t|  3.9324         \t|  0.066888       \t|\n",
      "|  [Strategy]SingleDeviceStrategy.batch_to_device                                                                                                                       \t|  0.00021532     \t|  14152          \t|  3.0473         \t|  0.051833       \t|\n",
      "|  [Callback]TQDMProgressBar.on_validation_batch_end                                                                                                                    \t|  0.0015856      \t|  1602           \t|  2.5401         \t|  0.043205       \t|\n",
      "|  [LightningModule]GuruNet.transfer_batch_to_device                                                                                                                    \t|  0.00017262     \t|  14152          \t|  2.4429         \t|  0.041552       \t|\n",
      "|  [LightningDataModule]ISICDataModule.setup                                                                                                                            \t|  0.65632        \t|  1              \t|  0.65632        \t|  0.011164       \t|\n",
      "|  [Callback]ModelCheckpoint{'monitor': 'val_loss', 'mode': 'min', 'every_n_train_steps': 0, 'every_n_epochs': 1, 'train_time_interval': None}.on_train_batch_end       \t|  1.8747e-05     \t|  12550          \t|  0.23527        \t|  0.0040019      \t|\n",
      "|  [LightningModule]GuruNet.on_validation_model_eval                                                                                                                    \t|  0.0044243      \t|  51             \t|  0.22564        \t|  0.003838       \t|\n",
      "|  [Callback]TQDMProgressBar.on_validation_start                                                                                                                        \t|  0.0041152      \t|  51             \t|  0.20988        \t|  0.0035699      \t|\n",
      "|  [LightningModule]GuruNet.on_validation_model_zero_grad                                                                                                               \t|  0.0040095      \t|  50             \t|  0.20047        \t|  0.00341        \t|\n",
      "|  [Callback]TQDMProgressBar.on_validation_batch_start                                                                                                                  \t|  0.00011232     \t|  1602           \t|  0.17994        \t|  0.0030606      \t|\n",
      "|  [LightningModule]GuruNet.configure_gradient_clipping                                                                                                                 \t|  2.8314e-05     \t|  3150           \t|  0.089188       \t|  0.001517       \t|\n",
      "|  [Callback]LearningRateMonitor.on_train_batch_start                                                                                                                   \t|  5.8103e-06     \t|  12550          \t|  0.072919       \t|  0.0012403      \t|\n",
      "|  [Callback]EarlyStopping{'monitor': 'val_pAUC', 'mode': 'min'}.on_after_backward                                                                                      \t|  4.9239e-06     \t|  12550          \t|  0.061795       \t|  0.0010511      \t|\n",
      "|  [Callback]TQDMProgressBar.on_validation_end                                                                                                                          \t|  0.0011899      \t|  51             \t|  0.060686       \t|  0.0010322      \t|\n",
      "|  [Callback]TQDMProgressBar.on_train_epoch_start                                                                                                                       \t|  0.0010681      \t|  50             \t|  0.053403       \t|  0.00090835     \t|\n",
      "|  [Callback]ModelCheckpoint{'monitor': 'val_pAUC', 'mode': 'max', 'every_n_train_steps': 0, 'every_n_epochs': 1, 'train_time_interval': None}.on_train_batch_end       \t|  3.5668e-06     \t|  12550          \t|  0.044764       \t|  0.00076141     \t|\n",
      "|  [Callback]EarlyStopping{'monitor': 'val_pAUC', 'mode': 'min'}.on_train_epoch_end                                                                                     \t|  0.0008749      \t|  50             \t|  0.043745       \t|  0.00074408     \t|\n",
      "|  [Callback]TQDMProgressBar.on_train_epoch_end                                                                                                                         \t|  0.0008336      \t|  50             \t|  0.04168        \t|  0.00070896     \t|\n",
      "|  [Callback]EarlyStopping{'monitor': 'val_pAUC', 'mode': 'min'}.on_train_batch_end                                                                                     \t|  2.4758e-06     \t|  12550          \t|  0.031071       \t|  0.00052851     \t|\n",
      "|  [Callback]EarlyStopping{'monitor': 'val_pAUC', 'mode': 'min'}.on_before_backward                                                                                     \t|  2.2399e-06     \t|  12550          \t|  0.028111       \t|  0.00047815     \t|\n",
      "|  [Callback]ModelSummary.on_train_batch_end                                                                                                                            \t|  2.2301e-06     \t|  12550          \t|  0.027988       \t|  0.00047607     \t|\n",
      "|  [Callback]EarlyStopping{'monitor': 'val_pAUC', 'mode': 'min'}.on_train_batch_start                                                                                   \t|  1.7343e-06     \t|  12550          \t|  0.021766       \t|  0.00037023     \t|\n",
      "|  [Callback]LearningRateMonitor.on_train_epoch_start                                                                                                                   \t|  0.00026828     \t|  50             \t|  0.013414       \t|  0.00022817     \t|\n",
      "|  [Callback]ModelCheckpoint{'monitor': 'val_loss', 'mode': 'min', 'every_n_train_steps': 0, 'every_n_epochs': 1, 'train_time_interval': None}.on_after_backward        \t|  1.0588e-06     \t|  12550          \t|  0.013288       \t|  0.00022602     \t|\n",
      "|  [LightningModule]GuruNet.on_before_batch_transfer                                                                                                                    \t|  8.9664e-07     \t|  14152          \t|  0.012689       \t|  0.00021584     \t|\n",
      "|  [LightningModule]GuruNet.on_after_backward                                                                                                                           \t|  1.0035e-06     \t|  12550          \t|  0.012594       \t|  0.00021423     \t|\n",
      "|  [Callback]LearningRateMonitor.on_after_backward                                                                                                                      \t|  9.8402e-07     \t|  12550          \t|  0.012349       \t|  0.00021006     \t|\n",
      "|  [LightningModule]GuruNet.on_train_batch_start                                                                                                                        \t|  9.4291e-07     \t|  12550          \t|  0.011833       \t|  0.00020128     \t|\n",
      "|  [LightningModule]GuruNet.on_after_batch_transfer                                                                                                                     \t|  8.3544e-07     \t|  14152          \t|  0.011823       \t|  0.00020111     \t|\n",
      "|  [LightningModule]GuruNet.on_train_batch_end                                                                                                                          \t|  8.9736e-07     \t|  12550          \t|  0.011262       \t|  0.00019156     \t|\n",
      "|  [Strategy]SingleDeviceStrategy.on_train_batch_start                                                                                                                  \t|  8.618e-07      \t|  12550          \t|  0.010816       \t|  0.00018397     \t|\n",
      "|  [LightningModule]GuruNet.on_before_backward                                                                                                                          \t|  8.6018e-07     \t|  12550          \t|  0.010795       \t|  0.00018362     \t|\n",
      "|  [Callback]LearningRateMonitor.on_train_batch_end                                                                                                                     \t|  8.2107e-07     \t|  12550          \t|  0.010304       \t|  0.00017527     \t|\n",
      "|  [Callback]ModelCheckpoint{'monitor': 'val_pAUC', 'mode': 'max', 'every_n_train_steps': 0, 'every_n_epochs': 1, 'train_time_interval': None}.on_after_backward        \t|  7.9905e-07     \t|  12550          \t|  0.010028       \t|  0.00017057     \t|\n",
      "|  [Callback]TQDMProgressBar.on_train_batch_start                                                                                                                       \t|  7.1339e-07     \t|  12550          \t|  0.008953       \t|  0.00015229     \t|\n",
      "|  [Callback]LearningRateMonitor.on_before_backward                                                                                                                     \t|  7.0759e-07     \t|  12550          \t|  0.0088803      \t|  0.00015105     \t|\n",
      "|  [Callback]EarlyStopping{'monitor': 'val_pAUC', 'mode': 'min'}.on_before_optimizer_step                                                                               \t|  2.7746e-06     \t|  3150           \t|  0.0087399      \t|  0.00014866     \t|\n",
      "|  [Callback]TQDMProgressBar.on_after_backward                                                                                                                          \t|  6.9252e-07     \t|  12550          \t|  0.0086912      \t|  0.00014783     \t|\n",
      "|  [Callback]EarlyStopping{'monitor': 'val_pAUC', 'mode': 'min'}.on_before_zero_grad                                                                                    \t|  2.7258e-06     \t|  3150           \t|  0.0085863      \t|  0.00014605     \t|\n",
      "|  [Callback]ModelCheckpoint{'monitor': 'val_pAUC', 'mode': 'max', 'every_n_train_steps': 0, 'every_n_epochs': 1, 'train_time_interval': None}.on_before_backward       \t|  6.8038e-07     \t|  12550          \t|  0.0085388      \t|  0.00014524     \t|\n",
      "|  [Callback]ModelCheckpoint{'monitor': 'val_loss', 'mode': 'min', 'every_n_train_steps': 0, 'every_n_epochs': 1, 'train_time_interval': None}.on_before_backward       \t|  6.5837e-07     \t|  12550          \t|  0.0082625      \t|  0.00014054     \t|\n",
      "|  [Callback]ModelSummary.on_after_backward                                                                                                                             \t|  6.4881e-07     \t|  12550          \t|  0.0081425      \t|  0.0001385      \t|\n",
      "|  [Callback]ModelCheckpoint{'monitor': 'val_pAUC', 'mode': 'max', 'every_n_train_steps': 0, 'every_n_epochs': 1, 'train_time_interval': None}.on_train_batch_start     \t|  5.683e-07      \t|  12550          \t|  0.0071322      \t|  0.00012132     \t|\n",
      "|  [Callback]TQDMProgressBar.on_before_backward                                                                                                                         \t|  5.6665e-07     \t|  12550          \t|  0.0071115      \t|  0.00012096     \t|\n",
      "|  [Callback]ModelCheckpoint{'monitor': 'val_loss', 'mode': 'min', 'every_n_train_steps': 0, 'every_n_epochs': 1, 'train_time_interval': None}.on_train_batch_start     \t|  5.4904e-07     \t|  12550          \t|  0.0068905      \t|  0.0001172      \t|\n",
      "|  [Callback]TQDMProgressBar.on_train_start                                                                                                                             \t|  0.0066167      \t|  1              \t|  0.0066167      \t|  0.00011255     \t|\n",
      "|  [Callback]ModelSummary.on_train_batch_start                                                                                                                          \t|  5.2116e-07     \t|  12550          \t|  0.0065405      \t|  0.00011125     \t|\n",
      "|  [Callback]ModelSummary.on_before_backward                                                                                                                            \t|  4.9722e-07     \t|  12550          \t|  0.0062401      \t|  0.00010614     \t|\n",
      "|  [Callback]ModelSummary.on_fit_start                                                                                                                                  \t|  0.0060231      \t|  1              \t|  0.0060231      \t|  0.00010245     \t|\n",
      "|  [LightningModule]GuruNet.on_before_zero_grad                                                                                                                         \t|  1.488e-06      \t|  3150           \t|  0.0046873      \t|  7.973e-05      \t|\n",
      "|  [Callback]ModelSummary.on_validation_batch_end                                                                                                                       \t|  2.9244e-06     \t|  1602           \t|  0.004685       \t|  7.9689e-05     \t|\n",
      "|  [Callback]EarlyStopping{'monitor': 'val_pAUC', 'mode': 'min'}.on_validation_batch_end                                                                                \t|  2.7006e-06     \t|  1602           \t|  0.0043264      \t|  7.359e-05      \t|\n",
      "|  [Callback]TQDMProgressBar.on_sanity_check_start                                                                                                                      \t|  0.0036443      \t|  1              \t|  0.0036443      \t|  6.1987e-05     \t|\n",
      "|  [Callback]ModelSummary.on_before_optimizer_step                                                                                                                      \t|  1.0797e-06     \t|  3150           \t|  0.0034012      \t|  5.7853e-05     \t|\n",
      "|  [Callback]EarlyStopping{'monitor': 'val_pAUC', 'mode': 'min'}.on_validation_batch_start                                                                              \t|  2.1167e-06     \t|  1602           \t|  0.0033909      \t|  5.7678e-05     \t|\n",
      "|  [LightningModule]GuruNet.on_before_optimizer_step                                                                                                                    \t|  8.149e-07      \t|  3150           \t|  0.0025669      \t|  4.3662e-05     \t|\n",
      "|  [Callback]LearningRateMonitor.on_before_zero_grad                                                                                                                    \t|  7.6019e-07     \t|  3150           \t|  0.0023946      \t|  4.0731e-05     \t|\n",
      "|  [Callback]LearningRateMonitor.on_before_optimizer_step                                                                                                               \t|  7.1699e-07     \t|  3150           \t|  0.0022585      \t|  3.8417e-05     \t|\n",
      "|  [LightningModule]GuruNet.on_validation_batch_end                                                                                                                     \t|  1.2915e-06     \t|  1602           \t|  0.0020689      \t|  3.5192e-05     \t|\n",
      "|  [Callback]ModelCheckpoint{'monitor': 'val_loss', 'mode': 'min', 'every_n_train_steps': 0, 'every_n_epochs': 1, 'train_time_interval': None}.on_validation_end        \t|  3.904e-05      \t|  51             \t|  0.0019911      \t|  3.3867e-05     \t|\n",
      "|  [LightningModule]GuruNet.on_validation_batch_start                                                                                                                   \t|  1.2126e-06     \t|  1602           \t|  0.0019426      \t|  3.3043e-05     \t|\n",
      "|  [LightningModule]GuruNet.lr_scheduler_step                                                                                                                           \t|  3.6773e-05     \t|  50             \t|  0.0018386      \t|  3.1275e-05     \t|\n",
      "|  [Callback]ModelCheckpoint{'monitor': 'val_loss', 'mode': 'min', 'every_n_train_steps': 0, 'every_n_epochs': 1, 'train_time_interval': None}.on_before_zero_grad      \t|  5.68e-07       \t|  3150           \t|  0.0017892      \t|  3.0433e-05     \t|\n",
      "|  [Callback]TQDMProgressBar.on_before_zero_grad                                                                                                                        \t|  5.6552e-07     \t|  3150           \t|  0.0017814      \t|  3.0301e-05     \t|\n",
      "|  [Callback]ModelSummary.on_before_zero_grad                                                                                                                           \t|  5.5401e-07     \t|  3150           \t|  0.0017451      \t|  2.9684e-05     \t|\n",
      "|  [Callback]ModelCheckpoint{'monitor': 'val_pAUC', 'mode': 'max', 'every_n_train_steps': 0, 'every_n_epochs': 1, 'train_time_interval': None}.on_before_zero_grad      \t|  5.3175e-07     \t|  3150           \t|  0.001675       \t|  2.8491e-05     \t|\n",
      "|  [Callback]ModelCheckpoint{'monitor': 'val_loss', 'mode': 'min', 'every_n_train_steps': 0, 'every_n_epochs': 1, 'train_time_interval': None}.on_before_optimizer_step \t|  5.1637e-07     \t|  3150           \t|  0.0016266      \t|  2.7667e-05     \t|\n",
      "|  [Callback]TQDMProgressBar.on_before_optimizer_step                                                                                                                   \t|  4.8858e-07     \t|  3150           \t|  0.001539       \t|  2.6178e-05     \t|\n",
      "|  [Callback]LearningRateMonitor.on_validation_batch_end                                                                                                                \t|  8.8858e-07     \t|  1602           \t|  0.0014235      \t|  2.4213e-05     \t|\n",
      "|  [Callback]ModelCheckpoint{'monitor': 'val_pAUC', 'mode': 'max', 'every_n_train_steps': 0, 'every_n_epochs': 1, 'train_time_interval': None}.on_before_optimizer_step \t|  4.5182e-07     \t|  3150           \t|  0.0014232      \t|  2.4209e-05     \t|\n",
      "|  [Callback]ModelCheckpoint{'monitor': 'val_loss', 'mode': 'min', 'every_n_train_steps': 0, 'every_n_epochs': 1, 'train_time_interval': None}.on_validation_batch_end  \t|  8.8056e-07     \t|  1602           \t|  0.0014107      \t|  2.3995e-05     \t|\n",
      "|  [Callback]LearningRateMonitor.on_validation_batch_start                                                                                                              \t|  8.6898e-07     \t|  1602           \t|  0.0013921      \t|  2.3679e-05     \t|\n",
      "|  [Callback]ModelCheckpoint{'monitor': 'val_pAUC', 'mode': 'max', 'every_n_train_steps': 0, 'every_n_epochs': 1, 'train_time_interval': None}.on_validation_batch_end  \t|  7.7926e-07     \t|  1602           \t|  0.0012484      \t|  2.1234e-05     \t|\n",
      "|  [Callback]ModelCheckpoint{'monitor': 'val_loss', 'mode': 'min', 'every_n_train_steps': 0, 'every_n_epochs': 1, 'train_time_interval': None}.on_validation_batch_start\t|  7.6625e-07     \t|  1602           \t|  0.0012275      \t|  2.088e-05      \t|\n",
      "|  [LightningModule]GuruNet.configure_optimizers                                                                                                                        \t|  0.0011999      \t|  1              \t|  0.0011999      \t|  2.0409e-05     \t|\n",
      "|  [Callback]ModelSummary.on_validation_batch_start                                                                                                                     \t|  7.3453e-07     \t|  1602           \t|  0.0011767      \t|  2.0015e-05     \t|\n",
      "|  [Callback]ModelCheckpoint{'monitor': 'val_pAUC', 'mode': 'max', 'every_n_train_steps': 0, 'every_n_epochs': 1, 'train_time_interval': None}.on_validation_batch_start\t|  6.6557e-07     \t|  1602           \t|  0.0010663      \t|  1.8136e-05     \t|\n",
      "|  [Callback]EarlyStopping{'monitor': 'val_pAUC', 'mode': 'min'}.on_validation_epoch_start                                                                              \t|  1.3394e-05     \t|  51             \t|  0.00068309     \t|  1.1619e-05     \t|\n",
      "|  [Callback]TQDMProgressBar.on_train_end                                                                                                                               \t|  0.00067398     \t|  1              \t|  0.00067398     \t|  1.1464e-05     \t|\n",
      "|  [LightningDataModule]ISICDataModule.train_dataloader                                                                                                                 \t|  0.00060518     \t|  1              \t|  0.00060518     \t|  1.0294e-05     \t|\n",
      "|  [Callback]EarlyStopping{'monitor': 'val_pAUC', 'mode': 'min'}.on_validation_start                                                                                    \t|  1.1626e-05     \t|  51             \t|  0.00059291     \t|  1.0085e-05     \t|\n",
      "|  [Callback]LearningRateMonitor.on_train_start                                                                                                                         \t|  0.00036588     \t|  1              \t|  0.00036588     \t|  6.2234e-06     \t|\n",
      "|  [LightningModule]GuruNet.on_validation_epoch_start                                                                                                                   \t|  6.5497e-06     \t|  51             \t|  0.00033404     \t|  5.6818e-06     \t|\n",
      "|  [LightningDataModule]ISICDataModule.val_dataloader                                                                                                                   \t|  0.00032559     \t|  1              \t|  0.00032559     \t|  5.5381e-06     \t|\n",
      "|  [Strategy]SingleDeviceStrategy.on_validation_start                                                                                                                   \t|  6.1923e-06     \t|  51             \t|  0.0003158      \t|  5.3717e-06     \t|\n",
      "|  [Callback]ModelCheckpoint{'monitor': 'val_pAUC', 'mode': 'max', 'every_n_train_steps': 0, 'every_n_epochs': 1, 'train_time_interval': None}.on_validation_end        \t|  5.6612e-06     \t|  51             \t|  0.00028872     \t|  4.911e-06      \t|\n",
      "|  [LightningDataModule]ISICDataModule.state_dict                                                                                                                       \t|  3.1519e-06     \t|  81             \t|  0.0002553      \t|  4.3425e-06     \t|\n",
      "|  [Callback]EarlyStopping{'monitor': 'val_pAUC', 'mode': 'min'}.on_validation_end                                                                                      \t|  4.8147e-06     \t|  51             \t|  0.00024555     \t|  4.1767e-06     \t|\n",
      "|  [Callback]ModelSummary.on_validation_start                                                                                                                           \t|  3.5549e-06     \t|  51             \t|  0.0001813      \t|  3.0839e-06     \t|\n",
      "|  [Callback]EarlyStopping{'monitor': 'val_pAUC', 'mode': 'min'}.on_train_epoch_start                                                                                   \t|  2.8315e-06     \t|  50             \t|  0.00014157     \t|  2.4081e-06     \t|\n",
      "|  [Callback]ModelCheckpoint{'monitor': 'val_loss', 'mode': 'min', 'every_n_train_steps': 0, 'every_n_epochs': 1, 'train_time_interval': None}.setup                    \t|  9.6892e-05     \t|  1              \t|  9.6892e-05     \t|  1.6481e-06     \t|\n",
      "|  [Callback]LearningRateMonitor.on_validation_start                                                                                                                    \t|  1.829e-06      \t|  51             \t|  9.3281e-05     \t|  1.5867e-06     \t|\n",
      "|  [Callback]EarlyStopping{'monitor': 'val_pAUC', 'mode': 'min'}.on_save_checkpoint                                                                                     \t|  1.1409e-06     \t|  81             \t|  9.241e-05      \t|  1.5719e-06     \t|\n",
      "|  [Callback]ModelSummary.on_train_epoch_start                                                                                                                          \t|  1.5883e-06     \t|  50             \t|  7.9413e-05     \t|  1.3508e-06     \t|\n",
      "|  [Callback]EarlyStopping{'monitor': 'val_pAUC', 'mode': 'min'}.on_validation_epoch_end                                                                                \t|  1.4752e-06     \t|  51             \t|  7.5234e-05     \t|  1.2797e-06     \t|\n",
      "|  [Callback]LearningRateMonitor.on_train_epoch_end                                                                                                                     \t|  1.4404e-06     \t|  50             \t|  7.2021e-05     \t|  1.225e-06      \t|\n",
      "|  [Callback]ModelSummary.on_validation_end                                                                                                                             \t|  1.3604e-06     \t|  51             \t|  6.9382e-05     \t|  1.1802e-06     \t|\n",
      "|  [LightningModule]GuruNet.on_validation_start                                                                                                                         \t|  1.2838e-06     \t|  51             \t|  6.5473e-05     \t|  1.1137e-06     \t|\n",
      "|  [Callback]ModelCheckpoint{'monitor': 'val_loss', 'mode': 'min', 'every_n_train_steps': 0, 'every_n_epochs': 1, 'train_time_interval': None}.on_save_checkpoint       \t|  8.0074e-07     \t|  81             \t|  6.486e-05      \t|  1.1032e-06     \t|\n",
      "|  [Callback]ModelSummary.on_train_epoch_end                                                                                                                            \t|  1.2936e-06     \t|  50             \t|  6.4682e-05     \t|  1.1002e-06     \t|\n",
      "|  [Callback]LearningRateMonitor.on_validation_epoch_start                                                                                                              \t|  1.1671e-06     \t|  51             \t|  5.9521e-05     \t|  1.0124e-06     \t|\n",
      "|  [Callback]ModelCheckpoint{'monitor': 'val_loss', 'mode': 'min', 'every_n_train_steps': 0, 'every_n_epochs': 1, 'train_time_interval': None}.on_validation_start      \t|  1.119e-06      \t|  51             \t|  5.707e-05      \t|  9.7074e-07     \t|\n",
      "|  [Callback]LearningRateMonitor.on_validation_end                                                                                                                      \t|  1.0073e-06     \t|  51             \t|  5.137e-05      \t|  8.7378e-07     \t|\n",
      "|  [Callback]TQDMProgressBar.on_save_checkpoint                                                                                                                         \t|  6.2939e-07     \t|  81             \t|  5.0981e-05     \t|  8.6716e-07     \t|\n",
      "|  [LightningModule]GuruNet.on_train_epoch_start                                                                                                                        \t|  9.7542e-07     \t|  50             \t|  4.8771e-05     \t|  8.2957e-07     \t|\n",
      "|  [Callback]LearningRateMonitor.on_save_checkpoint                                                                                                                     \t|  5.799e-07      \t|  81             \t|  4.6972e-05     \t|  7.9897e-07     \t|\n",
      "|  [Callback]EarlyStopping{'monitor': 'val_pAUC', 'mode': 'min'}.on_train_start                                                                                         \t|  4.4611e-05     \t|  1              \t|  4.4611e-05     \t|  7.5881e-07     \t|\n",
      "|  [LightningModule]GuruNet.on_train_epoch_end                                                                                                                          \t|  7.7886e-07     \t|  50             \t|  3.8943e-05     \t|  6.624e-07      \t|\n",
      "|  [LightningModule]GuruNet.on_save_checkpoint                                                                                                                          \t|  4.7543e-07     \t|  81             \t|  3.851e-05      \t|  6.5504e-07     \t|\n",
      "|  [LightningModule]GuruNet.on_validation_end                                                                                                                           \t|  7.5373e-07     \t|  51             \t|  3.844e-05      \t|  6.5385e-07     \t|\n",
      "|  [Callback]ModelSummary.on_save_checkpoint                                                                                                                            \t|  4.7174e-07     \t|  81             \t|  3.8211e-05     \t|  6.4995e-07     \t|\n",
      "|  [Callback]ModelCheckpoint{'monitor': 'val_loss', 'mode': 'min', 'every_n_train_steps': 0, 'every_n_epochs': 1, 'train_time_interval': None}.on_validation_epoch_start\t|  6.9982e-07     \t|  51             \t|  3.5691e-05     \t|  6.0709e-07     \t|\n",
      "|  [Callback]ModelCheckpoint{'monitor': 'val_loss', 'mode': 'min', 'every_n_train_steps': 0, 'every_n_epochs': 1, 'train_time_interval': None}.on_train_epoch_start     \t|  7.026e-07      \t|  50             \t|  3.513e-05      \t|  5.9755e-07     \t|\n",
      "|  [Strategy]SingleDeviceStrategy.on_validation_end                                                                                                                     \t|  6.8041e-07     \t|  51             \t|  3.4701e-05     \t|  5.9025e-07     \t|\n",
      "|  [LightningModule]GuruNet.on_validation_epoch_end                                                                                                                     \t|  6.5314e-07     \t|  51             \t|  3.331e-05      \t|  5.6659e-07     \t|\n",
      "|  [Callback]ModelSummary.on_validation_epoch_start                                                                                                                     \t|  6.5137e-07     \t|  51             \t|  3.322e-05      \t|  5.6506e-07     \t|\n",
      "|  [Callback]ModelCheckpoint{'monitor': 'val_pAUC', 'mode': 'max', 'every_n_train_steps': 0, 'every_n_epochs': 1, 'train_time_interval': None}.on_validation_start      \t|  6.4157e-07     \t|  51             \t|  3.272e-05      \t|  5.5655e-07     \t|\n",
      "|  [Callback]LearningRateMonitor.on_validation_epoch_end                                                                                                                \t|  6.3041e-07     \t|  51             \t|  3.2151e-05     \t|  5.4687e-07     \t|\n",
      "|  [Callback]ModelCheckpoint{'monitor': 'val_pAUC', 'mode': 'max', 'every_n_train_steps': 0, 'every_n_epochs': 1, 'train_time_interval': None}.on_save_checkpoint       \t|  3.9631e-07     \t|  81             \t|  3.2101e-05     \t|  5.4602e-07     \t|\n",
      "|  [Callback]ModelSummary.on_validation_epoch_end                                                                                                                       \t|  6.2706e-07     \t|  51             \t|  3.198e-05      \t|  5.4397e-07     \t|\n",
      "|  [Callback]ModelCheckpoint{'monitor': 'val_pAUC', 'mode': 'max', 'every_n_train_steps': 0, 'every_n_epochs': 1, 'train_time_interval': None}.on_validation_epoch_start\t|  6.1845e-07     \t|  51             \t|  3.1541e-05     \t|  5.365e-07      \t|\n",
      "|  [Callback]ModelCheckpoint{'monitor': 'val_pAUC', 'mode': 'max', 'every_n_train_steps': 0, 'every_n_epochs': 1, 'train_time_interval': None}.on_train_epoch_start     \t|  6.256e-07      \t|  50             \t|  3.128e-05      \t|  5.3206e-07     \t|\n",
      "|  [Callback]TQDMProgressBar.on_validation_epoch_start                                                                                                                  \t|  5.9412e-07     \t|  51             \t|  3.03e-05       \t|  5.1539e-07     \t|\n",
      "|  [Callback]ModelCheckpoint{'monitor': 'val_loss', 'mode': 'min', 'every_n_train_steps': 0, 'every_n_epochs': 1, 'train_time_interval': None}.on_train_start           \t|  2.487e-05      \t|  1              \t|  2.487e-05      \t|  4.2303e-07     \t|\n",
      "|  [Callback]ModelCheckpoint{'monitor': 'val_pAUC', 'mode': 'max', 'every_n_train_steps': 0, 'every_n_epochs': 1, 'train_time_interval': None}.setup                    \t|  2.4741e-05     \t|  1              \t|  2.4741e-05     \t|  4.2083e-07     \t|\n",
      "|  [Callback]ModelCheckpoint{'monitor': 'val_loss', 'mode': 'min', 'every_n_train_steps': 0, 'every_n_epochs': 1, 'train_time_interval': None}.on_validation_epoch_end  \t|  4.7745e-07     \t|  51             \t|  2.435e-05      \t|  4.1418e-07     \t|\n",
      "|  [Callback]TQDMProgressBar.on_validation_epoch_end                                                                                                                    \t|  4.7157e-07     \t|  51             \t|  2.405e-05      \t|  4.0908e-07     \t|\n",
      "|  [Strategy]SingleDeviceStrategy.on_train_start                                                                                                                        \t|  2.37e-05       \t|  1              \t|  2.37e-05       \t|  4.0313e-07     \t|\n",
      "|  [Callback]ModelCheckpoint{'monitor': 'val_pAUC', 'mode': 'max', 'every_n_train_steps': 0, 'every_n_epochs': 1, 'train_time_interval': None}.on_validation_epoch_end  \t|  4.5867e-07     \t|  51             \t|  2.3392e-05     \t|  3.9789e-07     \t|\n",
      "|  [Callback]TQDMProgressBar.on_sanity_check_end                                                                                                                        \t|  1.331e-05      \t|  1              \t|  1.331e-05      \t|  2.264e-07      \t|\n",
      "|  [Callback]ModelSummary.on_train_start                                                                                                                                \t|  1.3021e-05     \t|  1              \t|  1.3021e-05     \t|  2.2148e-07     \t|\n",
      "|  [LightningModule]GuruNet.on_train_start                                                                                                                              \t|  1.206e-05      \t|  1              \t|  1.206e-05      \t|  2.0514e-07     \t|\n",
      "|  [Callback]EarlyStopping{'monitor': 'val_pAUC', 'mode': 'min'}.on_sanity_check_end                                                                                    \t|  1.088e-05      \t|  1              \t|  1.088e-05      \t|  1.8506e-07     \t|\n",
      "|  [Callback]EarlyStopping{'monitor': 'val_pAUC', 'mode': 'min'}.setup                                                                                                  \t|  1.056e-05      \t|  1              \t|  1.056e-05      \t|  1.7962e-07     \t|\n",
      "|  [Callback]EarlyStopping{'monitor': 'val_pAUC', 'mode': 'min'}.on_fit_end                                                                                             \t|  3.95e-06       \t|  1              \t|  3.95e-06       \t|  6.7188e-08     \t|\n",
      "|  [Callback]LearningRateMonitor.setup                                                                                                                                  \t|  3.79e-06       \t|  1              \t|  3.79e-06       \t|  6.4466e-08     \t|\n",
      "|  [Callback]TQDMProgressBar.setup                                                                                                                                      \t|  3.11e-06       \t|  1              \t|  3.11e-06       \t|  5.29e-08       \t|\n",
      "|  [Callback]EarlyStopping{'monitor': 'val_pAUC', 'mode': 'min'}.on_sanity_check_start                                                                                  \t|  2.5e-06        \t|  1              \t|  2.5e-06        \t|  4.2524e-08     \t|\n",
      "|  [Callback]EarlyStopping{'monitor': 'val_pAUC', 'mode': 'min'}.on_fit_start                                                                                           \t|  2.22e-06       \t|  1              \t|  2.22e-06       \t|  3.7761e-08     \t|\n",
      "|  [Callback]ModelSummary.on_sanity_check_start                                                                                                                         \t|  2.06e-06       \t|  1              \t|  2.06e-06       \t|  3.504e-08      \t|\n",
      "|  [Callback]EarlyStopping{'monitor': 'val_pAUC', 'mode': 'min'}.on_train_end                                                                                           \t|  1.89e-06       \t|  1              \t|  1.89e-06       \t|  3.2148e-08     \t|\n",
      "|  [Callback]ModelCheckpoint{'monitor': 'val_loss', 'mode': 'min', 'every_n_train_steps': 0, 'every_n_epochs': 1, 'train_time_interval': None}.on_fit_start             \t|  1.71e-06       \t|  1              \t|  1.71e-06       \t|  2.9086e-08     \t|\n",
      "|  [LightningModule]GuruNet.setup                                                                                                                                       \t|  1.29e-06       \t|  1              \t|  1.29e-06       \t|  2.1942e-08     \t|\n",
      "|  [Callback]EarlyStopping{'monitor': 'val_pAUC', 'mode': 'min'}.teardown                                                                                               \t|  1.13e-06       \t|  1              \t|  1.13e-06       \t|  1.9221e-08     \t|\n",
      "|  [Callback]ModelSummary.on_train_end                                                                                                                                  \t|  1.11e-06       \t|  1              \t|  1.11e-06       \t|  1.8881e-08     \t|\n",
      "|  [LightningModule]GuruNet.configure_callbacks                                                                                                                         \t|  1.07e-06       \t|  1              \t|  1.07e-06       \t|  1.82e-08       \t|\n",
      "|  [Callback]LearningRateMonitor.on_sanity_check_start                                                                                                                  \t|  8.6e-07        \t|  1              \t|  8.6e-07        \t|  1.4628e-08     \t|\n",
      "|  [Callback]ModelSummary.setup                                                                                                                                         \t|  8.4e-07        \t|  1              \t|  8.4e-07        \t|  1.4288e-08     \t|\n",
      "|  [LightningDataModule]ISICDataModule.teardown                                                                                                                         \t|  8.4e-07        \t|  1              \t|  8.4e-07        \t|  1.4288e-08     \t|\n",
      "|  [Callback]ModelCheckpoint{'monitor': 'val_loss', 'mode': 'min', 'every_n_train_steps': 0, 'every_n_epochs': 1, 'train_time_interval': None}.on_train_end             \t|  8.3e-07        \t|  1              \t|  8.3e-07        \t|  1.4118e-08     \t|\n",
      "|  [Callback]ModelCheckpoint{'monitor': 'val_pAUC', 'mode': 'max', 'every_n_train_steps': 0, 'every_n_epochs': 1, 'train_time_interval': None}.on_train_start           \t|  7.5e-07        \t|  1              \t|  7.5e-07        \t|  1.2757e-08     \t|\n",
      "|  [LightningModule]GuruNet.on_fit_start                                                                                                                                \t|  6.9e-07        \t|  1              \t|  6.9e-07        \t|  1.1737e-08     \t|\n",
      "|  [Callback]LearningRateMonitor.on_fit_end                                                                                                                             \t|  6.6e-07        \t|  1              \t|  6.6e-07        \t|  1.1226e-08     \t|\n",
      "|  [Callback]ModelCheckpoint{'monitor': 'val_pAUC', 'mode': 'max', 'every_n_train_steps': 0, 'every_n_epochs': 1, 'train_time_interval': None}.on_fit_start             \t|  6.3e-07        \t|  1              \t|  6.3e-07        \t|  1.0716e-08     \t|\n",
      "|  [Callback]LearningRateMonitor.on_sanity_check_end                                                                                                                    \t|  6.2e-07        \t|  1              \t|  6.2e-07        \t|  1.0546e-08     \t|\n",
      "|  [LightningModule]GuruNet.on_train_end                                                                                                                                \t|  6.2e-07        \t|  1              \t|  6.2e-07        \t|  1.0546e-08     \t|\n",
      "|  [Callback]LearningRateMonitor.on_fit_start                                                                                                                           \t|  6e-07          \t|  1              \t|  6e-07          \t|  1.0206e-08     \t|\n",
      "|  [Callback]LearningRateMonitor.on_train_end                                                                                                                           \t|  6e-07          \t|  1              \t|  6e-07          \t|  1.0206e-08     \t|\n",
      "|  [Callback]LearningRateMonitor.teardown                                                                                                                               \t|  6e-07          \t|  1              \t|  6e-07          \t|  1.0206e-08     \t|\n",
      "|  [LightningModule]GuruNet.on_fit_end                                                                                                                                  \t|  5.9e-07        \t|  1              \t|  5.9e-07        \t|  1.0036e-08     \t|\n",
      "|  [Callback]ModelCheckpoint{'monitor': 'val_loss', 'mode': 'min', 'every_n_train_steps': 0, 'every_n_epochs': 1, 'train_time_interval': None}.on_sanity_check_start    \t|  5.8e-07        \t|  1              \t|  5.8e-07        \t|  9.8655e-09     \t|\n",
      "|  [Callback]ModelCheckpoint{'monitor': 'val_loss', 'mode': 'min', 'every_n_train_steps': 0, 'every_n_epochs': 1, 'train_time_interval': None}.on_sanity_check_end      \t|  5.7e-07        \t|  1              \t|  5.7e-07        \t|  9.6954e-09     \t|\n",
      "|  [Callback]ModelCheckpoint{'monitor': 'val_pAUC', 'mode': 'max', 'every_n_train_steps': 0, 'every_n_epochs': 1, 'train_time_interval': None}.on_sanity_check_end      \t|  5.5e-07        \t|  1              \t|  5.5e-07        \t|  9.3553e-09     \t|\n",
      "|  [Callback]ModelSummary.teardown                                                                                                                                      \t|  5.5e-07        \t|  1              \t|  5.5e-07        \t|  9.3553e-09     \t|\n",
      "|  [Callback]ModelSummary.on_sanity_check_end                                                                                                                           \t|  5.3e-07        \t|  1              \t|  5.3e-07        \t|  9.0151e-09     \t|\n",
      "|  [Strategy]SingleDeviceStrategy.on_train_end                                                                                                                          \t|  4.8e-07        \t|  1              \t|  4.8e-07        \t|  8.1646e-09     \t|\n",
      "|  [Callback]TQDMProgressBar.on_fit_start                                                                                                                               \t|  4.8e-07        \t|  1              \t|  4.8e-07        \t|  8.1646e-09     \t|\n",
      "|  [Callback]TQDMProgressBar.on_fit_end                                                                                                                                 \t|  4.7e-07        \t|  1              \t|  4.7e-07        \t|  7.9945e-09     \t|\n",
      "|  [Callback]ModelCheckpoint{'monitor': 'val_loss', 'mode': 'min', 'every_n_train_steps': 0, 'every_n_epochs': 1, 'train_time_interval': None}.on_fit_end               \t|  4.6e-07        \t|  1              \t|  4.6e-07        \t|  7.8244e-09     \t|\n",
      "|  [Callback]ModelCheckpoint{'monitor': 'val_pAUC', 'mode': 'max', 'every_n_train_steps': 0, 'every_n_epochs': 1, 'train_time_interval': None}.teardown                 \t|  4.6e-07        \t|  1              \t|  4.6e-07        \t|  7.8244e-09     \t|\n",
      "|  [LightningModule]GuruNet.teardown                                                                                                                                    \t|  4.6e-07        \t|  1              \t|  4.6e-07        \t|  7.8244e-09     \t|\n",
      "|  [Callback]ModelCheckpoint{'monitor': 'val_loss', 'mode': 'min', 'every_n_train_steps': 0, 'every_n_epochs': 1, 'train_time_interval': None}.teardown                 \t|  4.5e-07        \t|  1              \t|  4.5e-07        \t|  7.6543e-09     \t|\n",
      "|  [Callback]ModelCheckpoint{'monitor': 'val_pAUC', 'mode': 'max', 'every_n_train_steps': 0, 'every_n_epochs': 1, 'train_time_interval': None}.on_sanity_check_start    \t|  4.4e-07        \t|  1              \t|  4.4e-07        \t|  7.4842e-09     \t|\n",
      "|  [Callback]ModelSummary.on_fit_end                                                                                                                                    \t|  4.4e-07        \t|  1              \t|  4.4e-07        \t|  7.4842e-09     \t|\n",
      "|  [Callback]ModelCheckpoint{'monitor': 'val_pAUC', 'mode': 'max', 'every_n_train_steps': 0, 'every_n_epochs': 1, 'train_time_interval': None}.on_train_end             \t|  4e-07          \t|  1              \t|  4e-07          \t|  6.8038e-09     \t|\n",
      "|  [Callback]TQDMProgressBar.teardown                                                                                                                                   \t|  4e-07          \t|  1              \t|  4e-07          \t|  6.8038e-09     \t|\n",
      "|  [Callback]ModelCheckpoint{'monitor': 'val_pAUC', 'mode': 'max', 'every_n_train_steps': 0, 'every_n_epochs': 1, 'train_time_interval': None}.on_fit_end               \t|  3.9e-07        \t|  1              \t|  3.9e-07        \t|  6.6338e-09     \t|\n",
      "----------------------------------------------------------------------------------------------------------------------------------------------------------------------------------------------------------------------------------------------------------------------------------\n",
      "\n"
     ]
    }
   ],
   "source": [
    "import os\n",
    "\n",
    "os.environ.setdefault(\"CUDA_LAUNCH_BLOCKING\", \"1\")\n",
    "torch.cuda.memory.empty_cache()\n",
    "torch.set_float32_matmul_precision(\"medium\")\n",
    "batch_size = 64\n",
    "epochs = 100\n",
    "\n",
    "logger = TensorBoardLogger(\"tb_logs\", name=\"gurunet_model\")\n",
    "\n",
    "checkpoint_callback = ModelCheckpoint(\n",
    "    dirpath=f\"checkpoints/version_{logger.version}\",\n",
    "    filename=\"gurunet-{epoch:02d}-{val_loss:.5f}\",\n",
    "    save_top_k=3,\n",
    "    monitor=\"val_loss\",\n",
    "    mode=\"min\",\n",
    "    verbose=True,\n",
    ")\n",
    "checkpoint_callback_2 = ModelCheckpoint(\n",
    "    dirpath=f\"checkpoints/version_{logger.version}\",\n",
    "    filename=\"gurunet-{epoch:02d}-{val_pAUC:.5f}\",\n",
    "    save_top_k=3,\n",
    "    monitor=\"val_pAUC\",\n",
    "    mode=\"max\",\n",
    "    verbose=True\n",
    ")\n",
    "\n",
    "early_stop_callback = EarlyStopping(monitor=\"val_pAUC\", patience=15, mode=\"min\")\n",
    "\n",
    "lr_monitor = LearningRateMonitor(logging_interval=\"epoch\", log_momentum=True)\n",
    "\n",
    "# Initialize your data module\n",
    "data_module = ISICDataModule(\n",
    "    \"train-image.hdf5\",\n",
    "    \"test-image.hdf5\",\n",
    "    train_metadata_df,\n",
    "    test_metadata_df,\n",
    "    batch_size=batch_size,\n",
    ")\n",
    "\n",
    "\n",
    "# Initialize your model\n",
    "model = GuruNet(\n",
    "    input_shape=(139, 139, 3),\n",
    "    metadata_shape=(None, 37),\n",
    "    classes=2,\n",
    ")\n",
    "# Initialize a trainer\n",
    "trainer = pl.Trainer(\n",
    "    max_epochs=epochs,\n",
    "    accelerator=\"gpu\",\n",
    "    devices=1,\n",
    "    callbacks=[\n",
    "        checkpoint_callback,\n",
    "        checkpoint_callback_2,\n",
    "        early_stop_callback,\n",
    "        lr_monitor,\n",
    "    ],\n",
    "    logger=logger,\n",
    "    precision=\"16\",\n",
    "    enable_progress_bar=True,\n",
    "    enable_checkpointing=True,\n",
    "    accumulate_grad_batches=4,\n",
    "    profiler=\"simple\",\n",
    "    min_epochs=50\n",
    ")\n",
    "skip_training = False\n",
    "if not skip_training:\n",
    "    # Train the model\n",
    "    trainer.fit(model, data_module)\n"
   ]
  },
  {
   "cell_type": "code",
   "execution_count": 20,
   "metadata": {},
   "outputs": [
    {
     "name": "stdout",
     "output_type": "stream",
     "text": [
      "Preparing DataFrame...\n"
     ]
    },
    {
     "name": "stderr",
     "output_type": "stream",
     "text": [
      "/home/pupperemeritus/miniconda3/envs/isic/lib/python3.12/site-packages/torch/storage.py:414: FutureWarning: You are using `torch.load` with `weights_only=False` (the current default value), which uses the default pickle module implicitly. It is possible to construct malicious pickle data which will execute arbitrary code during unpickling (See https://github.com/pytorch/pytorch/blob/main/SECURITY.md#untrusted-models for more details). In a future release, the default value for `weights_only` will be flipped to `True`. This limits the functions that could be executed during unpickling. Arbitrary objects will no longer be allowed to be loaded via this mode unless they are explicitly allowlisted by the user via `torch.serialization.add_safe_globals`. We recommend you start setting `weights_only=True` for any use case where you don't have full control of the loaded file. Please open an issue on GitHub for any issues related to this experimental feature.\n",
      "  return torch.load(io.BytesIO(b))\n",
      "Restoring states from the checkpoint path at /home/pupperemeritus/DL/isic-2024-challenge/checkpoints/version_142/gurunet-epoch=48-val_pAUC=0.19894.ckpt\n"
     ]
    },
    {
     "name": "stdout",
     "output_type": "stream",
     "text": [
      "Loading cached prepared DataFrame...\n",
      "Number of Positive Samples: 393\n",
      "Number of Negative Samples: 400666\n",
      "Length of Balanced Positive Indices: 10026\n",
      "Length of Balanced Negative Indices: 10026\n",
      "Unique indices: [    81    237    261 ... 400922 400982 400984]\n",
      "Unique targets: [0 1]\n",
      "20052\n",
      "20052\n",
      "Setup Count: {np.int64(0): np.int64(10026), np.int64(1): np.int64(10026)}\n",
      "Train class distribution: [0.50090393 0.49909607], 16041\n",
      "Validation class distribution: [0.50573566 0.49426434], 2005\n",
      "Test class distribution: [0.48703888 0.51296112], 2006\n",
      "Length of full_dataset: 401059\n",
      "Length of train_indices: 16041, max index: 400982\n",
      "Length of val_indices: 2005, max index: 400922\n",
      "Length of test_indices: 2006, max index: 400984\n"
     ]
    },
    {
     "name": "stderr",
     "output_type": "stream",
     "text": [
      "LOCAL_RANK: 0 - CUDA_VISIBLE_DEVICES: [0]\n",
      "Loaded model weights from the checkpoint at /home/pupperemeritus/DL/isic-2024-challenge/checkpoints/version_142/gurunet-epoch=48-val_pAUC=0.19894.ckpt\n"
     ]
    },
    {
     "name": "stdout",
     "output_type": "stream",
     "text": [
      "Number of batches in test_loader: 32\n",
      "Testing DataLoader 0: 100%|██████████| 32/32 [00:26<00:00,  1.23it/s]\n"
     ]
    },
    {
     "data": {
      "text/html": [
       "<pre style=\"white-space:pre;overflow-x:auto;line-height:normal;font-family:Menlo,'DejaVu Sans Mono',consolas,'Courier New',monospace\">┏━━━━━━━━━━━━━━━━━━━━━━━━━━━┳━━━━━━━━━━━━━━━━━━━━━━━━━━━┓\n",
       "┃<span style=\"font-weight: bold\">        Test metric        </span>┃<span style=\"font-weight: bold\">       DataLoader 0        </span>┃\n",
       "┡━━━━━━━━━━━━━━━━━━━━━━━━━━━╇━━━━━━━━━━━━━━━━━━━━━━━━━━━┩\n",
       "│<span style=\"color: #008080; text-decoration-color: #008080\">      test_loss_epoch      </span>│<span style=\"color: #800080; text-decoration-color: #800080\">   0.048844680190086365    </span>│\n",
       "│<span style=\"color: #008080; text-decoration-color: #008080\">      test_pAUC_epoch      </span>│<span style=\"color: #800080; text-decoration-color: #800080\">    0.19879873096942902    </span>│\n",
       "└───────────────────────────┴───────────────────────────┘\n",
       "</pre>\n"
      ],
      "text/plain": [
       "┏━━━━━━━━━━━━━━━━━━━━━━━━━━━┳━━━━━━━━━━━━━━━━━━━━━━━━━━━┓\n",
       "┃\u001b[1m \u001b[0m\u001b[1m       Test metric       \u001b[0m\u001b[1m \u001b[0m┃\u001b[1m \u001b[0m\u001b[1m      DataLoader 0       \u001b[0m\u001b[1m \u001b[0m┃\n",
       "┡━━━━━━━━━━━━━━━━━━━━━━━━━━━╇━━━━━━━━━━━━━━━━━━━━━━━━━━━┩\n",
       "│\u001b[36m \u001b[0m\u001b[36m     test_loss_epoch     \u001b[0m\u001b[36m \u001b[0m│\u001b[35m \u001b[0m\u001b[35m  0.048844680190086365   \u001b[0m\u001b[35m \u001b[0m│\n",
       "│\u001b[36m \u001b[0m\u001b[36m     test_pAUC_epoch     \u001b[0m\u001b[36m \u001b[0m│\u001b[35m \u001b[0m\u001b[35m   0.19879873096942902   \u001b[0m\u001b[35m \u001b[0m│\n",
       "└───────────────────────────┴───────────────────────────┘\n"
      ]
     },
     "metadata": {},
     "output_type": "display_data"
    },
    {
     "name": "stderr",
     "output_type": "stream",
     "text": [
      "TEST Profiler Report\n",
      "\n",
      "----------------------------------------------------------------------------------------------------------------------------------------------------------------------------------------------------------------------------------------------------------------------------------\n",
      "|  Action                                                                                                                                                               \t|  Mean duration (s)\t|  Num calls      \t|  Total time (s) \t|  Percentage %   \t|\n",
      "----------------------------------------------------------------------------------------------------------------------------------------------------------------------------------------------------------------------------------------------------------------------------------\n",
      "|  Total                                                                                                                                                                \t|  -              \t|  554461         \t|  5955.7         \t|  100 %          \t|\n",
      "----------------------------------------------------------------------------------------------------------------------------------------------------------------------------------------------------------------------------------------------------------------------------------\n",
      "|  run_training_epoch                                                                                                                                                   \t|  116.21         \t|  50             \t|  5810.3         \t|  97.558         \t|\n",
      "|  run_training_batch                                                                                                                                                   \t|  0.40744        \t|  12550          \t|  5113.4         \t|  85.858         \t|\n",
      "|  [Strategy]SingleDeviceStrategy.training_step                                                                                                                         \t|  0.21883        \t|  12550          \t|  2746.3         \t|  46.113         \t|\n",
      "|  [Strategy]SingleDeviceStrategy.backward                                                                                                                              \t|  0.18125        \t|  12550          \t|  2274.6         \t|  38.193         \t|\n",
      "|  [LightningModule]GuruNet.optimizer_step                                                                                                                              \t|  0.4223         \t|  3150           \t|  1330.3         \t|  22.336         \t|\n",
      "|  [Strategy]SingleDeviceStrategy.validation_step                                                                                                                       \t|  0.22406        \t|  1602           \t|  358.94         \t|  6.0268         \t|\n",
      "|  [_TrainingEpochLoop].train_dataloader_next                                                                                                                           \t|  0.013068       \t|  12550          \t|  164.01         \t|  2.7538         \t|\n",
      "|  [_EvaluationLoop].val_next                                                                                                                                           \t|  0.047478       \t|  1602           \t|  76.06          \t|  1.2771         \t|\n",
      "|  [Strategy]SingleDeviceStrategy.test_step                                                                                                                             \t|  0.8254         \t|  64             \t|  52.826         \t|  0.88698        \t|\n",
      "|  [Callback]ModelCheckpoint{'monitor': 'val_loss', 'mode': 'min', 'every_n_train_steps': 0, 'every_n_epochs': 1, 'train_time_interval': None}.on_train_epoch_end       \t|  0.69158        \t|  50             \t|  34.579         \t|  0.5806         \t|\n",
      "|  [Callback]ModelCheckpoint{'monitor': 'val_pAUC', 'mode': 'max', 'every_n_train_steps': 0, 'every_n_epochs': 1, 'train_time_interval': None}.on_train_epoch_end       \t|  0.59273        \t|  50             \t|  29.636         \t|  0.49762        \t|\n",
      "|  [Callback]TQDMProgressBar.on_train_batch_end                                                                                                                         \t|  0.0013127      \t|  12550          \t|  16.474         \t|  0.27662        \t|\n",
      "|  [LightningModule]GuruNet.optimizer_zero_grad                                                                                                                         \t|  0.0012484      \t|  3150           \t|  3.9324         \t|  0.066028       \t|\n",
      "|  [Strategy]SingleDeviceStrategy.batch_to_device                                                                                                                       \t|  0.00021503     \t|  14216          \t|  3.0568         \t|  0.051326       \t|\n",
      "|  [LightningDataModule]ISICDataModule.setup                                                                                                                            \t|  0.86385        \t|  3              \t|  2.5916         \t|  0.043514       \t|\n",
      "|  [Callback]TQDMProgressBar.on_validation_batch_end                                                                                                                    \t|  0.0015856      \t|  1602           \t|  2.5401         \t|  0.042649       \t|\n",
      "|  [LightningModule]GuruNet.transfer_batch_to_device                                                                                                                    \t|  0.00017235     \t|  14216          \t|  2.4502         \t|  0.04114        \t|\n",
      "|  [_EvaluationLoop].test_next                                                                                                                                          \t|  0.032052       \t|  64             \t|  2.0513         \t|  0.034443       \t|\n",
      "|  [Callback]ModelCheckpoint{'monitor': 'val_loss', 'mode': 'min', 'every_n_train_steps': 0, 'every_n_epochs': 1, 'train_time_interval': None}.on_train_batch_end       \t|  1.8747e-05     \t|  12550          \t|  0.23527        \t|  0.0039504      \t|\n",
      "|  [LightningModule]GuruNet.on_validation_model_eval                                                                                                                    \t|  0.0044243      \t|  51             \t|  0.22564        \t|  0.0037886      \t|\n",
      "|  [Callback]TQDMProgressBar.on_validation_start                                                                                                                        \t|  0.0041152      \t|  51             \t|  0.20988        \t|  0.003524       \t|\n",
      "|  [LightningModule]GuruNet.on_validation_model_zero_grad                                                                                                               \t|  0.0040095      \t|  50             \t|  0.20047        \t|  0.0033661      \t|\n",
      "|  [Callback]TQDMProgressBar.on_validation_batch_start                                                                                                                  \t|  0.00011232     \t|  1602           \t|  0.17994        \t|  0.0030212      \t|\n",
      "|  [LightningModule]GuruNet.configure_gradient_clipping                                                                                                                 \t|  2.8314e-05     \t|  3150           \t|  0.089188       \t|  0.0014975      \t|\n",
      "|  [Callback]LearningRateMonitor.on_train_batch_start                                                                                                                   \t|  5.8103e-06     \t|  12550          \t|  0.072919       \t|  0.0012244      \t|\n",
      "|  [Callback]EarlyStopping{'monitor': 'val_pAUC', 'mode': 'min'}.on_after_backward                                                                                      \t|  4.9239e-06     \t|  12550          \t|  0.061795       \t|  0.0010376      \t|\n",
      "|  [Callback]TQDMProgressBar.on_validation_end                                                                                                                          \t|  0.0011899      \t|  51             \t|  0.060686       \t|  0.001019       \t|\n",
      "|  [Callback]TQDMProgressBar.on_train_epoch_start                                                                                                                       \t|  0.0010681      \t|  50             \t|  0.053403       \t|  0.00089667     \t|\n",
      "|  [Callback]ModelCheckpoint{'monitor': 'val_pAUC', 'mode': 'max', 'every_n_train_steps': 0, 'every_n_epochs': 1, 'train_time_interval': None}.on_train_batch_end       \t|  3.5668e-06     \t|  12550          \t|  0.044764       \t|  0.00075162     \t|\n",
      "|  [Callback]EarlyStopping{'monitor': 'val_pAUC', 'mode': 'min'}.on_train_epoch_end                                                                                     \t|  0.0008749      \t|  50             \t|  0.043745       \t|  0.00073451     \t|\n",
      "|  [Callback]TQDMProgressBar.on_train_epoch_end                                                                                                                         \t|  0.0008336      \t|  50             \t|  0.04168        \t|  0.00069984     \t|\n",
      "|  [Callback]TQDMProgressBar.on_test_batch_end                                                                                                                          \t|  0.0005276      \t|  64             \t|  0.033766       \t|  0.00056696     \t|\n",
      "|  [Callback]EarlyStopping{'monitor': 'val_pAUC', 'mode': 'min'}.on_train_batch_end                                                                                     \t|  2.4758e-06     \t|  12550          \t|  0.031071       \t|  0.00052171     \t|\n",
      "|  [Callback]EarlyStopping{'monitor': 'val_pAUC', 'mode': 'min'}.on_before_backward                                                                                     \t|  2.2399e-06     \t|  12550          \t|  0.028111       \t|  0.000472       \t|\n",
      "|  [Callback]ModelSummary.on_train_batch_end                                                                                                                            \t|  2.2301e-06     \t|  12550          \t|  0.027988       \t|  0.00046995     \t|\n",
      "|  [Callback]EarlyStopping{'monitor': 'val_pAUC', 'mode': 'min'}.on_train_batch_start                                                                                   \t|  1.7343e-06     \t|  12550          \t|  0.021766       \t|  0.00036546     \t|\n",
      "|  [Callback]LearningRateMonitor.on_train_epoch_start                                                                                                                   \t|  0.00026828     \t|  50             \t|  0.013414       \t|  0.00022523     \t|\n",
      "|  [Callback]ModelCheckpoint{'monitor': 'val_loss', 'mode': 'min', 'every_n_train_steps': 0, 'every_n_epochs': 1, 'train_time_interval': None}.on_after_backward        \t|  1.0588e-06     \t|  12550          \t|  0.013288       \t|  0.00022311     \t|\n",
      "|  [LightningModule]GuruNet.on_test_model_eval                                                                                                                          \t|  0.0066219      \t|  2              \t|  0.013244       \t|  0.00022237     \t|\n",
      "|  [LightningModule]GuruNet.on_before_batch_transfer                                                                                                                    \t|  8.961e-07      \t|  14216          \t|  0.012739       \t|  0.0002139      \t|\n",
      "|  [LightningModule]GuruNet.on_after_backward                                                                                                                           \t|  1.0035e-06     \t|  12550          \t|  0.012594       \t|  0.00021147     \t|\n",
      "|  [Callback]LearningRateMonitor.on_after_backward                                                                                                                      \t|  9.8402e-07     \t|  12550          \t|  0.012349       \t|  0.00020736     \t|\n",
      "|  [LightningModule]GuruNet.on_after_batch_transfer                                                                                                                     \t|  8.3482e-07     \t|  14216          \t|  0.011868       \t|  0.00019927     \t|\n",
      "|  [LightningModule]GuruNet.on_train_batch_start                                                                                                                        \t|  9.4291e-07     \t|  12550          \t|  0.011833       \t|  0.00019869     \t|\n",
      "|  [LightningModule]GuruNet.on_train_batch_end                                                                                                                          \t|  8.9736e-07     \t|  12550          \t|  0.011262       \t|  0.00018909     \t|\n",
      "|  [Strategy]SingleDeviceStrategy.on_train_batch_start                                                                                                                  \t|  8.618e-07      \t|  12550          \t|  0.010816       \t|  0.0001816      \t|\n",
      "|  [LightningModule]GuruNet.on_before_backward                                                                                                                          \t|  8.6018e-07     \t|  12550          \t|  0.010795       \t|  0.00018126     \t|\n",
      "|  [Callback]LearningRateMonitor.on_train_batch_end                                                                                                                     \t|  8.2107e-07     \t|  12550          \t|  0.010304       \t|  0.00017302     \t|\n",
      "|  [Callback]ModelCheckpoint{'monitor': 'val_pAUC', 'mode': 'max', 'every_n_train_steps': 0, 'every_n_epochs': 1, 'train_time_interval': None}.on_after_backward        \t|  7.9905e-07     \t|  12550          \t|  0.010028       \t|  0.00016838     \t|\n",
      "|  [Callback]TQDMProgressBar.on_train_batch_start                                                                                                                       \t|  7.1339e-07     \t|  12550          \t|  0.008953       \t|  0.00015033     \t|\n",
      "|  [Callback]LearningRateMonitor.on_before_backward                                                                                                                     \t|  7.0759e-07     \t|  12550          \t|  0.0088803      \t|  0.00014911     \t|\n",
      "|  [Callback]EarlyStopping{'monitor': 'val_pAUC', 'mode': 'min'}.on_before_optimizer_step                                                                               \t|  2.7746e-06     \t|  3150           \t|  0.0087399      \t|  0.00014675     \t|\n",
      "|  [Callback]TQDMProgressBar.on_after_backward                                                                                                                          \t|  6.9252e-07     \t|  12550          \t|  0.0086912      \t|  0.00014593     \t|\n",
      "|  [Callback]EarlyStopping{'monitor': 'val_pAUC', 'mode': 'min'}.on_before_zero_grad                                                                                    \t|  2.7258e-06     \t|  3150           \t|  0.0085863      \t|  0.00014417     \t|\n",
      "|  [Callback]ModelCheckpoint{'monitor': 'val_pAUC', 'mode': 'max', 'every_n_train_steps': 0, 'every_n_epochs': 1, 'train_time_interval': None}.on_before_backward       \t|  6.8038e-07     \t|  12550          \t|  0.0085388      \t|  0.00014337     \t|\n",
      "|  [Callback]ModelCheckpoint{'monitor': 'val_loss', 'mode': 'min', 'every_n_train_steps': 0, 'every_n_epochs': 1, 'train_time_interval': None}.on_before_backward       \t|  6.5837e-07     \t|  12550          \t|  0.0082625      \t|  0.00013873     \t|\n",
      "|  [Callback]ModelSummary.on_after_backward                                                                                                                             \t|  6.4881e-07     \t|  12550          \t|  0.0081425      \t|  0.00013672     \t|\n",
      "|  [Callback]ModelCheckpoint{'monitor': 'val_pAUC', 'mode': 'max', 'every_n_train_steps': 0, 'every_n_epochs': 1, 'train_time_interval': None}.on_train_batch_start     \t|  5.683e-07      \t|  12550          \t|  0.0071322      \t|  0.00011975     \t|\n",
      "|  [Callback]TQDMProgressBar.on_before_backward                                                                                                                         \t|  5.6665e-07     \t|  12550          \t|  0.0071115      \t|  0.00011941     \t|\n",
      "|  [Callback]ModelCheckpoint{'monitor': 'val_loss', 'mode': 'min', 'every_n_train_steps': 0, 'every_n_epochs': 1, 'train_time_interval': None}.on_train_batch_start     \t|  5.4904e-07     \t|  12550          \t|  0.0068905      \t|  0.0001157      \t|\n",
      "|  [Callback]TQDMProgressBar.on_train_start                                                                                                                             \t|  0.0066167      \t|  1              \t|  0.0066167      \t|  0.0001111      \t|\n",
      "|  [Callback]ModelSummary.on_train_batch_start                                                                                                                          \t|  5.2116e-07     \t|  12550          \t|  0.0065405      \t|  0.00010982     \t|\n",
      "|  [Callback]ModelSummary.on_before_backward                                                                                                                            \t|  4.9722e-07     \t|  12550          \t|  0.0062401      \t|  0.00010478     \t|\n",
      "|  [Callback]ModelSummary.on_fit_start                                                                                                                                  \t|  0.0060231      \t|  1              \t|  0.0060231      \t|  0.00010113     \t|\n",
      "|  [Callback]TQDMProgressBar.on_test_start                                                                                                                              \t|  0.002977       \t|  2              \t|  0.005954       \t|  9.9973e-05     \t|\n",
      "|  [LightningModule]GuruNet.on_before_zero_grad                                                                                                                         \t|  1.488e-06      \t|  3150           \t|  0.0046873      \t|  7.8704e-05     \t|\n",
      "|  [Callback]ModelSummary.on_validation_batch_end                                                                                                                       \t|  2.9244e-06     \t|  1602           \t|  0.004685       \t|  7.8664e-05     \t|\n",
      "|  [Callback]EarlyStopping{'monitor': 'val_pAUC', 'mode': 'min'}.on_validation_batch_end                                                                                \t|  2.7006e-06     \t|  1602           \t|  0.0043264      \t|  7.2643e-05     \t|\n",
      "|  [Callback]TQDMProgressBar.on_test_batch_start                                                                                                                        \t|  5.8333e-05     \t|  64             \t|  0.0037333      \t|  6.2685e-05     \t|\n",
      "|  [Callback]TQDMProgressBar.on_sanity_check_start                                                                                                                      \t|  0.0036443      \t|  1              \t|  0.0036443      \t|  6.119e-05      \t|\n",
      "|  [Callback]ModelSummary.on_before_optimizer_step                                                                                                                      \t|  1.0797e-06     \t|  3150           \t|  0.0034012      \t|  5.7108e-05     \t|\n",
      "|  [Callback]EarlyStopping{'monitor': 'val_pAUC', 'mode': 'min'}.on_validation_batch_start                                                                              \t|  2.1167e-06     \t|  1602           \t|  0.0033909      \t|  5.6936e-05     \t|\n",
      "|  [LightningModule]GuruNet.on_before_optimizer_step                                                                                                                    \t|  8.149e-07      \t|  3150           \t|  0.0025669      \t|  4.3101e-05     \t|\n",
      "|  [Callback]LearningRateMonitor.on_before_zero_grad                                                                                                                    \t|  7.6019e-07     \t|  3150           \t|  0.0023946      \t|  4.0207e-05     \t|\n",
      "|  [Callback]LearningRateMonitor.on_before_optimizer_step                                                                                                               \t|  7.1699e-07     \t|  3150           \t|  0.0022585      \t|  3.7922e-05     \t|\n",
      "|  [LightningModule]GuruNet.on_validation_batch_end                                                                                                                     \t|  1.2915e-06     \t|  1602           \t|  0.0020689      \t|  3.4739e-05     \t|\n",
      "|  [Callback]ModelCheckpoint{'monitor': 'val_loss', 'mode': 'min', 'every_n_train_steps': 0, 'every_n_epochs': 1, 'train_time_interval': None}.on_validation_end        \t|  3.904e-05      \t|  51             \t|  0.0019911      \t|  3.3431e-05     \t|\n",
      "|  [LightningModule]GuruNet.on_validation_batch_start                                                                                                                   \t|  1.2126e-06     \t|  1602           \t|  0.0019426      \t|  3.2618e-05     \t|\n",
      "|  [LightningModule]GuruNet.lr_scheduler_step                                                                                                                           \t|  3.6773e-05     \t|  50             \t|  0.0018386      \t|  3.0872e-05     \t|\n",
      "|  [Callback]ModelCheckpoint{'monitor': 'val_loss', 'mode': 'min', 'every_n_train_steps': 0, 'every_n_epochs': 1, 'train_time_interval': None}.on_before_zero_grad      \t|  5.68e-07       \t|  3150           \t|  0.0017892      \t|  3.0042e-05     \t|\n",
      "|  [Callback]TQDMProgressBar.on_before_zero_grad                                                                                                                        \t|  5.6552e-07     \t|  3150           \t|  0.0017814      \t|  2.9911e-05     \t|\n",
      "|  [Callback]ModelSummary.on_before_zero_grad                                                                                                                           \t|  5.5401e-07     \t|  3150           \t|  0.0017451      \t|  2.9302e-05     \t|\n",
      "|  [Callback]ModelCheckpoint{'monitor': 'val_pAUC', 'mode': 'max', 'every_n_train_steps': 0, 'every_n_epochs': 1, 'train_time_interval': None}.on_before_zero_grad      \t|  5.3175e-07     \t|  3150           \t|  0.001675       \t|  2.8125e-05     \t|\n",
      "|  [Callback]ModelCheckpoint{'monitor': 'val_loss', 'mode': 'min', 'every_n_train_steps': 0, 'every_n_epochs': 1, 'train_time_interval': None}.on_before_optimizer_step \t|  5.1637e-07     \t|  3150           \t|  0.0016266      \t|  2.7311e-05     \t|\n",
      "|  [Callback]TQDMProgressBar.on_before_optimizer_step                                                                                                                   \t|  4.8858e-07     \t|  3150           \t|  0.001539       \t|  2.5841e-05     \t|\n",
      "|  [Callback]LearningRateMonitor.on_validation_batch_end                                                                                                                \t|  8.8858e-07     \t|  1602           \t|  0.0014235      \t|  2.3902e-05     \t|\n",
      "|  [Callback]ModelCheckpoint{'monitor': 'val_pAUC', 'mode': 'max', 'every_n_train_steps': 0, 'every_n_epochs': 1, 'train_time_interval': None}.on_before_optimizer_step \t|  4.5182e-07     \t|  3150           \t|  0.0014232      \t|  2.3897e-05     \t|\n",
      "|  [Callback]ModelCheckpoint{'monitor': 'val_loss', 'mode': 'min', 'every_n_train_steps': 0, 'every_n_epochs': 1, 'train_time_interval': None}.on_validation_batch_end  \t|  8.8056e-07     \t|  1602           \t|  0.0014107      \t|  2.3686e-05     \t|\n",
      "|  [Callback]LearningRateMonitor.on_validation_batch_start                                                                                                              \t|  8.6898e-07     \t|  1602           \t|  0.0013921      \t|  2.3374e-05     \t|\n",
      "|  [Callback]ModelCheckpoint{'monitor': 'val_pAUC', 'mode': 'max', 'every_n_train_steps': 0, 'every_n_epochs': 1, 'train_time_interval': None}.on_validation_batch_end  \t|  7.7926e-07     \t|  1602           \t|  0.0012484      \t|  2.0961e-05     \t|\n",
      "|  [Callback]ModelCheckpoint{'monitor': 'val_loss', 'mode': 'min', 'every_n_train_steps': 0, 'every_n_epochs': 1, 'train_time_interval': None}.on_validation_batch_start\t|  7.6625e-07     \t|  1602           \t|  0.0012275      \t|  2.0611e-05     \t|\n",
      "|  [LightningModule]GuruNet.configure_optimizers                                                                                                                        \t|  0.0011999      \t|  1              \t|  0.0011999      \t|  2.0147e-05     \t|\n",
      "|  [Callback]ModelSummary.on_validation_batch_start                                                                                                                     \t|  7.3453e-07     \t|  1602           \t|  0.0011767      \t|  1.9758e-05     \t|\n",
      "|  [Callback]ModelCheckpoint{'monitor': 'val_pAUC', 'mode': 'max', 'every_n_train_steps': 0, 'every_n_epochs': 1, 'train_time_interval': None}.on_validation_batch_start\t|  6.6557e-07     \t|  1602           \t|  0.0010663      \t|  1.7903e-05     \t|\n",
      "|  [Callback]TQDMProgressBar.on_test_end                                                                                                                                \t|  0.00034242     \t|  2              \t|  0.00068483     \t|  1.1499e-05     \t|\n",
      "|  [Callback]EarlyStopping{'monitor': 'val_pAUC', 'mode': 'min'}.on_validation_epoch_start                                                                              \t|  1.3394e-05     \t|  51             \t|  0.00068309     \t|  1.1469e-05     \t|\n",
      "|  [Callback]TQDMProgressBar.on_train_end                                                                                                                               \t|  0.00067398     \t|  1              \t|  0.00067398     \t|  1.1317e-05     \t|\n",
      "|  [LightningDataModule]ISICDataModule.train_dataloader                                                                                                                 \t|  0.00060518     \t|  1              \t|  0.00060518     \t|  1.0161e-05     \t|\n",
      "|  [Callback]EarlyStopping{'monitor': 'val_pAUC', 'mode': 'min'}.on_validation_start                                                                                    \t|  1.1626e-05     \t|  51             \t|  0.00059291     \t|  9.9554e-06     \t|\n",
      "|  [LightningDataModule]ISICDataModule.test_dataloader                                                                                                                  \t|  0.00021821     \t|  2              \t|  0.00043642     \t|  7.3278e-06     \t|\n",
      "|  [Callback]LearningRateMonitor.on_train_start                                                                                                                         \t|  0.00036588     \t|  1              \t|  0.00036588     \t|  6.1433e-06     \t|\n",
      "|  [LightningModule]GuruNet.on_validation_epoch_start                                                                                                                   \t|  6.5497e-06     \t|  51             \t|  0.00033404     \t|  5.6087e-06     \t|\n",
      "|  [LightningDataModule]ISICDataModule.val_dataloader                                                                                                                   \t|  0.00032559     \t|  1              \t|  0.00032559     \t|  5.4668e-06     \t|\n",
      "|  [Strategy]SingleDeviceStrategy.on_validation_start                                                                                                                   \t|  6.1923e-06     \t|  51             \t|  0.0003158      \t|  5.3026e-06     \t|\n",
      "|  [Callback]ModelCheckpoint{'monitor': 'val_pAUC', 'mode': 'max', 'every_n_train_steps': 0, 'every_n_epochs': 1, 'train_time_interval': None}.on_validation_end        \t|  5.6612e-06     \t|  51             \t|  0.00028872     \t|  4.8478e-06     \t|\n",
      "|  [Callback]ModelCheckpoint{'monitor': 'val_loss', 'mode': 'min', 'every_n_train_steps': 0, 'every_n_epochs': 1, 'train_time_interval': None}.setup                    \t|  8.8502e-05     \t|  3              \t|  0.00026551     \t|  4.458e-06      \t|\n",
      "|  [LightningDataModule]ISICDataModule.state_dict                                                                                                                       \t|  3.1519e-06     \t|  81             \t|  0.0002553      \t|  4.2867e-06     \t|\n",
      "|  [Callback]EarlyStopping{'monitor': 'val_pAUC', 'mode': 'min'}.on_validation_end                                                                                      \t|  4.8147e-06     \t|  51             \t|  0.00024555     \t|  4.1229e-06     \t|\n",
      "|  [Callback]ModelSummary.on_validation_start                                                                                                                           \t|  3.5549e-06     \t|  51             \t|  0.0001813      \t|  3.0442e-06     \t|\n",
      "|  [Callback]EarlyStopping{'monitor': 'val_pAUC', 'mode': 'min'}.on_train_epoch_start                                                                                   \t|  2.8315e-06     \t|  50             \t|  0.00014157     \t|  2.3771e-06     \t|\n",
      "|  [Callback]EarlyStopping{'monitor': 'val_pAUC', 'mode': 'min'}.on_test_batch_end                                                                                      \t|  1.8717e-06     \t|  64             \t|  0.00011979     \t|  2.0114e-06     \t|\n",
      "|  [Callback]LearningRateMonitor.on_validation_start                                                                                                                    \t|  1.829e-06      \t|  51             \t|  9.3281e-05     \t|  1.5663e-06     \t|\n",
      "|  [Callback]EarlyStopping{'monitor': 'val_pAUC', 'mode': 'min'}.on_save_checkpoint                                                                                     \t|  1.1409e-06     \t|  81             \t|  9.241e-05      \t|  1.5516e-06     \t|\n",
      "|  [Callback]ModelSummary.on_test_batch_end                                                                                                                             \t|  1.3432e-06     \t|  64             \t|  8.5962e-05     \t|  1.4434e-06     \t|\n",
      "|  [Callback]EarlyStopping{'monitor': 'val_pAUC', 'mode': 'min'}.on_test_batch_start                                                                                    \t|  1.3224e-06     \t|  64             \t|  8.4632e-05     \t|  1.421e-06      \t|\n",
      "|  [Callback]ModelSummary.on_train_epoch_start                                                                                                                          \t|  1.5883e-06     \t|  50             \t|  7.9413e-05     \t|  1.3334e-06     \t|\n",
      "|  [Callback]EarlyStopping{'monitor': 'val_pAUC', 'mode': 'min'}.on_validation_epoch_end                                                                                \t|  1.4752e-06     \t|  51             \t|  7.5234e-05     \t|  1.2632e-06     \t|\n",
      "|  [Callback]LearningRateMonitor.on_train_epoch_end                                                                                                                     \t|  1.4404e-06     \t|  50             \t|  7.2021e-05     \t|  1.2093e-06     \t|\n",
      "|  [Callback]ModelSummary.on_validation_end                                                                                                                             \t|  1.3604e-06     \t|  51             \t|  6.9382e-05     \t|  1.165e-06      \t|\n",
      "|  [LightningModule]GuruNet.on_validation_start                                                                                                                         \t|  1.2838e-06     \t|  51             \t|  6.5473e-05     \t|  1.0993e-06     \t|\n",
      "|  [Callback]ModelCheckpoint{'monitor': 'val_loss', 'mode': 'min', 'every_n_train_steps': 0, 'every_n_epochs': 1, 'train_time_interval': None}.on_save_checkpoint       \t|  8.0074e-07     \t|  81             \t|  6.486e-05      \t|  1.089e-06      \t|\n",
      "|  [Callback]ModelSummary.on_train_epoch_end                                                                                                                            \t|  1.2936e-06     \t|  50             \t|  6.4682e-05     \t|  1.0861e-06     \t|\n",
      "|  [Callback]LearningRateMonitor.on_validation_epoch_start                                                                                                              \t|  1.1671e-06     \t|  51             \t|  5.9521e-05     \t|  9.994e-07      \t|\n",
      "|  [Callback]ModelCheckpoint{'monitor': 'val_loss', 'mode': 'min', 'every_n_train_steps': 0, 'every_n_epochs': 1, 'train_time_interval': None}.on_validation_start      \t|  1.119e-06      \t|  51             \t|  5.707e-05      \t|  9.5825e-07     \t|\n",
      "|  [Callback]ModelCheckpoint{'monitor': 'val_pAUC', 'mode': 'max', 'every_n_train_steps': 0, 'every_n_epochs': 1, 'train_time_interval': None}.setup                    \t|  1.8957e-05     \t|  3              \t|  5.6871e-05     \t|  9.5491e-07     \t|\n",
      "|  [LightningModule]GuruNet.on_test_batch_end                                                                                                                           \t|  8.3017e-07     \t|  64             \t|  5.3131e-05     \t|  8.9211e-07     \t|\n",
      "|  [Callback]ModelCheckpoint{'monitor': 'val_loss', 'mode': 'min', 'every_n_train_steps': 0, 'every_n_epochs': 1, 'train_time_interval': None}.on_test_batch_end        \t|  8.1642e-07     \t|  64             \t|  5.2251e-05     \t|  8.7733e-07     \t|\n",
      "|  [Callback]LearningRateMonitor.on_validation_end                                                                                                                      \t|  1.0073e-06     \t|  51             \t|  5.137e-05      \t|  8.6254e-07     \t|\n",
      "|  [Callback]TQDMProgressBar.on_save_checkpoint                                                                                                                         \t|  6.2939e-07     \t|  81             \t|  5.0981e-05     \t|  8.5601e-07     \t|\n",
      "|  [LightningModule]GuruNet.on_test_batch_start                                                                                                                         \t|  7.9536e-07     \t|  64             \t|  5.0903e-05     \t|  8.547e-07      \t|\n",
      "|  [LightningModule]GuruNet.on_train_epoch_start                                                                                                                        \t|  9.7542e-07     \t|  50             \t|  4.8771e-05     \t|  8.189e-07      \t|\n",
      "|  [Callback]LearningRateMonitor.on_save_checkpoint                                                                                                                     \t|  5.799e-07      \t|  81             \t|  4.6972e-05     \t|  7.8869e-07     \t|\n",
      "|  [Callback]LearningRateMonitor.on_test_batch_end                                                                                                                      \t|  7.075e-07      \t|  64             \t|  4.528e-05      \t|  7.6028e-07     \t|\n",
      "|  [Callback]EarlyStopping{'monitor': 'val_pAUC', 'mode': 'min'}.on_train_start                                                                                         \t|  4.4611e-05     \t|  1              \t|  4.4611e-05     \t|  7.4905e-07     \t|\n",
      "|  [LightningModule]GuruNet.on_train_epoch_end                                                                                                                          \t|  7.7886e-07     \t|  50             \t|  3.8943e-05     \t|  6.5388e-07     \t|\n",
      "|  [LightningModule]GuruNet.on_save_checkpoint                                                                                                                          \t|  4.7543e-07     \t|  81             \t|  3.851e-05      \t|  6.4661e-07     \t|\n",
      "|  [LightningModule]GuruNet.on_validation_end                                                                                                                           \t|  7.5373e-07     \t|  51             \t|  3.844e-05      \t|  6.4544e-07     \t|\n",
      "|  [Callback]ModelSummary.on_save_checkpoint                                                                                                                            \t|  4.7174e-07     \t|  81             \t|  3.8211e-05     \t|  6.4159e-07     \t|\n",
      "|  [Callback]ModelSummary.on_test_batch_start                                                                                                                           \t|  5.7345e-07     \t|  64             \t|  3.6701e-05     \t|  6.1624e-07     \t|\n",
      "|  [Callback]ModelCheckpoint{'monitor': 'val_loss', 'mode': 'min', 'every_n_train_steps': 0, 'every_n_epochs': 1, 'train_time_interval': None}.on_validation_epoch_start\t|  6.9982e-07     \t|  51             \t|  3.5691e-05     \t|  5.9928e-07     \t|\n",
      "|  [Callback]ModelCheckpoint{'monitor': 'val_pAUC', 'mode': 'max', 'every_n_train_steps': 0, 'every_n_epochs': 1, 'train_time_interval': None}.on_test_batch_end        \t|  5.5738e-07     \t|  64             \t|  3.5672e-05     \t|  5.9896e-07     \t|\n",
      "|  [Callback]ModelCheckpoint{'monitor': 'val_loss', 'mode': 'min', 'every_n_train_steps': 0, 'every_n_epochs': 1, 'train_time_interval': None}.on_train_epoch_start     \t|  7.026e-07      \t|  50             \t|  3.513e-05      \t|  5.8986e-07     \t|\n",
      "|  [Callback]LearningRateMonitor.on_test_batch_start                                                                                                                    \t|  5.4828e-07     \t|  64             \t|  3.509e-05      \t|  5.8919e-07     \t|\n",
      "|  [Strategy]SingleDeviceStrategy.on_validation_end                                                                                                                     \t|  6.8041e-07     \t|  51             \t|  3.4701e-05     \t|  5.8266e-07     \t|\n",
      "|  [LightningModule]GuruNet.on_validation_epoch_end                                                                                                                     \t|  6.5314e-07     \t|  51             \t|  3.331e-05      \t|  5.593e-07      \t|\n",
      "|  [Callback]ModelSummary.on_validation_epoch_start                                                                                                                     \t|  6.5137e-07     \t|  51             \t|  3.322e-05      \t|  5.5779e-07     \t|\n",
      "|  [Callback]ModelCheckpoint{'monitor': 'val_pAUC', 'mode': 'max', 'every_n_train_steps': 0, 'every_n_epochs': 1, 'train_time_interval': None}.on_validation_start      \t|  6.4157e-07     \t|  51             \t|  3.272e-05      \t|  5.4939e-07     \t|\n",
      "|  [Callback]LearningRateMonitor.on_validation_epoch_end                                                                                                                \t|  6.3041e-07     \t|  51             \t|  3.2151e-05     \t|  5.3984e-07     \t|\n",
      "|  [Callback]ModelCheckpoint{'monitor': 'val_pAUC', 'mode': 'max', 'every_n_train_steps': 0, 'every_n_epochs': 1, 'train_time_interval': None}.on_save_checkpoint       \t|  3.9631e-07     \t|  81             \t|  3.2101e-05     \t|  5.39e-07       \t|\n",
      "|  [Callback]ModelSummary.on_validation_epoch_end                                                                                                                       \t|  6.2706e-07     \t|  51             \t|  3.198e-05      \t|  5.3697e-07     \t|\n",
      "|  [Callback]ModelCheckpoint{'monitor': 'val_pAUC', 'mode': 'max', 'every_n_train_steps': 0, 'every_n_epochs': 1, 'train_time_interval': None}.on_validation_epoch_start\t|  6.1845e-07     \t|  51             \t|  3.1541e-05     \t|  5.296e-07      \t|\n",
      "|  [Callback]ModelCheckpoint{'monitor': 'val_pAUC', 'mode': 'max', 'every_n_train_steps': 0, 'every_n_epochs': 1, 'train_time_interval': None}.on_train_epoch_start     \t|  6.256e-07      \t|  50             \t|  3.128e-05      \t|  5.2521e-07     \t|\n",
      "|  [Callback]ModelCheckpoint{'monitor': 'val_loss', 'mode': 'min', 'every_n_train_steps': 0, 'every_n_epochs': 1, 'train_time_interval': None}.on_test_batch_start      \t|  4.7516e-07     \t|  64             \t|  3.041e-05      \t|  5.1061e-07     \t|\n",
      "|  [Callback]TQDMProgressBar.on_validation_epoch_start                                                                                                                  \t|  5.9412e-07     \t|  51             \t|  3.03e-05       \t|  5.0876e-07     \t|\n",
      "|  [Callback]ModelCheckpoint{'monitor': 'val_pAUC', 'mode': 'max', 'every_n_train_steps': 0, 'every_n_epochs': 1, 'train_time_interval': None}.on_test_batch_start      \t|  4.4848e-07     \t|  64             \t|  2.8703e-05     \t|  4.8194e-07     \t|\n",
      "|  [Callback]ModelCheckpoint{'monitor': 'val_loss', 'mode': 'min', 'every_n_train_steps': 0, 'every_n_epochs': 1, 'train_time_interval': None}.on_train_start           \t|  2.487e-05      \t|  1              \t|  2.487e-05      \t|  4.1759e-07     \t|\n",
      "|  [Callback]ModelCheckpoint{'monitor': 'val_loss', 'mode': 'min', 'every_n_train_steps': 0, 'every_n_epochs': 1, 'train_time_interval': None}.on_validation_epoch_end  \t|  4.7745e-07     \t|  51             \t|  2.435e-05      \t|  4.0885e-07     \t|\n",
      "|  [Callback]TQDMProgressBar.on_validation_epoch_end                                                                                                                    \t|  4.7157e-07     \t|  51             \t|  2.405e-05      \t|  4.0382e-07     \t|\n",
      "|  [Strategy]SingleDeviceStrategy.on_train_start                                                                                                                        \t|  2.37e-05       \t|  1              \t|  2.37e-05       \t|  3.9794e-07     \t|\n",
      "|  [Callback]ModelCheckpoint{'monitor': 'val_pAUC', 'mode': 'max', 'every_n_train_steps': 0, 'every_n_epochs': 1, 'train_time_interval': None}.on_validation_epoch_end  \t|  4.5867e-07     \t|  51             \t|  2.3392e-05     \t|  3.9277e-07     \t|\n",
      "|  [Callback]EarlyStopping{'monitor': 'val_pAUC', 'mode': 'min'}.setup                                                                                                  \t|  5.8633e-06     \t|  3              \t|  1.759e-05      \t|  2.9535e-07     \t|\n",
      "|  [Callback]TQDMProgressBar.setup                                                                                                                                      \t|  4.5967e-06     \t|  3              \t|  1.379e-05      \t|  2.3154e-07     \t|\n",
      "|  [Callback]TQDMProgressBar.on_sanity_check_end                                                                                                                        \t|  1.331e-05      \t|  1              \t|  1.331e-05      \t|  2.2348e-07     \t|\n",
      "|  [Callback]ModelSummary.on_train_start                                                                                                                                \t|  1.3021e-05     \t|  1              \t|  1.3021e-05     \t|  2.1863e-07     \t|\n",
      "|  [Callback]EarlyStopping{'monitor': 'val_pAUC', 'mode': 'min'}.on_test_start                                                                                          \t|  6.095e-06      \t|  2              \t|  1.219e-05      \t|  2.0468e-07     \t|\n",
      "|  [LightningModule]GuruNet.on_train_start                                                                                                                              \t|  1.206e-05      \t|  1              \t|  1.206e-05      \t|  2.025e-07      \t|\n",
      "|  [Callback]EarlyStopping{'monitor': 'val_pAUC', 'mode': 'min'}.on_sanity_check_end                                                                                    \t|  1.088e-05      \t|  1              \t|  1.088e-05      \t|  1.8268e-07     \t|\n",
      "|  [LightningModule]GuruNet.on_test_epoch_start                                                                                                                         \t|  5.15e-06       \t|  2              \t|  1.03e-05       \t|  1.7294e-07     \t|\n",
      "|  [Strategy]SingleDeviceStrategy.on_test_start                                                                                                                         \t|  4.5955e-06     \t|  2              \t|  9.191e-06      \t|  1.5432e-07     \t|\n",
      "|  [Callback]EarlyStopping{'monitor': 'val_pAUC', 'mode': 'min'}.teardown                                                                                               \t|  2.7033e-06     \t|  3              \t|  8.11e-06       \t|  1.3617e-07     \t|\n",
      "|  [Callback]LearningRateMonitor.setup                                                                                                                                  \t|  2.0633e-06     \t|  3              \t|  6.19e-06       \t|  1.0393e-07     \t|\n",
      "|  [Callback]ModelSummary.on_test_start                                                                                                                                 \t|  2.705e-06      \t|  2              \t|  5.41e-06       \t|  9.0838e-08     \t|\n",
      "|  [LightningModule]GuruNet.on_load_checkpoint                                                                                                                          \t|  2.52e-06       \t|  2              \t|  5.04e-06       \t|  8.4625e-08     \t|\n",
      "|  [LightningDataModule]ISICDataModule.teardown                                                                                                                         \t|  1.557e-06      \t|  3              \t|  4.671e-06      \t|  7.8429e-08     \t|\n",
      "|  [LightningModule]GuruNet.configure_callbacks                                                                                                                         \t|  1.5e-06        \t|  3              \t|  4.5e-06        \t|  7.5558e-08     \t|\n",
      "|  [LightningModule]GuruNet.on_test_start                                                                                                                               \t|  1.99e-06       \t|  2              \t|  3.98e-06       \t|  6.6827e-08     \t|\n",
      "|  [Callback]EarlyStopping{'monitor': 'val_pAUC', 'mode': 'min'}.on_fit_end                                                                                             \t|  3.95e-06       \t|  1              \t|  3.95e-06       \t|  6.6323e-08     \t|\n",
      "|  [LightningModule]GuruNet.setup                                                                                                                                       \t|  1.0833e-06     \t|  3              \t|  3.25e-06       \t|  5.457e-08      \t|\n",
      "|  [Callback]EarlyStopping{'monitor': 'val_pAUC', 'mode': 'min'}.on_test_end                                                                                            \t|  1.39e-06       \t|  2              \t|  2.78e-06       \t|  4.6678e-08     \t|\n",
      "|  [Callback]EarlyStopping{'monitor': 'val_pAUC', 'mode': 'min'}.on_test_epoch_start                                                                                    \t|  1.3455e-06     \t|  2              \t|  2.691e-06      \t|  4.5184e-08     \t|\n",
      "|  [Callback]EarlyStopping{'monitor': 'val_pAUC', 'mode': 'min'}.on_test_epoch_end                                                                                      \t|  1.3e-06        \t|  2              \t|  2.6e-06        \t|  4.3656e-08     \t|\n",
      "|  [Callback]EarlyStopping{'monitor': 'val_pAUC', 'mode': 'min'}.on_sanity_check_start                                                                                  \t|  2.5e-06        \t|  1              \t|  2.5e-06        \t|  4.1977e-08     \t|\n",
      "|  [Callback]EarlyStopping{'monitor': 'val_pAUC', 'mode': 'min'}.on_fit_start                                                                                           \t|  2.22e-06       \t|  1              \t|  2.22e-06       \t|  3.7275e-08     \t|\n",
      "|  [Callback]LearningRateMonitor.teardown                                                                                                                               \t|  7.2e-07        \t|  3              \t|  2.16e-06       \t|  3.6268e-08     \t|\n",
      "|  [Callback]ModelSummary.on_sanity_check_start                                                                                                                         \t|  2.06e-06       \t|  1              \t|  2.06e-06       \t|  3.4589e-08     \t|\n",
      "|  [Callback]ModelSummary.on_test_end                                                                                                                                   \t|  1.01e-06       \t|  2              \t|  2.02e-06       \t|  3.3917e-08     \t|\n",
      "|  [Callback]ModelSummary.setup                                                                                                                                         \t|  6.5e-07        \t|  3              \t|  1.95e-06       \t|  3.2742e-08     \t|\n",
      "|  [Callback]EarlyStopping{'monitor': 'val_pAUC', 'mode': 'min'}.on_train_end                                                                                           \t|  1.89e-06       \t|  1              \t|  1.89e-06       \t|  3.1734e-08     \t|\n",
      "|  [Callback]ModelCheckpoint{'monitor': 'val_loss', 'mode': 'min', 'every_n_train_steps': 0, 'every_n_epochs': 1, 'train_time_interval': None}.on_test_start            \t|  9.45e-07       \t|  2              \t|  1.89e-06       \t|  3.1734e-08     \t|\n",
      "|  [Callback]ModelCheckpoint{'monitor': 'val_loss', 'mode': 'min', 'every_n_train_steps': 0, 'every_n_epochs': 1, 'train_time_interval': None}.on_fit_start             \t|  1.71e-06       \t|  1              \t|  1.71e-06       \t|  2.8712e-08     \t|\n",
      "|  [Callback]LearningRateMonitor.on_test_start                                                                                                                          \t|  8.15e-07       \t|  2              \t|  1.63e-06       \t|  2.7369e-08     \t|\n",
      "|  [LightningModule]GuruNet.teardown                                                                                                                                    \t|  5.4e-07        \t|  3              \t|  1.62e-06       \t|  2.7201e-08     \t|\n",
      "|  [Callback]ModelCheckpoint{'monitor': 'val_loss', 'mode': 'min', 'every_n_train_steps': 0, 'every_n_epochs': 1, 'train_time_interval': None}.teardown                 \t|  5.4e-07        \t|  3              \t|  1.62e-06       \t|  2.7201e-08     \t|\n",
      "|  [Callback]ModelCheckpoint{'monitor': 'val_pAUC', 'mode': 'max', 'every_n_train_steps': 0, 'every_n_epochs': 1, 'train_time_interval': None}.teardown                 \t|  5.1333e-07     \t|  3              \t|  1.54e-06       \t|  2.5858e-08     \t|\n",
      "|  [Callback]LearningRateMonitor.on_test_epoch_start                                                                                                                    \t|  7.05e-07       \t|  2              \t|  1.41e-06       \t|  2.3675e-08     \t|\n",
      "|  [Callback]ModelSummary.teardown                                                                                                                                      \t|  4.5667e-07     \t|  3              \t|  1.37e-06       \t|  2.3003e-08     \t|\n",
      "|  [Callback]TQDMProgressBar.teardown                                                                                                                                   \t|  4.5667e-07     \t|  3              \t|  1.37e-06       \t|  2.3003e-08     \t|\n",
      "|  [LightningModule]GuruNet.on_test_end                                                                                                                                 \t|  6.7e-07        \t|  2              \t|  1.34e-06       \t|  2.25e-08       \t|\n",
      "|  [Callback]LearningRateMonitor.on_test_end                                                                                                                            \t|  6.4e-07        \t|  2              \t|  1.28e-06       \t|  2.1492e-08     \t|\n",
      "|  [Callback]LearningRateMonitor.on_test_epoch_end                                                                                                                      \t|  6.1e-07        \t|  2              \t|  1.22e-06       \t|  2.0485e-08     \t|\n",
      "|  [Callback]ModelCheckpoint{'monitor': 'val_pAUC', 'mode': 'max', 'every_n_train_steps': 0, 'every_n_epochs': 1, 'train_time_interval': None}.on_test_start            \t|  5.95e-07       \t|  2              \t|  1.19e-06       \t|  1.9981e-08     \t|\n",
      "|  [LightningModule]GuruNet.on_test_epoch_end                                                                                                                           \t|  5.95e-07       \t|  2              \t|  1.19e-06       \t|  1.9981e-08     \t|\n",
      "|  [Callback]ModelCheckpoint{'monitor': 'val_pAUC', 'mode': 'max', 'every_n_train_steps': 0, 'every_n_epochs': 1, 'train_time_interval': None}.on_test_epoch_start      \t|  5.85e-07       \t|  2              \t|  1.17e-06       \t|  1.9645e-08     \t|\n",
      "|  [Callback]ModelCheckpoint{'monitor': 'val_loss', 'mode': 'min', 'every_n_train_steps': 0, 'every_n_epochs': 1, 'train_time_interval': None}.on_test_epoch_start      \t|  5.75e-07       \t|  2              \t|  1.15e-06       \t|  1.9309e-08     \t|\n",
      "|  [Callback]ModelSummary.on_test_epoch_start                                                                                                                           \t|  5.6e-07        \t|  2              \t|  1.12e-06       \t|  1.8806e-08     \t|\n",
      "|  [Callback]ModelSummary.on_train_end                                                                                                                                  \t|  1.11e-06       \t|  1              \t|  1.11e-06       \t|  1.8638e-08     \t|\n",
      "|  [Callback]TQDMProgressBar.on_test_epoch_start                                                                                                                        \t|  5.55e-07       \t|  2              \t|  1.11e-06       \t|  1.8638e-08     \t|\n",
      "|  [Callback]ModelCheckpoint{'monitor': 'val_pAUC', 'mode': 'max', 'every_n_train_steps': 0, 'every_n_epochs': 1, 'train_time_interval': None}.on_test_end              \t|  5.5e-07        \t|  2              \t|  1.1e-06        \t|  1.847e-08      \t|\n",
      "|  [Callback]TQDMProgressBar.on_test_epoch_end                                                                                                                          \t|  5.45e-07       \t|  2              \t|  1.09e-06       \t|  1.8302e-08     \t|\n",
      "|  [Callback]ModelCheckpoint{'monitor': 'val_loss', 'mode': 'min', 'every_n_train_steps': 0, 'every_n_epochs': 1, 'train_time_interval': None}.on_test_end              \t|  5.45e-07       \t|  2              \t|  1.09e-06       \t|  1.8302e-08     \t|\n",
      "|  [Strategy]SingleDeviceStrategy.on_test_end                                                                                                                           \t|  4.95e-07       \t|  2              \t|  9.9e-07        \t|  1.6623e-08     \t|\n",
      "|  [Callback]ModelCheckpoint{'monitor': 'val_loss', 'mode': 'min', 'every_n_train_steps': 0, 'every_n_epochs': 1, 'train_time_interval': None}.on_test_epoch_end        \t|  4.65e-07       \t|  2              \t|  9.3e-07        \t|  1.5615e-08     \t|\n",
      "|  [Callback]LearningRateMonitor.on_sanity_check_start                                                                                                                  \t|  8.6e-07        \t|  1              \t|  8.6e-07        \t|  1.444e-08      \t|\n",
      "|  [Callback]ModelSummary.on_test_epoch_end                                                                                                                             \t|  4.25e-07       \t|  2              \t|  8.5e-07        \t|  1.4272e-08     \t|\n",
      "|  [Callback]ModelCheckpoint{'monitor': 'val_loss', 'mode': 'min', 'every_n_train_steps': 0, 'every_n_epochs': 1, 'train_time_interval': None}.on_train_end             \t|  8.3e-07        \t|  1              \t|  8.3e-07        \t|  1.3936e-08     \t|\n",
      "|  [Callback]ModelCheckpoint{'monitor': 'val_pAUC', 'mode': 'max', 'every_n_train_steps': 0, 'every_n_epochs': 1, 'train_time_interval': None}.on_train_start           \t|  7.5e-07        \t|  1              \t|  7.5e-07        \t|  1.2593e-08     \t|\n",
      "|  [Callback]ModelCheckpoint{'monitor': 'val_pAUC', 'mode': 'max', 'every_n_train_steps': 0, 'every_n_epochs': 1, 'train_time_interval': None}.on_test_epoch_end        \t|  3.75e-07       \t|  2              \t|  7.5e-07        \t|  1.2593e-08     \t|\n",
      "|  [LightningModule]GuruNet.on_fit_start                                                                                                                                \t|  6.9e-07        \t|  1              \t|  6.9e-07        \t|  1.1586e-08     \t|\n",
      "|  [Callback]LearningRateMonitor.on_fit_end                                                                                                                             \t|  6.6e-07        \t|  1              \t|  6.6e-07        \t|  1.1082e-08     \t|\n",
      "|  [Callback]ModelCheckpoint{'monitor': 'val_pAUC', 'mode': 'max', 'every_n_train_steps': 0, 'every_n_epochs': 1, 'train_time_interval': None}.on_fit_start             \t|  6.3e-07        \t|  1              \t|  6.3e-07        \t|  1.0578e-08     \t|\n",
      "|  [Callback]LearningRateMonitor.on_sanity_check_end                                                                                                                    \t|  6.2e-07        \t|  1              \t|  6.2e-07        \t|  1.041e-08      \t|\n",
      "|  [LightningModule]GuruNet.on_train_end                                                                                                                                \t|  6.2e-07        \t|  1              \t|  6.2e-07        \t|  1.041e-08      \t|\n",
      "|  [Callback]LearningRateMonitor.on_fit_start                                                                                                                           \t|  6e-07          \t|  1              \t|  6e-07          \t|  1.0074e-08     \t|\n",
      "|  [Callback]LearningRateMonitor.on_train_end                                                                                                                           \t|  6e-07          \t|  1              \t|  6e-07          \t|  1.0074e-08     \t|\n",
      "|  [LightningModule]GuruNet.on_fit_end                                                                                                                                  \t|  5.9e-07        \t|  1              \t|  5.9e-07        \t|  9.9065e-09     \t|\n",
      "|  [Callback]ModelCheckpoint{'monitor': 'val_loss', 'mode': 'min', 'every_n_train_steps': 0, 'every_n_epochs': 1, 'train_time_interval': None}.on_sanity_check_start    \t|  5.8e-07        \t|  1              \t|  5.8e-07        \t|  9.7386e-09     \t|\n",
      "|  [Callback]ModelCheckpoint{'monitor': 'val_loss', 'mode': 'min', 'every_n_train_steps': 0, 'every_n_epochs': 1, 'train_time_interval': None}.on_sanity_check_end      \t|  5.7e-07        \t|  1              \t|  5.7e-07        \t|  9.5707e-09     \t|\n",
      "|  [Callback]ModelCheckpoint{'monitor': 'val_pAUC', 'mode': 'max', 'every_n_train_steps': 0, 'every_n_epochs': 1, 'train_time_interval': None}.on_sanity_check_end      \t|  5.5e-07        \t|  1              \t|  5.5e-07        \t|  9.2349e-09     \t|\n",
      "|  [Callback]ModelSummary.on_sanity_check_end                                                                                                                           \t|  5.3e-07        \t|  1              \t|  5.3e-07        \t|  8.8991e-09     \t|\n",
      "|  [Strategy]SingleDeviceStrategy.on_train_end                                                                                                                          \t|  4.8e-07        \t|  1              \t|  4.8e-07        \t|  8.0596e-09     \t|\n",
      "|  [Callback]TQDMProgressBar.on_fit_start                                                                                                                               \t|  4.8e-07        \t|  1              \t|  4.8e-07        \t|  8.0595e-09     \t|\n",
      "|  [Callback]TQDMProgressBar.on_fit_end                                                                                                                                 \t|  4.7e-07        \t|  1              \t|  4.7e-07        \t|  7.8916e-09     \t|\n",
      "|  [Callback]ModelCheckpoint{'monitor': 'val_loss', 'mode': 'min', 'every_n_train_steps': 0, 'every_n_epochs': 1, 'train_time_interval': None}.on_fit_end               \t|  4.6e-07        \t|  1              \t|  4.6e-07        \t|  7.7237e-09     \t|\n",
      "|  [Callback]ModelCheckpoint{'monitor': 'val_pAUC', 'mode': 'max', 'every_n_train_steps': 0, 'every_n_epochs': 1, 'train_time_interval': None}.on_sanity_check_start    \t|  4.4e-07        \t|  1              \t|  4.4e-07        \t|  7.388e-09      \t|\n",
      "|  [Callback]ModelSummary.on_fit_end                                                                                                                                    \t|  4.4e-07        \t|  1              \t|  4.4e-07        \t|  7.3879e-09     \t|\n",
      "|  [Callback]ModelCheckpoint{'monitor': 'val_pAUC', 'mode': 'max', 'every_n_train_steps': 0, 'every_n_epochs': 1, 'train_time_interval': None}.on_train_end             \t|  4e-07          \t|  1              \t|  4e-07          \t|  6.7163e-09     \t|\n",
      "|  [Callback]ModelCheckpoint{'monitor': 'val_pAUC', 'mode': 'max', 'every_n_train_steps': 0, 'every_n_epochs': 1, 'train_time_interval': None}.on_fit_end               \t|  3.9e-07        \t|  1              \t|  3.9e-07        \t|  6.5484e-09     \t|\n",
      "----------------------------------------------------------------------------------------------------------------------------------------------------------------------------------------------------------------------------------------------------------------------------------\n",
      "\n"
     ]
    },
    {
     "data": {
      "text/plain": [
       "[{'test_loss_epoch': 0.048844680190086365,\n",
       "  'test_pAUC_epoch': 0.19879873096942902}]"
      ]
     },
     "execution_count": 20,
     "metadata": {},
     "output_type": "execute_result"
    }
   ],
   "source": [
    "trainer.test(\n",
    "    model=model,\n",
    "    ckpt_path=\"/home/pupperemeritus/DL/isic-2024-challenge/checkpoints/version_142/gurunet-epoch=48-val_pAUC=0.19894.ckpt\",\n",
    "    datamodule=data_module,\n",
    ")"
   ]
  },
  {
   "cell_type": "code",
   "execution_count": null,
   "metadata": {},
   "outputs": [],
   "source": []
  },
  {
   "cell_type": "code",
   "execution_count": null,
   "metadata": {},
   "outputs": [],
   "source": []
  }
 ],
 "metadata": {
  "kernelspec": {
   "display_name": "eeoned",
   "language": "python",
   "name": "python3"
  },
  "language_info": {
   "codemirror_mode": {
    "name": "ipython",
    "version": 3
   },
   "file_extension": ".py",
   "mimetype": "text/x-python",
   "name": "python",
   "nbconvert_exporter": "python",
   "pygments_lexer": "ipython3",
   "version": "3.12.4"
  }
 },
 "nbformat": 4,
 "nbformat_minor": 2
}
